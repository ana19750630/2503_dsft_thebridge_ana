{
 "cells": [
  {
   "attachments": {},
   "cell_type": "markdown",
   "metadata": {},
   "source": [
    "![imagen](https://cdn.foodbeast.com/content/wp-content/uploads/2012/03/beer-print-01-selectism.jpg)\n",
    "\n",
    "# Ejercicio pandas estadística\n",
    "Para este ejercicio se ha utilizado [un dataset de un concurso de kaggle](https://www.kaggle.com/nickhould/craft-cans), cuyo reto consiste en predecir el tipo de cerveza en función de sus características (nivel de alcohol, amargura, tamaño...).\n",
    "\n",
    "# Ejercicio 1\n",
    "Importa las librerias que consideres"
   ]
  },
  {
   "cell_type": "code",
   "execution_count": 1,
   "metadata": {},
   "outputs": [],
   "source": [
    "import numpy as np\n",
    "import pandas as pd"
   ]
  },
  {
   "attachments": {},
   "cell_type": "markdown",
   "metadata": {},
   "source": [
    "## Ejercicio 2\n",
    "1. Importa el dataset \"datasets_beer.csv\"\n",
    "2. Imprime por pantalla los primeros registros.\n",
    "3. ¿Cuáles son sus columnas?\n",
    "4. ¿Qué dimensiones tiene el DataFrame?"
   ]
  },
  {
   "cell_type": "code",
   "execution_count": 2,
   "metadata": {},
   "outputs": [],
   "source": [
    "\n",
    "##Lee el archivo CSV desde una carpeta específica en tu directorio\n",
    "# Asegúrate de ajustar la ruta al nombre de tu archivo y la carpeta donde está ubicado\n",
    "ruta_del_archivo = \"./data/datasets_beers.csv\"  # Ajusta el nombre y la ruta\n",
    "\n",
    "# Cargar el archivo CSV en un DataFrame de Pandas\n",
    "beers = pd.read_csv(ruta_del_archivo)"
   ]
  },
  {
   "cell_type": "code",
   "execution_count": 3,
   "metadata": {},
   "outputs": [
    {
     "name": "stdout",
     "output_type": "stream",
     "text": [
      "<class 'pandas.core.frame.DataFrame'>\n",
      "RangeIndex: 2410 entries, 0 to 2409\n",
      "Data columns (total 8 columns):\n",
      " #   Column      Non-Null Count  Dtype  \n",
      "---  ------      --------------  -----  \n",
      " 0   Unnamed: 0  2410 non-null   int64  \n",
      " 1   abv         2348 non-null   float64\n",
      " 2   ibu         1405 non-null   float64\n",
      " 3   id          2410 non-null   int64  \n",
      " 4   name        2410 non-null   object \n",
      " 5   style       2405 non-null   object \n",
      " 6   brewery_id  2410 non-null   int64  \n",
      " 7   ounces      2410 non-null   float64\n",
      "dtypes: float64(3), int64(3), object(2)\n",
      "memory usage: 150.8+ KB\n"
     ]
    }
   ],
   "source": [
    "beers.info()"
   ]
  },
  {
   "cell_type": "code",
   "execution_count": 4,
   "metadata": {},
   "outputs": [
    {
     "data": {
      "application/vnd.microsoft.datawrangler.viewer.v0+json": {
       "columns": [
        {
         "name": "index",
         "rawType": "int64",
         "type": "integer"
        },
        {
         "name": "Unnamed: 0",
         "rawType": "int64",
         "type": "integer"
        },
        {
         "name": "abv",
         "rawType": "float64",
         "type": "float"
        },
        {
         "name": "ibu",
         "rawType": "float64",
         "type": "float"
        },
        {
         "name": "id",
         "rawType": "int64",
         "type": "integer"
        },
        {
         "name": "name",
         "rawType": "object",
         "type": "string"
        },
        {
         "name": "style",
         "rawType": "object",
         "type": "string"
        },
        {
         "name": "brewery_id",
         "rawType": "int64",
         "type": "integer"
        },
        {
         "name": "ounces",
         "rawType": "float64",
         "type": "float"
        }
       ],
       "conversionMethod": "pd.DataFrame",
       "ref": "aed49f64-50c1-46e2-b4c9-4446a11b7b06",
       "rows": [
        [
         "0",
         "0",
         "0.05",
         null,
         "1436",
         "Pub Beer",
         "American Pale Lager",
         "408",
         "12.0"
        ],
        [
         "1",
         "1",
         "0.066",
         null,
         "2265",
         "Devil's Cup",
         "American Pale Ale (APA)",
         "177",
         "12.0"
        ],
        [
         "2",
         "2",
         "0.071",
         null,
         "2264",
         "Rise of the Phoenix",
         "American IPA",
         "177",
         "12.0"
        ],
        [
         "3",
         "3",
         "0.09",
         null,
         "2263",
         "Sinister",
         "American Double / Imperial IPA",
         "177",
         "12.0"
        ],
        [
         "4",
         "4",
         "0.075",
         null,
         "2262",
         "Sex and Candy",
         "American IPA",
         "177",
         "12.0"
        ]
       ],
       "shape": {
        "columns": 8,
        "rows": 5
       }
      },
      "text/html": [
       "<div>\n",
       "<style scoped>\n",
       "    .dataframe tbody tr th:only-of-type {\n",
       "        vertical-align: middle;\n",
       "    }\n",
       "\n",
       "    .dataframe tbody tr th {\n",
       "        vertical-align: top;\n",
       "    }\n",
       "\n",
       "    .dataframe thead th {\n",
       "        text-align: right;\n",
       "    }\n",
       "</style>\n",
       "<table border=\"1\" class=\"dataframe\">\n",
       "  <thead>\n",
       "    <tr style=\"text-align: right;\">\n",
       "      <th></th>\n",
       "      <th>Unnamed: 0</th>\n",
       "      <th>abv</th>\n",
       "      <th>ibu</th>\n",
       "      <th>id</th>\n",
       "      <th>name</th>\n",
       "      <th>style</th>\n",
       "      <th>brewery_id</th>\n",
       "      <th>ounces</th>\n",
       "    </tr>\n",
       "  </thead>\n",
       "  <tbody>\n",
       "    <tr>\n",
       "      <th>0</th>\n",
       "      <td>0</td>\n",
       "      <td>0.050</td>\n",
       "      <td>NaN</td>\n",
       "      <td>1436</td>\n",
       "      <td>Pub Beer</td>\n",
       "      <td>American Pale Lager</td>\n",
       "      <td>408</td>\n",
       "      <td>12.0</td>\n",
       "    </tr>\n",
       "    <tr>\n",
       "      <th>1</th>\n",
       "      <td>1</td>\n",
       "      <td>0.066</td>\n",
       "      <td>NaN</td>\n",
       "      <td>2265</td>\n",
       "      <td>Devil's Cup</td>\n",
       "      <td>American Pale Ale (APA)</td>\n",
       "      <td>177</td>\n",
       "      <td>12.0</td>\n",
       "    </tr>\n",
       "    <tr>\n",
       "      <th>2</th>\n",
       "      <td>2</td>\n",
       "      <td>0.071</td>\n",
       "      <td>NaN</td>\n",
       "      <td>2264</td>\n",
       "      <td>Rise of the Phoenix</td>\n",
       "      <td>American IPA</td>\n",
       "      <td>177</td>\n",
       "      <td>12.0</td>\n",
       "    </tr>\n",
       "    <tr>\n",
       "      <th>3</th>\n",
       "      <td>3</td>\n",
       "      <td>0.090</td>\n",
       "      <td>NaN</td>\n",
       "      <td>2263</td>\n",
       "      <td>Sinister</td>\n",
       "      <td>American Double / Imperial IPA</td>\n",
       "      <td>177</td>\n",
       "      <td>12.0</td>\n",
       "    </tr>\n",
       "    <tr>\n",
       "      <th>4</th>\n",
       "      <td>4</td>\n",
       "      <td>0.075</td>\n",
       "      <td>NaN</td>\n",
       "      <td>2262</td>\n",
       "      <td>Sex and Candy</td>\n",
       "      <td>American IPA</td>\n",
       "      <td>177</td>\n",
       "      <td>12.0</td>\n",
       "    </tr>\n",
       "  </tbody>\n",
       "</table>\n",
       "</div>"
      ],
      "text/plain": [
       "   Unnamed: 0    abv  ibu    id                 name  \\\n",
       "0           0  0.050  NaN  1436             Pub Beer   \n",
       "1           1  0.066  NaN  2265          Devil's Cup   \n",
       "2           2  0.071  NaN  2264  Rise of the Phoenix   \n",
       "3           3  0.090  NaN  2263             Sinister   \n",
       "4           4  0.075  NaN  2262        Sex and Candy   \n",
       "\n",
       "                            style  brewery_id  ounces  \n",
       "0             American Pale Lager         408    12.0  \n",
       "1         American Pale Ale (APA)         177    12.0  \n",
       "2                    American IPA         177    12.0  \n",
       "3  American Double / Imperial IPA         177    12.0  \n",
       "4                    American IPA         177    12.0  "
      ]
     },
     "execution_count": 4,
     "metadata": {},
     "output_type": "execute_result"
    }
   ],
   "source": [
    "##imprimimos los primeros registros\n",
    "\n",
    "beers.head()"
   ]
  },
  {
   "cell_type": "code",
   "execution_count": 7,
   "metadata": {},
   "outputs": [
    {
     "data": {
      "text/plain": [
       "Index(['Unnamed: 0', 'abv', 'ibu', 'id', 'name', 'style', 'brewery_id',\n",
       "       'ounces'],\n",
       "      dtype='object')"
      ]
     },
     "execution_count": 7,
     "metadata": {},
     "output_type": "execute_result"
    }
   ],
   "source": [
    "#cuales son sus columnas\n",
    "columnas = beers.columns\n",
    "columnas"
   ]
  },
  {
   "cell_type": "code",
   "execution_count": 9,
   "metadata": {},
   "outputs": [
    {
     "data": {
      "text/plain": [
       "(2410, 8)"
      ]
     },
     "execution_count": 9,
     "metadata": {},
     "output_type": "execute_result"
    }
   ],
   "source": [
    "#dimensiones del dataframe\n",
    "\n",
    "beers.shape\n"
   ]
  },
  {
   "attachments": {},
   "cell_type": "markdown",
   "metadata": {},
   "source": [
    "## Ejercicio 3\n",
    "[Elimina la columna \"Unnamed: 0\"](https://pandas.pydata.org/pandas-docs/stable/reference/api/pandas.DataFrame.drop.html)"
   ]
  },
  {
   "cell_type": "code",
   "execution_count": 10,
   "metadata": {},
   "outputs": [],
   "source": [
    "eliminar_columna = beers.drop('Unnamed: 0', axis=1, inplace=True)\n",
    "eliminar_columna"
   ]
  },
  {
   "cell_type": "code",
   "execution_count": 11,
   "metadata": {},
   "outputs": [
    {
     "data": {
      "text/plain": [
       "<bound method NDFrame.head of         abv   ibu    id                  name                           style  \\\n",
       "0     0.050   NaN  1436              Pub Beer             American Pale Lager   \n",
       "1     0.066   NaN  2265           Devil's Cup         American Pale Ale (APA)   \n",
       "2     0.071   NaN  2264   Rise of the Phoenix                    American IPA   \n",
       "3     0.090   NaN  2263              Sinister  American Double / Imperial IPA   \n",
       "4     0.075   NaN  2262         Sex and Candy                    American IPA   \n",
       "...     ...   ...   ...                   ...                             ...   \n",
       "2405  0.067  45.0   928             Belgorado                     Belgian IPA   \n",
       "2406  0.052   NaN   807         Rail Yard Ale        American Amber / Red Ale   \n",
       "2407  0.055   NaN   620       B3K Black Lager                     Schwarzbier   \n",
       "2408  0.055  40.0   145   Silverback Pale Ale         American Pale Ale (APA)   \n",
       "2409  0.052   NaN    84  Rail Yard Ale (2009)        American Amber / Red Ale   \n",
       "\n",
       "      brewery_id  ounces  \n",
       "0            408    12.0  \n",
       "1            177    12.0  \n",
       "2            177    12.0  \n",
       "3            177    12.0  \n",
       "4            177    12.0  \n",
       "...          ...     ...  \n",
       "2405         424    12.0  \n",
       "2406         424    12.0  \n",
       "2407         424    12.0  \n",
       "2408         424    12.0  \n",
       "2409         424    12.0  \n",
       "\n",
       "[2410 rows x 7 columns]>"
      ]
     },
     "execution_count": 11,
     "metadata": {},
     "output_type": "execute_result"
    }
   ],
   "source": [
    "beers.head"
   ]
  },
  {
   "cell_type": "code",
   "execution_count": 12,
   "metadata": {},
   "outputs": [
    {
     "data": {
      "application/vnd.microsoft.datawrangler.viewer.v0+json": {
       "columns": [
        {
         "name": "index",
         "rawType": "int64",
         "type": "integer"
        },
        {
         "name": "abv",
         "rawType": "float64",
         "type": "float"
        },
        {
         "name": "ibu",
         "rawType": "float64",
         "type": "float"
        },
        {
         "name": "id",
         "rawType": "int64",
         "type": "integer"
        },
        {
         "name": "name",
         "rawType": "object",
         "type": "string"
        },
        {
         "name": "style",
         "rawType": "object",
         "type": "string"
        },
        {
         "name": "brewery_id",
         "rawType": "int64",
         "type": "integer"
        },
        {
         "name": "ounces",
         "rawType": "float64",
         "type": "float"
        }
       ],
       "conversionMethod": "pd.DataFrame",
       "ref": "621fae44-6434-41e9-8d99-034b976886ae",
       "rows": [
        [
         "0",
         "0.05",
         null,
         "1436",
         "Pub Beer",
         "American Pale Lager",
         "408",
         "12.0"
        ],
        [
         "1",
         "0.066",
         null,
         "2265",
         "Devil's Cup",
         "American Pale Ale (APA)",
         "177",
         "12.0"
        ],
        [
         "2",
         "0.071",
         null,
         "2264",
         "Rise of the Phoenix",
         "American IPA",
         "177",
         "12.0"
        ],
        [
         "3",
         "0.09",
         null,
         "2263",
         "Sinister",
         "American Double / Imperial IPA",
         "177",
         "12.0"
        ],
        [
         "4",
         "0.075",
         null,
         "2262",
         "Sex and Candy",
         "American IPA",
         "177",
         "12.0"
        ]
       ],
       "shape": {
        "columns": 7,
        "rows": 5
       }
      },
      "text/html": [
       "<div>\n",
       "<style scoped>\n",
       "    .dataframe tbody tr th:only-of-type {\n",
       "        vertical-align: middle;\n",
       "    }\n",
       "\n",
       "    .dataframe tbody tr th {\n",
       "        vertical-align: top;\n",
       "    }\n",
       "\n",
       "    .dataframe thead th {\n",
       "        text-align: right;\n",
       "    }\n",
       "</style>\n",
       "<table border=\"1\" class=\"dataframe\">\n",
       "  <thead>\n",
       "    <tr style=\"text-align: right;\">\n",
       "      <th></th>\n",
       "      <th>abv</th>\n",
       "      <th>ibu</th>\n",
       "      <th>id</th>\n",
       "      <th>name</th>\n",
       "      <th>style</th>\n",
       "      <th>brewery_id</th>\n",
       "      <th>ounces</th>\n",
       "    </tr>\n",
       "  </thead>\n",
       "  <tbody>\n",
       "    <tr>\n",
       "      <th>0</th>\n",
       "      <td>0.050</td>\n",
       "      <td>NaN</td>\n",
       "      <td>1436</td>\n",
       "      <td>Pub Beer</td>\n",
       "      <td>American Pale Lager</td>\n",
       "      <td>408</td>\n",
       "      <td>12.0</td>\n",
       "    </tr>\n",
       "    <tr>\n",
       "      <th>1</th>\n",
       "      <td>0.066</td>\n",
       "      <td>NaN</td>\n",
       "      <td>2265</td>\n",
       "      <td>Devil's Cup</td>\n",
       "      <td>American Pale Ale (APA)</td>\n",
       "      <td>177</td>\n",
       "      <td>12.0</td>\n",
       "    </tr>\n",
       "    <tr>\n",
       "      <th>2</th>\n",
       "      <td>0.071</td>\n",
       "      <td>NaN</td>\n",
       "      <td>2264</td>\n",
       "      <td>Rise of the Phoenix</td>\n",
       "      <td>American IPA</td>\n",
       "      <td>177</td>\n",
       "      <td>12.0</td>\n",
       "    </tr>\n",
       "    <tr>\n",
       "      <th>3</th>\n",
       "      <td>0.090</td>\n",
       "      <td>NaN</td>\n",
       "      <td>2263</td>\n",
       "      <td>Sinister</td>\n",
       "      <td>American Double / Imperial IPA</td>\n",
       "      <td>177</td>\n",
       "      <td>12.0</td>\n",
       "    </tr>\n",
       "    <tr>\n",
       "      <th>4</th>\n",
       "      <td>0.075</td>\n",
       "      <td>NaN</td>\n",
       "      <td>2262</td>\n",
       "      <td>Sex and Candy</td>\n",
       "      <td>American IPA</td>\n",
       "      <td>177</td>\n",
       "      <td>12.0</td>\n",
       "    </tr>\n",
       "  </tbody>\n",
       "</table>\n",
       "</div>"
      ],
      "text/plain": [
       "     abv  ibu    id                 name                           style  \\\n",
       "0  0.050  NaN  1436             Pub Beer             American Pale Lager   \n",
       "1  0.066  NaN  2265          Devil's Cup         American Pale Ale (APA)   \n",
       "2  0.071  NaN  2264  Rise of the Phoenix                    American IPA   \n",
       "3  0.090  NaN  2263             Sinister  American Double / Imperial IPA   \n",
       "4  0.075  NaN  2262        Sex and Candy                    American IPA   \n",
       "\n",
       "   brewery_id  ounces  \n",
       "0         408    12.0  \n",
       "1         177    12.0  \n",
       "2         177    12.0  \n",
       "3         177    12.0  \n",
       "4         177    12.0  "
      ]
     },
     "execution_count": 12,
     "metadata": {},
     "output_type": "execute_result"
    }
   ],
   "source": [
    "beers.head()"
   ]
  },
  {
   "attachments": {},
   "cell_type": "markdown",
   "metadata": {},
   "source": [
    "## Ejercicio 4\n",
    "¿Cuántas filas y columnas tiene el dataset?"
   ]
  },
  {
   "cell_type": "code",
   "execution_count": 13,
   "metadata": {},
   "outputs": [
    {
     "data": {
      "text/plain": [
       "(2410, 7)"
      ]
     },
     "execution_count": 13,
     "metadata": {},
     "output_type": "execute_result"
    }
   ],
   "source": [
    "filas_columnas = beers.shape\n",
    "filas_columnas"
   ]
  },
  {
   "attachments": {},
   "cell_type": "markdown",
   "metadata": {},
   "source": [
    "## Ejercicio 5\n",
    "¿De qué tipo son los datos?"
   ]
  },
  {
   "cell_type": "code",
   "execution_count": 14,
   "metadata": {},
   "outputs": [
    {
     "data": {
      "text/plain": [
       "abv           float64\n",
       "ibu           float64\n",
       "id              int64\n",
       "name           object\n",
       "style          object\n",
       "brewery_id      int64\n",
       "ounces        float64\n",
       "dtype: object"
      ]
     },
     "execution_count": 14,
     "metadata": {},
     "output_type": "execute_result"
    }
   ],
   "source": [
    "datos = beers.dtypes\n",
    "datos"
   ]
  },
  {
   "attachments": {},
   "cell_type": "markdown",
   "metadata": {},
   "source": [
    "## Ejercicio 6\n",
    "Obtén en un nuevo DataFrame un resumen con las principales estadísticas de las columnas numéricas: mean, max, count, cuartiles..."
   ]
  },
  {
   "cell_type": "code",
   "execution_count": 48,
   "metadata": {},
   "outputs": [
    {
     "name": "stdout",
     "output_type": "stream",
     "text": [
      "<class 'pandas.core.frame.DataFrame'>\n",
      "RangeIndex: 2410 entries, 0 to 2409\n",
      "Data columns (total 7 columns):\n",
      " #   Column      Non-Null Count  Dtype  \n",
      "---  ------      --------------  -----  \n",
      " 0   abv         2348 non-null   float64\n",
      " 1   ibu         1405 non-null   float64\n",
      " 2   id          2410 non-null   int64  \n",
      " 3   name        2410 non-null   object \n",
      " 4   style       2405 non-null   object \n",
      " 5   brewery_id  2410 non-null   int64  \n",
      " 6   ounces      2410 non-null   float64\n",
      "dtypes: float64(3), int64(2), object(2)\n",
      "memory usage: 131.9+ KB\n"
     ]
    }
   ],
   "source": [
    "beers.info()"
   ]
  },
  {
   "cell_type": "code",
   "execution_count": 16,
   "metadata": {},
   "outputs": [
    {
     "data": {
      "application/vnd.microsoft.datawrangler.viewer.v0+json": {
       "columns": [
        {
         "name": "index",
         "rawType": "object",
         "type": "string"
        },
        {
         "name": "abv",
         "rawType": "float64",
         "type": "float"
        },
        {
         "name": "ibu",
         "rawType": "float64",
         "type": "float"
        },
        {
         "name": "id",
         "rawType": "float64",
         "type": "float"
        },
        {
         "name": "brewery_id",
         "rawType": "float64",
         "type": "float"
        },
        {
         "name": "ounces",
         "rawType": "float64",
         "type": "float"
        }
       ],
       "conversionMethod": "pd.DataFrame",
       "ref": "cf4e7a8d-7a4e-41ea-b8c0-37902a5f9e94",
       "rows": [
        [
         "count",
         "2348.0",
         "1405.0",
         "2410.0",
         "2410.0",
         "2410.0"
        ],
        [
         "mean",
         "0.05977342419080067",
         "42.71316725978647",
         "1431.1132780082987",
         "231.74979253112033",
         "13.592240663900414"
        ],
        [
         "std",
         "0.013541733716680264",
         "25.954065911259317",
         "752.4599745599074",
         "157.68560410041619",
         "2.3522036778603734"
        ],
        [
         "min",
         "0.001",
         "4.0",
         "1.0",
         "0.0",
         "8.4"
        ],
        [
         "25%",
         "0.05",
         "21.0",
         "808.25",
         "93.0",
         "12.0"
        ],
        [
         "50%",
         "0.0559999999999999",
         "35.0",
         "1453.5",
         "205.0",
         "12.0"
        ],
        [
         "75%",
         "0.067",
         "64.0",
         "2075.75",
         "366.0",
         "16.0"
        ],
        [
         "max",
         "0.128",
         "138.0",
         "2692.0",
         "557.0",
         "32.0"
        ]
       ],
       "shape": {
        "columns": 5,
        "rows": 8
       }
      },
      "text/html": [
       "<div>\n",
       "<style scoped>\n",
       "    .dataframe tbody tr th:only-of-type {\n",
       "        vertical-align: middle;\n",
       "    }\n",
       "\n",
       "    .dataframe tbody tr th {\n",
       "        vertical-align: top;\n",
       "    }\n",
       "\n",
       "    .dataframe thead th {\n",
       "        text-align: right;\n",
       "    }\n",
       "</style>\n",
       "<table border=\"1\" class=\"dataframe\">\n",
       "  <thead>\n",
       "    <tr style=\"text-align: right;\">\n",
       "      <th></th>\n",
       "      <th>abv</th>\n",
       "      <th>ibu</th>\n",
       "      <th>id</th>\n",
       "      <th>brewery_id</th>\n",
       "      <th>ounces</th>\n",
       "    </tr>\n",
       "  </thead>\n",
       "  <tbody>\n",
       "    <tr>\n",
       "      <th>count</th>\n",
       "      <td>2348.000000</td>\n",
       "      <td>1405.000000</td>\n",
       "      <td>2410.000000</td>\n",
       "      <td>2410.000000</td>\n",
       "      <td>2410.000000</td>\n",
       "    </tr>\n",
       "    <tr>\n",
       "      <th>mean</th>\n",
       "      <td>0.059773</td>\n",
       "      <td>42.713167</td>\n",
       "      <td>1431.113278</td>\n",
       "      <td>231.749793</td>\n",
       "      <td>13.592241</td>\n",
       "    </tr>\n",
       "    <tr>\n",
       "      <th>std</th>\n",
       "      <td>0.013542</td>\n",
       "      <td>25.954066</td>\n",
       "      <td>752.459975</td>\n",
       "      <td>157.685604</td>\n",
       "      <td>2.352204</td>\n",
       "    </tr>\n",
       "    <tr>\n",
       "      <th>min</th>\n",
       "      <td>0.001000</td>\n",
       "      <td>4.000000</td>\n",
       "      <td>1.000000</td>\n",
       "      <td>0.000000</td>\n",
       "      <td>8.400000</td>\n",
       "    </tr>\n",
       "    <tr>\n",
       "      <th>25%</th>\n",
       "      <td>0.050000</td>\n",
       "      <td>21.000000</td>\n",
       "      <td>808.250000</td>\n",
       "      <td>93.000000</td>\n",
       "      <td>12.000000</td>\n",
       "    </tr>\n",
       "    <tr>\n",
       "      <th>50%</th>\n",
       "      <td>0.056000</td>\n",
       "      <td>35.000000</td>\n",
       "      <td>1453.500000</td>\n",
       "      <td>205.000000</td>\n",
       "      <td>12.000000</td>\n",
       "    </tr>\n",
       "    <tr>\n",
       "      <th>75%</th>\n",
       "      <td>0.067000</td>\n",
       "      <td>64.000000</td>\n",
       "      <td>2075.750000</td>\n",
       "      <td>366.000000</td>\n",
       "      <td>16.000000</td>\n",
       "    </tr>\n",
       "    <tr>\n",
       "      <th>max</th>\n",
       "      <td>0.128000</td>\n",
       "      <td>138.000000</td>\n",
       "      <td>2692.000000</td>\n",
       "      <td>557.000000</td>\n",
       "      <td>32.000000</td>\n",
       "    </tr>\n",
       "  </tbody>\n",
       "</table>\n",
       "</div>"
      ],
      "text/plain": [
       "               abv          ibu           id   brewery_id       ounces\n",
       "count  2348.000000  1405.000000  2410.000000  2410.000000  2410.000000\n",
       "mean      0.059773    42.713167  1431.113278   231.749793    13.592241\n",
       "std       0.013542    25.954066   752.459975   157.685604     2.352204\n",
       "min       0.001000     4.000000     1.000000     0.000000     8.400000\n",
       "25%       0.050000    21.000000   808.250000    93.000000    12.000000\n",
       "50%       0.056000    35.000000  1453.500000   205.000000    12.000000\n",
       "75%       0.067000    64.000000  2075.750000   366.000000    16.000000\n",
       "max       0.128000   138.000000  2692.000000   557.000000    32.000000"
      ]
     },
     "execution_count": 16,
     "metadata": {},
     "output_type": "execute_result"
    }
   ],
   "source": [
    "datos_estadisticos = beers.describe()\n",
    "datos_estadisticos"
   ]
  },
  {
   "attachments": {},
   "cell_type": "markdown",
   "metadata": {},
   "source": [
    "## Ejercicio 7\n",
    "¿Cuántas birras hay de cada estilo en este dataset? [Investiga en la documentación de Series](https://pandas.pydata.org/pandas-docs/stable/reference/api/pandas.Series.html) si puedes hacer un conteo de valores."
   ]
  },
  {
   "cell_type": "code",
   "execution_count": 18,
   "metadata": {},
   "outputs": [
    {
     "data": {
      "application/vnd.microsoft.datawrangler.viewer.v0+json": {
       "columns": [
        {
         "name": "style",
         "rawType": "object",
         "type": "string"
        },
        {
         "name": "abv",
         "rawType": "int64",
         "type": "integer"
        },
        {
         "name": "ibu",
         "rawType": "int64",
         "type": "integer"
        },
        {
         "name": "id",
         "rawType": "int64",
         "type": "integer"
        },
        {
         "name": "name",
         "rawType": "int64",
         "type": "integer"
        },
        {
         "name": "brewery_id",
         "rawType": "int64",
         "type": "integer"
        },
        {
         "name": "ounces",
         "rawType": "int64",
         "type": "integer"
        }
       ],
       "conversionMethod": "pd.DataFrame",
       "ref": "9162309e-e382-4402-b92a-13a2bf70573f",
       "rows": [
        [
         "Abbey Single Ale",
         "2",
         "2",
         "2",
         "2",
         "2",
         "2"
        ],
        [
         "Altbier",
         "13",
         "8",
         "13",
         "13",
         "13",
         "13"
        ],
        [
         "American Adjunct Lager",
         "18",
         "11",
         "18",
         "18",
         "18",
         "18"
        ],
        [
         "American Amber / Red Ale",
         "125",
         "77",
         "133",
         "133",
         "133",
         "133"
        ],
        [
         "American Amber / Red Lager",
         "28",
         "16",
         "29",
         "29",
         "29",
         "29"
        ],
        [
         "American Barleywine",
         "3",
         "2",
         "3",
         "3",
         "3",
         "3"
        ],
        [
         "American Black Ale",
         "35",
         "20",
         "36",
         "36",
         "36",
         "36"
        ],
        [
         "American Blonde Ale",
         "104",
         "61",
         "108",
         "108",
         "108",
         "108"
        ],
        [
         "American Brown Ale",
         "68",
         "38",
         "70",
         "70",
         "70",
         "70"
        ],
        [
         "American Dark Wheat Ale",
         "6",
         "5",
         "7",
         "7",
         "7",
         "7"
        ],
        [
         "American Double / Imperial IPA",
         "103",
         "75",
         "105",
         "105",
         "105",
         "105"
        ],
        [
         "American Double / Imperial Pilsner",
         "2",
         "1",
         "2",
         "2",
         "2",
         "2"
        ],
        [
         "American Double / Imperial Stout",
         "9",
         "3",
         "9",
         "9",
         "9",
         "9"
        ],
        [
         "American IPA",
         "417",
         "301",
         "424",
         "424",
         "424",
         "424"
        ],
        [
         "American India Pale Lager",
         "3",
         "3",
         "3",
         "3",
         "3",
         "3"
        ],
        [
         "American Malt Liquor",
         "1",
         "0",
         "1",
         "1",
         "1",
         "1"
        ],
        [
         "American Pale Ale (APA)",
         "239",
         "153",
         "245",
         "245",
         "245",
         "245"
        ],
        [
         "American Pale Lager",
         "37",
         "16",
         "39",
         "39",
         "39",
         "39"
        ],
        [
         "American Pale Wheat Ale",
         "95",
         "61",
         "97",
         "97",
         "97",
         "97"
        ],
        [
         "American Pilsner",
         "24",
         "14",
         "25",
         "25",
         "25",
         "25"
        ],
        [
         "American Porter",
         "65",
         "39",
         "68",
         "68",
         "68",
         "68"
        ],
        [
         "American Stout",
         "37",
         "16",
         "39",
         "39",
         "39",
         "39"
        ],
        [
         "American Strong Ale",
         "13",
         "12",
         "14",
         "14",
         "14",
         "14"
        ],
        [
         "American White IPA",
         "11",
         "6",
         "11",
         "11",
         "11",
         "11"
        ],
        [
         "American Wild Ale",
         "6",
         "2",
         "6",
         "6",
         "6",
         "6"
        ],
        [
         "Baltic Porter",
         "6",
         "3",
         "6",
         "6",
         "6",
         "6"
        ],
        [
         "Belgian Dark Ale",
         "10",
         "3",
         "11",
         "11",
         "11",
         "11"
        ],
        [
         "Belgian IPA",
         "17",
         "3",
         "18",
         "18",
         "18",
         "18"
        ],
        [
         "Belgian Pale Ale",
         "23",
         "8",
         "24",
         "24",
         "24",
         "24"
        ],
        [
         "Belgian Strong Dark Ale",
         "6",
         "1",
         "6",
         "6",
         "6",
         "6"
        ],
        [
         "Belgian Strong Pale Ale",
         "7",
         "2",
         "7",
         "7",
         "7",
         "7"
        ],
        [
         "Berliner Weissbier",
         "11",
         "5",
         "11",
         "11",
         "11",
         "11"
        ],
        [
         "Bière de Garde",
         "7",
         "2",
         "7",
         "7",
         "7",
         "7"
        ],
        [
         "Bock",
         "7",
         "3",
         "7",
         "7",
         "7",
         "7"
        ],
        [
         "Braggot",
         "1",
         "0",
         "1",
         "1",
         "1",
         "1"
        ],
        [
         "California Common / Steam Beer",
         "6",
         "2",
         "6",
         "6",
         "6",
         "6"
        ],
        [
         "Chile Beer",
         "3",
         "2",
         "3",
         "3",
         "3",
         "3"
        ],
        [
         "Cider",
         "37",
         "0",
         "37",
         "37",
         "37",
         "37"
        ],
        [
         "Cream Ale",
         "28",
         "18",
         "29",
         "29",
         "29",
         "29"
        ],
        [
         "Czech Pilsener",
         "28",
         "16",
         "28",
         "28",
         "28",
         "28"
        ],
        [
         "Doppelbock",
         "7",
         "2",
         "7",
         "7",
         "7",
         "7"
        ],
        [
         "Dortmunder / Export Lager",
         "6",
         "5",
         "6",
         "6",
         "6",
         "6"
        ],
        [
         "Dubbel",
         "5",
         "2",
         "5",
         "5",
         "5",
         "5"
        ],
        [
         "Dunkelweizen",
         "4",
         "2",
         "4",
         "4",
         "4",
         "4"
        ],
        [
         "English Barleywine",
         "3",
         "3",
         "3",
         "3",
         "3",
         "3"
        ],
        [
         "English Bitter",
         "3",
         "3",
         "3",
         "3",
         "3",
         "3"
        ],
        [
         "English Brown Ale",
         "18",
         "10",
         "18",
         "18",
         "18",
         "18"
        ],
        [
         "English Dark Mild Ale",
         "4",
         "2",
         "6",
         "6",
         "6",
         "6"
        ],
        [
         "English India Pale Ale (IPA)",
         "12",
         "7",
         "13",
         "13",
         "13",
         "13"
        ],
        [
         "English Pale Ale",
         "12",
         "5",
         "12",
         "12",
         "12",
         "12"
        ]
       ],
       "shape": {
        "columns": 6,
        "rows": 99
       }
      },
      "text/html": [
       "<div>\n",
       "<style scoped>\n",
       "    .dataframe tbody tr th:only-of-type {\n",
       "        vertical-align: middle;\n",
       "    }\n",
       "\n",
       "    .dataframe tbody tr th {\n",
       "        vertical-align: top;\n",
       "    }\n",
       "\n",
       "    .dataframe thead th {\n",
       "        text-align: right;\n",
       "    }\n",
       "</style>\n",
       "<table border=\"1\" class=\"dataframe\">\n",
       "  <thead>\n",
       "    <tr style=\"text-align: right;\">\n",
       "      <th></th>\n",
       "      <th>abv</th>\n",
       "      <th>ibu</th>\n",
       "      <th>id</th>\n",
       "      <th>name</th>\n",
       "      <th>brewery_id</th>\n",
       "      <th>ounces</th>\n",
       "    </tr>\n",
       "    <tr>\n",
       "      <th>style</th>\n",
       "      <th></th>\n",
       "      <th></th>\n",
       "      <th></th>\n",
       "      <th></th>\n",
       "      <th></th>\n",
       "      <th></th>\n",
       "    </tr>\n",
       "  </thead>\n",
       "  <tbody>\n",
       "    <tr>\n",
       "      <th>Abbey Single Ale</th>\n",
       "      <td>2</td>\n",
       "      <td>2</td>\n",
       "      <td>2</td>\n",
       "      <td>2</td>\n",
       "      <td>2</td>\n",
       "      <td>2</td>\n",
       "    </tr>\n",
       "    <tr>\n",
       "      <th>Altbier</th>\n",
       "      <td>13</td>\n",
       "      <td>8</td>\n",
       "      <td>13</td>\n",
       "      <td>13</td>\n",
       "      <td>13</td>\n",
       "      <td>13</td>\n",
       "    </tr>\n",
       "    <tr>\n",
       "      <th>American Adjunct Lager</th>\n",
       "      <td>18</td>\n",
       "      <td>11</td>\n",
       "      <td>18</td>\n",
       "      <td>18</td>\n",
       "      <td>18</td>\n",
       "      <td>18</td>\n",
       "    </tr>\n",
       "    <tr>\n",
       "      <th>American Amber / Red Ale</th>\n",
       "      <td>125</td>\n",
       "      <td>77</td>\n",
       "      <td>133</td>\n",
       "      <td>133</td>\n",
       "      <td>133</td>\n",
       "      <td>133</td>\n",
       "    </tr>\n",
       "    <tr>\n",
       "      <th>American Amber / Red Lager</th>\n",
       "      <td>28</td>\n",
       "      <td>16</td>\n",
       "      <td>29</td>\n",
       "      <td>29</td>\n",
       "      <td>29</td>\n",
       "      <td>29</td>\n",
       "    </tr>\n",
       "    <tr>\n",
       "      <th>...</th>\n",
       "      <td>...</td>\n",
       "      <td>...</td>\n",
       "      <td>...</td>\n",
       "      <td>...</td>\n",
       "      <td>...</td>\n",
       "      <td>...</td>\n",
       "    </tr>\n",
       "    <tr>\n",
       "      <th>Tripel</th>\n",
       "      <td>11</td>\n",
       "      <td>4</td>\n",
       "      <td>11</td>\n",
       "      <td>11</td>\n",
       "      <td>11</td>\n",
       "      <td>11</td>\n",
       "    </tr>\n",
       "    <tr>\n",
       "      <th>Vienna Lager</th>\n",
       "      <td>20</td>\n",
       "      <td>14</td>\n",
       "      <td>20</td>\n",
       "      <td>20</td>\n",
       "      <td>20</td>\n",
       "      <td>20</td>\n",
       "    </tr>\n",
       "    <tr>\n",
       "      <th>Wheat Ale</th>\n",
       "      <td>1</td>\n",
       "      <td>1</td>\n",
       "      <td>1</td>\n",
       "      <td>1</td>\n",
       "      <td>1</td>\n",
       "      <td>1</td>\n",
       "    </tr>\n",
       "    <tr>\n",
       "      <th>Winter Warmer</th>\n",
       "      <td>15</td>\n",
       "      <td>8</td>\n",
       "      <td>15</td>\n",
       "      <td>15</td>\n",
       "      <td>15</td>\n",
       "      <td>15</td>\n",
       "    </tr>\n",
       "    <tr>\n",
       "      <th>Witbier</th>\n",
       "      <td>49</td>\n",
       "      <td>24</td>\n",
       "      <td>51</td>\n",
       "      <td>51</td>\n",
       "      <td>51</td>\n",
       "      <td>51</td>\n",
       "    </tr>\n",
       "  </tbody>\n",
       "</table>\n",
       "<p>99 rows × 6 columns</p>\n",
       "</div>"
      ],
      "text/plain": [
       "                            abv  ibu   id  name  brewery_id  ounces\n",
       "style                                                              \n",
       "Abbey Single Ale              2    2    2     2           2       2\n",
       "Altbier                      13    8   13    13          13      13\n",
       "American Adjunct Lager       18   11   18    18          18      18\n",
       "American Amber / Red Ale    125   77  133   133         133     133\n",
       "American Amber / Red Lager   28   16   29    29          29      29\n",
       "...                         ...  ...  ...   ...         ...     ...\n",
       "Tripel                       11    4   11    11          11      11\n",
       "Vienna Lager                 20   14   20    20          20      20\n",
       "Wheat Ale                     1    1    1     1           1       1\n",
       "Winter Warmer                15    8   15    15          15      15\n",
       "Witbier                      49   24   51    51          51      51\n",
       "\n",
       "[99 rows x 6 columns]"
      ]
     },
     "execution_count": 18,
     "metadata": {},
     "output_type": "execute_result"
    }
   ],
   "source": [
    "beer_count_by_style = beers.groupby('style').count()\n",
    "beer_count_by_style\n"
   ]
  },
  {
   "cell_type": "code",
   "execution_count": 49,
   "metadata": {},
   "outputs": [
    {
     "name": "stdout",
     "output_type": "stream",
     "text": [
      "<class 'pandas.core.frame.DataFrame'>\n",
      "RangeIndex: 2410 entries, 0 to 2409\n",
      "Data columns (total 7 columns):\n",
      " #   Column      Non-Null Count  Dtype  \n",
      "---  ------      --------------  -----  \n",
      " 0   abv         2348 non-null   float64\n",
      " 1   ibu         1405 non-null   float64\n",
      " 2   id          2410 non-null   int64  \n",
      " 3   name        2410 non-null   object \n",
      " 4   style       2405 non-null   object \n",
      " 5   brewery_id  2410 non-null   int64  \n",
      " 6   ounces      2410 non-null   float64\n",
      "dtypes: float64(3), int64(2), object(2)\n",
      "memory usage: 131.9+ KB\n"
     ]
    }
   ],
   "source": [
    "beers.info()"
   ]
  },
  {
   "cell_type": "code",
   "execution_count": 20,
   "metadata": {},
   "outputs": [
    {
     "data": {
      "text/plain": [
       "style\n",
       "Abbey Single Ale                2\n",
       "Altbier                        13\n",
       "American Adjunct Lager         18\n",
       "American Amber / Red Ale      133\n",
       "American Amber / Red Lager     29\n",
       "                             ... \n",
       "Tripel                         11\n",
       "Vienna Lager                   20\n",
       "Wheat Ale                       1\n",
       "Winter Warmer                  15\n",
       "Witbier                        51\n",
       "Length: 99, dtype: int64"
      ]
     },
     "execution_count": 20,
     "metadata": {},
     "output_type": "execute_result"
    }
   ],
   "source": [
    "beer_count_by_style = beers.groupby('style').size()\n",
    "beer_count_by_style"
   ]
  },
  {
   "attachments": {},
   "cell_type": "markdown",
   "metadata": {},
   "source": [
    "## Ejercicio 8\n",
    "1. Imprime por pantalla los registros desde el décimo hasta el vigésimo\n",
    "2. De esos registros, imprime por pantalla desde la columna `name` a `ounces`, ambas incluidas\n",
    "3. Quédate con las columnas `abv`, `ibu` y `ounces`, y además quédate sólo con los registros 10 al 20.\n",
    "4. Convierte el resultado del apartado 3 en un array de `numpy`"
   ]
  },
  {
   "cell_type": "code",
   "execution_count": 21,
   "metadata": {},
   "outputs": [
    {
     "name": "stdout",
     "output_type": "stream",
     "text": [
      "      abv   ibu    id                         name  \\\n",
      "9   0.086   NaN  2131                 Cone Crusher   \n",
      "10  0.072   NaN  2099            Sophomoric Saison   \n",
      "11  0.073   NaN  2098        Regional Ring Of Fire   \n",
      "12  0.069   NaN  2097                   Garce Selé   \n",
      "13  0.085   NaN  1980              Troll Destroyer   \n",
      "14  0.061  60.0  1979                 Bitter Bitch   \n",
      "15  0.060   NaN  2318                  Ginja Ninja   \n",
      "16  0.060   NaN  2170                Cherried Away   \n",
      "17  0.060   NaN  2169                 Rhubarbarian   \n",
      "18  0.060   NaN  1502                  BrightCider   \n",
      "19  0.082   NaN  1593  He Said Baltic-Style Porter   \n",
      "\n",
      "                             style  brewery_id  ounces  \n",
      "9   American Double / Imperial IPA         177    12.0  \n",
      "10          Saison / Farmhouse Ale         177    12.0  \n",
      "11          Saison / Farmhouse Ale         177    12.0  \n",
      "12          Saison / Farmhouse Ale         177    12.0  \n",
      "13                     Belgian IPA         177    12.0  \n",
      "14         American Pale Ale (APA)         177    12.0  \n",
      "15                           Cider         154    12.0  \n",
      "16                           Cider         154    12.0  \n",
      "17                           Cider         154    12.0  \n",
      "18                           Cider         154    12.0  \n",
      "19                   Baltic Porter         368    12.0  \n"
     ]
    }
   ],
   "source": [
    "print(beers.iloc[9:20])"
   ]
  },
  {
   "cell_type": "code",
   "execution_count": 23,
   "metadata": {},
   "outputs": [
    {
     "name": "stdout",
     "output_type": "stream",
     "text": [
      "                           name                           style  brewery_id  \\\n",
      "9                  Cone Crusher  American Double / Imperial IPA         177   \n",
      "10            Sophomoric Saison          Saison / Farmhouse Ale         177   \n",
      "11        Regional Ring Of Fire          Saison / Farmhouse Ale         177   \n",
      "12                   Garce Selé          Saison / Farmhouse Ale         177   \n",
      "13              Troll Destroyer                     Belgian IPA         177   \n",
      "14                 Bitter Bitch         American Pale Ale (APA)         177   \n",
      "15                  Ginja Ninja                           Cider         154   \n",
      "16                Cherried Away                           Cider         154   \n",
      "17                 Rhubarbarian                           Cider         154   \n",
      "18                  BrightCider                           Cider         154   \n",
      "19  He Said Baltic-Style Porter                   Baltic Porter         368   \n",
      "\n",
      "    ounces  \n",
      "9     12.0  \n",
      "10    12.0  \n",
      "11    12.0  \n",
      "12    12.0  \n",
      "13    12.0  \n",
      "14    12.0  \n",
      "15    12.0  \n",
      "16    12.0  \n",
      "17    12.0  \n",
      "18    12.0  \n",
      "19    12.0  \n"
     ]
    }
   ],
   "source": [
    "# Imprimir desde el décimo hasta el vigésimo registro, incluyendo las columnas 'name' hasta 'ounces'\n",
    "print(beers.loc[9:19, 'name':'ounces'])\n",
    "\n"
   ]
  },
  {
   "cell_type": "code",
   "execution_count": 24,
   "metadata": {},
   "outputs": [
    {
     "data": {
      "application/vnd.microsoft.datawrangler.viewer.v0+json": {
       "columns": [
        {
         "name": "index",
         "rawType": "int64",
         "type": "integer"
        },
        {
         "name": "abv",
         "rawType": "float64",
         "type": "float"
        },
        {
         "name": "ibu",
         "rawType": "float64",
         "type": "float"
        },
        {
         "name": "ounces",
         "rawType": "float64",
         "type": "float"
        }
       ],
       "conversionMethod": "pd.DataFrame",
       "ref": "5f4b1734-9843-411f-b2f8-0d24ccd03a18",
       "rows": [
        [
         "9",
         "0.086",
         null,
         "12.0"
        ],
        [
         "10",
         "0.072",
         null,
         "12.0"
        ],
        [
         "11",
         "0.073",
         null,
         "12.0"
        ],
        [
         "12",
         "0.069",
         null,
         "12.0"
        ],
        [
         "13",
         "0.085",
         null,
         "12.0"
        ],
        [
         "14",
         "0.061",
         "60.0",
         "12.0"
        ],
        [
         "15",
         "0.06",
         null,
         "12.0"
        ],
        [
         "16",
         "0.06",
         null,
         "12.0"
        ],
        [
         "17",
         "0.06",
         null,
         "12.0"
        ],
        [
         "18",
         "0.06",
         null,
         "12.0"
        ],
        [
         "19",
         "0.0819999999999999",
         null,
         "12.0"
        ]
       ],
       "shape": {
        "columns": 3,
        "rows": 11
       }
      },
      "text/html": [
       "<div>\n",
       "<style scoped>\n",
       "    .dataframe tbody tr th:only-of-type {\n",
       "        vertical-align: middle;\n",
       "    }\n",
       "\n",
       "    .dataframe tbody tr th {\n",
       "        vertical-align: top;\n",
       "    }\n",
       "\n",
       "    .dataframe thead th {\n",
       "        text-align: right;\n",
       "    }\n",
       "</style>\n",
       "<table border=\"1\" class=\"dataframe\">\n",
       "  <thead>\n",
       "    <tr style=\"text-align: right;\">\n",
       "      <th></th>\n",
       "      <th>abv</th>\n",
       "      <th>ibu</th>\n",
       "      <th>ounces</th>\n",
       "    </tr>\n",
       "  </thead>\n",
       "  <tbody>\n",
       "    <tr>\n",
       "      <th>9</th>\n",
       "      <td>0.086</td>\n",
       "      <td>NaN</td>\n",
       "      <td>12.0</td>\n",
       "    </tr>\n",
       "    <tr>\n",
       "      <th>10</th>\n",
       "      <td>0.072</td>\n",
       "      <td>NaN</td>\n",
       "      <td>12.0</td>\n",
       "    </tr>\n",
       "    <tr>\n",
       "      <th>11</th>\n",
       "      <td>0.073</td>\n",
       "      <td>NaN</td>\n",
       "      <td>12.0</td>\n",
       "    </tr>\n",
       "    <tr>\n",
       "      <th>12</th>\n",
       "      <td>0.069</td>\n",
       "      <td>NaN</td>\n",
       "      <td>12.0</td>\n",
       "    </tr>\n",
       "    <tr>\n",
       "      <th>13</th>\n",
       "      <td>0.085</td>\n",
       "      <td>NaN</td>\n",
       "      <td>12.0</td>\n",
       "    </tr>\n",
       "    <tr>\n",
       "      <th>14</th>\n",
       "      <td>0.061</td>\n",
       "      <td>60.0</td>\n",
       "      <td>12.0</td>\n",
       "    </tr>\n",
       "    <tr>\n",
       "      <th>15</th>\n",
       "      <td>0.060</td>\n",
       "      <td>NaN</td>\n",
       "      <td>12.0</td>\n",
       "    </tr>\n",
       "    <tr>\n",
       "      <th>16</th>\n",
       "      <td>0.060</td>\n",
       "      <td>NaN</td>\n",
       "      <td>12.0</td>\n",
       "    </tr>\n",
       "    <tr>\n",
       "      <th>17</th>\n",
       "      <td>0.060</td>\n",
       "      <td>NaN</td>\n",
       "      <td>12.0</td>\n",
       "    </tr>\n",
       "    <tr>\n",
       "      <th>18</th>\n",
       "      <td>0.060</td>\n",
       "      <td>NaN</td>\n",
       "      <td>12.0</td>\n",
       "    </tr>\n",
       "    <tr>\n",
       "      <th>19</th>\n",
       "      <td>0.082</td>\n",
       "      <td>NaN</td>\n",
       "      <td>12.0</td>\n",
       "    </tr>\n",
       "  </tbody>\n",
       "</table>\n",
       "</div>"
      ],
      "text/plain": [
       "      abv   ibu  ounces\n",
       "9   0.086   NaN    12.0\n",
       "10  0.072   NaN    12.0\n",
       "11  0.073   NaN    12.0\n",
       "12  0.069   NaN    12.0\n",
       "13  0.085   NaN    12.0\n",
       "14  0.061  60.0    12.0\n",
       "15  0.060   NaN    12.0\n",
       "16  0.060   NaN    12.0\n",
       "17  0.060   NaN    12.0\n",
       "18  0.060   NaN    12.0\n",
       "19  0.082   NaN    12.0"
      ]
     },
     "execution_count": 24,
     "metadata": {},
     "output_type": "execute_result"
    }
   ],
   "source": [
    "# Seleccionar columnas 'abv', 'ibu' y 'ounces' y los registros del 10 al 20\n",
    "result = beers.loc[9:19, ['abv', 'ibu', 'ounces']]\n",
    "\n",
    "# Imprimir el resultado\n",
    "result\n"
   ]
  },
  {
   "cell_type": "code",
   "execution_count": 25,
   "metadata": {},
   "outputs": [
    {
     "data": {
      "text/plain": [
       "array([[ 0.086,    nan, 12.   ],\n",
       "       [ 0.072,    nan, 12.   ],\n",
       "       [ 0.073,    nan, 12.   ],\n",
       "       [ 0.069,    nan, 12.   ],\n",
       "       [ 0.085,    nan, 12.   ],\n",
       "       [ 0.061, 60.   , 12.   ],\n",
       "       [ 0.06 ,    nan, 12.   ],\n",
       "       [ 0.06 ,    nan, 12.   ],\n",
       "       [ 0.06 ,    nan, 12.   ],\n",
       "       [ 0.06 ,    nan, 12.   ],\n",
       "       [ 0.082,    nan, 12.   ]])"
      ]
     },
     "execution_count": 25,
     "metadata": {},
     "output_type": "execute_result"
    }
   ],
   "source": [
    "# Convertir el resultado a un array de NumPy\n",
    "result_array = beers.loc[9:19, ['abv', 'ibu', 'ounces']].to_numpy()\n",
    "\n",
    "# Imprimir el array de NumPy\n",
    "result_array\n"
   ]
  },
  {
   "attachments": {},
   "cell_type": "markdown",
   "metadata": {},
   "source": [
    "## Ejercicio 9\n",
    "¿Cuántas onzas pesan todas las birras del dataset?"
   ]
  },
  {
   "cell_type": "code",
   "execution_count": 26,
   "metadata": {},
   "outputs": [
    {
     "data": {
      "text/plain": [
       "np.float64(32757.3)"
      ]
     },
     "execution_count": 26,
     "metadata": {},
     "output_type": "execute_result"
    }
   ],
   "source": [
    "# Sumar las onzas de todas las cervezas\n",
    "total_onzas = beers['ounces'].sum()\n",
    "\n",
    "# Imprimir el total\n",
    "total_onzas\n"
   ]
  },
  {
   "cell_type": "code",
   "execution_count": null,
   "metadata": {},
   "outputs": [],
   "source": []
  },
  {
   "attachments": {},
   "cell_type": "markdown",
   "metadata": {},
   "source": [
    "## Ejercicio 10\n",
    "El amargor de las cervezas se mide por su nivel de IBUs.\n",
    "1. ¿Cuál es el amargor medio de las cervezas?\n",
    "2. ¿El máximo? ¿Y el mínimo?\n",
    "3. ¿Qué cerveza es la que tiene el amargor máximo? ¿Cuál es la de amargor mínimo?"
   ]
  },
  {
   "cell_type": "code",
   "execution_count": 27,
   "metadata": {},
   "outputs": [
    {
     "data": {
      "text/plain": [
       "np.float64(42.71316725978647)"
      ]
     },
     "execution_count": 27,
     "metadata": {},
     "output_type": "execute_result"
    }
   ],
   "source": [
    "amargo_medium_beers = beers['ibu'].mean()\n",
    "amargo_medium_beers\n"
   ]
  },
  {
   "cell_type": "code",
   "execution_count": 28,
   "metadata": {},
   "outputs": [
    {
     "data": {
      "text/plain": [
       "np.float64(138.0)"
      ]
     },
     "execution_count": 28,
     "metadata": {},
     "output_type": "execute_result"
    }
   ],
   "source": [
    "maximo = beers['ibu'].max()\n",
    "maximo"
   ]
  },
  {
   "cell_type": "code",
   "execution_count": 29,
   "metadata": {},
   "outputs": [
    {
     "data": {
      "text/plain": [
       "np.float64(4.0)"
      ]
     },
     "execution_count": 29,
     "metadata": {},
     "output_type": "execute_result"
    }
   ],
   "source": [
    "minimo = beers['ibu'].min()\n",
    "minimo"
   ]
  },
  {
   "cell_type": "code",
   "execution_count": 31,
   "metadata": {},
   "outputs": [
    {
     "data": {
      "application/vnd.microsoft.datawrangler.viewer.v0+json": {
       "columns": [
        {
         "name": "index",
         "rawType": "int64",
         "type": "integer"
        },
        {
         "name": "abv",
         "rawType": "float64",
         "type": "float"
        },
        {
         "name": "ibu",
         "rawType": "float64",
         "type": "float"
        },
        {
         "name": "id",
         "rawType": "int64",
         "type": "integer"
        },
        {
         "name": "name",
         "rawType": "object",
         "type": "string"
        },
        {
         "name": "style",
         "rawType": "object",
         "type": "string"
        },
        {
         "name": "brewery_id",
         "rawType": "int64",
         "type": "integer"
        },
        {
         "name": "ounces",
         "rawType": "float64",
         "type": "float"
        }
       ],
       "conversionMethod": "pd.DataFrame",
       "ref": "77f54af8-6878-4b62-80ab-325ccc52c155",
       "rows": [
        [
         "147",
         "0.0819999999999999",
         "138.0",
         "980",
         "Bitter Bitch Imperial IPA",
         "American Double / Imperial IPA",
         "374",
         "12.0"
        ]
       ],
       "shape": {
        "columns": 7,
        "rows": 1
       }
      },
      "text/html": [
       "<div>\n",
       "<style scoped>\n",
       "    .dataframe tbody tr th:only-of-type {\n",
       "        vertical-align: middle;\n",
       "    }\n",
       "\n",
       "    .dataframe tbody tr th {\n",
       "        vertical-align: top;\n",
       "    }\n",
       "\n",
       "    .dataframe thead th {\n",
       "        text-align: right;\n",
       "    }\n",
       "</style>\n",
       "<table border=\"1\" class=\"dataframe\">\n",
       "  <thead>\n",
       "    <tr style=\"text-align: right;\">\n",
       "      <th></th>\n",
       "      <th>abv</th>\n",
       "      <th>ibu</th>\n",
       "      <th>id</th>\n",
       "      <th>name</th>\n",
       "      <th>style</th>\n",
       "      <th>brewery_id</th>\n",
       "      <th>ounces</th>\n",
       "    </tr>\n",
       "  </thead>\n",
       "  <tbody>\n",
       "    <tr>\n",
       "      <th>147</th>\n",
       "      <td>0.082</td>\n",
       "      <td>138.0</td>\n",
       "      <td>980</td>\n",
       "      <td>Bitter Bitch Imperial IPA</td>\n",
       "      <td>American Double / Imperial IPA</td>\n",
       "      <td>374</td>\n",
       "      <td>12.0</td>\n",
       "    </tr>\n",
       "  </tbody>\n",
       "</table>\n",
       "</div>"
      ],
      "text/plain": [
       "       abv    ibu   id                       name  \\\n",
       "147  0.082  138.0  980  Bitter Bitch Imperial IPA   \n",
       "\n",
       "                              style  brewery_id  ounces  \n",
       "147  American Double / Imperial IPA         374    12.0  "
      ]
     },
     "execution_count": 31,
     "metadata": {},
     "output_type": "execute_result"
    }
   ],
   "source": [
    "#Encontrar el registro de la cerveza con el amargor máximo\n",
    "cerveza_max_ibu = beers[beers['ibu'] == maximo]\n",
    "cerveza_max_ibu"
   ]
  },
  {
   "cell_type": "code",
   "execution_count": 32,
   "metadata": {},
   "outputs": [
    {
     "data": {
      "application/vnd.microsoft.datawrangler.viewer.v0+json": {
       "columns": [
        {
         "name": "index",
         "rawType": "int64",
         "type": "integer"
        },
        {
         "name": "abv",
         "rawType": "float64",
         "type": "float"
        },
        {
         "name": "ibu",
         "rawType": "float64",
         "type": "float"
        },
        {
         "name": "id",
         "rawType": "int64",
         "type": "integer"
        },
        {
         "name": "name",
         "rawType": "object",
         "type": "string"
        },
        {
         "name": "style",
         "rawType": "object",
         "type": "string"
        },
        {
         "name": "brewery_id",
         "rawType": "int64",
         "type": "integer"
        },
        {
         "name": "ounces",
         "rawType": "float64",
         "type": "float"
        }
       ],
       "conversionMethod": "pd.DataFrame",
       "ref": "2d316d10-6b0e-4c12-99c8-f4af8e0abbe9",
       "rows": [
        [
         "106",
         "0.0559999999999999",
         "4.0",
         "1350",
         "Summer Solstice",
         "Cream Ale",
         "171",
         "12.0"
        ],
        [
         "112",
         "0.0559999999999999",
         "4.0",
         "753",
         "Summer Solstice Cerveza Crema (2009)",
         "Cream Ale",
         "171",
         "12.0"
        ],
        [
         "117",
         "0.0559999999999999",
         "4.0",
         "77",
         "Summer Solstice (2011)",
         "Cream Ale",
         "171",
         "12.0"
        ]
       ],
       "shape": {
        "columns": 7,
        "rows": 3
       }
      },
      "text/html": [
       "<div>\n",
       "<style scoped>\n",
       "    .dataframe tbody tr th:only-of-type {\n",
       "        vertical-align: middle;\n",
       "    }\n",
       "\n",
       "    .dataframe tbody tr th {\n",
       "        vertical-align: top;\n",
       "    }\n",
       "\n",
       "    .dataframe thead th {\n",
       "        text-align: right;\n",
       "    }\n",
       "</style>\n",
       "<table border=\"1\" class=\"dataframe\">\n",
       "  <thead>\n",
       "    <tr style=\"text-align: right;\">\n",
       "      <th></th>\n",
       "      <th>abv</th>\n",
       "      <th>ibu</th>\n",
       "      <th>id</th>\n",
       "      <th>name</th>\n",
       "      <th>style</th>\n",
       "      <th>brewery_id</th>\n",
       "      <th>ounces</th>\n",
       "    </tr>\n",
       "  </thead>\n",
       "  <tbody>\n",
       "    <tr>\n",
       "      <th>106</th>\n",
       "      <td>0.056</td>\n",
       "      <td>4.0</td>\n",
       "      <td>1350</td>\n",
       "      <td>Summer Solstice</td>\n",
       "      <td>Cream Ale</td>\n",
       "      <td>171</td>\n",
       "      <td>12.0</td>\n",
       "    </tr>\n",
       "    <tr>\n",
       "      <th>112</th>\n",
       "      <td>0.056</td>\n",
       "      <td>4.0</td>\n",
       "      <td>753</td>\n",
       "      <td>Summer Solstice Cerveza Crema (2009)</td>\n",
       "      <td>Cream Ale</td>\n",
       "      <td>171</td>\n",
       "      <td>12.0</td>\n",
       "    </tr>\n",
       "    <tr>\n",
       "      <th>117</th>\n",
       "      <td>0.056</td>\n",
       "      <td>4.0</td>\n",
       "      <td>77</td>\n",
       "      <td>Summer Solstice (2011)</td>\n",
       "      <td>Cream Ale</td>\n",
       "      <td>171</td>\n",
       "      <td>12.0</td>\n",
       "    </tr>\n",
       "  </tbody>\n",
       "</table>\n",
       "</div>"
      ],
      "text/plain": [
       "       abv  ibu    id                                  name      style  \\\n",
       "106  0.056  4.0  1350                       Summer Solstice  Cream Ale   \n",
       "112  0.056  4.0   753  Summer Solstice Cerveza Crema (2009)  Cream Ale   \n",
       "117  0.056  4.0    77                Summer Solstice (2011)  Cream Ale   \n",
       "\n",
       "     brewery_id  ounces  \n",
       "106         171    12.0  \n",
       "112         171    12.0  \n",
       "117         171    12.0  "
      ]
     },
     "execution_count": 32,
     "metadata": {},
     "output_type": "execute_result"
    }
   ],
   "source": [
    "# Encontrar el registro de la cerveza con el amargor mínimo\n",
    "cerveza_min_ibu = beers[beers['ibu'] == minimo]\n",
    "cerveza_min_ibu"
   ]
  },
  {
   "attachments": {},
   "cell_type": "markdown",
   "metadata": {},
   "source": [
    "## Ejercicio 11\n",
    "No queda muy claro cuánto de dispar, de dispersa, es la medida de IBU. Mediante estadística descriptiva (una o dos métricas, sin gráficas), razona la dispersión de la variable IBU."
   ]
  },
  {
   "cell_type": "code",
   "execution_count": 33,
   "metadata": {},
   "outputs": [],
   "source": [
    "from scipy import stats\n",
    "import seaborn as sns\n",
    "import matplotlib.pyplot as plt\n",
    "import statistics"
   ]
  },
  {
   "cell_type": "code",
   "execution_count": 34,
   "metadata": {},
   "outputs": [
    {
     "data": {
      "text/plain": [
       "np.float64(25.954065911259317)"
      ]
     },
     "execution_count": 34,
     "metadata": {},
     "output_type": "execute_result"
    }
   ],
   "source": [
    "# Calcular la desviación estándar de la columna 'ibu'\n",
    "desviacion_estandar = beers['ibu'].std()\n",
    "desviacion_estandar"
   ]
  },
  {
   "cell_type": "code",
   "execution_count": 35,
   "metadata": {},
   "outputs": [
    {
     "data": {
      "text/plain": [
       "np.float64(134.0)"
      ]
     },
     "execution_count": 35,
     "metadata": {},
     "output_type": "execute_result"
    }
   ],
   "source": [
    "# Calcular el rango de la columna 'ibu' (diferencia entre máximo y mínimo)\n",
    "rango_ibu = beers['ibu'].max() - beers['ibu'].min()\n",
    "\n",
    "rango_ibu"
   ]
  },
  {
   "cell_type": "code",
   "execution_count": 52,
   "metadata": {},
   "outputs": [
    {
     "data": {
      "text/plain": [
       "np.float64(42.7)"
      ]
     },
     "execution_count": 52,
     "metadata": {},
     "output_type": "execute_result"
    }
   ],
   "source": [
    "mean= beers[\"ibu\"].mean().round(1)\n",
    "mean"
   ]
  },
  {
   "cell_type": "code",
   "execution_count": 53,
   "metadata": {},
   "outputs": [
    {
     "data": {
      "text/plain": [
       "np.float64(35.0)"
      ]
     },
     "execution_count": 53,
     "metadata": {},
     "output_type": "execute_result"
    }
   ],
   "source": [
    "#la dispersion es alta ya que el rango es bastante grande (134 = 138-4. Max - Min). Hay bastante niveles de amargo en \n",
    "# las cervezas.\n",
    "\n",
    "median =beers[\"ibu\"].median().round()\n",
    "median"
   ]
  },
  {
   "cell_type": "code",
   "execution_count": 54,
   "metadata": {},
   "outputs": [
    {
     "data": {
      "text/plain": [
       "<Axes: >"
      ]
     },
     "execution_count": 54,
     "metadata": {},
     "output_type": "execute_result"
    },
    {
     "data": {
      "image/png": "[encoded data removed]",
      "text/plain": [
       "<Figure size 640x480 with 1 Axes>"
      ]
     },
     "metadata": {},
     "output_type": "display_data"
    }
   ],
   "source": [
    "beers[\"ibu\"].hist()"
   ]
  },
  {
   "cell_type": "code",
   "execution_count": 55,
   "metadata": {},
   "outputs": [
    {
     "data": {
      "text/plain": [
       "count    1405.000000\n",
       "mean       42.713167\n",
       "std        25.954066\n",
       "min         4.000000\n",
       "25%        21.000000\n",
       "50%        35.000000\n",
       "75%        64.000000\n",
       "max       138.000000\n",
       "Name: ibu, dtype: float64"
      ]
     },
     "execution_count": 55,
     "metadata": {},
     "output_type": "execute_result"
    }
   ],
   "source": [
    "beers[\"ibu\"].describe()"
   ]
  },
  {
   "attachments": {},
   "cell_type": "markdown",
   "metadata": {},
   "source": [
    "## Ejercicio 12\n",
    "¿Existe alguna relación lineal entre las variables numéricas del dataset? Intenta pintar este razonamiento mediante un gráfico"
   ]
  },
  {
   "cell_type": "code",
   "execution_count": 39,
   "metadata": {},
   "outputs": [
    {
     "name": "stdout",
     "output_type": "stream",
     "text": [
      "                 abv       ibu        id  brewery_id    ounces\n",
      "abv         1.000000  0.670621  0.042811   -0.098632  0.172529\n",
      "ibu         0.670621  1.000000  0.000485   -0.004875  0.054691\n",
      "id          0.042811  0.000485  1.000000   -0.504030  0.100843\n",
      "brewery_id -0.098632 -0.004875 -0.504030    1.000000 -0.133762\n",
      "ounces      0.172529  0.054691  0.100843   -0.133762  1.000000\n"
     ]
    }
   ],
   "source": [
    "# Filtrar solo las columnas numéricas\n",
    "columnas_numericas = beers.select_dtypes(include='number')\n",
    "\n",
    "# Calcular la matriz de correlación\n",
    "matriz_correlacion = columnas_numericas.corr()\n",
    "\n",
    "# Mostrar la matriz de correlación\n",
    "print(matriz_correlacion)\n"
   ]
  },
  {
   "cell_type": "code",
   "execution_count": 59,
   "metadata": {},
   "outputs": [
    {
     "data": {
      "image/png": "[encoded data removed]",
      "text/plain": [
       "<Figure size 800x600 with 2 Axes>"
      ]
     },
     "metadata": {},
     "output_type": "display_data"
    }
   ],
   "source": [
    "import seaborn as sns\n",
    "import matplotlib.pyplot as plt\n",
    "\n",
    "# Seleccionar solo las columnas 'abv', 'ibu', y 'ounces'\n",
    "columnas_seleccionadas = beers[['abv', 'ibu', 'ounces']]\n",
    "\n",
    "# Calcular la matriz de correlación para estas columnas\n",
    "matriz_correlacion = columnas_seleccionadas.corr()\n",
    "\n",
    "# Crear el heatmap\n",
    "plt.figure(figsize=(8, 6))  # Tamaño de la figura\n",
    "sns.heatmap(matriz_correlacion, annot=True, cmap=\"coolwarm\", fmt=\".2f\", linewidths=0.5)\n",
    "\n",
    "# Mostrar el gráfico\n",
    "plt.title(\"Matriz de Correlación entre 'abv', 'ibu' y 'ounces'\")\n",
    "plt.show()\n"
   ]
  },
  {
   "cell_type": "code",
   "execution_count": null,
   "metadata": {},
   "outputs": [],
   "source": []
  },
  {
   "cell_type": "code",
   "execution_count": 41,
   "metadata": {},
   "outputs": [
    {
     "data": {
      "image/png": "[encoded data removed]",
      "text/plain": [
       "<Figure size 1000x600 with 1 Axes>"
      ]
     },
     "metadata": {},
     "output_type": "display_data"
    }
   ],
   "source": [
    "import matplotlib.pyplot as plt\n",
    "\n",
    "# Crear un gráfico de dispersión con Matplotlib\n",
    "plt.figure(figsize=(10, 6))\n",
    "plt.scatter(beers['abv'], beers['ibu'], alpha=0.5)\n",
    "\n",
    "# Añadir etiquetas y título\n",
    "plt.title('Gráfico de dispersión: ABV vs IBU')\n",
    "plt.xlabel('ABV (Alcohol By Volume)')\n",
    "plt.ylabel('IBU (International Bitterness Units)')\n",
    "\n",
    "# Mostrar el gráfico\n",
    "plt.show()\n"
   ]
  },
  {
   "cell_type": "code",
   "execution_count": 58,
   "metadata": {},
   "outputs": [
    {
     "data": {
      "text/plain": [
       "<seaborn.axisgrid.FacetGrid at 0x190a1e0ec10>"
      ]
     },
     "execution_count": 58,
     "metadata": {},
     "output_type": "execute_result"
    },
    {
     "data": {
      "image/png": "[encoded data removed]",
      "text/plain": [
       "<Figure size 500x500 with 1 Axes>"
      ]
     },
     "metadata": {},
     "output_type": "display_data"
    }
   ],
   "source": [
    "import seaborn as sns\n",
    "import matplotlib.pyplot as plt\n",
    "\n",
    "sns.lmplot(x=\"ibu\", y=\"abv\", data=beers, fit_reg=True)"
   ]
  },
  {
   "cell_type": "code",
   "execution_count": 42,
   "metadata": {},
   "outputs": [
    {
     "data": {
      "image/png": "[encoded data removed]",
      "text/plain": [
       "<Figure size 1000x600 with 1 Axes>"
      ]
     },
     "metadata": {},
     "output_type": "display_data"
    }
   ],
   "source": [
    "import seaborn as sns\n",
    "import matplotlib.pyplot as plt\n",
    "\n",
    "# Crear un gráfico de dispersión con Seaborn\n",
    "plt.figure(figsize=(10, 6))\n",
    "sns.scatterplot(x='abv', y='ibu', data=beers)\n",
    "\n",
    "# Añadir título\n",
    "plt.title('Gráfico de dispersión: ABV vs IBU')\n",
    "\n",
    "# Mostrar el gráfico\n",
    "plt.show()\n"
   ]
  },
  {
   "cell_type": "code",
   "execution_count": null,
   "metadata": {},
   "outputs": [],
   "source": []
  },
  {
   "attachments": {},
   "cell_type": "markdown",
   "metadata": {},
   "source": [
    "## Ejercicio 13\n",
    "Representa el nivel de alcohol (columna `abv`) en un histograma. ¿Se trata de una distribución simétrica o asimétrica?"
   ]
  },
  {
   "cell_type": "code",
   "execution_count": 46,
   "metadata": {},
   "outputs": [
    {
     "data": {
      "image/png": "[encoded data removed]",
      "text/plain": [
       "<Figure size 1000x600 with 1 Axes>"
      ]
     },
     "metadata": {},
     "output_type": "display_data"
    }
   ],
   "source": [
    "import matplotlib.pyplot as plt\n",
    "\n",
    "# Crear un histograma para la columna 'abv' (nivel de alcohol)\n",
    "plt.figure(figsize=(10, 6))\n",
    "plt.hist(beers['abv'], bins=20, color='skyblue', edgecolor='black')\n",
    "\n",
    "# Añadir título y etiquetas\n",
    "plt.title('Distribución de Alcohol por Volumen (ABV)')\n",
    "plt.xlabel('ABV (Alcohol By Volume)')\n",
    "plt.ylabel('Frecuencia')\n",
    "\n",
    "# Mostrar el gráfico\n",
    "plt.show()\n"
   ]
  },
  {
   "attachments": {},
   "cell_type": "markdown",
   "metadata": {},
   "source": [
    "## Ejercicio 14\n",
    "Representa mediante un *boxplot* de `seaborn` la variable `abv`"
   ]
  },
  {
   "cell_type": "code",
   "execution_count": 47,
   "metadata": {},
   "outputs": [
    {
     "data": {
      "image/png": "[encoded data removed]",
      "text/plain": [
       "<Figure size 800x600 with 1 Axes>"
      ]
     },
     "metadata": {},
     "output_type": "display_data"
    }
   ],
   "source": [
    "import seaborn as sns\n",
    "import matplotlib.pyplot as plt\n",
    "\n",
    "# Crear un boxplot de la columna 'abv' (Alcohol By Volume)\n",
    "plt.figure(figsize=(8, 6))\n",
    "sns.boxplot(x=beers['abv'], color='skyblue')\n",
    "\n",
    "# Añadir título y etiquetas\n",
    "plt.title('Boxplot de ABV (Alcohol By Volume)')\n",
    "plt.xlabel('ABV (Alcohol By Volume)')\n",
    "\n",
    "# Mostrar el gráfico\n",
    "plt.show()\n"
   ]
  },
  {
   "attachments": {},
   "cell_type": "markdown",
   "metadata": {},
   "source": [
    "## Ejercicio 15\n",
    "1. ¿Qué estilos son los que tienen en media más alcohol?\n",
    "2. ¿Y los estilos que son en media más amargos?"
   ]
  },
  {
   "cell_type": "code",
   "execution_count": 60,
   "metadata": {},
   "outputs": [
    {
     "name": "stdout",
     "output_type": "stream",
     "text": [
      "style\n",
      "English Barleywine        0.107667\n",
      "Quadrupel (Quad)          0.104000\n",
      "American Barleywine       0.099000\n",
      "American Malt Liquor      0.099000\n",
      "Russian Imperial Stout    0.097636\n",
      "                            ...   \n",
      "Berliner Weissbier        0.043909\n",
      "English Dark Mild Ale     0.041500\n",
      "Light Lager               0.040417\n",
      "Radler                    0.040333\n",
      "Low Alcohol Beer          0.001000\n",
      "Name: abv, Length: 99, dtype: float64\n"
     ]
    }
   ],
   "source": [
    "# Agrupar por el estilo y calcular la media del alcohol (abv)\n",
    "promedio_abv_por_estilo = beers.groupby('style')['abv'].mean()\n",
    "\n",
    "# Ordenar los estilos por la media de 'abv' en orden descendente\n",
    "estilos_mas_alcohol = promedio_abv_por_estilo.sort_values(ascending=False)\n",
    "\n",
    "# Mostrar los estilos con más alcohol en promedio\n",
    "print(estilos_mas_alcohol)\n"
   ]
  },
  {
   "cell_type": "code",
   "execution_count": 61,
   "metadata": {},
   "outputs": [
    {
     "name": "stdout",
     "output_type": "stream",
     "text": [
      "style\n",
      "American Barleywine                   96.00\n",
      "American Double / Imperial IPA        93.32\n",
      "Russian Imperial Stout                86.50\n",
      "American Double / Imperial Pilsner    85.00\n",
      "Belgian Strong Dark Ale               72.00\n",
      "                                      ...  \n",
      "Kristalweizen                           NaN\n",
      "Low Alcohol Beer                        NaN\n",
      "Mead                                    NaN\n",
      "Rauchbier                               NaN\n",
      "Shandy                                  NaN\n",
      "Name: ibu, Length: 99, dtype: float64\n"
     ]
    }
   ],
   "source": [
    "# Agrupar por el estilo y calcular la media del amargor (ibu)\n",
    "promedio_ibu_por_estilo = beers.groupby('style')['ibu'].mean()\n",
    "\n",
    "# Ordenar los estilos por la media de 'ibu' en orden descendente\n",
    "estilos_mas_amargos = promedio_ibu_por_estilo.sort_values(ascending=False)\n",
    "\n",
    "# Mostrar los estilos con más amargor en promedio\n",
    "print(estilos_mas_amargos)\n"
   ]
  },
  {
   "attachments": {},
   "cell_type": "markdown",
   "metadata": {},
   "source": [
    "## Ejercicio 16\n",
    "Carga el datasets de cervecerias `datasets_breweries.csv`"
   ]
  },
  {
   "cell_type": "code",
   "execution_count": 66,
   "metadata": {},
   "outputs": [],
   "source": [
    "\n",
    "##Lee el archivo CSV desde una carpeta específica en tu directorio\n",
    "# Asegúrate de ajustar la ruta al nombre de tu archivo y la carpeta donde está ubicado\n",
    "ruta_del_archivo2 = \"./data/datasets_breweries.csv\"  # Ajusta el nombre y la ruta\n",
    "\n",
    "# Cargar el archivo CSV en un DataFrame de Pandas\n",
    "breweries = pd.read_csv(ruta_del_archivo2)"
   ]
  },
  {
   "cell_type": "code",
   "execution_count": 63,
   "metadata": {},
   "outputs": [
    {
     "name": "stdout",
     "output_type": "stream",
     "text": [
      "<class 'pandas.core.frame.DataFrame'>\n",
      "RangeIndex: 558 entries, 0 to 557\n",
      "Data columns (total 4 columns):\n",
      " #   Column      Non-Null Count  Dtype \n",
      "---  ------      --------------  ----- \n",
      " 0   Unnamed: 0  558 non-null    int64 \n",
      " 1   name        558 non-null    object\n",
      " 2   city        558 non-null    object\n",
      " 3   state       558 non-null    object\n",
      "dtypes: int64(1), object(3)\n",
      "memory usage: 17.6+ KB\n"
     ]
    }
   ],
   "source": [
    "breweries.info()"
   ]
  },
  {
   "cell_type": "code",
   "execution_count": 67,
   "metadata": {},
   "outputs": [
    {
     "data": {
      "application/vnd.microsoft.datawrangler.viewer.v0+json": {
       "columns": [
        {
         "name": "index",
         "rawType": "int64",
         "type": "integer"
        },
        {
         "name": "Unnamed: 0",
         "rawType": "int64",
         "type": "integer"
        },
        {
         "name": "name",
         "rawType": "object",
         "type": "string"
        },
        {
         "name": "city",
         "rawType": "object",
         "type": "string"
        },
        {
         "name": "state",
         "rawType": "object",
         "type": "string"
        }
       ],
       "conversionMethod": "pd.DataFrame",
       "ref": "9d2b8e14-b4ce-4760-82c5-87c059925d92",
       "rows": [
        [
         "0",
         "0",
         "NorthGate Brewing ",
         "Minneapolis",
         " MN"
        ],
        [
         "1",
         "1",
         "Against the Grain Brewery",
         "Louisville",
         " KY"
        ],
        [
         "2",
         "2",
         "Jack's Abby Craft Lagers",
         "Framingham",
         " MA"
        ],
        [
         "3",
         "3",
         "Mike Hess Brewing Company",
         "San Diego",
         " CA"
        ],
        [
         "4",
         "4",
         "Fort Point Beer Company",
         "San Francisco",
         " CA"
        ]
       ],
       "shape": {
        "columns": 4,
        "rows": 5
       }
      },
      "text/html": [
       "<div>\n",
       "<style scoped>\n",
       "    .dataframe tbody tr th:only-of-type {\n",
       "        vertical-align: middle;\n",
       "    }\n",
       "\n",
       "    .dataframe tbody tr th {\n",
       "        vertical-align: top;\n",
       "    }\n",
       "\n",
       "    .dataframe thead th {\n",
       "        text-align: right;\n",
       "    }\n",
       "</style>\n",
       "<table border=\"1\" class=\"dataframe\">\n",
       "  <thead>\n",
       "    <tr style=\"text-align: right;\">\n",
       "      <th></th>\n",
       "      <th>Unnamed: 0</th>\n",
       "      <th>name</th>\n",
       "      <th>city</th>\n",
       "      <th>state</th>\n",
       "    </tr>\n",
       "  </thead>\n",
       "  <tbody>\n",
       "    <tr>\n",
       "      <th>0</th>\n",
       "      <td>0</td>\n",
       "      <td>NorthGate Brewing</td>\n",
       "      <td>Minneapolis</td>\n",
       "      <td>MN</td>\n",
       "    </tr>\n",
       "    <tr>\n",
       "      <th>1</th>\n",
       "      <td>1</td>\n",
       "      <td>Against the Grain Brewery</td>\n",
       "      <td>Louisville</td>\n",
       "      <td>KY</td>\n",
       "    </tr>\n",
       "    <tr>\n",
       "      <th>2</th>\n",
       "      <td>2</td>\n",
       "      <td>Jack's Abby Craft Lagers</td>\n",
       "      <td>Framingham</td>\n",
       "      <td>MA</td>\n",
       "    </tr>\n",
       "    <tr>\n",
       "      <th>3</th>\n",
       "      <td>3</td>\n",
       "      <td>Mike Hess Brewing Company</td>\n",
       "      <td>San Diego</td>\n",
       "      <td>CA</td>\n",
       "    </tr>\n",
       "    <tr>\n",
       "      <th>4</th>\n",
       "      <td>4</td>\n",
       "      <td>Fort Point Beer Company</td>\n",
       "      <td>San Francisco</td>\n",
       "      <td>CA</td>\n",
       "    </tr>\n",
       "  </tbody>\n",
       "</table>\n",
       "</div>"
      ],
      "text/plain": [
       "   Unnamed: 0                       name           city state\n",
       "0           0         NorthGate Brewing     Minneapolis    MN\n",
       "1           1  Against the Grain Brewery     Louisville    KY\n",
       "2           2   Jack's Abby Craft Lagers     Framingham    MA\n",
       "3           3  Mike Hess Brewing Company      San Diego    CA\n",
       "4           4    Fort Point Beer Company  San Francisco    CA"
      ]
     },
     "execution_count": 67,
     "metadata": {},
     "output_type": "execute_result"
    }
   ],
   "source": [
    "breweries.head()"
   ]
  },
  {
   "attachments": {},
   "cell_type": "markdown",
   "metadata": {},
   "source": [
    "## Ejercicio 17\n",
    "1. Renombra la columna `Unnamed: 0` como `brewery_id`\n",
    "2. Renombra también la columna `name` por `brewery_name`. ¿Puedes hacer ambos apartados en una sola sentencia?"
   ]
  },
  {
   "cell_type": "code",
   "execution_count": 70,
   "metadata": {},
   "outputs": [
    {
     "name": "stdout",
     "output_type": "stream",
     "text": [
      "   brewery_id                       name           city state\n",
      "0           0         NorthGate Brewing     Minneapolis    MN\n",
      "1           1  Against the Grain Brewery     Louisville    KY\n",
      "2           2   Jack's Abby Craft Lagers     Framingham    MA\n",
      "3           3  Mike Hess Brewing Company      San Diego    CA\n",
      "4           4    Fort Point Beer Company  San Francisco    CA\n"
     ]
    }
   ],
   "source": [
    "import pandas as pd\n",
    "\n",
    "# Supongamos que tu DataFrame se llama df\n",
    "breweries.rename(columns={'Unnamed: 0': 'brewery_id'}, inplace=True)\n",
    "\n",
    "# Verifica el cambio\n",
    "print(breweries.head())\n"
   ]
  },
  {
   "cell_type": "code",
   "execution_count": 71,
   "metadata": {},
   "outputs": [
    {
     "data": {
      "application/vnd.microsoft.datawrangler.viewer.v0+json": {
       "columns": [
        {
         "name": "index",
         "rawType": "int64",
         "type": "integer"
        },
        {
         "name": "brewery_id",
         "rawType": "int64",
         "type": "integer"
        },
        {
         "name": "name",
         "rawType": "object",
         "type": "string"
        },
        {
         "name": "city",
         "rawType": "object",
         "type": "string"
        },
        {
         "name": "state",
         "rawType": "object",
         "type": "string"
        }
       ],
       "conversionMethod": "pd.DataFrame",
       "ref": "0d3a3962-0318-42e5-9622-3fcf50f580d7",
       "rows": [
        [
         "0",
         "0",
         "NorthGate Brewing ",
         "Minneapolis",
         " MN"
        ],
        [
         "1",
         "1",
         "Against the Grain Brewery",
         "Louisville",
         " KY"
        ],
        [
         "2",
         "2",
         "Jack's Abby Craft Lagers",
         "Framingham",
         " MA"
        ],
        [
         "3",
         "3",
         "Mike Hess Brewing Company",
         "San Diego",
         " CA"
        ],
        [
         "4",
         "4",
         "Fort Point Beer Company",
         "San Francisco",
         " CA"
        ]
       ],
       "shape": {
        "columns": 4,
        "rows": 5
       }
      },
      "text/html": [
       "<div>\n",
       "<style scoped>\n",
       "    .dataframe tbody tr th:only-of-type {\n",
       "        vertical-align: middle;\n",
       "    }\n",
       "\n",
       "    .dataframe tbody tr th {\n",
       "        vertical-align: top;\n",
       "    }\n",
       "\n",
       "    .dataframe thead th {\n",
       "        text-align: right;\n",
       "    }\n",
       "</style>\n",
       "<table border=\"1\" class=\"dataframe\">\n",
       "  <thead>\n",
       "    <tr style=\"text-align: right;\">\n",
       "      <th></th>\n",
       "      <th>brewery_id</th>\n",
       "      <th>name</th>\n",
       "      <th>city</th>\n",
       "      <th>state</th>\n",
       "    </tr>\n",
       "  </thead>\n",
       "  <tbody>\n",
       "    <tr>\n",
       "      <th>0</th>\n",
       "      <td>0</td>\n",
       "      <td>NorthGate Brewing</td>\n",
       "      <td>Minneapolis</td>\n",
       "      <td>MN</td>\n",
       "    </tr>\n",
       "    <tr>\n",
       "      <th>1</th>\n",
       "      <td>1</td>\n",
       "      <td>Against the Grain Brewery</td>\n",
       "      <td>Louisville</td>\n",
       "      <td>KY</td>\n",
       "    </tr>\n",
       "    <tr>\n",
       "      <th>2</th>\n",
       "      <td>2</td>\n",
       "      <td>Jack's Abby Craft Lagers</td>\n",
       "      <td>Framingham</td>\n",
       "      <td>MA</td>\n",
       "    </tr>\n",
       "    <tr>\n",
       "      <th>3</th>\n",
       "      <td>3</td>\n",
       "      <td>Mike Hess Brewing Company</td>\n",
       "      <td>San Diego</td>\n",
       "      <td>CA</td>\n",
       "    </tr>\n",
       "    <tr>\n",
       "      <th>4</th>\n",
       "      <td>4</td>\n",
       "      <td>Fort Point Beer Company</td>\n",
       "      <td>San Francisco</td>\n",
       "      <td>CA</td>\n",
       "    </tr>\n",
       "  </tbody>\n",
       "</table>\n",
       "</div>"
      ],
      "text/plain": [
       "   brewery_id                       name           city state\n",
       "0           0         NorthGate Brewing     Minneapolis    MN\n",
       "1           1  Against the Grain Brewery     Louisville    KY\n",
       "2           2   Jack's Abby Craft Lagers     Framingham    MA\n",
       "3           3  Mike Hess Brewing Company      San Diego    CA\n",
       "4           4    Fort Point Beer Company  San Francisco    CA"
      ]
     },
     "execution_count": 71,
     "metadata": {},
     "output_type": "execute_result"
    }
   ],
   "source": [
    "breweries.head()"
   ]
  },
  {
   "attachments": {},
   "cell_type": "markdown",
   "metadata": {},
   "source": [
    "## Ejercicio 18\n",
    "Junta los dos datasets que tienes"
   ]
  },
  {
   "cell_type": "code",
   "execution_count": 72,
   "metadata": {},
   "outputs": [
    {
     "data": {
      "application/vnd.microsoft.datawrangler.viewer.v0+json": {
       "columns": [
        {
         "name": "index",
         "rawType": "int64",
         "type": "integer"
        },
        {
         "name": "abv",
         "rawType": "float64",
         "type": "float"
        },
        {
         "name": "ibu",
         "rawType": "float64",
         "type": "float"
        },
        {
         "name": "id",
         "rawType": "int64",
         "type": "integer"
        },
        {
         "name": "name_x",
         "rawType": "object",
         "type": "string"
        },
        {
         "name": "style",
         "rawType": "object",
         "type": "string"
        },
        {
         "name": "brewery_id",
         "rawType": "int64",
         "type": "integer"
        },
        {
         "name": "ounces",
         "rawType": "float64",
         "type": "float"
        },
        {
         "name": "name_y",
         "rawType": "object",
         "type": "string"
        },
        {
         "name": "city",
         "rawType": "object",
         "type": "string"
        },
        {
         "name": "state",
         "rawType": "object",
         "type": "string"
        }
       ],
       "conversionMethod": "pd.DataFrame",
       "ref": "0af90f60-979b-4b0a-9d2b-df41e73d20e2",
       "rows": [
        [
         "0",
         "0.05",
         null,
         "1436",
         "Pub Beer",
         "American Pale Lager",
         "408",
         "12.0",
         "10 Barrel Brewing Company",
         "Bend",
         " OR"
        ],
        [
         "1",
         "0.066",
         null,
         "2265",
         "Devil's Cup",
         "American Pale Ale (APA)",
         "177",
         "12.0",
         "18th Street Brewery",
         "Gary",
         " IN"
        ],
        [
         "2",
         "0.071",
         null,
         "2264",
         "Rise of the Phoenix",
         "American IPA",
         "177",
         "12.0",
         "18th Street Brewery",
         "Gary",
         " IN"
        ],
        [
         "3",
         "0.09",
         null,
         "2263",
         "Sinister",
         "American Double / Imperial IPA",
         "177",
         "12.0",
         "18th Street Brewery",
         "Gary",
         " IN"
        ],
        [
         "4",
         "0.075",
         null,
         "2262",
         "Sex and Candy",
         "American IPA",
         "177",
         "12.0",
         "18th Street Brewery",
         "Gary",
         " IN"
        ]
       ],
       "shape": {
        "columns": 10,
        "rows": 5
       }
      },
      "text/html": [
       "<div>\n",
       "<style scoped>\n",
       "    .dataframe tbody tr th:only-of-type {\n",
       "        vertical-align: middle;\n",
       "    }\n",
       "\n",
       "    .dataframe tbody tr th {\n",
       "        vertical-align: top;\n",
       "    }\n",
       "\n",
       "    .dataframe thead th {\n",
       "        text-align: right;\n",
       "    }\n",
       "</style>\n",
       "<table border=\"1\" class=\"dataframe\">\n",
       "  <thead>\n",
       "    <tr style=\"text-align: right;\">\n",
       "      <th></th>\n",
       "      <th>abv</th>\n",
       "      <th>ibu</th>\n",
       "      <th>id</th>\n",
       "      <th>name_x</th>\n",
       "      <th>style</th>\n",
       "      <th>brewery_id</th>\n",
       "      <th>ounces</th>\n",
       "      <th>name_y</th>\n",
       "      <th>city</th>\n",
       "      <th>state</th>\n",
       "    </tr>\n",
       "  </thead>\n",
       "  <tbody>\n",
       "    <tr>\n",
       "      <th>0</th>\n",
       "      <td>0.050</td>\n",
       "      <td>NaN</td>\n",
       "      <td>1436</td>\n",
       "      <td>Pub Beer</td>\n",
       "      <td>American Pale Lager</td>\n",
       "      <td>408</td>\n",
       "      <td>12.0</td>\n",
       "      <td>10 Barrel Brewing Company</td>\n",
       "      <td>Bend</td>\n",
       "      <td>OR</td>\n",
       "    </tr>\n",
       "    <tr>\n",
       "      <th>1</th>\n",
       "      <td>0.066</td>\n",
       "      <td>NaN</td>\n",
       "      <td>2265</td>\n",
       "      <td>Devil's Cup</td>\n",
       "      <td>American Pale Ale (APA)</td>\n",
       "      <td>177</td>\n",
       "      <td>12.0</td>\n",
       "      <td>18th Street Brewery</td>\n",
       "      <td>Gary</td>\n",
       "      <td>IN</td>\n",
       "    </tr>\n",
       "    <tr>\n",
       "      <th>2</th>\n",
       "      <td>0.071</td>\n",
       "      <td>NaN</td>\n",
       "      <td>2264</td>\n",
       "      <td>Rise of the Phoenix</td>\n",
       "      <td>American IPA</td>\n",
       "      <td>177</td>\n",
       "      <td>12.0</td>\n",
       "      <td>18th Street Brewery</td>\n",
       "      <td>Gary</td>\n",
       "      <td>IN</td>\n",
       "    </tr>\n",
       "    <tr>\n",
       "      <th>3</th>\n",
       "      <td>0.090</td>\n",
       "      <td>NaN</td>\n",
       "      <td>2263</td>\n",
       "      <td>Sinister</td>\n",
       "      <td>American Double / Imperial IPA</td>\n",
       "      <td>177</td>\n",
       "      <td>12.0</td>\n",
       "      <td>18th Street Brewery</td>\n",
       "      <td>Gary</td>\n",
       "      <td>IN</td>\n",
       "    </tr>\n",
       "    <tr>\n",
       "      <th>4</th>\n",
       "      <td>0.075</td>\n",
       "      <td>NaN</td>\n",
       "      <td>2262</td>\n",
       "      <td>Sex and Candy</td>\n",
       "      <td>American IPA</td>\n",
       "      <td>177</td>\n",
       "      <td>12.0</td>\n",
       "      <td>18th Street Brewery</td>\n",
       "      <td>Gary</td>\n",
       "      <td>IN</td>\n",
       "    </tr>\n",
       "  </tbody>\n",
       "</table>\n",
       "</div>"
      ],
      "text/plain": [
       "     abv  ibu    id               name_x                           style  \\\n",
       "0  0.050  NaN  1436             Pub Beer             American Pale Lager   \n",
       "1  0.066  NaN  2265          Devil's Cup         American Pale Ale (APA)   \n",
       "2  0.071  NaN  2264  Rise of the Phoenix                    American IPA   \n",
       "3  0.090  NaN  2263             Sinister  American Double / Imperial IPA   \n",
       "4  0.075  NaN  2262        Sex and Candy                    American IPA   \n",
       "\n",
       "   brewery_id  ounces                     name_y  city state  \n",
       "0         408    12.0  10 Barrel Brewing Company  Bend    OR  \n",
       "1         177    12.0        18th Street Brewery  Gary    IN  \n",
       "2         177    12.0        18th Street Brewery  Gary    IN  \n",
       "3         177    12.0        18th Street Brewery  Gary    IN  \n",
       "4         177    12.0        18th Street Brewery  Gary    IN  "
      ]
     },
     "execution_count": 72,
     "metadata": {},
     "output_type": "execute_result"
    }
   ],
   "source": [
    "import pandas as pd\n",
    "\n",
    "# Supongamos que tus DataFrames se llaman df_cervezas y df_cervezeras\n",
    "df_unido = pd.merge(beers, breweries, on='brewery_id', how='inner')\n",
    "\n",
    "# Mostrar los primeros registros del DataFrame resultante\n",
    "df_unido.head()\n"
   ]
  },
  {
   "cell_type": "code",
   "execution_count": 74,
   "metadata": {},
   "outputs": [
    {
     "name": "stdout",
     "output_type": "stream",
     "text": [
      "<class 'pandas.core.frame.DataFrame'>\n",
      "RangeIndex: 2410 entries, 0 to 2409\n",
      "Data columns (total 10 columns):\n",
      " #   Column      Non-Null Count  Dtype  \n",
      "---  ------      --------------  -----  \n",
      " 0   abv         2348 non-null   float64\n",
      " 1   ibu         1405 non-null   float64\n",
      " 2   id          2410 non-null   int64  \n",
      " 3   name_x      2410 non-null   object \n",
      " 4   style       2405 non-null   object \n",
      " 5   brewery_id  2410 non-null   int64  \n",
      " 6   ounces      2410 non-null   float64\n",
      " 7   name_y      2410 non-null   object \n",
      " 8   city        2410 non-null   object \n",
      " 9   state       2410 non-null   object \n",
      "dtypes: float64(3), int64(2), object(5)\n",
      "memory usage: 188.4+ KB\n"
     ]
    }
   ],
   "source": [
    "df_unido.info()"
   ]
  },
  {
   "attachments": {},
   "cell_type": "markdown",
   "metadata": {},
   "source": [
    "## Ejercicio 19\n",
    "1. ¿Cuántos estados diferentes hay?\n",
    "2. ¿Y ciudades diferentes?\n",
    "3. ¿Cuántas cervecerías hay?"
   ]
  },
  {
   "cell_type": "code",
   "execution_count": 73,
   "metadata": {},
   "outputs": [
    {
     "name": "stdout",
     "output_type": "stream",
     "text": [
      "Hay 51 estados diferentes.\n"
     ]
    }
   ],
   "source": [
    "# Supongamos que tu DataFrame se llama df\n",
    "numero_de_estados = df_unido['state'].nunique()\n",
    "\n",
    "print(f\"Hay {numero_de_estados} estados diferentes.\")\n"
   ]
  },
  {
   "cell_type": "code",
   "execution_count": 75,
   "metadata": {},
   "outputs": [
    {
     "name": "stdout",
     "output_type": "stream",
     "text": [
      "Hay 384 ciudades diferentes.\n"
     ]
    }
   ],
   "source": [
    "# Supongamos que tu DataFrame se llama df\n",
    "numero_de_ciudades = df_unido['city'].nunique()\n",
    "\n",
    "print(f\"Hay {numero_de_ciudades} ciudades diferentes.\")\n"
   ]
  },
  {
   "cell_type": "code",
   "execution_count": 76,
   "metadata": {},
   "outputs": [
    {
     "name": "stdout",
     "output_type": "stream",
     "text": [
      "Hay 558 cervecerías diferentes.\n"
     ]
    }
   ],
   "source": [
    "# Supongamos que tu DataFrame se llama df\n",
    "numero_de_cervecerias = df_unido['brewery_id'].nunique()\n",
    "\n",
    "print(f\"Hay {numero_de_cervecerias} cervecerías diferentes.\")\n"
   ]
  },
  {
   "attachments": {},
   "cell_type": "markdown",
   "metadata": {},
   "source": [
    "## Ejercicio 20\n",
    "Agrupa por estado y ciudad, la media, mediana y máximo nivel de alcohol"
   ]
  },
  {
   "cell_type": "code",
   "execution_count": 77,
   "metadata": {},
   "outputs": [
    {
     "name": "stdout",
     "output_type": "stream",
     "text": [
      "  state        city    mean  median    max\n",
      "0    AK   Anchorage  0.0542  0.0520  0.063\n",
      "1    AK      Juneau  0.0530  0.0530  0.053\n",
      "2    AK    Soldotna  0.0585  0.0580  0.068\n",
      "3    AK   Talkeetna  0.0595  0.0585  0.065\n",
      "4    AL  Birmingham  0.0654  0.0600  0.093\n"
     ]
    }
   ],
   "source": [
    "# Supongamos que tu DataFrame se llama df y tiene una columna 'alcohol_level' para el nivel de alcohol\n",
    "# Agrupamos por estado y ciudad, y luego calculamos la media, mediana y el valor máximo del nivel de alcohol\n",
    "\n",
    "resultado = df_unido.groupby(['state', 'city'])['abv'].agg(['mean', 'median', 'max']).reset_index()\n",
    "\n",
    "# Mostrar los primeros resultados\n",
    "print(resultado.head())\n"
   ]
  },
  {
   "attachments": {},
   "cell_type": "markdown",
   "metadata": {},
   "source": [
    "## Ejercicio 21\n",
    "¿Cuáles son las cervezas más amargas que se consumen en Indiana, estado = `IN`?"
   ]
  },
  {
   "cell_type": "code",
   "execution_count": 82,
   "metadata": {},
   "outputs": [
    {
     "data": {
      "application/vnd.microsoft.datawrangler.viewer.v0+json": {
       "columns": [
        {
         "name": "index",
         "rawType": "int64",
         "type": "integer"
        },
        {
         "name": "abv",
         "rawType": "float64",
         "type": "float"
        },
        {
         "name": "ibu",
         "rawType": "float64",
         "type": "float"
        },
        {
         "name": "id",
         "rawType": "int64",
         "type": "integer"
        },
        {
         "name": "name_x",
         "rawType": "object",
         "type": "string"
        },
        {
         "name": "style",
         "rawType": "object",
         "type": "string"
        },
        {
         "name": "brewery_id",
         "rawType": "int64",
         "type": "integer"
        },
        {
         "name": "ounces",
         "rawType": "float64",
         "type": "float"
        },
        {
         "name": "name_y",
         "rawType": "object",
         "type": "string"
        },
        {
         "name": "city",
         "rawType": "object",
         "type": "string"
        },
        {
         "name": "state",
         "rawType": "object",
         "type": "string"
        }
       ],
       "conversionMethod": "pd.DataFrame",
       "ref": "4ceca853-f6e5-4c9d-b709-827cef27c333",
       "rows": [],
       "shape": {
        "columns": 10,
        "rows": 0
       }
      },
      "text/html": [
       "<div>\n",
       "<style scoped>\n",
       "    .dataframe tbody tr th:only-of-type {\n",
       "        vertical-align: middle;\n",
       "    }\n",
       "\n",
       "    .dataframe tbody tr th {\n",
       "        vertical-align: top;\n",
       "    }\n",
       "\n",
       "    .dataframe thead th {\n",
       "        text-align: right;\n",
       "    }\n",
       "</style>\n",
       "<table border=\"1\" class=\"dataframe\">\n",
       "  <thead>\n",
       "    <tr style=\"text-align: right;\">\n",
       "      <th></th>\n",
       "      <th>abv</th>\n",
       "      <th>ibu</th>\n",
       "      <th>id</th>\n",
       "      <th>name_x</th>\n",
       "      <th>style</th>\n",
       "      <th>brewery_id</th>\n",
       "      <th>ounces</th>\n",
       "      <th>name_y</th>\n",
       "      <th>city</th>\n",
       "      <th>state</th>\n",
       "    </tr>\n",
       "  </thead>\n",
       "  <tbody>\n",
       "  </tbody>\n",
       "</table>\n",
       "</div>"
      ],
      "text/plain": [
       "Empty DataFrame\n",
       "Columns: [abv, ibu, id, name_x, style, brewery_id, ounces, name_y, city, state]\n",
       "Index: []"
      ]
     },
     "execution_count": 82,
     "metadata": {},
     "output_type": "execute_result"
    }
   ],
   "source": [
    "# Filtramos el DataFrame para obtener solo las cervezas del estado de Indiana (IN)\n",
    "cervezas_indiana = df_unido[df_unido['state'] == 'IN']\n",
    "cervezas_indiana"
   ]
  },
  {
   "cell_type": "code",
   "execution_count": 81,
   "metadata": {},
   "outputs": [
    {
     "data": {
      "application/vnd.microsoft.datawrangler.viewer.v0+json": {
       "columns": [
        {
         "name": "index",
         "rawType": "int64",
         "type": "integer"
        },
        {
         "name": "name_x",
         "rawType": "object",
         "type": "string"
        },
        {
         "name": "name_y",
         "rawType": "object",
         "type": "string"
        },
        {
         "name": "ibu",
         "rawType": "float64",
         "type": "float"
        }
       ],
       "conversionMethod": "pd.DataFrame",
       "ref": "43d6c4a0-057a-4a6e-8a61-ac07dc2fc765",
       "rows": [],
       "shape": {
        "columns": 3,
        "rows": 0
       }
      },
      "text/html": [
       "<div>\n",
       "<style scoped>\n",
       "    .dataframe tbody tr th:only-of-type {\n",
       "        vertical-align: middle;\n",
       "    }\n",
       "\n",
       "    .dataframe tbody tr th {\n",
       "        vertical-align: top;\n",
       "    }\n",
       "\n",
       "    .dataframe thead th {\n",
       "        text-align: right;\n",
       "    }\n",
       "</style>\n",
       "<table border=\"1\" class=\"dataframe\">\n",
       "  <thead>\n",
       "    <tr style=\"text-align: right;\">\n",
       "      <th></th>\n",
       "      <th>name_x</th>\n",
       "      <th>name_y</th>\n",
       "      <th>ibu</th>\n",
       "    </tr>\n",
       "  </thead>\n",
       "  <tbody>\n",
       "  </tbody>\n",
       "</table>\n",
       "</div>"
      ],
      "text/plain": [
       "Empty DataFrame\n",
       "Columns: [name_x, name_y, ibu]\n",
       "Index: []"
      ]
     },
     "execution_count": 81,
     "metadata": {},
     "output_type": "execute_result"
    }
   ],
   "source": [
    "# Filtramos el DataFrame para obtener solo las cervezas del estado de Indiana (IN)\n",
    "cervezas_indiana = df_unido[df_unido['state'] == 'IN']\n",
    "\n",
    "# Ordenamos por el nivel de amargor (suponiendo que la columna se llama 'bitterness_level') de mayor a menor\n",
    "cervezas_mas_amargas = cervezas_indiana.sort_values(by='ibu', ascending=False)\n",
    "\n",
    "# Mostrar las cervezas más amargas\n",
    "cervezas_mas_amargas[['name_x','name_y', 'ibu']].head()\n"
   ]
  },
  {
   "attachments": {},
   "cell_type": "markdown",
   "metadata": {},
   "source": [
    "## Ejercicio 22\n",
    "Obtén una tabla con los principales estadísticos del campo `ibu`,  a nivel ciudad"
   ]
  },
  {
   "cell_type": "code",
   "execution_count": 84,
   "metadata": {},
   "outputs": [
    {
     "name": "stdout",
     "output_type": "stream",
     "text": [
      "               city        mean  median    min    max        std\n",
      "0          Abingdon  135.000000   135.0  135.0  135.0        NaN\n",
      "1     Abita Springs   27.333333    17.0   13.0   52.0  21.455380\n",
      "2               Ada         NaN     NaN    NaN    NaN        NaN\n",
      "3             Afton   43.000000    45.0   22.0   60.0  19.899749\n",
      "4    Airway Heights         NaN     NaN    NaN    NaN        NaN\n",
      "..              ...         ...     ...    ...    ...        ...\n",
      "379     Woodinville   46.750000    44.0   27.0   72.0  18.643587\n",
      "380       Worcester   69.000000    69.0   69.0   69.0        NaN\n",
      "381          Yakima   54.000000    54.0   38.0   70.0  22.627417\n",
      "382         Yardley         NaN     NaN    NaN    NaN        NaN\n",
      "383            York   44.250000    41.0   20.0   75.0  22.779742\n",
      "\n",
      "[384 rows x 6 columns]\n"
     ]
    }
   ],
   "source": [
    "# Agrupar por ciudad y calcular los principales estadísticos de la columna 'ibu'\n",
    "estadisticos_ibu = df_unido.groupby('city')['ibu'].agg(['mean', 'median', 'min', 'max', 'std']).reset_index()\n",
    "\n",
    "# Mostrar la tabla con los estadísticos\n",
    "print(estadisticos_ibu)\n"
   ]
  },
  {
   "cell_type": "code",
   "execution_count": 85,
   "metadata": {},
   "outputs": [
    {
     "data": {
      "application/vnd.microsoft.datawrangler.viewer.v0+json": {
       "columns": [
        {
         "name": "index",
         "rawType": "int64",
         "type": "integer"
        },
        {
         "name": "city",
         "rawType": "object",
         "type": "string"
        },
        {
         "name": "mean",
         "rawType": "float64",
         "type": "float"
        },
        {
         "name": "median",
         "rawType": "float64",
         "type": "float"
        },
        {
         "name": "min",
         "rawType": "float64",
         "type": "float"
        },
        {
         "name": "max",
         "rawType": "float64",
         "type": "float"
        },
        {
         "name": "std",
         "rawType": "float64",
         "type": "float"
        }
       ],
       "conversionMethod": "pd.DataFrame",
       "ref": "81a922f7-d15e-4ddc-b32a-ca1c183a1c1d",
       "rows": [
        [
         "0",
         "Abingdon",
         "135.0",
         "135.0",
         "135.0",
         "135.0",
         null
        ],
        [
         "1",
         "Abita Springs",
         "27.333333333333332",
         "17.0",
         "13.0",
         "52.0",
         "21.455380055672126"
        ],
        [
         "2",
         "Ada",
         null,
         null,
         null,
         null,
         null
        ],
        [
         "3",
         "Afton",
         "43.0",
         "45.0",
         "22.0",
         "60.0",
         "19.8997487421324"
        ],
        [
         "4",
         "Airway Heights",
         null,
         null,
         null,
         null,
         null
        ],
        [
         "5",
         "Albuquerque",
         "54.25",
         "51.0",
         "15.0",
         "100.0",
         "38.88765871070152"
        ],
        [
         "6",
         "Alpine",
         null,
         null,
         null,
         null,
         null
        ],
        [
         "7",
         "Anchorage",
         "40.4",
         "42.5",
         "10.0",
         "70.0",
         "26.563132345414385"
        ],
        [
         "8",
         "Angola",
         "19.0",
         "19.0",
         "8.0",
         "30.0",
         "15.556349186104045"
        ],
        [
         "9",
         "Ann Arbor",
         "15.0",
         "15.0",
         "15.0",
         "15.0",
         null
        ],
        [
         "10",
         "Arrington",
         "16.0",
         "16.0",
         "16.0",
         "16.0",
         null
        ],
        [
         "11",
         "Arvada",
         "45.666666666666664",
         "36.0",
         "29.0",
         "72.0",
         "23.072349974229613"
        ],
        [
         "12",
         "Ashburn",
         "60.0",
         "60.0",
         "55.0",
         "65.0",
         "7.0710678118654755"
        ],
        [
         "13",
         "Asheville",
         "36.666666666666664",
         "29.5",
         "24.0",
         "69.0",
         "17.107503227141788"
        ],
        [
         "14",
         "Ashland",
         "54.23529411764706",
         "55.0",
         "16.0",
         "100.0",
         "26.927052873840246"
        ],
        [
         "15",
         "Aspen",
         "47.0",
         "47.0",
         "27.0",
         "67.0",
         "28.284271247461902"
        ],
        [
         "16",
         "Astoria",
         "69.0",
         "40.0",
         "35.0",
         "138.0",
         "46.63153439465616"
        ],
        [
         "17",
         "Athens",
         "53.5",
         "53.5",
         "42.0",
         "65.0",
         "16.263455967290593"
        ],
        [
         "18",
         "Atlanta",
         "35.0",
         "35.0",
         "35.0",
         "35.0",
         null
        ],
        [
         "19",
         "Atlantic Highlands",
         "56.0",
         "57.5",
         "9.0",
         "100.0",
         "41.480919308359915"
        ],
        [
         "20",
         "Aurora",
         "34.666666666666664",
         "26.5",
         "12.0",
         "100.0",
         "21.38399780955003"
        ],
        [
         "21",
         "Austin",
         "39.07692307692308",
         "35.0",
         "20.0",
         "75.0",
         "17.900007162296234"
        ],
        [
         "22",
         "Avon",
         null,
         null,
         null,
         null,
         null
        ],
        [
         "23",
         "Baltimore",
         "50.0",
         "50.0",
         "10.0",
         "90.0",
         "56.568542494923804"
        ],
        [
         "24",
         "Bargersville",
         "22.0",
         "22.0",
         "22.0",
         "22.0",
         null
        ],
        [
         "25",
         "Baton Rouge",
         "33.166666666666664",
         "31.5",
         "18.0",
         "60.0",
         "15.118421434351758"
        ],
        [
         "26",
         "Battle Creek",
         "36.0",
         "36.0",
         "17.0",
         "55.0",
         "26.870057685088806"
        ],
        [
         "27",
         "Belfast",
         null,
         null,
         null,
         null,
         null
        ],
        [
         "28",
         "Bellingham",
         null,
         null,
         null,
         null,
         null
        ],
        [
         "29",
         "Belmont",
         "41.333333333333336",
         "27.0",
         "12.0",
         "85.0",
         "38.552993831002716"
        ],
        [
         "30",
         "Belt",
         null,
         null,
         null,
         null,
         null
        ],
        [
         "31",
         "Bend",
         "45.666666666666664",
         "40.0",
         "18.0",
         "70.0",
         "20.006249023742555"
        ],
        [
         "32",
         "Biglerville",
         null,
         null,
         null,
         null,
         null
        ],
        [
         "33",
         "Birmingham",
         "43.09090909090909",
         "36.0",
         "6.0",
         "103.0",
         "25.59083642812226"
        ],
        [
         "34",
         "Black Mountain",
         "41.0",
         "41.0",
         "31.0",
         "51.0",
         "14.142135623730951"
        ],
        [
         "35",
         "Blanco",
         "37.0",
         "25.0",
         "5.0",
         "85.0",
         "27.012342857787562"
        ],
        [
         "36",
         "Bloomfield",
         "11.0",
         "11.0",
         "11.0",
         "11.0",
         null
        ],
        [
         "37",
         "Bloomington",
         "37.25",
         "22.0",
         "12.0",
         "85.0",
         "29.261139514965674"
        ],
        [
         "38",
         "Boise",
         "76.28571428571429",
         "100.0",
         "12.0",
         "100.0",
         "37.70815245944518"
        ],
        [
         "39",
         "Boone",
         "39.0",
         "23.0",
         "19.0",
         "75.0",
         "31.240998703626616"
        ],
        [
         "40",
         "Boonville",
         "22.5",
         "14.0",
         "4.0",
         "80.0",
         "25.400635970233264"
        ],
        [
         "41",
         "Boston",
         "27.5",
         "29.0",
         "7.0",
         "45.0",
         "12.705950435547441"
        ],
        [
         "42",
         "Boulder",
         "37.5",
         "32.0",
         "10.0",
         "90.0",
         "20.717625346549735"
        ],
        [
         "43",
         "Boynton Beach",
         "64.0",
         "64.0",
         "64.0",
         "64.0",
         null
        ],
        [
         "44",
         "Bozeman",
         "52.25",
         "52.0",
         "25.0",
         "80.0",
         "22.45551157288562"
        ],
        [
         "45",
         "Brevard",
         "72.16666666666667",
         "75.0",
         "35.0",
         "98.0",
         "22.274798914169047"
        ],
        [
         "46",
         "Bridgewater Corners",
         "28.6",
         "30.0",
         "8.0",
         "42.0",
         "12.521980673998822"
        ],
        [
         "47",
         "Bridgman",
         "35.0",
         "35.0",
         "35.0",
         "35.0",
         null
        ],
        [
         "48",
         "Bronx",
         "37.333333333333336",
         "46.0",
         "16.0",
         "50.0",
         "18.583146486355137"
        ],
        [
         "49",
         "Brooklyn",
         "51.07142857142857",
         "49.0",
         "7.0",
         "111.0",
         "25.019886270618997"
        ]
       ],
       "shape": {
        "columns": 6,
        "rows": 384
       }
      },
      "text/html": [
       "<div>\n",
       "<style scoped>\n",
       "    .dataframe tbody tr th:only-of-type {\n",
       "        vertical-align: middle;\n",
       "    }\n",
       "\n",
       "    .dataframe tbody tr th {\n",
       "        vertical-align: top;\n",
       "    }\n",
       "\n",
       "    .dataframe thead th {\n",
       "        text-align: right;\n",
       "    }\n",
       "</style>\n",
       "<table border=\"1\" class=\"dataframe\">\n",
       "  <thead>\n",
       "    <tr style=\"text-align: right;\">\n",
       "      <th></th>\n",
       "      <th>city</th>\n",
       "      <th>mean</th>\n",
       "      <th>median</th>\n",
       "      <th>min</th>\n",
       "      <th>max</th>\n",
       "      <th>std</th>\n",
       "    </tr>\n",
       "  </thead>\n",
       "  <tbody>\n",
       "    <tr>\n",
       "      <th>0</th>\n",
       "      <td>Abingdon</td>\n",
       "      <td>135.000000</td>\n",
       "      <td>135.0</td>\n",
       "      <td>135.0</td>\n",
       "      <td>135.0</td>\n",
       "      <td>NaN</td>\n",
       "    </tr>\n",
       "    <tr>\n",
       "      <th>1</th>\n",
       "      <td>Abita Springs</td>\n",
       "      <td>27.333333</td>\n",
       "      <td>17.0</td>\n",
       "      <td>13.0</td>\n",
       "      <td>52.0</td>\n",
       "      <td>21.455380</td>\n",
       "    </tr>\n",
       "    <tr>\n",
       "      <th>2</th>\n",
       "      <td>Ada</td>\n",
       "      <td>NaN</td>\n",
       "      <td>NaN</td>\n",
       "      <td>NaN</td>\n",
       "      <td>NaN</td>\n",
       "      <td>NaN</td>\n",
       "    </tr>\n",
       "    <tr>\n",
       "      <th>3</th>\n",
       "      <td>Afton</td>\n",
       "      <td>43.000000</td>\n",
       "      <td>45.0</td>\n",
       "      <td>22.0</td>\n",
       "      <td>60.0</td>\n",
       "      <td>19.899749</td>\n",
       "    </tr>\n",
       "    <tr>\n",
       "      <th>4</th>\n",
       "      <td>Airway Heights</td>\n",
       "      <td>NaN</td>\n",
       "      <td>NaN</td>\n",
       "      <td>NaN</td>\n",
       "      <td>NaN</td>\n",
       "      <td>NaN</td>\n",
       "    </tr>\n",
       "    <tr>\n",
       "      <th>...</th>\n",
       "      <td>...</td>\n",
       "      <td>...</td>\n",
       "      <td>...</td>\n",
       "      <td>...</td>\n",
       "      <td>...</td>\n",
       "      <td>...</td>\n",
       "    </tr>\n",
       "    <tr>\n",
       "      <th>379</th>\n",
       "      <td>Woodinville</td>\n",
       "      <td>46.750000</td>\n",
       "      <td>44.0</td>\n",
       "      <td>27.0</td>\n",
       "      <td>72.0</td>\n",
       "      <td>18.643587</td>\n",
       "    </tr>\n",
       "    <tr>\n",
       "      <th>380</th>\n",
       "      <td>Worcester</td>\n",
       "      <td>69.000000</td>\n",
       "      <td>69.0</td>\n",
       "      <td>69.0</td>\n",
       "      <td>69.0</td>\n",
       "      <td>NaN</td>\n",
       "    </tr>\n",
       "    <tr>\n",
       "      <th>381</th>\n",
       "      <td>Yakima</td>\n",
       "      <td>54.000000</td>\n",
       "      <td>54.0</td>\n",
       "      <td>38.0</td>\n",
       "      <td>70.0</td>\n",
       "      <td>22.627417</td>\n",
       "    </tr>\n",
       "    <tr>\n",
       "      <th>382</th>\n",
       "      <td>Yardley</td>\n",
       "      <td>NaN</td>\n",
       "      <td>NaN</td>\n",
       "      <td>NaN</td>\n",
       "      <td>NaN</td>\n",
       "      <td>NaN</td>\n",
       "    </tr>\n",
       "    <tr>\n",
       "      <th>383</th>\n",
       "      <td>York</td>\n",
       "      <td>44.250000</td>\n",
       "      <td>41.0</td>\n",
       "      <td>20.0</td>\n",
       "      <td>75.0</td>\n",
       "      <td>22.779742</td>\n",
       "    </tr>\n",
       "  </tbody>\n",
       "</table>\n",
       "<p>384 rows × 6 columns</p>\n",
       "</div>"
      ],
      "text/plain": [
       "               city        mean  median    min    max        std\n",
       "0          Abingdon  135.000000   135.0  135.0  135.0        NaN\n",
       "1     Abita Springs   27.333333    17.0   13.0   52.0  21.455380\n",
       "2               Ada         NaN     NaN    NaN    NaN        NaN\n",
       "3             Afton   43.000000    45.0   22.0   60.0  19.899749\n",
       "4    Airway Heights         NaN     NaN    NaN    NaN        NaN\n",
       "..              ...         ...     ...    ...    ...        ...\n",
       "379     Woodinville   46.750000    44.0   27.0   72.0  18.643587\n",
       "380       Worcester   69.000000    69.0   69.0   69.0        NaN\n",
       "381          Yakima   54.000000    54.0   38.0   70.0  22.627417\n",
       "382         Yardley         NaN     NaN    NaN    NaN        NaN\n",
       "383            York   44.250000    41.0   20.0   75.0  22.779742\n",
       "\n",
       "[384 rows x 6 columns]"
      ]
     },
     "execution_count": 85,
     "metadata": {},
     "output_type": "execute_result"
    }
   ],
   "source": [
    "estadisticos_ibu"
   ]
  },
  {
   "attachments": {},
   "cell_type": "markdown",
   "metadata": {},
   "source": [
    "## Ejercicio 23\n",
    "Consigue en un DataFrame de todas las cervezas en cuyas cervecerías al menos haya una cerveza con un `abv` mínimo 0.07."
   ]
  },
  {
   "cell_type": "code",
   "execution_count": 87,
   "metadata": {},
   "outputs": [
    {
     "data": {
      "application/vnd.microsoft.datawrangler.viewer.v0+json": {
       "columns": [
        {
         "name": "index",
         "rawType": "int64",
         "type": "integer"
        },
        {
         "name": "abv",
         "rawType": "float64",
         "type": "float"
        },
        {
         "name": "ibu",
         "rawType": "float64",
         "type": "float"
        },
        {
         "name": "id",
         "rawType": "int64",
         "type": "integer"
        },
        {
         "name": "name_x",
         "rawType": "object",
         "type": "string"
        },
        {
         "name": "style",
         "rawType": "object",
         "type": "string"
        },
        {
         "name": "brewery_id",
         "rawType": "int64",
         "type": "integer"
        },
        {
         "name": "ounces",
         "rawType": "float64",
         "type": "float"
        },
        {
         "name": "name_y",
         "rawType": "object",
         "type": "string"
        },
        {
         "name": "city",
         "rawType": "object",
         "type": "string"
        },
        {
         "name": "state",
         "rawType": "object",
         "type": "string"
        }
       ],
       "conversionMethod": "pd.DataFrame",
       "ref": "c7df2964-3523-4128-971d-893cf81f517d",
       "rows": [
        [
         "2",
         "0.071",
         null,
         "2264",
         "Rise of the Phoenix",
         "American IPA",
         "177",
         "12.0",
         "18th Street Brewery",
         "Gary",
         " IN"
        ],
        [
         "3",
         "0.09",
         null,
         "2263",
         "Sinister",
         "American Double / Imperial IPA",
         "177",
         "12.0",
         "18th Street Brewery",
         "Gary",
         " IN"
        ],
        [
         "4",
         "0.075",
         null,
         "2262",
         "Sex and Candy",
         "American IPA",
         "177",
         "12.0",
         "18th Street Brewery",
         "Gary",
         " IN"
        ],
        [
         "5",
         "0.077",
         null,
         "2261",
         "Black Exodus",
         "Oatmeal Stout",
         "177",
         "12.0",
         "18th Street Brewery",
         "Gary",
         " IN"
        ],
        [
         "9",
         "0.086",
         null,
         "2131",
         "Cone Crusher",
         "American Double / Imperial IPA",
         "177",
         "12.0",
         "18th Street Brewery",
         "Gary",
         " IN"
        ],
        [
         "10",
         "0.072",
         null,
         "2099",
         "Sophomoric Saison",
         "Saison / Farmhouse Ale",
         "177",
         "12.0",
         "18th Street Brewery",
         "Gary",
         " IN"
        ],
        [
         "11",
         "0.073",
         null,
         "2098",
         "Regional Ring Of Fire",
         "Saison / Farmhouse Ale",
         "177",
         "12.0",
         "18th Street Brewery",
         "Gary",
         " IN"
        ],
        [
         "13",
         "0.085",
         null,
         "1980",
         "Troll Destroyer",
         "Belgian IPA",
         "177",
         "12.0",
         "18th Street Brewery",
         "Gary",
         " IN"
        ],
        [
         "19",
         "0.0819999999999999",
         null,
         "1593",
         "He Said Baltic-Style Porter",
         "Baltic Porter",
         "368",
         "12.0",
         "21st Amendment Brewery",
         "San Francisco",
         " CA"
        ],
        [
         "20",
         "0.0819999999999999",
         null,
         "1592",
         "He Said Belgian-Style Tripel",
         "Tripel",
         "368",
         "12.0",
         "21st Amendment Brewery",
         "San Francisco",
         " CA"
        ],
        [
         "21",
         "0.099",
         "92.0",
         "1036",
         "Lower De Boom",
         "American Barleywine",
         "368",
         "8.4",
         "21st Amendment Brewery",
         "San Francisco",
         " CA"
        ],
        [
         "22",
         "0.079",
         "45.0",
         "1024",
         "Fireside Chat",
         "Winter Warmer",
         "368",
         "12.0",
         "21st Amendment Brewery",
         "San Francisco",
         " CA"
        ],
        [
         "23",
         "0.079",
         null,
         "976",
         "Marooned On Hog Island",
         "American Stout",
         "368",
         "12.0",
         "21st Amendment Brewery",
         "San Francisco",
         " CA"
        ],
        [
         "28",
         "0.07",
         "70.0",
         "799",
         "21st Amendment IPA (2006)",
         "American IPA",
         "368",
         "12.0",
         "21st Amendment Brewery",
         "San Francisco",
         " CA"
        ],
        [
         "29",
         "0.07",
         "70.0",
         "797",
         "Brew Free! or Die IPA (2008)",
         "American IPA",
         "368",
         "12.0",
         "21st Amendment Brewery",
         "San Francisco",
         " CA"
        ],
        [
         "30",
         "0.07",
         "70.0",
         "796",
         "Brew Free! or Die IPA (2009)",
         "American IPA",
         "368",
         "12.0",
         "21st Amendment Brewery",
         "San Francisco",
         " CA"
        ],
        [
         "31",
         "0.085",
         "52.0",
         "531",
         "Special Edition: Allies Win The War!",
         "English Strong Ale",
         "368",
         "12.0",
         "21st Amendment Brewery",
         "San Francisco",
         " CA"
        ],
        [
         "32",
         "0.0969999999999999",
         "94.0",
         "432",
         "Hop Crisis",
         "American Double / Imperial IPA",
         "368",
         "12.0",
         "21st Amendment Brewery",
         "San Francisco",
         " CA"
        ],
        [
         "34",
         "0.079",
         "45.0",
         "321",
         "Fireside Chat (2010)",
         "Winter Warmer",
         "368",
         "12.0",
         "21st Amendment Brewery",
         "San Francisco",
         " CA"
        ],
        [
         "36",
         "0.083",
         "35.0",
         "11",
         "Monk's Blood",
         "Belgian Dark Ale",
         "368",
         "12.0",
         "21st Amendment Brewery",
         "San Francisco",
         " CA"
        ],
        [
         "37",
         "0.07",
         "65.0",
         "10",
         "Brew Free! or Die IPA",
         "American IPA",
         "368",
         "12.0",
         "21st Amendment Brewery",
         "San Francisco",
         " CA"
        ],
        [
         "39",
         "0.07",
         "82.0",
         "2519",
         "Bimini Twist",
         "American IPA",
         "67",
         "12.0",
         "3 Daughters Brewing",
         "St Petersburg",
         " FL"
        ],
        [
         "52",
         "0.09",
         null,
         "2220",
         "Barn Yeti",
         "Belgian Strong Dark Ale",
         "27",
         "16.0",
         "450 North Brewing Company",
         "Columbus",
         " IN"
        ],
        [
         "54",
         "0.09",
         "50.0",
         "2218",
         "Ironman",
         "English Strong Ale",
         "27",
         "16.0",
         "450 North Brewing Company",
         "Columbus",
         " IN"
        ],
        [
         "60",
         "0.084",
         "82.0",
         "47",
         "Ballz Deep Double IPA",
         "American Double / Imperial IPA",
         "481",
         "16.0",
         "7 Seas Brewing Company",
         "Gig Harbor",
         " WA"
        ],
        [
         "67",
         "0.0819999999999999",
         "68.0",
         "2540",
         "Citra Ass Down",
         "American IPA",
         "62",
         "16.0",
         "Against The Grain Brewery",
         "Louisville",
         " KY"
        ],
        [
         "69",
         "0.08",
         "68.0",
         "2686",
         "Citra Ass Down",
         "American Double / Imperial IPA",
         "1",
         "16.0",
         "Against the Grain Brewery",
         "Louisville",
         " KY"
        ],
        [
         "70",
         "0.125",
         "80.0",
         "2685",
         "London Balling",
         "English Barleywine",
         "1",
         "16.0",
         "Against the Grain Brewery",
         "Louisville",
         " KY"
        ],
        [
         "71",
         "0.077",
         "25.0",
         "2684",
         "35 K",
         "Milk / Sweet Stout",
         "1",
         "16.0",
         "Against the Grain Brewery",
         "Louisville",
         " KY"
        ],
        [
         "77",
         "0.076",
         "68.0",
         "2678",
         "Rico Sauvin",
         "American Double / Imperial IPA",
         "1",
         "16.0",
         "Against the Grain Brewery",
         "Louisville",
         " KY"
        ],
        [
         "87",
         "0.0819999999999999",
         "103.0",
         "2401",
         "Yellow Wolf Imperial IPA",
         "American Double / Imperial IPA",
         "117",
         "12.0",
         "Alameda Brewing",
         "Portland",
         " OR"
        ],
        [
         "107",
         "0.07",
         "80.0",
         "1327",
         "Hop Ottin' IPA",
         "American IPA",
         "171",
         "12.0",
         "Anderson Valley Brewing Company",
         "Boonville",
         " CA"
        ],
        [
         "115",
         "0.07",
         "80.0",
         "367",
         "Hop Ottin' IPA (2011)",
         "American IPA",
         "171",
         "12.0",
         "Anderson Valley Brewing Company",
         "Boonville",
         " CA"
        ],
        [
         "127",
         "0.085",
         null,
         "2039",
         "Uroboros",
         "American Stout",
         "193",
         "12.0",
         "Anthem Brewing Company",
         "Oklahoma City",
         " OK"
        ],
        [
         "128",
         "0.071",
         "75.0",
         "2511",
         "Long Leaf",
         "American IPA",
         "69",
         "16.0",
         "Appalachian Mountain Brewery",
         "Boone",
         " NC"
        ],
        [
         "134",
         "0.092",
         "50.0",
         "1333",
         "Quakertown Stout",
         "American Double / Imperial Stout",
         "426",
         "12.0",
         "Armadillo Ale Works",
         "Denton",
         " TX"
        ],
        [
         "137",
         "0.07",
         "45.0",
         "1322",
         "Green Bullet Organic India Pale Ale",
         "American IPA",
         "429",
         "16.0",
         "Asher Brewing Company",
         "Boulder",
         " CO"
        ],
        [
         "142",
         "0.077",
         null,
         "1639",
         "Aslan IPA",
         "American IPA",
         "353",
         "16.0",
         "Aslan Brewing Company",
         "Bellingham",
         " WA"
        ],
        [
         "143",
         "0.077",
         null,
         "1638",
         "Aslan Amber",
         "American Amber / Red Ale",
         "353",
         "16.0",
         "Aslan Brewing Company",
         "Bellingham",
         " WA"
        ],
        [
         "145",
         "0.07",
         "67.0",
         "596",
         "Independence Pass Ale",
         "American IPA",
         "523",
         "12.0",
         "Aspen Brewing Company",
         "Aspen",
         " CO"
        ],
        [
         "147",
         "0.0819999999999999",
         "138.0",
         "980",
         "Bitter Bitch Imperial IPA",
         "American Double / Imperial IPA",
         "374",
         "12.0",
         "Astoria Brewing Company",
         "Astoria",
         " OR"
        ],
        [
         "150",
         "0.075",
         "115.0",
         "2503",
         "Hop A-Peel",
         "American Double / Imperial IPA",
         "72",
         "16.0",
         "Atwater Brewery",
         "Detroit",
         " MI"
        ],
        [
         "156",
         "0.07",
         null,
         "1409",
         "Heavy Machinery IPA Series #1: Heavy Fist",
         "American Black Ale",
         "413",
         "16.0",
         "Austin Beerworks",
         "Austin",
         " TX"
        ],
        [
         "161",
         "0.08",
         null,
         "2589",
         "Raja",
         "American Double / Imperial IPA",
         "37",
         "12.0",
         "Avery Brewing Company",
         "Boulder",
         " CO"
        ],
        [
         "168",
         "0.072",
         "22.0",
         "1579",
         "OktoberBeast",
         "Märzen / Oktoberfest",
         "360",
         "12.0",
         "Aviator Brewing Company",
         "Fuquay-Varina",
         " NC"
        ],
        [
         "171",
         "0.092",
         "5.0",
         "704",
         "Devils Tramping Ground Tripel",
         "Tripel",
         "360",
         "12.0",
         "Aviator Brewing Company",
         "Fuquay-Varina",
         " NC"
        ],
        [
         "173",
         "0.086",
         null,
         "2058",
         "Palate Mallet",
         "American Double / Imperial IPA",
         "235",
         "12.0",
         "Back East Brewing Company",
         "Bloomfield",
         " CT"
        ],
        [
         "176",
         "0.07",
         null,
         "1132",
         "Misty Mountain IPA",
         "American IPA",
         "235",
         "12.0",
         "Back East Brewing Company",
         "Bloomfield",
         " CT"
        ],
        [
         "182",
         "0.07",
         null,
         "2593",
         "Grapefruit Sculpin",
         "American IPA",
         "34",
         "12.0",
         "Ballast Point Brewing Company",
         "San Diego",
         " CA"
        ],
        [
         "185",
         "0.07",
         "75.0",
         "1400",
         "Big Eye India Pale Ale",
         "American IPA",
         "34",
         "12.0",
         "Ballast Point Brewing Company",
         "San Diego",
         " CA"
        ]
       ],
       "shape": {
        "columns": 10,
        "rows": 501
       }
      },
      "text/html": [
       "<div>\n",
       "<style scoped>\n",
       "    .dataframe tbody tr th:only-of-type {\n",
       "        vertical-align: middle;\n",
       "    }\n",
       "\n",
       "    .dataframe tbody tr th {\n",
       "        vertical-align: top;\n",
       "    }\n",
       "\n",
       "    .dataframe thead th {\n",
       "        text-align: right;\n",
       "    }\n",
       "</style>\n",
       "<table border=\"1\" class=\"dataframe\">\n",
       "  <thead>\n",
       "    <tr style=\"text-align: right;\">\n",
       "      <th></th>\n",
       "      <th>abv</th>\n",
       "      <th>ibu</th>\n",
       "      <th>id</th>\n",
       "      <th>name_x</th>\n",
       "      <th>style</th>\n",
       "      <th>brewery_id</th>\n",
       "      <th>ounces</th>\n",
       "      <th>name_y</th>\n",
       "      <th>city</th>\n",
       "      <th>state</th>\n",
       "    </tr>\n",
       "  </thead>\n",
       "  <tbody>\n",
       "    <tr>\n",
       "      <th>2</th>\n",
       "      <td>0.071</td>\n",
       "      <td>NaN</td>\n",
       "      <td>2264</td>\n",
       "      <td>Rise of the Phoenix</td>\n",
       "      <td>American IPA</td>\n",
       "      <td>177</td>\n",
       "      <td>12.0</td>\n",
       "      <td>18th Street Brewery</td>\n",
       "      <td>Gary</td>\n",
       "      <td>IN</td>\n",
       "    </tr>\n",
       "    <tr>\n",
       "      <th>3</th>\n",
       "      <td>0.090</td>\n",
       "      <td>NaN</td>\n",
       "      <td>2263</td>\n",
       "      <td>Sinister</td>\n",
       "      <td>American Double / Imperial IPA</td>\n",
       "      <td>177</td>\n",
       "      <td>12.0</td>\n",
       "      <td>18th Street Brewery</td>\n",
       "      <td>Gary</td>\n",
       "      <td>IN</td>\n",
       "    </tr>\n",
       "    <tr>\n",
       "      <th>4</th>\n",
       "      <td>0.075</td>\n",
       "      <td>NaN</td>\n",
       "      <td>2262</td>\n",
       "      <td>Sex and Candy</td>\n",
       "      <td>American IPA</td>\n",
       "      <td>177</td>\n",
       "      <td>12.0</td>\n",
       "      <td>18th Street Brewery</td>\n",
       "      <td>Gary</td>\n",
       "      <td>IN</td>\n",
       "    </tr>\n",
       "    <tr>\n",
       "      <th>5</th>\n",
       "      <td>0.077</td>\n",
       "      <td>NaN</td>\n",
       "      <td>2261</td>\n",
       "      <td>Black Exodus</td>\n",
       "      <td>Oatmeal Stout</td>\n",
       "      <td>177</td>\n",
       "      <td>12.0</td>\n",
       "      <td>18th Street Brewery</td>\n",
       "      <td>Gary</td>\n",
       "      <td>IN</td>\n",
       "    </tr>\n",
       "    <tr>\n",
       "      <th>9</th>\n",
       "      <td>0.086</td>\n",
       "      <td>NaN</td>\n",
       "      <td>2131</td>\n",
       "      <td>Cone Crusher</td>\n",
       "      <td>American Double / Imperial IPA</td>\n",
       "      <td>177</td>\n",
       "      <td>12.0</td>\n",
       "      <td>18th Street Brewery</td>\n",
       "      <td>Gary</td>\n",
       "      <td>IN</td>\n",
       "    </tr>\n",
       "    <tr>\n",
       "      <th>...</th>\n",
       "      <td>...</td>\n",
       "      <td>...</td>\n",
       "      <td>...</td>\n",
       "      <td>...</td>\n",
       "      <td>...</td>\n",
       "      <td>...</td>\n",
       "      <td>...</td>\n",
       "      <td>...</td>\n",
       "      <td>...</td>\n",
       "      <td>...</td>\n",
       "    </tr>\n",
       "    <tr>\n",
       "      <th>2380</th>\n",
       "      <td>0.080</td>\n",
       "      <td>31.0</td>\n",
       "      <td>761</td>\n",
       "      <td>P-51 Porter</td>\n",
       "      <td>American Porter</td>\n",
       "      <td>509</td>\n",
       "      <td>16.0</td>\n",
       "      <td>Wingman Brewers</td>\n",
       "      <td>Tacoma</td>\n",
       "      <td>WA</td>\n",
       "    </tr>\n",
       "    <tr>\n",
       "      <th>2382</th>\n",
       "      <td>0.071</td>\n",
       "      <td>60.0</td>\n",
       "      <td>2148</td>\n",
       "      <td>#002 American I.P.A.</td>\n",
       "      <td>American IPA</td>\n",
       "      <td>211</td>\n",
       "      <td>12.0</td>\n",
       "      <td>Wisconsin Brewing Company</td>\n",
       "      <td>Verona</td>\n",
       "      <td>WI</td>\n",
       "    </tr>\n",
       "    <tr>\n",
       "      <th>2398</th>\n",
       "      <td>0.077</td>\n",
       "      <td>30.0</td>\n",
       "      <td>1513</td>\n",
       "      <td>Lights Out Vanilla Cream Extra Stout</td>\n",
       "      <td>American Double / Imperial IPA</td>\n",
       "      <td>199</td>\n",
       "      <td>12.0</td>\n",
       "      <td>Worthy Brewing Company</td>\n",
       "      <td>Bend</td>\n",
       "      <td>OR</td>\n",
       "    </tr>\n",
       "    <tr>\n",
       "      <th>2402</th>\n",
       "      <td>0.082</td>\n",
       "      <td>NaN</td>\n",
       "      <td>1316</td>\n",
       "      <td>Colorojo Imperial Red Ale</td>\n",
       "      <td>American Strong Ale</td>\n",
       "      <td>424</td>\n",
       "      <td>12.0</td>\n",
       "      <td>Wynkoop Brewing Company</td>\n",
       "      <td>Denver</td>\n",
       "      <td>CO</td>\n",
       "    </tr>\n",
       "    <tr>\n",
       "      <th>2404</th>\n",
       "      <td>0.075</td>\n",
       "      <td>NaN</td>\n",
       "      <td>1035</td>\n",
       "      <td>Rocky Mountain Oyster Stout</td>\n",
       "      <td>American Stout</td>\n",
       "      <td>424</td>\n",
       "      <td>12.0</td>\n",
       "      <td>Wynkoop Brewing Company</td>\n",
       "      <td>Denver</td>\n",
       "      <td>CO</td>\n",
       "    </tr>\n",
       "  </tbody>\n",
       "</table>\n",
       "<p>501 rows × 10 columns</p>\n",
       "</div>"
      ],
      "text/plain": [
       "        abv   ibu    id                                name_x  \\\n",
       "2     0.071   NaN  2264                   Rise of the Phoenix   \n",
       "3     0.090   NaN  2263                              Sinister   \n",
       "4     0.075   NaN  2262                         Sex and Candy   \n",
       "5     0.077   NaN  2261                          Black Exodus   \n",
       "9     0.086   NaN  2131                          Cone Crusher   \n",
       "...     ...   ...   ...                                   ...   \n",
       "2380  0.080  31.0   761                           P-51 Porter   \n",
       "2382  0.071  60.0  2148                  #002 American I.P.A.   \n",
       "2398  0.077  30.0  1513  Lights Out Vanilla Cream Extra Stout   \n",
       "2402  0.082   NaN  1316             Colorojo Imperial Red Ale   \n",
       "2404  0.075   NaN  1035           Rocky Mountain Oyster Stout   \n",
       "\n",
       "                               style  brewery_id  ounces  \\\n",
       "2                       American IPA         177    12.0   \n",
       "3     American Double / Imperial IPA         177    12.0   \n",
       "4                       American IPA         177    12.0   \n",
       "5                      Oatmeal Stout         177    12.0   \n",
       "9     American Double / Imperial IPA         177    12.0   \n",
       "...                              ...         ...     ...   \n",
       "2380                 American Porter         509    16.0   \n",
       "2382                    American IPA         211    12.0   \n",
       "2398  American Double / Imperial IPA         199    12.0   \n",
       "2402             American Strong Ale         424    12.0   \n",
       "2404                  American Stout         424    12.0   \n",
       "\n",
       "                         name_y    city state  \n",
       "2           18th Street Brewery    Gary    IN  \n",
       "3           18th Street Brewery    Gary    IN  \n",
       "4           18th Street Brewery    Gary    IN  \n",
       "5           18th Street Brewery    Gary    IN  \n",
       "9           18th Street Brewery    Gary    IN  \n",
       "...                         ...     ...   ...  \n",
       "2380            Wingman Brewers  Tacoma    WA  \n",
       "2382  Wisconsin Brewing Company  Verona    WI  \n",
       "2398     Worthy Brewing Company    Bend    OR  \n",
       "2402    Wynkoop Brewing Company  Denver    CO  \n",
       "2404    Wynkoop Brewing Company  Denver    CO  \n",
       "\n",
       "[501 rows x 10 columns]"
      ]
     },
     "execution_count": 87,
     "metadata": {},
     "output_type": "execute_result"
    }
   ],
   "source": [
    "# Filtrar cervezas con abv mínimo de 0.07\n",
    "cervezas_abv_minimo = df_unido[df_unido['abv'] >= 0.07]\n",
    "cervezas_abv_minimo\n",
    "\n",
    "\n"
   ]
  },
  {
   "cell_type": "code",
   "execution_count": 88,
   "metadata": {},
   "outputs": [
    {
     "data": {
      "text/plain": [
       "array([177, 368,  67,  27, 481,  62,   1, 117, 171, 193,  69, 426, 429,\n",
       "       353, 523, 374,  72, 413,  37, 360, 235,  34,  20, 292, 306,  76,\n",
       "        53,  75, 463, 220, 477,   8,  40, 336, 444,  18, 112, 294,  95,\n",
       "        12, 380, 304, 489, 107, 231, 219, 308,  10, 530, 214,  24,   5,\n",
       "       230, 222, 331, 285,  29, 350, 236, 226,  99, 141, 515,  63, 315,\n",
       "       227, 358, 127, 263,  57, 491, 369, 465,  26, 173, 224, 405, 201,\n",
       "       172, 256,  48, 521,  50, 279, 206,  15, 287, 105, 460, 433, 180,\n",
       "       228, 240,  39, 464, 478, 165,   6, 365,  86, 124, 327, 248, 343,\n",
       "       204, 280, 479, 423, 168, 198, 395,  80, 242,   2,  92, 233, 208,\n",
       "       125, 354, 332, 149, 268,  91, 356, 346, 317, 161, 375, 203, 393,\n",
       "         3,  65, 284, 134,  98, 209, 514, 188, 260, 507, 143, 387, 410,\n",
       "       174, 495, 359, 184, 148, 471, 301, 166, 503, 389, 355, 314, 274,\n",
       "       128, 475,  68, 421, 110,  93,  43, 229, 376, 164, 397,  30, 252,\n",
       "       392, 432, 494, 183,  83,  46, 264, 313,  64, 371, 115, 309, 257,\n",
       "       133, 118, 175, 412,  58,  25, 455,  61, 447, 449,  45, 490,   7,\n",
       "        28, 215, 272, 457, 262,  33, 282,  17, 152, 291, 524,  97,  38,\n",
       "        74, 435, 159, 522,  71,  51, 302, 322, 295,  94, 100, 132, 361,\n",
       "       499, 550, 509, 211, 199, 424])"
      ]
     },
     "execution_count": 88,
     "metadata": {},
     "output_type": "execute_result"
    }
   ],
   "source": [
    "# Obtener los brewery_id de las cervecerías que tienen al menos una cerveza con abv >= 0.07\n",
    "cervecerias_con_abv_minimo = cervezas_abv_minimo['brewery_id'].unique()\n",
    "cervecerias_con_abv_minimo"
   ]
  },
  {
   "cell_type": "code",
   "execution_count": 89,
   "metadata": {},
   "outputs": [
    {
     "name": "stdout",
     "output_type": "stream",
     "text": [
      "        abv   ibu    id                name_x                           style  \\\n",
      "1     0.066   NaN  2265           Devil's Cup         American Pale Ale (APA)   \n",
      "2     0.071   NaN  2264   Rise of the Phoenix                    American IPA   \n",
      "3     0.090   NaN  2263              Sinister  American Double / Imperial IPA   \n",
      "4     0.075   NaN  2262         Sex and Candy                    American IPA   \n",
      "5     0.077   NaN  2261          Black Exodus                   Oatmeal Stout   \n",
      "...     ...   ...   ...                   ...                             ...   \n",
      "2405  0.067  45.0   928             Belgorado                     Belgian IPA   \n",
      "2406  0.052   NaN   807         Rail Yard Ale        American Amber / Red Ale   \n",
      "2407  0.055   NaN   620       B3K Black Lager                     Schwarzbier   \n",
      "2408  0.055  40.0   145   Silverback Pale Ale         American Pale Ale (APA)   \n",
      "2409  0.052   NaN    84  Rail Yard Ale (2009)        American Amber / Red Ale   \n",
      "\n",
      "      brewery_id  ounces                   name_y    city state  \n",
      "1            177    12.0      18th Street Brewery    Gary    IN  \n",
      "2            177    12.0      18th Street Brewery    Gary    IN  \n",
      "3            177    12.0      18th Street Brewery    Gary    IN  \n",
      "4            177    12.0      18th Street Brewery    Gary    IN  \n",
      "5            177    12.0      18th Street Brewery    Gary    IN  \n",
      "...          ...     ...                      ...     ...   ...  \n",
      "2405         424    12.0  Wynkoop Brewing Company  Denver    CO  \n",
      "2406         424    12.0  Wynkoop Brewing Company  Denver    CO  \n",
      "2407         424    12.0  Wynkoop Brewing Company  Denver    CO  \n",
      "2408         424    12.0  Wynkoop Brewing Company  Denver    CO  \n",
      "2409         424    12.0  Wynkoop Brewing Company  Denver    CO  \n",
      "\n",
      "[1483 rows x 10 columns]\n"
     ]
    }
   ],
   "source": [
    "#Filtrar todas las cervezas que pertenecen a esas cervecerías\n",
    "cervezas_filtradas = df_unido[df_unido['brewery_id'].isin(cervecerias_con_abv_minimo)]\n",
    "\n",
    "# Mostrar el DataFrame resultante\n",
    "print(cervezas_filtradas)"
   ]
  },
  {
   "cell_type": "code",
   "execution_count": 90,
   "metadata": {},
   "outputs": [
    {
     "data": {
      "application/vnd.microsoft.datawrangler.viewer.v0+json": {
       "columns": [
        {
         "name": "index",
         "rawType": "int64",
         "type": "integer"
        },
        {
         "name": "abv",
         "rawType": "float64",
         "type": "float"
        },
        {
         "name": "ibu",
         "rawType": "float64",
         "type": "float"
        },
        {
         "name": "id",
         "rawType": "int64",
         "type": "integer"
        },
        {
         "name": "name_x",
         "rawType": "object",
         "type": "string"
        },
        {
         "name": "style",
         "rawType": "object",
         "type": "unknown"
        },
        {
         "name": "brewery_id",
         "rawType": "int64",
         "type": "integer"
        },
        {
         "name": "ounces",
         "rawType": "float64",
         "type": "float"
        },
        {
         "name": "name_y",
         "rawType": "object",
         "type": "string"
        },
        {
         "name": "city",
         "rawType": "object",
         "type": "string"
        },
        {
         "name": "state",
         "rawType": "object",
         "type": "string"
        }
       ],
       "conversionMethod": "pd.DataFrame",
       "ref": "4455a904-996c-43db-bcbc-a9004cfa04e6",
       "rows": [
        [
         "1",
         "0.066",
         null,
         "2265",
         "Devil's Cup",
         "American Pale Ale (APA)",
         "177",
         "12.0",
         "18th Street Brewery",
         "Gary",
         " IN"
        ],
        [
         "2",
         "0.071",
         null,
         "2264",
         "Rise of the Phoenix",
         "American IPA",
         "177",
         "12.0",
         "18th Street Brewery",
         "Gary",
         " IN"
        ],
        [
         "3",
         "0.09",
         null,
         "2263",
         "Sinister",
         "American Double / Imperial IPA",
         "177",
         "12.0",
         "18th Street Brewery",
         "Gary",
         " IN"
        ],
        [
         "4",
         "0.075",
         null,
         "2262",
         "Sex and Candy",
         "American IPA",
         "177",
         "12.0",
         "18th Street Brewery",
         "Gary",
         " IN"
        ],
        [
         "5",
         "0.077",
         null,
         "2261",
         "Black Exodus",
         "Oatmeal Stout",
         "177",
         "12.0",
         "18th Street Brewery",
         "Gary",
         " IN"
        ],
        [
         "6",
         "0.045",
         null,
         "2260",
         "Lake Street Express",
         "American Pale Ale (APA)",
         "177",
         "12.0",
         "18th Street Brewery",
         "Gary",
         " IN"
        ],
        [
         "7",
         "0.065",
         null,
         "2259",
         "Foreman",
         "American Porter",
         "177",
         "12.0",
         "18th Street Brewery",
         "Gary",
         " IN"
        ],
        [
         "8",
         "0.055",
         null,
         "2258",
         "Jade",
         "American Pale Ale (APA)",
         "177",
         "12.0",
         "18th Street Brewery",
         "Gary",
         " IN"
        ],
        [
         "9",
         "0.086",
         null,
         "2131",
         "Cone Crusher",
         "American Double / Imperial IPA",
         "177",
         "12.0",
         "18th Street Brewery",
         "Gary",
         " IN"
        ],
        [
         "10",
         "0.072",
         null,
         "2099",
         "Sophomoric Saison",
         "Saison / Farmhouse Ale",
         "177",
         "12.0",
         "18th Street Brewery",
         "Gary",
         " IN"
        ],
        [
         "11",
         "0.073",
         null,
         "2098",
         "Regional Ring Of Fire",
         "Saison / Farmhouse Ale",
         "177",
         "12.0",
         "18th Street Brewery",
         "Gary",
         " IN"
        ],
        [
         "12",
         "0.069",
         null,
         "2097",
         "Garce Selé",
         "Saison / Farmhouse Ale",
         "177",
         "12.0",
         "18th Street Brewery",
         "Gary",
         " IN"
        ],
        [
         "13",
         "0.085",
         null,
         "1980",
         "Troll Destroyer",
         "Belgian IPA",
         "177",
         "12.0",
         "18th Street Brewery",
         "Gary",
         " IN"
        ],
        [
         "14",
         "0.061",
         "60.0",
         "1979",
         "Bitter Bitch",
         "American Pale Ale (APA)",
         "177",
         "12.0",
         "18th Street Brewery",
         "Gary",
         " IN"
        ],
        [
         "19",
         "0.0819999999999999",
         null,
         "1593",
         "He Said Baltic-Style Porter",
         "Baltic Porter",
         "368",
         "12.0",
         "21st Amendment Brewery",
         "San Francisco",
         " CA"
        ],
        [
         "20",
         "0.0819999999999999",
         null,
         "1592",
         "He Said Belgian-Style Tripel",
         "Tripel",
         "368",
         "12.0",
         "21st Amendment Brewery",
         "San Francisco",
         " CA"
        ],
        [
         "21",
         "0.099",
         "92.0",
         "1036",
         "Lower De Boom",
         "American Barleywine",
         "368",
         "8.4",
         "21st Amendment Brewery",
         "San Francisco",
         " CA"
        ],
        [
         "22",
         "0.079",
         "45.0",
         "1024",
         "Fireside Chat",
         "Winter Warmer",
         "368",
         "12.0",
         "21st Amendment Brewery",
         "San Francisco",
         " CA"
        ],
        [
         "23",
         "0.079",
         null,
         "976",
         "Marooned On Hog Island",
         "American Stout",
         "368",
         "12.0",
         "21st Amendment Brewery",
         "San Francisco",
         " CA"
        ],
        [
         "24",
         "0.044",
         "42.0",
         "876",
         "Bitter American",
         "American Pale Ale (APA)",
         "368",
         "12.0",
         "21st Amendment Brewery",
         "San Francisco",
         " CA"
        ],
        [
         "25",
         "0.049",
         "17.0",
         "802",
         "Hell or High Watermelon Wheat (2009)",
         "Fruit / Vegetable Beer",
         "368",
         "12.0",
         "21st Amendment Brewery",
         "San Francisco",
         " CA"
        ],
        [
         "26",
         "0.049",
         "17.0",
         "801",
         "Hell or High Watermelon Wheat (2009)",
         "Fruit / Vegetable Beer",
         "368",
         "12.0",
         "21st Amendment Brewery",
         "San Francisco",
         " CA"
        ],
        [
         "27",
         "0.049",
         "17.0",
         "800",
         "21st Amendment Watermelon Wheat Beer (2006)",
         "Fruit / Vegetable Beer",
         "368",
         "12.0",
         "21st Amendment Brewery",
         "San Francisco",
         " CA"
        ],
        [
         "28",
         "0.07",
         "70.0",
         "799",
         "21st Amendment IPA (2006)",
         "American IPA",
         "368",
         "12.0",
         "21st Amendment Brewery",
         "San Francisco",
         " CA"
        ],
        [
         "29",
         "0.07",
         "70.0",
         "797",
         "Brew Free! or Die IPA (2008)",
         "American IPA",
         "368",
         "12.0",
         "21st Amendment Brewery",
         "San Francisco",
         " CA"
        ],
        [
         "30",
         "0.07",
         "70.0",
         "796",
         "Brew Free! or Die IPA (2009)",
         "American IPA",
         "368",
         "12.0",
         "21st Amendment Brewery",
         "San Francisco",
         " CA"
        ],
        [
         "31",
         "0.085",
         "52.0",
         "531",
         "Special Edition: Allies Win The War!",
         "English Strong Ale",
         "368",
         "12.0",
         "21st Amendment Brewery",
         "San Francisco",
         " CA"
        ],
        [
         "32",
         "0.0969999999999999",
         "94.0",
         "432",
         "Hop Crisis",
         "American Double / Imperial IPA",
         "368",
         "12.0",
         "21st Amendment Brewery",
         "San Francisco",
         " CA"
        ],
        [
         "33",
         "0.044",
         "42.0",
         "353",
         "Bitter American (2011)",
         "American Pale Ale (APA)",
         "368",
         "12.0",
         "21st Amendment Brewery",
         "San Francisco",
         " CA"
        ],
        [
         "34",
         "0.079",
         "45.0",
         "321",
         "Fireside Chat (2010)",
         "Winter Warmer",
         "368",
         "12.0",
         "21st Amendment Brewery",
         "San Francisco",
         " CA"
        ],
        [
         "35",
         "0.068",
         "65.0",
         "173",
         "Back in Black",
         "American Black Ale",
         "368",
         "12.0",
         "21st Amendment Brewery",
         "San Francisco",
         " CA"
        ],
        [
         "36",
         "0.083",
         "35.0",
         "11",
         "Monk's Blood",
         "Belgian Dark Ale",
         "368",
         "12.0",
         "21st Amendment Brewery",
         "San Francisco",
         " CA"
        ],
        [
         "37",
         "0.07",
         "65.0",
         "10",
         "Brew Free! or Die IPA",
         "American IPA",
         "368",
         "12.0",
         "21st Amendment Brewery",
         "San Francisco",
         " CA"
        ],
        [
         "38",
         "0.049",
         "17.0",
         "9",
         "Hell or High Watermelon Wheat",
         "Fruit / Vegetable Beer",
         "368",
         "12.0",
         "21st Amendment Brewery",
         "San Francisco",
         " CA"
        ],
        [
         "39",
         "0.07",
         "82.0",
         "2519",
         "Bimini Twist",
         "American IPA",
         "67",
         "12.0",
         "3 Daughters Brewing",
         "St Petersburg",
         " FL"
        ],
        [
         "40",
         "0.05",
         null,
         "2518",
         "Beach Blonde",
         "American Blonde Ale",
         "67",
         "12.0",
         "3 Daughters Brewing",
         "St Petersburg",
         " FL"
        ],
        [
         "41",
         "0.059",
         null,
         "2517",
         "Rod Bender Red",
         "American Amber / Red Ale",
         "67",
         "12.0",
         "3 Daughters Brewing",
         "St Petersburg",
         " FL"
        ],
        [
         "50",
         "0.065",
         null,
         "2603",
         "Galaxyfest",
         "American IPA",
         "27",
         "16.0",
         "450 North Brewing Company",
         "Columbus",
         " IN"
        ],
        [
         "51",
         "0.05",
         "45.0",
         "2602",
         "Citrafest",
         "American IPA",
         "27",
         "16.0",
         "450 North Brewing Company",
         "Columbus",
         " IN"
        ],
        [
         "52",
         "0.09",
         null,
         "2220",
         "Barn Yeti",
         "Belgian Strong Dark Ale",
         "27",
         "16.0",
         "450 North Brewing Company",
         "Columbus",
         " IN"
        ],
        [
         "53",
         "0.069",
         "65.0",
         "2219",
         "Scarecrow",
         "American IPA",
         "27",
         "16.0",
         "450 North Brewing Company",
         "Columbus",
         " IN"
        ],
        [
         "54",
         "0.09",
         "50.0",
         "2218",
         "Ironman",
         "English Strong Ale",
         "27",
         "16.0",
         "450 North Brewing Company",
         "Columbus",
         " IN"
        ],
        [
         "55",
         "0.046",
         "15.0",
         "2217",
         "Honey Kolsch",
         "Kölsch",
         "27",
         "16.0",
         "450 North Brewing Company",
         "Columbus",
         " IN"
        ],
        [
         "56",
         "0.052",
         "18.0",
         "2216",
         "Copperhead Amber",
         "Belgian Dark Ale",
         "27",
         "16.0",
         "450 North Brewing Company",
         "Columbus",
         " IN"
        ],
        [
         "57",
         "0.059",
         "75.0",
         "972",
         "Rude Parrot IPA",
         "American IPA",
         "481",
         "16.0",
         "7 Seas Brewing Company",
         "Gig Harbor",
         " WA"
        ],
        [
         "58",
         "0.054",
         "30.0",
         "866",
         "British Pale Ale (2010)",
         "English Pale Ale",
         "481",
         "16.0",
         "7 Seas Brewing Company",
         "Gig Harbor",
         " WA"
        ],
        [
         "59",
         "0.054",
         "30.0",
         "48",
         "British Pale Ale",
         "English Pale Ale",
         "481",
         "16.0",
         "7 Seas Brewing Company",
         "Gig Harbor",
         " WA"
        ],
        [
         "60",
         "0.084",
         "82.0",
         "47",
         "Ballz Deep Double IPA",
         "American Double / Imperial IPA",
         "481",
         "16.0",
         "7 Seas Brewing Company",
         "Gig Harbor",
         " WA"
        ],
        [
         "67",
         "0.0819999999999999",
         "68.0",
         "2540",
         "Citra Ass Down",
         "American IPA",
         "62",
         "16.0",
         "Against The Grain Brewery",
         "Louisville",
         " KY"
        ],
        [
         "68",
         "0.05",
         "20.0",
         "2539",
         "The Brown Note",
         "American Brown Ale",
         "62",
         "16.0",
         "Against The Grain Brewery",
         "Louisville",
         " KY"
        ]
       ],
       "shape": {
        "columns": 10,
        "rows": 1483
       }
      },
      "text/html": [
       "<div>\n",
       "<style scoped>\n",
       "    .dataframe tbody tr th:only-of-type {\n",
       "        vertical-align: middle;\n",
       "    }\n",
       "\n",
       "    .dataframe tbody tr th {\n",
       "        vertical-align: top;\n",
       "    }\n",
       "\n",
       "    .dataframe thead th {\n",
       "        text-align: right;\n",
       "    }\n",
       "</style>\n",
       "<table border=\"1\" class=\"dataframe\">\n",
       "  <thead>\n",
       "    <tr style=\"text-align: right;\">\n",
       "      <th></th>\n",
       "      <th>abv</th>\n",
       "      <th>ibu</th>\n",
       "      <th>id</th>\n",
       "      <th>name_x</th>\n",
       "      <th>style</th>\n",
       "      <th>brewery_id</th>\n",
       "      <th>ounces</th>\n",
       "      <th>name_y</th>\n",
       "      <th>city</th>\n",
       "      <th>state</th>\n",
       "    </tr>\n",
       "  </thead>\n",
       "  <tbody>\n",
       "    <tr>\n",
       "      <th>1</th>\n",
       "      <td>0.066</td>\n",
       "      <td>NaN</td>\n",
       "      <td>2265</td>\n",
       "      <td>Devil's Cup</td>\n",
       "      <td>American Pale Ale (APA)</td>\n",
       "      <td>177</td>\n",
       "      <td>12.0</td>\n",
       "      <td>18th Street Brewery</td>\n",
       "      <td>Gary</td>\n",
       "      <td>IN</td>\n",
       "    </tr>\n",
       "    <tr>\n",
       "      <th>2</th>\n",
       "      <td>0.071</td>\n",
       "      <td>NaN</td>\n",
       "      <td>2264</td>\n",
       "      <td>Rise of the Phoenix</td>\n",
       "      <td>American IPA</td>\n",
       "      <td>177</td>\n",
       "      <td>12.0</td>\n",
       "      <td>18th Street Brewery</td>\n",
       "      <td>Gary</td>\n",
       "      <td>IN</td>\n",
       "    </tr>\n",
       "    <tr>\n",
       "      <th>3</th>\n",
       "      <td>0.090</td>\n",
       "      <td>NaN</td>\n",
       "      <td>2263</td>\n",
       "      <td>Sinister</td>\n",
       "      <td>American Double / Imperial IPA</td>\n",
       "      <td>177</td>\n",
       "      <td>12.0</td>\n",
       "      <td>18th Street Brewery</td>\n",
       "      <td>Gary</td>\n",
       "      <td>IN</td>\n",
       "    </tr>\n",
       "    <tr>\n",
       "      <th>4</th>\n",
       "      <td>0.075</td>\n",
       "      <td>NaN</td>\n",
       "      <td>2262</td>\n",
       "      <td>Sex and Candy</td>\n",
       "      <td>American IPA</td>\n",
       "      <td>177</td>\n",
       "      <td>12.0</td>\n",
       "      <td>18th Street Brewery</td>\n",
       "      <td>Gary</td>\n",
       "      <td>IN</td>\n",
       "    </tr>\n",
       "    <tr>\n",
       "      <th>5</th>\n",
       "      <td>0.077</td>\n",
       "      <td>NaN</td>\n",
       "      <td>2261</td>\n",
       "      <td>Black Exodus</td>\n",
       "      <td>Oatmeal Stout</td>\n",
       "      <td>177</td>\n",
       "      <td>12.0</td>\n",
       "      <td>18th Street Brewery</td>\n",
       "      <td>Gary</td>\n",
       "      <td>IN</td>\n",
       "    </tr>\n",
       "    <tr>\n",
       "      <th>...</th>\n",
       "      <td>...</td>\n",
       "      <td>...</td>\n",
       "      <td>...</td>\n",
       "      <td>...</td>\n",
       "      <td>...</td>\n",
       "      <td>...</td>\n",
       "      <td>...</td>\n",
       "      <td>...</td>\n",
       "      <td>...</td>\n",
       "      <td>...</td>\n",
       "    </tr>\n",
       "    <tr>\n",
       "      <th>2405</th>\n",
       "      <td>0.067</td>\n",
       "      <td>45.0</td>\n",
       "      <td>928</td>\n",
       "      <td>Belgorado</td>\n",
       "      <td>Belgian IPA</td>\n",
       "      <td>424</td>\n",
       "      <td>12.0</td>\n",
       "      <td>Wynkoop Brewing Company</td>\n",
       "      <td>Denver</td>\n",
       "      <td>CO</td>\n",
       "    </tr>\n",
       "    <tr>\n",
       "      <th>2406</th>\n",
       "      <td>0.052</td>\n",
       "      <td>NaN</td>\n",
       "      <td>807</td>\n",
       "      <td>Rail Yard Ale</td>\n",
       "      <td>American Amber / Red Ale</td>\n",
       "      <td>424</td>\n",
       "      <td>12.0</td>\n",
       "      <td>Wynkoop Brewing Company</td>\n",
       "      <td>Denver</td>\n",
       "      <td>CO</td>\n",
       "    </tr>\n",
       "    <tr>\n",
       "      <th>2407</th>\n",
       "      <td>0.055</td>\n",
       "      <td>NaN</td>\n",
       "      <td>620</td>\n",
       "      <td>B3K Black Lager</td>\n",
       "      <td>Schwarzbier</td>\n",
       "      <td>424</td>\n",
       "      <td>12.0</td>\n",
       "      <td>Wynkoop Brewing Company</td>\n",
       "      <td>Denver</td>\n",
       "      <td>CO</td>\n",
       "    </tr>\n",
       "    <tr>\n",
       "      <th>2408</th>\n",
       "      <td>0.055</td>\n",
       "      <td>40.0</td>\n",
       "      <td>145</td>\n",
       "      <td>Silverback Pale Ale</td>\n",
       "      <td>American Pale Ale (APA)</td>\n",
       "      <td>424</td>\n",
       "      <td>12.0</td>\n",
       "      <td>Wynkoop Brewing Company</td>\n",
       "      <td>Denver</td>\n",
       "      <td>CO</td>\n",
       "    </tr>\n",
       "    <tr>\n",
       "      <th>2409</th>\n",
       "      <td>0.052</td>\n",
       "      <td>NaN</td>\n",
       "      <td>84</td>\n",
       "      <td>Rail Yard Ale (2009)</td>\n",
       "      <td>American Amber / Red Ale</td>\n",
       "      <td>424</td>\n",
       "      <td>12.0</td>\n",
       "      <td>Wynkoop Brewing Company</td>\n",
       "      <td>Denver</td>\n",
       "      <td>CO</td>\n",
       "    </tr>\n",
       "  </tbody>\n",
       "</table>\n",
       "<p>1483 rows × 10 columns</p>\n",
       "</div>"
      ],
      "text/plain": [
       "        abv   ibu    id                name_x                           style  \\\n",
       "1     0.066   NaN  2265           Devil's Cup         American Pale Ale (APA)   \n",
       "2     0.071   NaN  2264   Rise of the Phoenix                    American IPA   \n",
       "3     0.090   NaN  2263              Sinister  American Double / Imperial IPA   \n",
       "4     0.075   NaN  2262         Sex and Candy                    American IPA   \n",
       "5     0.077   NaN  2261          Black Exodus                   Oatmeal Stout   \n",
       "...     ...   ...   ...                   ...                             ...   \n",
       "2405  0.067  45.0   928             Belgorado                     Belgian IPA   \n",
       "2406  0.052   NaN   807         Rail Yard Ale        American Amber / Red Ale   \n",
       "2407  0.055   NaN   620       B3K Black Lager                     Schwarzbier   \n",
       "2408  0.055  40.0   145   Silverback Pale Ale         American Pale Ale (APA)   \n",
       "2409  0.052   NaN    84  Rail Yard Ale (2009)        American Amber / Red Ale   \n",
       "\n",
       "      brewery_id  ounces                   name_y    city state  \n",
       "1            177    12.0      18th Street Brewery    Gary    IN  \n",
       "2            177    12.0      18th Street Brewery    Gary    IN  \n",
       "3            177    12.0      18th Street Brewery    Gary    IN  \n",
       "4            177    12.0      18th Street Brewery    Gary    IN  \n",
       "5            177    12.0      18th Street Brewery    Gary    IN  \n",
       "...          ...     ...                      ...     ...   ...  \n",
       "2405         424    12.0  Wynkoop Brewing Company  Denver    CO  \n",
       "2406         424    12.0  Wynkoop Brewing Company  Denver    CO  \n",
       "2407         424    12.0  Wynkoop Brewing Company  Denver    CO  \n",
       "2408         424    12.0  Wynkoop Brewing Company  Denver    CO  \n",
       "2409         424    12.0  Wynkoop Brewing Company  Denver    CO  \n",
       "\n",
       "[1483 rows x 10 columns]"
      ]
     },
     "execution_count": 90,
     "metadata": {},
     "output_type": "execute_result"
    }
   ],
   "source": [
    "cervezas_filtradas"
   ]
  },
  {
   "cell_type": "code",
   "execution_count": null,
   "metadata": {},
   "outputs": [],
   "source": [
    "# todas las cervezas, que venda una cervecería, donde al menos una de ellas sea de 0.07 para arriba"
   ]
  },
  {
   "attachments": {},
   "cell_type": "markdown",
   "metadata": {},
   "source": [
    "## Ejercicio 24\n",
    "Teniendo en cuenta la media de amargor de todas las cervezas, obtén una tabla con las cervezas cuyos estados tengan una media de amargor en cerveza por encima de la media"
   ]
  },
  {
   "cell_type": "code",
   "execution_count": 92,
   "metadata": {},
   "outputs": [
    {
     "data": {
      "text/plain": [
       "np.float64(42.71316725978647)"
      ]
     },
     "execution_count": 92,
     "metadata": {},
     "output_type": "execute_result"
    }
   ],
   "source": [
    "# Calcular la media de amargor global\n",
    "media_amargor_global = df_unido['ibu'].mean()\n",
    "media_amargor_global\n"
   ]
  },
  {
   "cell_type": "code",
   "execution_count": 93,
   "metadata": {},
   "outputs": [
    {
     "data": {
      "text/plain": [
       "state\n",
       "AK    40.882353\n",
       "AL    51.222222\n",
       "AR    39.000000\n",
       "AZ    35.208333\n",
       "CA    46.281481\n",
       "CO    47.431507\n",
       "CT    40.833333\n",
       "DC    55.250000\n",
       "DE    52.000000\n",
       "FL    46.756757\n",
       "GA    46.285714\n",
       "HI    32.666667\n",
       "IA    33.200000\n",
       "ID    55.117647\n",
       "IL    41.461538\n",
       "IN    42.989011\n",
       "KS    36.684211\n",
       "KY    40.714286\n",
       "LA    33.000000\n",
       "MA    38.000000\n",
       "MD    36.800000\n",
       "ME    52.857143\n",
       "MI    36.736842\n",
       "MN    49.956522\n",
       "MO    32.482759\n",
       "MS    46.454545\n",
       "MT    41.695652\n",
       "NC    43.300000\n",
       "ND    40.333333\n",
       "NE    30.666667\n",
       "NH    48.500000\n",
       "NJ    46.375000\n",
       "NM    57.000000\n",
       "NV    46.500000\n",
       "NY    46.000000\n",
       "OH    44.187500\n",
       "OK    40.727273\n",
       "OR    47.942529\n",
       "PA    42.446809\n",
       "RI    31.550000\n",
       "SC    30.200000\n",
       "SD          NaN\n",
       "TN    41.600000\n",
       "TX    40.393258\n",
       "UT    45.545455\n",
       "VA    45.371429\n",
       "VT    42.294118\n",
       "WA    44.976744\n",
       "WI    26.547619\n",
       "WV    57.500000\n",
       "WY    32.083333\n",
       "Name: ibu, dtype: float64"
      ]
     },
     "execution_count": 93,
     "metadata": {},
     "output_type": "execute_result"
    }
   ],
   "source": [
    "# Calcular la media de amargor por estado\n",
    "media_amargor_estado = df_unido.groupby('state')['ibu'].mean()\n",
    "media_amargor_estado\n"
   ]
  },
  {
   "cell_type": "code",
   "execution_count": 94,
   "metadata": {},
   "outputs": [
    {
     "data": {
      "text/plain": [
       "Index([' AL', ' CA', ' CO', ' DC', ' DE', ' FL', ' GA', ' ID', ' IN', ' ME',\n",
       "       ' MN', ' MS', ' NC', ' NH', ' NJ', ' NM', ' NV', ' NY', ' OH', ' OR',\n",
       "       ' UT', ' VA', ' WA', ' WV'],\n",
       "      dtype='object', name='state')"
      ]
     },
     "execution_count": 94,
     "metadata": {},
     "output_type": "execute_result"
    }
   ],
   "source": [
    "# Filtrar los estados cuyo amargor promedio esté por encima de la media global\n",
    "estados_filtrados = media_amargor_estado[media_amargor_estado > media_amargor_global].index\n",
    "\n",
    "estados_filtrados\n"
   ]
  },
  {
   "cell_type": "code",
   "execution_count": 97,
   "metadata": {},
   "outputs": [
    {
     "name": "stdout",
     "output_type": "stream",
     "text": [
      "                    name_x                     name_y state   ibu\n",
      "0                 Pub Beer  10 Barrel Brewing Company    OR   NaN\n",
      "1              Devil's Cup        18th Street Brewery    IN   NaN\n",
      "2      Rise of the Phoenix        18th Street Brewery    IN   NaN\n",
      "3                 Sinister        18th Street Brewery    IN   NaN\n",
      "4            Sex and Candy        18th Street Brewery    IN   NaN\n",
      "...                    ...                        ...   ...   ...\n",
      "2405             Belgorado    Wynkoop Brewing Company    CO  45.0\n",
      "2406         Rail Yard Ale    Wynkoop Brewing Company    CO   NaN\n",
      "2407       B3K Black Lager    Wynkoop Brewing Company    CO   NaN\n",
      "2408   Silverback Pale Ale    Wynkoop Brewing Company    CO  40.0\n",
      "2409  Rail Yard Ale (2009)    Wynkoop Brewing Company    CO   NaN\n",
      "\n",
      "[1288 rows x 4 columns]\n"
     ]
    }
   ],
   "source": [
    "# Filtrar las cervezas que pertenecen a esos estados\n",
    "cervezas_filtradas = df_unido[df_unido['state'].isin(estados_filtrados)]\n",
    "\n",
    "# Mostrar el DataFrame resultante\n",
    "print(cervezas_filtradas[['name_x', 'name_y','state', 'ibu']])"
   ]
  },
  {
   "cell_type": "code",
   "execution_count": null,
   "metadata": {},
   "outputs": [],
   "source": [
    "# Las cervezas que se encuentran en aquellos estados, cuya media de amargor, sea superior a la media de amargor total"
   ]
  }
 ],
 "metadata": {
  "kernelspec": {
   "display_name": "Python 3",
   "language": "python",
   "name": "python3"
  },
  "language_info": {
   "codemirror_mode": {
    "name": "ipython",
    "version": 3
   },
   "file_extension": ".py",
   "mimetype": "text/x-python",
   "name": "python",
   "nbconvert_exporter": "python",
   "pygments_lexer": "ipython3",
   "version": "3.11.9"
  }
 },
 "nbformat": 4,
 "nbformat_minor": 4
}
