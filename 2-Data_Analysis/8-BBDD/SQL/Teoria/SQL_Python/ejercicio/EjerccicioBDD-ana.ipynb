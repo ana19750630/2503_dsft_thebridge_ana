{
 "cells": [
  {
   "cell_type": "code",
   "execution_count": 1,
   "metadata": {},
   "outputs": [],
   "source": [
    "import pandas as pd\n",
    "import sqlite3"
   ]
  },
  {
   "cell_type": "code",
   "execution_count": 2,
   "metadata": {},
   "outputs": [],
   "source": [
    "# Conectamos con la base de datos\n",
    "connection = sqlite3.connect(\"data/my_database_2503_v7.db\")\n",
    "\n",
    "# Obtenemos un cursor que utilizaremos para hacer las queries\n",
    "crsr = connection.cursor()"
   ]
  },
  {
   "cell_type": "code",
   "execution_count": 3,
   "metadata": {},
   "outputs": [],
   "source": [
    "res = crsr.execute(\"SELECT name FROM sqlite_master WHERE type='table'\")\n",
    "for name in res:\n",
    "    print(name[0])"
   ]
  },
  {
   "cell_type": "code",
   "execution_count": 4,
   "metadata": {},
   "outputs": [],
   "source": [
    "# Con esta función leemos los datos y lo pasamos a un DataFrame de Pandas\n",
    "def sql_query(query):\n",
    "\n",
    "    # Ejecuta la query\n",
    "    crsr.execute(query)\n",
    "\n",
    "    # Almacena los datos de la query \n",
    "    ans = crsr.fetchall()\n",
    "\n",
    "    # Obtenemos los nombres de las columnas de la tabla\n",
    "    names = [description[0] for description in crsr.description]\n",
    "\n",
    "    return pd.DataFrame(ans,columns=names)"
   ]
  },
  {
   "cell_type": "code",
   "execution_count": 5,
   "metadata": {},
   "outputs": [
    {
     "data": {
      "text/plain": [
       "<sqlite3.Cursor at 0x1fe1336f940>"
      ]
     },
     "execution_count": 5,
     "metadata": {},
     "output_type": "execute_result"
    }
   ],
   "source": [
    "##TABLA DE PROVEEDOR\n",
    "\n",
    "query = '''\n",
    "CREATE TABLE Proveedor (\n",
    "    codigo_proveedor INT PRIMARY KEY,\n",
    "    nombre VARCHAR,\n",
    "    direccion VARCHAR,\n",
    "    ciudad VARCHAR,\n",
    "    provincia VARCHAR\n",
    ")\n",
    "'''\n",
    "\n",
    "crsr.execute(query)"
   ]
  },
  {
   "cell_type": "code",
   "execution_count": 6,
   "metadata": {},
   "outputs": [
    {
     "data": {
      "text/plain": [
       "<sqlite3.Cursor at 0x1fe1336f940>"
      ]
     },
     "execution_count": 6,
     "metadata": {},
     "output_type": "execute_result"
    }
   ],
   "source": [
    "##TABLA CATEGORIA\n",
    "\n",
    "query = '''\n",
    "CREATE TABLE Categoria (\n",
    "    codigo_categoria INT PRIMARY KEY,\n",
    "    nombre_categoria\n",
    ")\n",
    "'''\n",
    "\n",
    "crsr.execute(query)"
   ]
  },
  {
   "cell_type": "code",
   "execution_count": 7,
   "metadata": {},
   "outputs": [
    {
     "data": {
      "text/plain": [
       "<sqlite3.Cursor at 0x1fe1336f940>"
      ]
     },
     "execution_count": 7,
     "metadata": {},
     "output_type": "execute_result"
    }
   ],
   "source": [
    "##TABLA PIEZAS\n",
    "\n",
    "query ='''\n",
    "\n",
    "CREATE TABLE Pieza (\n",
    "    codigo_pieza INT PRIMARY KEY,\n",
    "    nombre VARCHAR,\n",
    "    color VARCHAR,\n",
    "    precio DECIMAL(10, 2),\n",
    "    codigo_categoria INT,\n",
    "    FOREIGN KEY (codigo_categoria) REFERENCES Categoria(codigo_categoria)\n",
    ")\n",
    "'''\n",
    "\n",
    "crsr.execute(query)"
   ]
  },
  {
   "cell_type": "code",
   "execution_count": 8,
   "metadata": {},
   "outputs": [
    {
     "data": {
      "text/plain": [
       "<sqlite3.Cursor at 0x1fe1336f940>"
      ]
     },
     "execution_count": 8,
     "metadata": {},
     "output_type": "execute_result"
    }
   ],
   "source": [
    "##TABLA DE SUMINISTRO\n",
    "\n",
    "query='''\n",
    "\n",
    "CREATE TABLE Suministro (\n",
    "    codigo_proveedor INT,\n",
    "    codigo_pieza INT,\n",
    "    fecha_suministro DATE,\n",
    "    cantidad INT,\n",
    "    PRIMARY KEY (codigo_proveedor, codigo_pieza, fecha_suministro),\n",
    "    FOREIGN KEY (codigo_proveedor) REFERENCES Proveedor(codigo_proveedor),\n",
    "    FOREIGN KEY (codigo_pieza) REFERENCES Pieza(codigo_pieza)\n",
    ")\n",
    "'''\n",
    "crsr.execute(query)"
   ]
  }
 ],
 "metadata": {
  "kernelspec": {
   "display_name": "Python 3",
   "language": "python",
   "name": "python3"
  },
  "language_info": {
   "codemirror_mode": {
    "name": "ipython",
    "version": 3
   },
   "file_extension": ".py",
   "mimetype": "text/x-python",
   "name": "python",
   "nbconvert_exporter": "python",
   "pygments_lexer": "ipython3",
   "version": "3.11.9"
  }
 },
 "nbformat": 4,
 "nbformat_minor": 2
}
