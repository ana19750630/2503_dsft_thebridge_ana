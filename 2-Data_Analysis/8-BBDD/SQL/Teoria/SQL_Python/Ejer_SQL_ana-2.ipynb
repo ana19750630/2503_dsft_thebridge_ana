{
 "cells": [
  {
   "cell_type": "markdown",
   "metadata": {},
   "source": [
    "PRIMERA PARTE\n",
    " 1. Obtén los clientes de brasil\n",
    " 2. Obtén los empleados que son agentes de ventas\n",
    " 3. Obtén las canciones de ‘AC/DC’\n",
    " 4. Obtén los campos de los clientes que no sean de USA: Nombre completo, ID, País\n",
    " 5. Obtén los empleados que son agentes de ventas: Nombre completo, Dirección\n",
    " (Ciudad, Estado, País) y email\n",
    " 6. Obtén una lista con los países no repetidos a los que se han emitido facturas\n",
    " 7. Obtén una lista con los estados de USA no repetidos de donde son los clientes y\n",
    " cuántos clientes en cada uno.\n",
    " 8. Cuántos artículos tiene la factura 37\n",
    " 9. Cuántas canciones tiene ‘AC/DC’\n",
    " 10. Cuántos artículos tiene cada factura\n",
    " 11. Cuántas facturas hay de cada país\n",
    " 12. Cuántas facturas ha habido en 2009 y 2011\n",
    " 13. Cuántas facturas ha habido entre 2009 y 2011\n",
    " 14. Cuántas clientes hay de España y de Brasil\n",
    " 15. Obtén las canciones que su título empieza por ‘You’\n",
    "SEGUNDAPARTE\n",
    " 1. Facturas de Clientes de Brasil, Nombre del cliente, Id de factura, fecha de la\n",
    " factura y el país de la factura\n",
    " 2. Obtén cada factura asociada a cada agente de ventas con su nombre completo\n",
    " 3. Obtén el nombre del cliente, el país, el nombre del agente y el total\n",
    " 4. Obtén cada artículo de la factura con el nombre de la canción\n",
    " 5. Muestra todas las canciones con su nombre, formato, álbum y género\n",
    " 6. Cuántas canciones hay en cada playlist\n",
    " 7. Cuánto ha vendido cada empleado\n",
    " 8. ¿Quién ha sido el agente de ventas que más ha vendido en 2009\n",
    "9. ¿Cuáles son los 3 grupos que más han vendido?"
   ]
  },
  {
   "cell_type": "code",
   "execution_count": 1,
   "metadata": {},
   "outputs": [],
   "source": [
    "import pandas as pd\n",
    "import sqlite3"
   ]
  },
  {
   "cell_type": "code",
   "execution_count": 2,
   "metadata": {},
   "outputs": [
    {
     "data": {
      "text/plain": [
       "'c:\\\\Users\\\\Ana\\\\TheBridge\\\\2503_dsft_thebridge_ana\\\\2-Data_Analysis\\\\8-BBDD\\\\SQL\\\\Teoria\\\\SQL_Python'"
      ]
     },
     "execution_count": 2,
     "metadata": {},
     "output_type": "execute_result"
    }
   ],
   "source": [
    "import os\n",
    "os.getcwd()"
   ]
  },
  {
   "cell_type": "code",
   "execution_count": 3,
   "metadata": {},
   "outputs": [],
   "source": [
    "# Conectamos con la base de datos chinook.db\n",
    "connection = sqlite3.connect(\"data/chinook.db\")\n",
    "\n",
    "# Obtenemos un cursor que utilizaremos para hacer las queries\n",
    "crsr = connection.cursor()"
   ]
  },
  {
   "cell_type": "code",
   "execution_count": 4,
   "metadata": {},
   "outputs": [],
   "source": [
    "# Con esta función leemos los datos y lo pasamos a un DataFrame de Pandas\n",
    "def sql_query(query):\n",
    "\n",
    "    # Ejecuta la query\n",
    "    crsr.execute(query)\n",
    "\n",
    "    # Almacena los datos de la query \n",
    "    ans = crsr.fetchall()\n",
    "\n",
    "    # Obtenemos los nombres de las columnas de la tabla\n",
    "    names = [description[0] for description in crsr.description]\n",
    "\n",
    "    return pd.DataFrame(ans,columns=names)"
   ]
  },
  {
   "cell_type": "code",
   "execution_count": 5,
   "metadata": {},
   "outputs": [
    {
     "name": "stdout",
     "output_type": "stream",
     "text": [
      "albums\n",
      "sqlite_sequence\n",
      "artists\n",
      "customers\n",
      "employees\n",
      "genres\n",
      "invoices\n",
      "invoice_items\n",
      "media_types\n",
      "playlists\n",
      "playlist_track\n",
      "tracks\n",
      "sqlite_stat1\n",
      "films\n"
     ]
    }
   ],
   "source": [
    "res = crsr.execute(\"SELECT name FROM sqlite_master WHERE type='table'\")\n",
    "for name in res:\n",
    "    print(name[0])"
   ]
  },
  {
   "cell_type": "code",
   "execution_count": 6,
   "metadata": {},
   "outputs": [
    {
     "data": {
      "application/vnd.microsoft.datawrangler.viewer.v0+json": {
       "columns": [
        {
         "name": "index",
         "rawType": "int64",
         "type": "integer"
        },
        {
         "name": "name",
         "rawType": "object",
         "type": "string"
        }
       ],
       "conversionMethod": "pd.DataFrame",
       "ref": "d49b0619-3806-49b9-9848-81534200918c",
       "rows": [
        [
         "0",
         "albums"
        ],
        [
         "1",
         "sqlite_sequence"
        ],
        [
         "2",
         "artists"
        ],
        [
         "3",
         "customers"
        ],
        [
         "4",
         "employees"
        ],
        [
         "5",
         "genres"
        ],
        [
         "6",
         "invoices"
        ],
        [
         "7",
         "invoice_items"
        ],
        [
         "8",
         "media_types"
        ],
        [
         "9",
         "playlists"
        ],
        [
         "10",
         "playlist_track"
        ],
        [
         "11",
         "tracks"
        ],
        [
         "12",
         "sqlite_stat1"
        ],
        [
         "13",
         "films"
        ]
       ],
       "shape": {
        "columns": 1,
        "rows": 14
       }
      },
      "text/html": [
       "<div>\n",
       "<style scoped>\n",
       "    .dataframe tbody tr th:only-of-type {\n",
       "        vertical-align: middle;\n",
       "    }\n",
       "\n",
       "    .dataframe tbody tr th {\n",
       "        vertical-align: top;\n",
       "    }\n",
       "\n",
       "    .dataframe thead th {\n",
       "        text-align: right;\n",
       "    }\n",
       "</style>\n",
       "<table border=\"1\" class=\"dataframe\">\n",
       "  <thead>\n",
       "    <tr style=\"text-align: right;\">\n",
       "      <th></th>\n",
       "      <th>name</th>\n",
       "    </tr>\n",
       "  </thead>\n",
       "  <tbody>\n",
       "    <tr>\n",
       "      <th>0</th>\n",
       "      <td>albums</td>\n",
       "    </tr>\n",
       "    <tr>\n",
       "      <th>1</th>\n",
       "      <td>sqlite_sequence</td>\n",
       "    </tr>\n",
       "    <tr>\n",
       "      <th>2</th>\n",
       "      <td>artists</td>\n",
       "    </tr>\n",
       "    <tr>\n",
       "      <th>3</th>\n",
       "      <td>customers</td>\n",
       "    </tr>\n",
       "    <tr>\n",
       "      <th>4</th>\n",
       "      <td>employees</td>\n",
       "    </tr>\n",
       "    <tr>\n",
       "      <th>5</th>\n",
       "      <td>genres</td>\n",
       "    </tr>\n",
       "    <tr>\n",
       "      <th>6</th>\n",
       "      <td>invoices</td>\n",
       "    </tr>\n",
       "    <tr>\n",
       "      <th>7</th>\n",
       "      <td>invoice_items</td>\n",
       "    </tr>\n",
       "    <tr>\n",
       "      <th>8</th>\n",
       "      <td>media_types</td>\n",
       "    </tr>\n",
       "    <tr>\n",
       "      <th>9</th>\n",
       "      <td>playlists</td>\n",
       "    </tr>\n",
       "    <tr>\n",
       "      <th>10</th>\n",
       "      <td>playlist_track</td>\n",
       "    </tr>\n",
       "    <tr>\n",
       "      <th>11</th>\n",
       "      <td>tracks</td>\n",
       "    </tr>\n",
       "    <tr>\n",
       "      <th>12</th>\n",
       "      <td>sqlite_stat1</td>\n",
       "    </tr>\n",
       "    <tr>\n",
       "      <th>13</th>\n",
       "      <td>films</td>\n",
       "    </tr>\n",
       "  </tbody>\n",
       "</table>\n",
       "</div>"
      ],
      "text/plain": [
       "               name\n",
       "0            albums\n",
       "1   sqlite_sequence\n",
       "2           artists\n",
       "3         customers\n",
       "4         employees\n",
       "5            genres\n",
       "6          invoices\n",
       "7     invoice_items\n",
       "8       media_types\n",
       "9         playlists\n",
       "10   playlist_track\n",
       "11           tracks\n",
       "12     sqlite_stat1\n",
       "13            films"
      ]
     },
     "execution_count": 6,
     "metadata": {},
     "output_type": "execute_result"
    }
   ],
   "source": [
    "\n",
    "sql_query(\"SELECT name FROM sqlite_master WHERE type='table'\")"
   ]
  },
  {
   "cell_type": "code",
   "execution_count": null,
   "metadata": {},
   "outputs": [],
   "source": []
  },
  {
   "cell_type": "code",
   "execution_count": 8,
   "metadata": {},
   "outputs": [
    {
     "data": {
      "application/vnd.microsoft.datawrangler.viewer.v0+json": {
       "columns": [
        {
         "name": "index",
         "rawType": "int64",
         "type": "integer"
        },
        {
         "name": "CustomerId",
         "rawType": "int64",
         "type": "integer"
        },
        {
         "name": "FirstName",
         "rawType": "object",
         "type": "string"
        },
        {
         "name": "LastName",
         "rawType": "object",
         "type": "string"
        },
        {
         "name": "Company",
         "rawType": "object",
         "type": "unknown"
        },
        {
         "name": "Address",
         "rawType": "object",
         "type": "string"
        },
        {
         "name": "City",
         "rawType": "object",
         "type": "string"
        },
        {
         "name": "State",
         "rawType": "object",
         "type": "string"
        },
        {
         "name": "Country",
         "rawType": "object",
         "type": "string"
        },
        {
         "name": "PostalCode",
         "rawType": "object",
         "type": "string"
        },
        {
         "name": "Phone",
         "rawType": "object",
         "type": "string"
        },
        {
         "name": "Fax",
         "rawType": "object",
         "type": "string"
        },
        {
         "name": "Email",
         "rawType": "object",
         "type": "string"
        },
        {
         "name": "SupportRepId",
         "rawType": "int64",
         "type": "integer"
        }
       ],
       "conversionMethod": "pd.DataFrame",
       "ref": "b7dda7b6-0d9e-47f9-8085-3b594fe2b5e6",
       "rows": [
        [
         "0",
         "1",
         "Luís",
         "Gonçalves",
         "Embraer - Empresa Brasileira de Aeronáutica S.A.",
         "Av. Brigadeiro Faria Lima, 2170",
         "São José dos Campos",
         "SP",
         "Brazil",
         "12227-000",
         "+55 (12) 3923-5555",
         "+55 (12) 3923-5566",
         "luisg@embraer.com.br",
         "3"
        ],
        [
         "1",
         "10",
         "Eduardo",
         "Martins",
         "Woodstock Discos",
         "Rua Dr. Falcão Filho, 155",
         "São Paulo",
         "SP",
         "Brazil",
         "01007-010",
         "+55 (11) 3033-5446",
         "+55 (11) 3033-4564",
         "eduardo@woodstock.com.br",
         "4"
        ],
        [
         "2",
         "11",
         "Alexandre",
         "Rocha",
         "Banco do Brasil S.A.",
         "Av. Paulista, 2022",
         "São Paulo",
         "SP",
         "Brazil",
         "01310-200",
         "+55 (11) 3055-3278",
         "+55 (11) 3055-8131",
         "alero@uol.com.br",
         "5"
        ],
        [
         "3",
         "12",
         "Roberto",
         "Almeida",
         "Riotur",
         "Praça Pio X, 119",
         "Rio de Janeiro",
         "RJ",
         "Brazil",
         "20040-020",
         "+55 (21) 2271-7000",
         "+55 (21) 2271-7070",
         "roberto.almeida@riotur.gov.br",
         "3"
        ],
        [
         "4",
         "13",
         "Fernanda",
         "Ramos",
         null,
         "Qe 7 Bloco G",
         "Brasília",
         "DF",
         "Brazil",
         "71020-677",
         "+55 (61) 3363-5547",
         "+55 (61) 3363-7855",
         "fernadaramos4@uol.com.br",
         "4"
        ]
       ],
       "shape": {
        "columns": 13,
        "rows": 5
       }
      },
      "text/html": [
       "<div>\n",
       "<style scoped>\n",
       "    .dataframe tbody tr th:only-of-type {\n",
       "        vertical-align: middle;\n",
       "    }\n",
       "\n",
       "    .dataframe tbody tr th {\n",
       "        vertical-align: top;\n",
       "    }\n",
       "\n",
       "    .dataframe thead th {\n",
       "        text-align: right;\n",
       "    }\n",
       "</style>\n",
       "<table border=\"1\" class=\"dataframe\">\n",
       "  <thead>\n",
       "    <tr style=\"text-align: right;\">\n",
       "      <th></th>\n",
       "      <th>CustomerId</th>\n",
       "      <th>FirstName</th>\n",
       "      <th>LastName</th>\n",
       "      <th>Company</th>\n",
       "      <th>Address</th>\n",
       "      <th>City</th>\n",
       "      <th>State</th>\n",
       "      <th>Country</th>\n",
       "      <th>PostalCode</th>\n",
       "      <th>Phone</th>\n",
       "      <th>Fax</th>\n",
       "      <th>Email</th>\n",
       "      <th>SupportRepId</th>\n",
       "    </tr>\n",
       "  </thead>\n",
       "  <tbody>\n",
       "    <tr>\n",
       "      <th>0</th>\n",
       "      <td>1</td>\n",
       "      <td>Luís</td>\n",
       "      <td>Gonçalves</td>\n",
       "      <td>Embraer - Empresa Brasileira de Aeronáutica S.A.</td>\n",
       "      <td>Av. Brigadeiro Faria Lima, 2170</td>\n",
       "      <td>São José dos Campos</td>\n",
       "      <td>SP</td>\n",
       "      <td>Brazil</td>\n",
       "      <td>12227-000</td>\n",
       "      <td>+55 (12) 3923-5555</td>\n",
       "      <td>+55 (12) 3923-5566</td>\n",
       "      <td>luisg@embraer.com.br</td>\n",
       "      <td>3</td>\n",
       "    </tr>\n",
       "    <tr>\n",
       "      <th>1</th>\n",
       "      <td>10</td>\n",
       "      <td>Eduardo</td>\n",
       "      <td>Martins</td>\n",
       "      <td>Woodstock Discos</td>\n",
       "      <td>Rua Dr. Falcão Filho, 155</td>\n",
       "      <td>São Paulo</td>\n",
       "      <td>SP</td>\n",
       "      <td>Brazil</td>\n",
       "      <td>01007-010</td>\n",
       "      <td>+55 (11) 3033-5446</td>\n",
       "      <td>+55 (11) 3033-4564</td>\n",
       "      <td>eduardo@woodstock.com.br</td>\n",
       "      <td>4</td>\n",
       "    </tr>\n",
       "    <tr>\n",
       "      <th>2</th>\n",
       "      <td>11</td>\n",
       "      <td>Alexandre</td>\n",
       "      <td>Rocha</td>\n",
       "      <td>Banco do Brasil S.A.</td>\n",
       "      <td>Av. Paulista, 2022</td>\n",
       "      <td>São Paulo</td>\n",
       "      <td>SP</td>\n",
       "      <td>Brazil</td>\n",
       "      <td>01310-200</td>\n",
       "      <td>+55 (11) 3055-3278</td>\n",
       "      <td>+55 (11) 3055-8131</td>\n",
       "      <td>alero@uol.com.br</td>\n",
       "      <td>5</td>\n",
       "    </tr>\n",
       "    <tr>\n",
       "      <th>3</th>\n",
       "      <td>12</td>\n",
       "      <td>Roberto</td>\n",
       "      <td>Almeida</td>\n",
       "      <td>Riotur</td>\n",
       "      <td>Praça Pio X, 119</td>\n",
       "      <td>Rio de Janeiro</td>\n",
       "      <td>RJ</td>\n",
       "      <td>Brazil</td>\n",
       "      <td>20040-020</td>\n",
       "      <td>+55 (21) 2271-7000</td>\n",
       "      <td>+55 (21) 2271-7070</td>\n",
       "      <td>roberto.almeida@riotur.gov.br</td>\n",
       "      <td>3</td>\n",
       "    </tr>\n",
       "    <tr>\n",
       "      <th>4</th>\n",
       "      <td>13</td>\n",
       "      <td>Fernanda</td>\n",
       "      <td>Ramos</td>\n",
       "      <td>None</td>\n",
       "      <td>Qe 7 Bloco G</td>\n",
       "      <td>Brasília</td>\n",
       "      <td>DF</td>\n",
       "      <td>Brazil</td>\n",
       "      <td>71020-677</td>\n",
       "      <td>+55 (61) 3363-5547</td>\n",
       "      <td>+55 (61) 3363-7855</td>\n",
       "      <td>fernadaramos4@uol.com.br</td>\n",
       "      <td>4</td>\n",
       "    </tr>\n",
       "  </tbody>\n",
       "</table>\n",
       "</div>"
      ],
      "text/plain": [
       "   CustomerId  FirstName   LastName  \\\n",
       "0           1       Luís  Gonçalves   \n",
       "1          10    Eduardo    Martins   \n",
       "2          11  Alexandre      Rocha   \n",
       "3          12    Roberto    Almeida   \n",
       "4          13   Fernanda      Ramos   \n",
       "\n",
       "                                            Company  \\\n",
       "0  Embraer - Empresa Brasileira de Aeronáutica S.A.   \n",
       "1                                  Woodstock Discos   \n",
       "2                              Banco do Brasil S.A.   \n",
       "3                                            Riotur   \n",
       "4                                              None   \n",
       "\n",
       "                           Address                 City State Country  \\\n",
       "0  Av. Brigadeiro Faria Lima, 2170  São José dos Campos    SP  Brazil   \n",
       "1        Rua Dr. Falcão Filho, 155            São Paulo    SP  Brazil   \n",
       "2               Av. Paulista, 2022            São Paulo    SP  Brazil   \n",
       "3                 Praça Pio X, 119       Rio de Janeiro    RJ  Brazil   \n",
       "4                     Qe 7 Bloco G             Brasília    DF  Brazil   \n",
       "\n",
       "  PostalCode               Phone                 Fax  \\\n",
       "0  12227-000  +55 (12) 3923-5555  +55 (12) 3923-5566   \n",
       "1  01007-010  +55 (11) 3033-5446  +55 (11) 3033-4564   \n",
       "2  01310-200  +55 (11) 3055-3278  +55 (11) 3055-8131   \n",
       "3  20040-020  +55 (21) 2271-7000  +55 (21) 2271-7070   \n",
       "4  71020-677  +55 (61) 3363-5547  +55 (61) 3363-7855   \n",
       "\n",
       "                           Email  SupportRepId  \n",
       "0           luisg@embraer.com.br             3  \n",
       "1       eduardo@woodstock.com.br             4  \n",
       "2               alero@uol.com.br             5  \n",
       "3  roberto.almeida@riotur.gov.br             3  \n",
       "4       fernadaramos4@uol.com.br             4  "
      ]
     },
     "execution_count": 8,
     "metadata": {},
     "output_type": "execute_result"
    }
   ],
   "source": [
    "##1. Obtén los clientes de brasil\n",
    "#pd.read_sql_query(\"SELECT * FROM tracks;\", connection)\n",
    "\n",
    "pd.read_sql_query(\"select * from customers where country = 'Brazil';\" , connection)"
   ]
  },
  {
   "cell_type": "code",
   "execution_count": 9,
   "metadata": {},
   "outputs": [
    {
     "data": {
      "application/vnd.microsoft.datawrangler.viewer.v0+json": {
       "columns": [
        {
         "name": "index",
         "rawType": "int64",
         "type": "integer"
        },
        {
         "name": "EmployeeId",
         "rawType": "int64",
         "type": "integer"
        },
        {
         "name": "LastName",
         "rawType": "object",
         "type": "string"
        },
        {
         "name": "FirstName",
         "rawType": "object",
         "type": "string"
        },
        {
         "name": "Title",
         "rawType": "object",
         "type": "string"
        },
        {
         "name": "ReportsTo",
         "rawType": "int64",
         "type": "integer"
        },
        {
         "name": "BirthDate",
         "rawType": "object",
         "type": "string"
        },
        {
         "name": "HireDate",
         "rawType": "object",
         "type": "string"
        },
        {
         "name": "Address",
         "rawType": "object",
         "type": "string"
        },
        {
         "name": "City",
         "rawType": "object",
         "type": "string"
        },
        {
         "name": "State",
         "rawType": "object",
         "type": "string"
        },
        {
         "name": "Country",
         "rawType": "object",
         "type": "string"
        },
        {
         "name": "PostalCode",
         "rawType": "object",
         "type": "string"
        },
        {
         "name": "Phone",
         "rawType": "object",
         "type": "string"
        },
        {
         "name": "Fax",
         "rawType": "object",
         "type": "string"
        },
        {
         "name": "Email",
         "rawType": "object",
         "type": "string"
        }
       ],
       "conversionMethod": "pd.DataFrame",
       "ref": "686bb559-c956-4b99-8210-7bd9d1061cda",
       "rows": [
        [
         "0",
         "3",
         "Peacock",
         "Jane",
         "Sales Support Agent",
         "2",
         "1973-08-29 00:00:00",
         "2002-04-01 00:00:00",
         "1111 6 Ave SW",
         "Calgary",
         "AB",
         "Canada",
         "T2P 5M5",
         "+1 (403) 262-3443",
         "+1 (403) 262-6712",
         "jane@chinookcorp.com"
        ],
        [
         "1",
         "4",
         "Park",
         "Margaret",
         "Sales Support Agent",
         "2",
         "1947-09-19 00:00:00",
         "2003-05-03 00:00:00",
         "683 10 Street SW",
         "Calgary",
         "AB",
         "Canada",
         "T2P 5G3",
         "+1 (403) 263-4423",
         "+1 (403) 263-4289",
         "margaret@chinookcorp.com"
        ],
        [
         "2",
         "5",
         "Johnson",
         "Steve",
         "Sales Support Agent",
         "2",
         "1965-03-03 00:00:00",
         "2003-10-17 00:00:00",
         "7727B 41 Ave",
         "Calgary",
         "AB",
         "Canada",
         "T3B 1Y7",
         "1 (780) 836-9987",
         "1 (780) 836-9543",
         "steve@chinookcorp.com"
        ]
       ],
       "shape": {
        "columns": 15,
        "rows": 3
       }
      },
      "text/html": [
       "<div>\n",
       "<style scoped>\n",
       "    .dataframe tbody tr th:only-of-type {\n",
       "        vertical-align: middle;\n",
       "    }\n",
       "\n",
       "    .dataframe tbody tr th {\n",
       "        vertical-align: top;\n",
       "    }\n",
       "\n",
       "    .dataframe thead th {\n",
       "        text-align: right;\n",
       "    }\n",
       "</style>\n",
       "<table border=\"1\" class=\"dataframe\">\n",
       "  <thead>\n",
       "    <tr style=\"text-align: right;\">\n",
       "      <th></th>\n",
       "      <th>EmployeeId</th>\n",
       "      <th>LastName</th>\n",
       "      <th>FirstName</th>\n",
       "      <th>Title</th>\n",
       "      <th>ReportsTo</th>\n",
       "      <th>BirthDate</th>\n",
       "      <th>HireDate</th>\n",
       "      <th>Address</th>\n",
       "      <th>City</th>\n",
       "      <th>State</th>\n",
       "      <th>Country</th>\n",
       "      <th>PostalCode</th>\n",
       "      <th>Phone</th>\n",
       "      <th>Fax</th>\n",
       "      <th>Email</th>\n",
       "    </tr>\n",
       "  </thead>\n",
       "  <tbody>\n",
       "    <tr>\n",
       "      <th>0</th>\n",
       "      <td>3</td>\n",
       "      <td>Peacock</td>\n",
       "      <td>Jane</td>\n",
       "      <td>Sales Support Agent</td>\n",
       "      <td>2</td>\n",
       "      <td>1973-08-29 00:00:00</td>\n",
       "      <td>2002-04-01 00:00:00</td>\n",
       "      <td>1111 6 Ave SW</td>\n",
       "      <td>Calgary</td>\n",
       "      <td>AB</td>\n",
       "      <td>Canada</td>\n",
       "      <td>T2P 5M5</td>\n",
       "      <td>+1 (403) 262-3443</td>\n",
       "      <td>+1 (403) 262-6712</td>\n",
       "      <td>jane@chinookcorp.com</td>\n",
       "    </tr>\n",
       "    <tr>\n",
       "      <th>1</th>\n",
       "      <td>4</td>\n",
       "      <td>Park</td>\n",
       "      <td>Margaret</td>\n",
       "      <td>Sales Support Agent</td>\n",
       "      <td>2</td>\n",
       "      <td>1947-09-19 00:00:00</td>\n",
       "      <td>2003-05-03 00:00:00</td>\n",
       "      <td>683 10 Street SW</td>\n",
       "      <td>Calgary</td>\n",
       "      <td>AB</td>\n",
       "      <td>Canada</td>\n",
       "      <td>T2P 5G3</td>\n",
       "      <td>+1 (403) 263-4423</td>\n",
       "      <td>+1 (403) 263-4289</td>\n",
       "      <td>margaret@chinookcorp.com</td>\n",
       "    </tr>\n",
       "    <tr>\n",
       "      <th>2</th>\n",
       "      <td>5</td>\n",
       "      <td>Johnson</td>\n",
       "      <td>Steve</td>\n",
       "      <td>Sales Support Agent</td>\n",
       "      <td>2</td>\n",
       "      <td>1965-03-03 00:00:00</td>\n",
       "      <td>2003-10-17 00:00:00</td>\n",
       "      <td>7727B 41 Ave</td>\n",
       "      <td>Calgary</td>\n",
       "      <td>AB</td>\n",
       "      <td>Canada</td>\n",
       "      <td>T3B 1Y7</td>\n",
       "      <td>1 (780) 836-9987</td>\n",
       "      <td>1 (780) 836-9543</td>\n",
       "      <td>steve@chinookcorp.com</td>\n",
       "    </tr>\n",
       "  </tbody>\n",
       "</table>\n",
       "</div>"
      ],
      "text/plain": [
       "   EmployeeId LastName FirstName                Title  ReportsTo  \\\n",
       "0           3  Peacock      Jane  Sales Support Agent          2   \n",
       "1           4     Park  Margaret  Sales Support Agent          2   \n",
       "2           5  Johnson     Steve  Sales Support Agent          2   \n",
       "\n",
       "             BirthDate             HireDate           Address     City State  \\\n",
       "0  1973-08-29 00:00:00  2002-04-01 00:00:00     1111 6 Ave SW  Calgary    AB   \n",
       "1  1947-09-19 00:00:00  2003-05-03 00:00:00  683 10 Street SW  Calgary    AB   \n",
       "2  1965-03-03 00:00:00  2003-10-17 00:00:00      7727B 41 Ave  Calgary    AB   \n",
       "\n",
       "  Country PostalCode              Phone                Fax  \\\n",
       "0  Canada    T2P 5M5  +1 (403) 262-3443  +1 (403) 262-6712   \n",
       "1  Canada    T2P 5G3  +1 (403) 263-4423  +1 (403) 263-4289   \n",
       "2  Canada    T3B 1Y7   1 (780) 836-9987   1 (780) 836-9543   \n",
       "\n",
       "                      Email  \n",
       "0      jane@chinookcorp.com  \n",
       "1  margaret@chinookcorp.com  \n",
       "2     steve@chinookcorp.com  "
      ]
     },
     "execution_count": 9,
     "metadata": {},
     "output_type": "execute_result"
    }
   ],
   "source": [
    "#2. Obtén los empleados que son agentes de ventas\n",
    "pd.read_sql_query(\"select * from employees where title = 'Sales Support Agent';\" , connection)\n",
    "\n"
   ]
  },
  {
   "cell_type": "code",
   "execution_count": 10,
   "metadata": {},
   "outputs": [
    {
     "data": {
      "application/vnd.microsoft.datawrangler.viewer.v0+json": {
       "columns": [
        {
         "name": "index",
         "rawType": "int64",
         "type": "integer"
        },
        {
         "name": "TrackId",
         "rawType": "int64",
         "type": "integer"
        },
        {
         "name": "Name",
         "rawType": "object",
         "type": "string"
        },
        {
         "name": "AlbumId",
         "rawType": "int64",
         "type": "integer"
        },
        {
         "name": "MediaTypeId",
         "rawType": "int64",
         "type": "integer"
        },
        {
         "name": "GenreId",
         "rawType": "int64",
         "type": "integer"
        },
        {
         "name": "Composer",
         "rawType": "object",
         "type": "string"
        },
        {
         "name": "Milliseconds",
         "rawType": "int64",
         "type": "integer"
        },
        {
         "name": "Bytes",
         "rawType": "int64",
         "type": "integer"
        },
        {
         "name": "UnitPrice",
         "rawType": "float64",
         "type": "float"
        }
       ],
       "conversionMethod": "pd.DataFrame",
       "ref": "60379974-450a-4ac0-829a-55db44c55cdb",
       "rows": [
        [
         "0",
         "15",
         "Go Down",
         "4",
         "1",
         "1",
         "AC/DC",
         "331180",
         "10847611",
         "0.99"
        ],
        [
         "1",
         "16",
         "Dog Eat Dog",
         "4",
         "1",
         "1",
         "AC/DC",
         "215196",
         "7032162",
         "0.99"
        ],
        [
         "2",
         "17",
         "Let There Be Rock",
         "4",
         "1",
         "1",
         "AC/DC",
         "366654",
         "12021261",
         "0.99"
        ],
        [
         "3",
         "18",
         "Bad Boy Boogie",
         "4",
         "1",
         "1",
         "AC/DC",
         "267728",
         "8776140",
         "0.99"
        ],
        [
         "4",
         "19",
         "Problem Child",
         "4",
         "1",
         "1",
         "AC/DC",
         "325041",
         "10617116",
         "0.99"
        ],
        [
         "5",
         "20",
         "Overdose",
         "4",
         "1",
         "1",
         "AC/DC",
         "369319",
         "12066294",
         "0.99"
        ],
        [
         "6",
         "21",
         "Hell Ain't A Bad Place To Be",
         "4",
         "1",
         "1",
         "AC/DC",
         "254380",
         "8331286",
         "0.99"
        ],
        [
         "7",
         "22",
         "Whole Lotta Rosie",
         "4",
         "1",
         "1",
         "AC/DC",
         "323761",
         "10547154",
         "0.99"
        ]
       ],
       "shape": {
        "columns": 9,
        "rows": 8
       }
      },
      "text/html": [
       "<div>\n",
       "<style scoped>\n",
       "    .dataframe tbody tr th:only-of-type {\n",
       "        vertical-align: middle;\n",
       "    }\n",
       "\n",
       "    .dataframe tbody tr th {\n",
       "        vertical-align: top;\n",
       "    }\n",
       "\n",
       "    .dataframe thead th {\n",
       "        text-align: right;\n",
       "    }\n",
       "</style>\n",
       "<table border=\"1\" class=\"dataframe\">\n",
       "  <thead>\n",
       "    <tr style=\"text-align: right;\">\n",
       "      <th></th>\n",
       "      <th>TrackId</th>\n",
       "      <th>Name</th>\n",
       "      <th>AlbumId</th>\n",
       "      <th>MediaTypeId</th>\n",
       "      <th>GenreId</th>\n",
       "      <th>Composer</th>\n",
       "      <th>Milliseconds</th>\n",
       "      <th>Bytes</th>\n",
       "      <th>UnitPrice</th>\n",
       "    </tr>\n",
       "  </thead>\n",
       "  <tbody>\n",
       "    <tr>\n",
       "      <th>0</th>\n",
       "      <td>15</td>\n",
       "      <td>Go Down</td>\n",
       "      <td>4</td>\n",
       "      <td>1</td>\n",
       "      <td>1</td>\n",
       "      <td>AC/DC</td>\n",
       "      <td>331180</td>\n",
       "      <td>10847611</td>\n",
       "      <td>0.99</td>\n",
       "    </tr>\n",
       "    <tr>\n",
       "      <th>1</th>\n",
       "      <td>16</td>\n",
       "      <td>Dog Eat Dog</td>\n",
       "      <td>4</td>\n",
       "      <td>1</td>\n",
       "      <td>1</td>\n",
       "      <td>AC/DC</td>\n",
       "      <td>215196</td>\n",
       "      <td>7032162</td>\n",
       "      <td>0.99</td>\n",
       "    </tr>\n",
       "    <tr>\n",
       "      <th>2</th>\n",
       "      <td>17</td>\n",
       "      <td>Let There Be Rock</td>\n",
       "      <td>4</td>\n",
       "      <td>1</td>\n",
       "      <td>1</td>\n",
       "      <td>AC/DC</td>\n",
       "      <td>366654</td>\n",
       "      <td>12021261</td>\n",
       "      <td>0.99</td>\n",
       "    </tr>\n",
       "    <tr>\n",
       "      <th>3</th>\n",
       "      <td>18</td>\n",
       "      <td>Bad Boy Boogie</td>\n",
       "      <td>4</td>\n",
       "      <td>1</td>\n",
       "      <td>1</td>\n",
       "      <td>AC/DC</td>\n",
       "      <td>267728</td>\n",
       "      <td>8776140</td>\n",
       "      <td>0.99</td>\n",
       "    </tr>\n",
       "    <tr>\n",
       "      <th>4</th>\n",
       "      <td>19</td>\n",
       "      <td>Problem Child</td>\n",
       "      <td>4</td>\n",
       "      <td>1</td>\n",
       "      <td>1</td>\n",
       "      <td>AC/DC</td>\n",
       "      <td>325041</td>\n",
       "      <td>10617116</td>\n",
       "      <td>0.99</td>\n",
       "    </tr>\n",
       "    <tr>\n",
       "      <th>5</th>\n",
       "      <td>20</td>\n",
       "      <td>Overdose</td>\n",
       "      <td>4</td>\n",
       "      <td>1</td>\n",
       "      <td>1</td>\n",
       "      <td>AC/DC</td>\n",
       "      <td>369319</td>\n",
       "      <td>12066294</td>\n",
       "      <td>0.99</td>\n",
       "    </tr>\n",
       "    <tr>\n",
       "      <th>6</th>\n",
       "      <td>21</td>\n",
       "      <td>Hell Ain't A Bad Place To Be</td>\n",
       "      <td>4</td>\n",
       "      <td>1</td>\n",
       "      <td>1</td>\n",
       "      <td>AC/DC</td>\n",
       "      <td>254380</td>\n",
       "      <td>8331286</td>\n",
       "      <td>0.99</td>\n",
       "    </tr>\n",
       "    <tr>\n",
       "      <th>7</th>\n",
       "      <td>22</td>\n",
       "      <td>Whole Lotta Rosie</td>\n",
       "      <td>4</td>\n",
       "      <td>1</td>\n",
       "      <td>1</td>\n",
       "      <td>AC/DC</td>\n",
       "      <td>323761</td>\n",
       "      <td>10547154</td>\n",
       "      <td>0.99</td>\n",
       "    </tr>\n",
       "  </tbody>\n",
       "</table>\n",
       "</div>"
      ],
      "text/plain": [
       "   TrackId                          Name  AlbumId  MediaTypeId  GenreId  \\\n",
       "0       15                       Go Down        4            1        1   \n",
       "1       16                   Dog Eat Dog        4            1        1   \n",
       "2       17             Let There Be Rock        4            1        1   \n",
       "3       18                Bad Boy Boogie        4            1        1   \n",
       "4       19                 Problem Child        4            1        1   \n",
       "5       20                      Overdose        4            1        1   \n",
       "6       21  Hell Ain't A Bad Place To Be        4            1        1   \n",
       "7       22             Whole Lotta Rosie        4            1        1   \n",
       "\n",
       "  Composer  Milliseconds     Bytes  UnitPrice  \n",
       "0    AC/DC        331180  10847611       0.99  \n",
       "1    AC/DC        215196   7032162       0.99  \n",
       "2    AC/DC        366654  12021261       0.99  \n",
       "3    AC/DC        267728   8776140       0.99  \n",
       "4    AC/DC        325041  10617116       0.99  \n",
       "5    AC/DC        369319  12066294       0.99  \n",
       "6    AC/DC        254380   8331286       0.99  \n",
       "7    AC/DC        323761  10547154       0.99  "
      ]
     },
     "execution_count": 10,
     "metadata": {},
     "output_type": "execute_result"
    }
   ],
   "source": [
    "#3. Obtén las canciones de ‘AC/DC’\n",
    "pd.read_sql_query(\"select * from tracks where composer = 'AC/DC';\" , connection)\n"
   ]
  },
  {
   "cell_type": "code",
   "execution_count": null,
   "metadata": {},
   "outputs": [
    {
     "data": {
      "application/vnd.microsoft.datawrangler.viewer.v0+json": {
       "columns": [
        {
         "name": "index",
         "rawType": "int64",
         "type": "integer"
        },
        {
         "name": "CustomerId",
         "rawType": "int64",
         "type": "integer"
        },
        {
         "name": "FirstName",
         "rawType": "object",
         "type": "string"
        },
        {
         "name": "LastName",
         "rawType": "object",
         "type": "string"
        },
        {
         "name": "Country",
         "rawType": "object",
         "type": "string"
        }
       ],
       "conversionMethod": "pd.DataFrame",
       "ref": "808c16c7-b736-4f7a-b522-24772e644adb",
       "rows": [
        [
         "0",
         "16",
         "Frank",
         "Harris",
         "USA"
        ],
        [
         "1",
         "17",
         "Jack",
         "Smith",
         "USA"
        ],
        [
         "2",
         "18",
         "Michelle",
         "Brooks",
         "USA"
        ],
        [
         "3",
         "19",
         "Tim",
         "Goyer",
         "USA"
        ],
        [
         "4",
         "20",
         "Dan",
         "Miller",
         "USA"
        ],
        [
         "5",
         "21",
         "Kathy",
         "Chase",
         "USA"
        ],
        [
         "6",
         "22",
         "Heather",
         "Leacock",
         "USA"
        ],
        [
         "7",
         "23",
         "John",
         "Gordon",
         "USA"
        ],
        [
         "8",
         "24",
         "Frank",
         "Ralston",
         "USA"
        ],
        [
         "9",
         "25",
         "Victor",
         "Stevens",
         "USA"
        ],
        [
         "10",
         "26",
         "Richard",
         "Cunningham",
         "USA"
        ],
        [
         "11",
         "27",
         "Patrick",
         "Gray",
         "USA"
        ],
        [
         "12",
         "28",
         "Julia",
         "Barnett",
         "USA"
        ]
       ],
       "shape": {
        "columns": 4,
        "rows": 13
       }
      },
      "text/html": [
       "<div>\n",
       "<style scoped>\n",
       "    .dataframe tbody tr th:only-of-type {\n",
       "        vertical-align: middle;\n",
       "    }\n",
       "\n",
       "    .dataframe tbody tr th {\n",
       "        vertical-align: top;\n",
       "    }\n",
       "\n",
       "    .dataframe thead th {\n",
       "        text-align: right;\n",
       "    }\n",
       "</style>\n",
       "<table border=\"1\" class=\"dataframe\">\n",
       "  <thead>\n",
       "    <tr style=\"text-align: right;\">\n",
       "      <th></th>\n",
       "      <th>CustomerId</th>\n",
       "      <th>FirstName</th>\n",
       "      <th>LastName</th>\n",
       "      <th>Country</th>\n",
       "    </tr>\n",
       "  </thead>\n",
       "  <tbody>\n",
       "    <tr>\n",
       "      <th>0</th>\n",
       "      <td>16</td>\n",
       "      <td>Frank</td>\n",
       "      <td>Harris</td>\n",
       "      <td>USA</td>\n",
       "    </tr>\n",
       "    <tr>\n",
       "      <th>1</th>\n",
       "      <td>17</td>\n",
       "      <td>Jack</td>\n",
       "      <td>Smith</td>\n",
       "      <td>USA</td>\n",
       "    </tr>\n",
       "    <tr>\n",
       "      <th>2</th>\n",
       "      <td>18</td>\n",
       "      <td>Michelle</td>\n",
       "      <td>Brooks</td>\n",
       "      <td>USA</td>\n",
       "    </tr>\n",
       "    <tr>\n",
       "      <th>3</th>\n",
       "      <td>19</td>\n",
       "      <td>Tim</td>\n",
       "      <td>Goyer</td>\n",
       "      <td>USA</td>\n",
       "    </tr>\n",
       "    <tr>\n",
       "      <th>4</th>\n",
       "      <td>20</td>\n",
       "      <td>Dan</td>\n",
       "      <td>Miller</td>\n",
       "      <td>USA</td>\n",
       "    </tr>\n",
       "    <tr>\n",
       "      <th>5</th>\n",
       "      <td>21</td>\n",
       "      <td>Kathy</td>\n",
       "      <td>Chase</td>\n",
       "      <td>USA</td>\n",
       "    </tr>\n",
       "    <tr>\n",
       "      <th>6</th>\n",
       "      <td>22</td>\n",
       "      <td>Heather</td>\n",
       "      <td>Leacock</td>\n",
       "      <td>USA</td>\n",
       "    </tr>\n",
       "    <tr>\n",
       "      <th>7</th>\n",
       "      <td>23</td>\n",
       "      <td>John</td>\n",
       "      <td>Gordon</td>\n",
       "      <td>USA</td>\n",
       "    </tr>\n",
       "    <tr>\n",
       "      <th>8</th>\n",
       "      <td>24</td>\n",
       "      <td>Frank</td>\n",
       "      <td>Ralston</td>\n",
       "      <td>USA</td>\n",
       "    </tr>\n",
       "    <tr>\n",
       "      <th>9</th>\n",
       "      <td>25</td>\n",
       "      <td>Victor</td>\n",
       "      <td>Stevens</td>\n",
       "      <td>USA</td>\n",
       "    </tr>\n",
       "    <tr>\n",
       "      <th>10</th>\n",
       "      <td>26</td>\n",
       "      <td>Richard</td>\n",
       "      <td>Cunningham</td>\n",
       "      <td>USA</td>\n",
       "    </tr>\n",
       "    <tr>\n",
       "      <th>11</th>\n",
       "      <td>27</td>\n",
       "      <td>Patrick</td>\n",
       "      <td>Gray</td>\n",
       "      <td>USA</td>\n",
       "    </tr>\n",
       "    <tr>\n",
       "      <th>12</th>\n",
       "      <td>28</td>\n",
       "      <td>Julia</td>\n",
       "      <td>Barnett</td>\n",
       "      <td>USA</td>\n",
       "    </tr>\n",
       "  </tbody>\n",
       "</table>\n",
       "</div>"
      ],
      "text/plain": [
       "    CustomerId FirstName    LastName Country\n",
       "0           16     Frank      Harris     USA\n",
       "1           17      Jack       Smith     USA\n",
       "2           18  Michelle      Brooks     USA\n",
       "3           19       Tim       Goyer     USA\n",
       "4           20       Dan      Miller     USA\n",
       "5           21     Kathy       Chase     USA\n",
       "6           22   Heather     Leacock     USA\n",
       "7           23      John      Gordon     USA\n",
       "8           24     Frank     Ralston     USA\n",
       "9           25    Victor     Stevens     USA\n",
       "10          26   Richard  Cunningham     USA\n",
       "11          27   Patrick        Gray     USA\n",
       "12          28     Julia     Barnett     USA"
      ]
     },
     "execution_count": 12,
     "metadata": {},
     "output_type": "execute_result"
    }
   ],
   "source": [
    "#4. Obtén los campos de los clientes que no sean de USA: Nombre completo, ID, País\n",
    "pd.read_sql_query(\"select customerid, firstname, lastname, country from customers where country = 'USA';\" , connection)\n"
   ]
  },
  {
   "cell_type": "code",
   "execution_count": 14,
   "metadata": {},
   "outputs": [
    {
     "data": {
      "application/vnd.microsoft.datawrangler.viewer.v0+json": {
       "columns": [
        {
         "name": "index",
         "rawType": "int64",
         "type": "integer"
        },
        {
         "name": "LastName",
         "rawType": "object",
         "type": "string"
        },
        {
         "name": "FirstName",
         "rawType": "object",
         "type": "string"
        },
        {
         "name": "City",
         "rawType": "object",
         "type": "string"
        },
        {
         "name": "State",
         "rawType": "object",
         "type": "string"
        },
        {
         "name": "Country",
         "rawType": "object",
         "type": "string"
        },
        {
         "name": "Email",
         "rawType": "object",
         "type": "string"
        }
       ],
       "conversionMethod": "pd.DataFrame",
       "ref": "531246ca-995c-4e0d-bfdc-546069cd5c5a",
       "rows": [
        [
         "0",
         "Peacock",
         "Jane",
         "Calgary",
         "AB",
         "Canada",
         "jane@chinookcorp.com"
        ],
        [
         "1",
         "Park",
         "Margaret",
         "Calgary",
         "AB",
         "Canada",
         "margaret@chinookcorp.com"
        ],
        [
         "2",
         "Johnson",
         "Steve",
         "Calgary",
         "AB",
         "Canada",
         "steve@chinookcorp.com"
        ]
       ],
       "shape": {
        "columns": 6,
        "rows": 3
       }
      },
      "text/html": [
       "<div>\n",
       "<style scoped>\n",
       "    .dataframe tbody tr th:only-of-type {\n",
       "        vertical-align: middle;\n",
       "    }\n",
       "\n",
       "    .dataframe tbody tr th {\n",
       "        vertical-align: top;\n",
       "    }\n",
       "\n",
       "    .dataframe thead th {\n",
       "        text-align: right;\n",
       "    }\n",
       "</style>\n",
       "<table border=\"1\" class=\"dataframe\">\n",
       "  <thead>\n",
       "    <tr style=\"text-align: right;\">\n",
       "      <th></th>\n",
       "      <th>LastName</th>\n",
       "      <th>FirstName</th>\n",
       "      <th>City</th>\n",
       "      <th>State</th>\n",
       "      <th>Country</th>\n",
       "      <th>Email</th>\n",
       "    </tr>\n",
       "  </thead>\n",
       "  <tbody>\n",
       "    <tr>\n",
       "      <th>0</th>\n",
       "      <td>Peacock</td>\n",
       "      <td>Jane</td>\n",
       "      <td>Calgary</td>\n",
       "      <td>AB</td>\n",
       "      <td>Canada</td>\n",
       "      <td>jane@chinookcorp.com</td>\n",
       "    </tr>\n",
       "    <tr>\n",
       "      <th>1</th>\n",
       "      <td>Park</td>\n",
       "      <td>Margaret</td>\n",
       "      <td>Calgary</td>\n",
       "      <td>AB</td>\n",
       "      <td>Canada</td>\n",
       "      <td>margaret@chinookcorp.com</td>\n",
       "    </tr>\n",
       "    <tr>\n",
       "      <th>2</th>\n",
       "      <td>Johnson</td>\n",
       "      <td>Steve</td>\n",
       "      <td>Calgary</td>\n",
       "      <td>AB</td>\n",
       "      <td>Canada</td>\n",
       "      <td>steve@chinookcorp.com</td>\n",
       "    </tr>\n",
       "  </tbody>\n",
       "</table>\n",
       "</div>"
      ],
      "text/plain": [
       "  LastName FirstName     City State Country                     Email\n",
       "0  Peacock      Jane  Calgary    AB  Canada      jane@chinookcorp.com\n",
       "1     Park  Margaret  Calgary    AB  Canada  margaret@chinookcorp.com\n",
       "2  Johnson     Steve  Calgary    AB  Canada     steve@chinookcorp.com"
      ]
     },
     "execution_count": 14,
     "metadata": {},
     "output_type": "execute_result"
    }
   ],
   "source": [
    "#5.Obtén los empleados que son agentes de ventas: Nombre completo, Dirección\n",
    " #(Ciudad, Estado, País) y email\n",
    "\n",
    "pd.read_sql_query(\"Select LASTNAME, FIRSTNAME, city, state, COUNTRY, email from employees where title = 'Sales Support Agent';\" , connection)\n"
   ]
  },
  {
   "cell_type": "code",
   "execution_count": 16,
   "metadata": {},
   "outputs": [
    {
     "data": {
      "application/vnd.microsoft.datawrangler.viewer.v0+json": {
       "columns": [
        {
         "name": "index",
         "rawType": "int64",
         "type": "integer"
        },
        {
         "name": "BillingCountry",
         "rawType": "object",
         "type": "string"
        }
       ],
       "conversionMethod": "pd.DataFrame",
       "ref": "4989bed3-a3b4-45d5-81a4-eff9a47c3c18",
       "rows": [
        [
         "0",
         "Germany"
        ],
        [
         "1",
         "Norway"
        ],
        [
         "2",
         "Belgium"
        ],
        [
         "3",
         "Canada"
        ],
        [
         "4",
         "USA"
        ],
        [
         "5",
         "France"
        ],
        [
         "6",
         "Ireland"
        ],
        [
         "7",
         "United Kingdom"
        ],
        [
         "8",
         "Australia"
        ],
        [
         "9",
         "Chile"
        ],
        [
         "10",
         "India"
        ],
        [
         "11",
         "Brazil"
        ],
        [
         "12",
         "Portugal"
        ],
        [
         "13",
         "Netherlands"
        ],
        [
         "14",
         "Spain"
        ],
        [
         "15",
         "Sweden"
        ],
        [
         "16",
         "Czech Republic"
        ],
        [
         "17",
         "Finland"
        ],
        [
         "18",
         "Denmark"
        ],
        [
         "19",
         "Italy"
        ],
        [
         "20",
         "Poland"
        ],
        [
         "21",
         "Austria"
        ],
        [
         "22",
         "Hungary"
        ],
        [
         "23",
         "Argentina"
        ]
       ],
       "shape": {
        "columns": 1,
        "rows": 24
       }
      },
      "text/html": [
       "<div>\n",
       "<style scoped>\n",
       "    .dataframe tbody tr th:only-of-type {\n",
       "        vertical-align: middle;\n",
       "    }\n",
       "\n",
       "    .dataframe tbody tr th {\n",
       "        vertical-align: top;\n",
       "    }\n",
       "\n",
       "    .dataframe thead th {\n",
       "        text-align: right;\n",
       "    }\n",
       "</style>\n",
       "<table border=\"1\" class=\"dataframe\">\n",
       "  <thead>\n",
       "    <tr style=\"text-align: right;\">\n",
       "      <th></th>\n",
       "      <th>BillingCountry</th>\n",
       "    </tr>\n",
       "  </thead>\n",
       "  <tbody>\n",
       "    <tr>\n",
       "      <th>0</th>\n",
       "      <td>Germany</td>\n",
       "    </tr>\n",
       "    <tr>\n",
       "      <th>1</th>\n",
       "      <td>Norway</td>\n",
       "    </tr>\n",
       "    <tr>\n",
       "      <th>2</th>\n",
       "      <td>Belgium</td>\n",
       "    </tr>\n",
       "    <tr>\n",
       "      <th>3</th>\n",
       "      <td>Canada</td>\n",
       "    </tr>\n",
       "    <tr>\n",
       "      <th>4</th>\n",
       "      <td>USA</td>\n",
       "    </tr>\n",
       "    <tr>\n",
       "      <th>5</th>\n",
       "      <td>France</td>\n",
       "    </tr>\n",
       "    <tr>\n",
       "      <th>6</th>\n",
       "      <td>Ireland</td>\n",
       "    </tr>\n",
       "    <tr>\n",
       "      <th>7</th>\n",
       "      <td>United Kingdom</td>\n",
       "    </tr>\n",
       "    <tr>\n",
       "      <th>8</th>\n",
       "      <td>Australia</td>\n",
       "    </tr>\n",
       "    <tr>\n",
       "      <th>9</th>\n",
       "      <td>Chile</td>\n",
       "    </tr>\n",
       "    <tr>\n",
       "      <th>10</th>\n",
       "      <td>India</td>\n",
       "    </tr>\n",
       "    <tr>\n",
       "      <th>11</th>\n",
       "      <td>Brazil</td>\n",
       "    </tr>\n",
       "    <tr>\n",
       "      <th>12</th>\n",
       "      <td>Portugal</td>\n",
       "    </tr>\n",
       "    <tr>\n",
       "      <th>13</th>\n",
       "      <td>Netherlands</td>\n",
       "    </tr>\n",
       "    <tr>\n",
       "      <th>14</th>\n",
       "      <td>Spain</td>\n",
       "    </tr>\n",
       "    <tr>\n",
       "      <th>15</th>\n",
       "      <td>Sweden</td>\n",
       "    </tr>\n",
       "    <tr>\n",
       "      <th>16</th>\n",
       "      <td>Czech Republic</td>\n",
       "    </tr>\n",
       "    <tr>\n",
       "      <th>17</th>\n",
       "      <td>Finland</td>\n",
       "    </tr>\n",
       "    <tr>\n",
       "      <th>18</th>\n",
       "      <td>Denmark</td>\n",
       "    </tr>\n",
       "    <tr>\n",
       "      <th>19</th>\n",
       "      <td>Italy</td>\n",
       "    </tr>\n",
       "    <tr>\n",
       "      <th>20</th>\n",
       "      <td>Poland</td>\n",
       "    </tr>\n",
       "    <tr>\n",
       "      <th>21</th>\n",
       "      <td>Austria</td>\n",
       "    </tr>\n",
       "    <tr>\n",
       "      <th>22</th>\n",
       "      <td>Hungary</td>\n",
       "    </tr>\n",
       "    <tr>\n",
       "      <th>23</th>\n",
       "      <td>Argentina</td>\n",
       "    </tr>\n",
       "  </tbody>\n",
       "</table>\n",
       "</div>"
      ],
      "text/plain": [
       "    BillingCountry\n",
       "0          Germany\n",
       "1           Norway\n",
       "2          Belgium\n",
       "3           Canada\n",
       "4              USA\n",
       "5           France\n",
       "6          Ireland\n",
       "7   United Kingdom\n",
       "8        Australia\n",
       "9            Chile\n",
       "10           India\n",
       "11          Brazil\n",
       "12        Portugal\n",
       "13     Netherlands\n",
       "14           Spain\n",
       "15          Sweden\n",
       "16  Czech Republic\n",
       "17         Finland\n",
       "18         Denmark\n",
       "19           Italy\n",
       "20          Poland\n",
       "21         Austria\n",
       "22         Hungary\n",
       "23       Argentina"
      ]
     },
     "execution_count": 16,
     "metadata": {},
     "output_type": "execute_result"
    }
   ],
   "source": [
    "#6. Obtén una lista con los países no repetidos a los que se han emitido facturas\n",
    "\n",
    "pd.read_sql_query(\"Select distinct billingcountry from invoices;\" , connection)\n"
   ]
  },
  {
   "cell_type": "code",
   "execution_count": 6,
   "metadata": {},
   "outputs": [
    {
     "data": {
      "application/vnd.microsoft.datawrangler.viewer.v0+json": {
       "columns": [
        {
         "name": "index",
         "rawType": "int64",
         "type": "integer"
        },
        {
         "name": "State",
         "rawType": "object",
         "type": "string"
        },
        {
         "name": "num_cliente",
         "rawType": "int64",
         "type": "integer"
        }
       ],
       "conversionMethod": "pd.DataFrame",
       "ref": "821c8e83-a883-4c70-8d09-f6dc18850e26",
       "rows": [
        [
         "0",
         "AZ",
         "1"
        ],
        [
         "1",
         "CA",
         "3"
        ],
        [
         "2",
         "FL",
         "1"
        ],
        [
         "3",
         "IL",
         "1"
        ],
        [
         "4",
         "MA",
         "1"
        ],
        [
         "5",
         "NV",
         "1"
        ],
        [
         "6",
         "NY",
         "1"
        ],
        [
         "7",
         "TX",
         "1"
        ],
        [
         "8",
         "UT",
         "1"
        ],
        [
         "9",
         "WA",
         "1"
        ],
        [
         "10",
         "WI",
         "1"
        ]
       ],
       "shape": {
        "columns": 2,
        "rows": 11
       }
      },
      "text/html": [
       "<div>\n",
       "<style scoped>\n",
       "    .dataframe tbody tr th:only-of-type {\n",
       "        vertical-align: middle;\n",
       "    }\n",
       "\n",
       "    .dataframe tbody tr th {\n",
       "        vertical-align: top;\n",
       "    }\n",
       "\n",
       "    .dataframe thead th {\n",
       "        text-align: right;\n",
       "    }\n",
       "</style>\n",
       "<table border=\"1\" class=\"dataframe\">\n",
       "  <thead>\n",
       "    <tr style=\"text-align: right;\">\n",
       "      <th></th>\n",
       "      <th>State</th>\n",
       "      <th>num_cliente</th>\n",
       "    </tr>\n",
       "  </thead>\n",
       "  <tbody>\n",
       "    <tr>\n",
       "      <th>0</th>\n",
       "      <td>AZ</td>\n",
       "      <td>1</td>\n",
       "    </tr>\n",
       "    <tr>\n",
       "      <th>1</th>\n",
       "      <td>CA</td>\n",
       "      <td>3</td>\n",
       "    </tr>\n",
       "    <tr>\n",
       "      <th>2</th>\n",
       "      <td>FL</td>\n",
       "      <td>1</td>\n",
       "    </tr>\n",
       "    <tr>\n",
       "      <th>3</th>\n",
       "      <td>IL</td>\n",
       "      <td>1</td>\n",
       "    </tr>\n",
       "    <tr>\n",
       "      <th>4</th>\n",
       "      <td>MA</td>\n",
       "      <td>1</td>\n",
       "    </tr>\n",
       "    <tr>\n",
       "      <th>5</th>\n",
       "      <td>NV</td>\n",
       "      <td>1</td>\n",
       "    </tr>\n",
       "    <tr>\n",
       "      <th>6</th>\n",
       "      <td>NY</td>\n",
       "      <td>1</td>\n",
       "    </tr>\n",
       "    <tr>\n",
       "      <th>7</th>\n",
       "      <td>TX</td>\n",
       "      <td>1</td>\n",
       "    </tr>\n",
       "    <tr>\n",
       "      <th>8</th>\n",
       "      <td>UT</td>\n",
       "      <td>1</td>\n",
       "    </tr>\n",
       "    <tr>\n",
       "      <th>9</th>\n",
       "      <td>WA</td>\n",
       "      <td>1</td>\n",
       "    </tr>\n",
       "    <tr>\n",
       "      <th>10</th>\n",
       "      <td>WI</td>\n",
       "      <td>1</td>\n",
       "    </tr>\n",
       "  </tbody>\n",
       "</table>\n",
       "</div>"
      ],
      "text/plain": [
       "   State  num_cliente\n",
       "0     AZ            1\n",
       "1     CA            3\n",
       "2     FL            1\n",
       "3     IL            1\n",
       "4     MA            1\n",
       "5     NV            1\n",
       "6     NY            1\n",
       "7     TX            1\n",
       "8     UT            1\n",
       "9     WA            1\n",
       "10    WI            1"
      ]
     },
     "execution_count": 6,
     "metadata": {},
     "output_type": "execute_result"
    }
   ],
   "source": [
    "##7. Obtén una lista con los estados de USA no repetidos de donde son los clientes y\n",
    " #cuántos clientes en cada uno.\n",
    "\n",
    "pd.read_sql_query(\"Select state, count(customerid) as num_cliente from customers where country ='USA' group by state;\" , connection)\n",
    "\n",
    "\n"
   ]
  },
  {
   "cell_type": "code",
   "execution_count": 19,
   "metadata": {},
   "outputs": [
    {
     "data": {
      "application/vnd.microsoft.datawrangler.viewer.v0+json": {
       "columns": [
        {
         "name": "index",
         "rawType": "int64",
         "type": "integer"
        },
        {
         "name": "cant",
         "rawType": "int64",
         "type": "integer"
        }
       ],
       "conversionMethod": "pd.DataFrame",
       "ref": "d7a7220d-8fe5-451f-9c1b-95e9a9965c3f",
       "rows": [
        [
         "0",
         "4"
        ]
       ],
       "shape": {
        "columns": 1,
        "rows": 1
       }
      },
      "text/html": [
       "<div>\n",
       "<style scoped>\n",
       "    .dataframe tbody tr th:only-of-type {\n",
       "        vertical-align: middle;\n",
       "    }\n",
       "\n",
       "    .dataframe tbody tr th {\n",
       "        vertical-align: top;\n",
       "    }\n",
       "\n",
       "    .dataframe thead th {\n",
       "        text-align: right;\n",
       "    }\n",
       "</style>\n",
       "<table border=\"1\" class=\"dataframe\">\n",
       "  <thead>\n",
       "    <tr style=\"text-align: right;\">\n",
       "      <th></th>\n",
       "      <th>cant</th>\n",
       "    </tr>\n",
       "  </thead>\n",
       "  <tbody>\n",
       "    <tr>\n",
       "      <th>0</th>\n",
       "      <td>4</td>\n",
       "    </tr>\n",
       "  </tbody>\n",
       "</table>\n",
       "</div>"
      ],
      "text/plain": [
       "   cant\n",
       "0     4"
      ]
     },
     "execution_count": 19,
     "metadata": {},
     "output_type": "execute_result"
    }
   ],
   "source": [
    "#8.Cuántos artículos tiene la factura 37\n",
    "\n",
    "pd.read_sql_query(\"Select COUNT (invoicelineid) AS cant FROM invoice_itemS WHERE invoiceId = 37;\" , connection)\n"
   ]
  },
  {
   "cell_type": "code",
   "execution_count": 22,
   "metadata": {},
   "outputs": [
    {
     "data": {
      "application/vnd.microsoft.datawrangler.viewer.v0+json": {
       "columns": [
        {
         "name": "index",
         "rawType": "int64",
         "type": "integer"
        },
        {
         "name": "canciones",
         "rawType": "int64",
         "type": "integer"
        }
       ],
       "conversionMethod": "pd.DataFrame",
       "ref": "9fb65afe-cf52-42f4-8aad-0777bec91a1f",
       "rows": [
        [
         "0",
         "8"
        ]
       ],
       "shape": {
        "columns": 1,
        "rows": 1
       }
      },
      "text/html": [
       "<div>\n",
       "<style scoped>\n",
       "    .dataframe tbody tr th:only-of-type {\n",
       "        vertical-align: middle;\n",
       "    }\n",
       "\n",
       "    .dataframe tbody tr th {\n",
       "        vertical-align: top;\n",
       "    }\n",
       "\n",
       "    .dataframe thead th {\n",
       "        text-align: right;\n",
       "    }\n",
       "</style>\n",
       "<table border=\"1\" class=\"dataframe\">\n",
       "  <thead>\n",
       "    <tr style=\"text-align: right;\">\n",
       "      <th></th>\n",
       "      <th>canciones</th>\n",
       "    </tr>\n",
       "  </thead>\n",
       "  <tbody>\n",
       "    <tr>\n",
       "      <th>0</th>\n",
       "      <td>8</td>\n",
       "    </tr>\n",
       "  </tbody>\n",
       "</table>\n",
       "</div>"
      ],
      "text/plain": [
       "   canciones\n",
       "0          8"
      ]
     },
     "execution_count": 22,
     "metadata": {},
     "output_type": "execute_result"
    }
   ],
   "source": [
    "#9. Cuántas canciones tiene ‘AC/DC’\n",
    "\n",
    "pd.read_sql_query(\"Select COUNT (trackid) AS canciones FROM tracks WHERE composer = 'AC/DC';\" , connection)"
   ]
  },
  {
   "cell_type": "code",
   "execution_count": null,
   "metadata": {},
   "outputs": [],
   "source": []
  },
  {
   "cell_type": "code",
   "execution_count": 24,
   "metadata": {},
   "outputs": [
    {
     "data": {
      "application/vnd.microsoft.datawrangler.viewer.v0+json": {
       "columns": [
        {
         "name": "index",
         "rawType": "int64",
         "type": "integer"
        },
        {
         "name": "InvoiceId",
         "rawType": "int64",
         "type": "integer"
        },
        {
         "name": "articulos",
         "rawType": "int64",
         "type": "integer"
        }
       ],
       "conversionMethod": "pd.DataFrame",
       "ref": "7b92022e-47ff-4464-89e0-84e8548fde84",
       "rows": [
        [
         "0",
         "1",
         "2"
        ],
        [
         "1",
         "2",
         "4"
        ],
        [
         "2",
         "3",
         "6"
        ],
        [
         "3",
         "4",
         "9"
        ],
        [
         "4",
         "5",
         "14"
        ],
        [
         "5",
         "6",
         "1"
        ],
        [
         "6",
         "7",
         "2"
        ],
        [
         "7",
         "8",
         "2"
        ],
        [
         "8",
         "9",
         "4"
        ],
        [
         "9",
         "10",
         "6"
        ],
        [
         "10",
         "11",
         "9"
        ],
        [
         "11",
         "12",
         "14"
        ],
        [
         "12",
         "13",
         "1"
        ],
        [
         "13",
         "14",
         "2"
        ],
        [
         "14",
         "15",
         "2"
        ],
        [
         "15",
         "16",
         "4"
        ],
        [
         "16",
         "17",
         "6"
        ],
        [
         "17",
         "18",
         "9"
        ],
        [
         "18",
         "19",
         "14"
        ],
        [
         "19",
         "20",
         "1"
        ],
        [
         "20",
         "21",
         "2"
        ],
        [
         "21",
         "22",
         "2"
        ],
        [
         "22",
         "23",
         "4"
        ],
        [
         "23",
         "24",
         "6"
        ],
        [
         "24",
         "25",
         "9"
        ],
        [
         "25",
         "26",
         "14"
        ],
        [
         "26",
         "27",
         "1"
        ],
        [
         "27",
         "28",
         "2"
        ],
        [
         "28",
         "29",
         "2"
        ],
        [
         "29",
         "30",
         "4"
        ],
        [
         "30",
         "31",
         "6"
        ],
        [
         "31",
         "32",
         "9"
        ],
        [
         "32",
         "33",
         "14"
        ],
        [
         "33",
         "34",
         "1"
        ],
        [
         "34",
         "35",
         "2"
        ],
        [
         "35",
         "36",
         "2"
        ],
        [
         "36",
         "37",
         "4"
        ],
        [
         "37",
         "38",
         "6"
        ],
        [
         "38",
         "39",
         "9"
        ],
        [
         "39",
         "40",
         "14"
        ],
        [
         "40",
         "41",
         "1"
        ],
        [
         "41",
         "42",
         "2"
        ],
        [
         "42",
         "43",
         "2"
        ],
        [
         "43",
         "44",
         "4"
        ],
        [
         "44",
         "45",
         "6"
        ],
        [
         "45",
         "46",
         "9"
        ],
        [
         "46",
         "47",
         "14"
        ],
        [
         "47",
         "48",
         "1"
        ],
        [
         "48",
         "49",
         "2"
        ],
        [
         "49",
         "50",
         "2"
        ]
       ],
       "shape": {
        "columns": 2,
        "rows": 412
       }
      },
      "text/html": [
       "<div>\n",
       "<style scoped>\n",
       "    .dataframe tbody tr th:only-of-type {\n",
       "        vertical-align: middle;\n",
       "    }\n",
       "\n",
       "    .dataframe tbody tr th {\n",
       "        vertical-align: top;\n",
       "    }\n",
       "\n",
       "    .dataframe thead th {\n",
       "        text-align: right;\n",
       "    }\n",
       "</style>\n",
       "<table border=\"1\" class=\"dataframe\">\n",
       "  <thead>\n",
       "    <tr style=\"text-align: right;\">\n",
       "      <th></th>\n",
       "      <th>InvoiceId</th>\n",
       "      <th>articulos</th>\n",
       "    </tr>\n",
       "  </thead>\n",
       "  <tbody>\n",
       "    <tr>\n",
       "      <th>0</th>\n",
       "      <td>1</td>\n",
       "      <td>2</td>\n",
       "    </tr>\n",
       "    <tr>\n",
       "      <th>1</th>\n",
       "      <td>2</td>\n",
       "      <td>4</td>\n",
       "    </tr>\n",
       "    <tr>\n",
       "      <th>2</th>\n",
       "      <td>3</td>\n",
       "      <td>6</td>\n",
       "    </tr>\n",
       "    <tr>\n",
       "      <th>3</th>\n",
       "      <td>4</td>\n",
       "      <td>9</td>\n",
       "    </tr>\n",
       "    <tr>\n",
       "      <th>4</th>\n",
       "      <td>5</td>\n",
       "      <td>14</td>\n",
       "    </tr>\n",
       "    <tr>\n",
       "      <th>...</th>\n",
       "      <td>...</td>\n",
       "      <td>...</td>\n",
       "    </tr>\n",
       "    <tr>\n",
       "      <th>407</th>\n",
       "      <td>408</td>\n",
       "      <td>4</td>\n",
       "    </tr>\n",
       "    <tr>\n",
       "      <th>408</th>\n",
       "      <td>409</td>\n",
       "      <td>6</td>\n",
       "    </tr>\n",
       "    <tr>\n",
       "      <th>409</th>\n",
       "      <td>410</td>\n",
       "      <td>9</td>\n",
       "    </tr>\n",
       "    <tr>\n",
       "      <th>410</th>\n",
       "      <td>411</td>\n",
       "      <td>14</td>\n",
       "    </tr>\n",
       "    <tr>\n",
       "      <th>411</th>\n",
       "      <td>412</td>\n",
       "      <td>1</td>\n",
       "    </tr>\n",
       "  </tbody>\n",
       "</table>\n",
       "<p>412 rows × 2 columns</p>\n",
       "</div>"
      ],
      "text/plain": [
       "     InvoiceId  articulos\n",
       "0            1          2\n",
       "1            2          4\n",
       "2            3          6\n",
       "3            4          9\n",
       "4            5         14\n",
       "..         ...        ...\n",
       "407        408          4\n",
       "408        409          6\n",
       "409        410          9\n",
       "410        411         14\n",
       "411        412          1\n",
       "\n",
       "[412 rows x 2 columns]"
      ]
     },
     "execution_count": 24,
     "metadata": {},
     "output_type": "execute_result"
    }
   ],
   "source": [
    "## 10. Cuántos artículos tiene cada factura\n",
    "\n",
    "pd.read_sql_query(\"Select invoiceid, COUNT (invoicelineid) AS articulos FROM invoice_items group by invoiceid;\" , connection)\n",
    "\n",
    "\n"
   ]
  },
  {
   "cell_type": "code",
   "execution_count": 8,
   "metadata": {},
   "outputs": [
    {
     "data": {
      "application/vnd.microsoft.datawrangler.viewer.v0+json": {
       "columns": [
        {
         "name": "index",
         "rawType": "int64",
         "type": "integer"
        },
        {
         "name": "BillingCountry",
         "rawType": "object",
         "type": "string"
        },
        {
         "name": "facturas",
         "rawType": "int64",
         "type": "integer"
        }
       ],
       "conversionMethod": "pd.DataFrame",
       "ref": "36347111-6f6c-4e12-a0f2-49dd22a83f69",
       "rows": [
        [
         "0",
         "USA",
         "91"
        ],
        [
         "1",
         "Canada",
         "56"
        ],
        [
         "2",
         "France",
         "35"
        ],
        [
         "3",
         "Brazil",
         "35"
        ],
        [
         "4",
         "Germany",
         "28"
        ],
        [
         "5",
         "United Kingdom",
         "21"
        ],
        [
         "6",
         "Portugal",
         "14"
        ],
        [
         "7",
         "Czech Republic",
         "14"
        ],
        [
         "8",
         "India",
         "13"
        ],
        [
         "9",
         "Sweden",
         "7"
        ],
        [
         "10",
         "Spain",
         "7"
        ],
        [
         "11",
         "Poland",
         "7"
        ],
        [
         "12",
         "Norway",
         "7"
        ],
        [
         "13",
         "Netherlands",
         "7"
        ],
        [
         "14",
         "Italy",
         "7"
        ],
        [
         "15",
         "Ireland",
         "7"
        ],
        [
         "16",
         "Hungary",
         "7"
        ],
        [
         "17",
         "Finland",
         "7"
        ],
        [
         "18",
         "Denmark",
         "7"
        ],
        [
         "19",
         "Chile",
         "7"
        ],
        [
         "20",
         "Belgium",
         "7"
        ],
        [
         "21",
         "Austria",
         "7"
        ],
        [
         "22",
         "Australia",
         "7"
        ],
        [
         "23",
         "Argentina",
         "7"
        ]
       ],
       "shape": {
        "columns": 2,
        "rows": 24
       }
      },
      "text/html": [
       "<div>\n",
       "<style scoped>\n",
       "    .dataframe tbody tr th:only-of-type {\n",
       "        vertical-align: middle;\n",
       "    }\n",
       "\n",
       "    .dataframe tbody tr th {\n",
       "        vertical-align: top;\n",
       "    }\n",
       "\n",
       "    .dataframe thead th {\n",
       "        text-align: right;\n",
       "    }\n",
       "</style>\n",
       "<table border=\"1\" class=\"dataframe\">\n",
       "  <thead>\n",
       "    <tr style=\"text-align: right;\">\n",
       "      <th></th>\n",
       "      <th>BillingCountry</th>\n",
       "      <th>facturas</th>\n",
       "    </tr>\n",
       "  </thead>\n",
       "  <tbody>\n",
       "    <tr>\n",
       "      <th>0</th>\n",
       "      <td>USA</td>\n",
       "      <td>91</td>\n",
       "    </tr>\n",
       "    <tr>\n",
       "      <th>1</th>\n",
       "      <td>Canada</td>\n",
       "      <td>56</td>\n",
       "    </tr>\n",
       "    <tr>\n",
       "      <th>2</th>\n",
       "      <td>France</td>\n",
       "      <td>35</td>\n",
       "    </tr>\n",
       "    <tr>\n",
       "      <th>3</th>\n",
       "      <td>Brazil</td>\n",
       "      <td>35</td>\n",
       "    </tr>\n",
       "    <tr>\n",
       "      <th>4</th>\n",
       "      <td>Germany</td>\n",
       "      <td>28</td>\n",
       "    </tr>\n",
       "    <tr>\n",
       "      <th>5</th>\n",
       "      <td>United Kingdom</td>\n",
       "      <td>21</td>\n",
       "    </tr>\n",
       "    <tr>\n",
       "      <th>6</th>\n",
       "      <td>Portugal</td>\n",
       "      <td>14</td>\n",
       "    </tr>\n",
       "    <tr>\n",
       "      <th>7</th>\n",
       "      <td>Czech Republic</td>\n",
       "      <td>14</td>\n",
       "    </tr>\n",
       "    <tr>\n",
       "      <th>8</th>\n",
       "      <td>India</td>\n",
       "      <td>13</td>\n",
       "    </tr>\n",
       "    <tr>\n",
       "      <th>9</th>\n",
       "      <td>Sweden</td>\n",
       "      <td>7</td>\n",
       "    </tr>\n",
       "    <tr>\n",
       "      <th>10</th>\n",
       "      <td>Spain</td>\n",
       "      <td>7</td>\n",
       "    </tr>\n",
       "    <tr>\n",
       "      <th>11</th>\n",
       "      <td>Poland</td>\n",
       "      <td>7</td>\n",
       "    </tr>\n",
       "    <tr>\n",
       "      <th>12</th>\n",
       "      <td>Norway</td>\n",
       "      <td>7</td>\n",
       "    </tr>\n",
       "    <tr>\n",
       "      <th>13</th>\n",
       "      <td>Netherlands</td>\n",
       "      <td>7</td>\n",
       "    </tr>\n",
       "    <tr>\n",
       "      <th>14</th>\n",
       "      <td>Italy</td>\n",
       "      <td>7</td>\n",
       "    </tr>\n",
       "    <tr>\n",
       "      <th>15</th>\n",
       "      <td>Ireland</td>\n",
       "      <td>7</td>\n",
       "    </tr>\n",
       "    <tr>\n",
       "      <th>16</th>\n",
       "      <td>Hungary</td>\n",
       "      <td>7</td>\n",
       "    </tr>\n",
       "    <tr>\n",
       "      <th>17</th>\n",
       "      <td>Finland</td>\n",
       "      <td>7</td>\n",
       "    </tr>\n",
       "    <tr>\n",
       "      <th>18</th>\n",
       "      <td>Denmark</td>\n",
       "      <td>7</td>\n",
       "    </tr>\n",
       "    <tr>\n",
       "      <th>19</th>\n",
       "      <td>Chile</td>\n",
       "      <td>7</td>\n",
       "    </tr>\n",
       "    <tr>\n",
       "      <th>20</th>\n",
       "      <td>Belgium</td>\n",
       "      <td>7</td>\n",
       "    </tr>\n",
       "    <tr>\n",
       "      <th>21</th>\n",
       "      <td>Austria</td>\n",
       "      <td>7</td>\n",
       "    </tr>\n",
       "    <tr>\n",
       "      <th>22</th>\n",
       "      <td>Australia</td>\n",
       "      <td>7</td>\n",
       "    </tr>\n",
       "    <tr>\n",
       "      <th>23</th>\n",
       "      <td>Argentina</td>\n",
       "      <td>7</td>\n",
       "    </tr>\n",
       "  </tbody>\n",
       "</table>\n",
       "</div>"
      ],
      "text/plain": [
       "    BillingCountry  facturas\n",
       "0              USA        91\n",
       "1           Canada        56\n",
       "2           France        35\n",
       "3           Brazil        35\n",
       "4          Germany        28\n",
       "5   United Kingdom        21\n",
       "6         Portugal        14\n",
       "7   Czech Republic        14\n",
       "8            India        13\n",
       "9           Sweden         7\n",
       "10           Spain         7\n",
       "11          Poland         7\n",
       "12          Norway         7\n",
       "13     Netherlands         7\n",
       "14           Italy         7\n",
       "15         Ireland         7\n",
       "16         Hungary         7\n",
       "17         Finland         7\n",
       "18         Denmark         7\n",
       "19           Chile         7\n",
       "20         Belgium         7\n",
       "21         Austria         7\n",
       "22       Australia         7\n",
       "23       Argentina         7"
      ]
     },
     "execution_count": 8,
     "metadata": {},
     "output_type": "execute_result"
    }
   ],
   "source": [
    "##11.Cuántas facturas hay de cada país\n",
    "\n",
    "pd.read_sql_query(\"Select billingcountry,  count(invoiceid) as facturas FROM invoices group by  billingcountry order by facturas desc;\" , connection)"
   ]
  },
  {
   "cell_type": "code",
   "execution_count": 41,
   "metadata": {},
   "outputs": [
    {
     "data": {
      "application/vnd.microsoft.datawrangler.viewer.v0+json": {
       "columns": [
        {
         "name": "index",
         "rawType": "int64",
         "type": "integer"
        },
        {
         "name": "año",
         "rawType": "object",
         "type": "string"
        },
        {
         "name": "invoices",
         "rawType": "int64",
         "type": "integer"
        }
       ],
       "conversionMethod": "pd.DataFrame",
       "ref": "380d8a19-9337-4d45-af1c-dda6b6cc869e",
       "rows": [
        [
         "0",
         "2009",
         "83"
        ],
        [
         "1",
         "2011",
         "83"
        ]
       ],
       "shape": {
        "columns": 2,
        "rows": 2
       }
      },
      "text/html": [
       "<div>\n",
       "<style scoped>\n",
       "    .dataframe tbody tr th:only-of-type {\n",
       "        vertical-align: middle;\n",
       "    }\n",
       "\n",
       "    .dataframe tbody tr th {\n",
       "        vertical-align: top;\n",
       "    }\n",
       "\n",
       "    .dataframe thead th {\n",
       "        text-align: right;\n",
       "    }\n",
       "</style>\n",
       "<table border=\"1\" class=\"dataframe\">\n",
       "  <thead>\n",
       "    <tr style=\"text-align: right;\">\n",
       "      <th></th>\n",
       "      <th>año</th>\n",
       "      <th>invoices</th>\n",
       "    </tr>\n",
       "  </thead>\n",
       "  <tbody>\n",
       "    <tr>\n",
       "      <th>0</th>\n",
       "      <td>2009</td>\n",
       "      <td>83</td>\n",
       "    </tr>\n",
       "    <tr>\n",
       "      <th>1</th>\n",
       "      <td>2011</td>\n",
       "      <td>83</td>\n",
       "    </tr>\n",
       "  </tbody>\n",
       "</table>\n",
       "</div>"
      ],
      "text/plain": [
       "    año  invoices\n",
       "0  2009        83\n",
       "1  2011        83"
      ]
     },
     "execution_count": 41,
     "metadata": {},
     "output_type": "execute_result"
    }
   ],
   "source": [
    "##12 Cuántas facturas ha habido en 2009 y 2011\n",
    "pd.read_sql_query(\"Select strftime('%Y', invoicedate) as año, count(*) as invoices from invoices where año in ('2009', '2011') group by año;\" , connection)\n"
   ]
  },
  {
   "cell_type": "code",
   "execution_count": 45,
   "metadata": {},
   "outputs": [
    {
     "data": {
      "application/vnd.microsoft.datawrangler.viewer.v0+json": {
       "columns": [
        {
         "name": "index",
         "rawType": "int64",
         "type": "integer"
        },
        {
         "name": "invoices",
         "rawType": "int64",
         "type": "integer"
        }
       ],
       "conversionMethod": "pd.DataFrame",
       "ref": "0d929751-5010-4131-adaf-9ed386be1232",
       "rows": [
        [
         "0",
         "249"
        ]
       ],
       "shape": {
        "columns": 1,
        "rows": 1
       }
      },
      "text/html": [
       "<div>\n",
       "<style scoped>\n",
       "    .dataframe tbody tr th:only-of-type {\n",
       "        vertical-align: middle;\n",
       "    }\n",
       "\n",
       "    .dataframe tbody tr th {\n",
       "        vertical-align: top;\n",
       "    }\n",
       "\n",
       "    .dataframe thead th {\n",
       "        text-align: right;\n",
       "    }\n",
       "</style>\n",
       "<table border=\"1\" class=\"dataframe\">\n",
       "  <thead>\n",
       "    <tr style=\"text-align: right;\">\n",
       "      <th></th>\n",
       "      <th>invoices</th>\n",
       "    </tr>\n",
       "  </thead>\n",
       "  <tbody>\n",
       "    <tr>\n",
       "      <th>0</th>\n",
       "      <td>249</td>\n",
       "    </tr>\n",
       "  </tbody>\n",
       "</table>\n",
       "</div>"
      ],
      "text/plain": [
       "   invoices\n",
       "0       249"
      ]
     },
     "execution_count": 45,
     "metadata": {},
     "output_type": "execute_result"
    }
   ],
   "source": [
    "#13Cuántas facturas ha habido entre 2009 y 2011\n",
    "pd.read_sql_query(\"Select count(*) as invoices from invoices where strftime ('%Y', invoicedate) between '2009' and '2011';\" , connection)\n"
   ]
  },
  {
   "cell_type": "code",
   "execution_count": null,
   "metadata": {},
   "outputs": [
    {
     "data": {
      "application/vnd.microsoft.datawrangler.viewer.v0+json": {
       "columns": [
        {
         "name": "index",
         "rawType": "int64",
         "type": "integer"
        },
        {
         "name": "Country",
         "rawType": "object",
         "type": "string"
        },
        {
         "name": "CLIENTES",
         "rawType": "int64",
         "type": "integer"
        }
       ],
       "conversionMethod": "pd.DataFrame",
       "ref": "646e0984-196d-48b6-b77a-8a3def6e10ee",
       "rows": [
        [
         "0",
         "Brazil",
         "5"
        ],
        [
         "1",
         "Spain",
         "1"
        ]
       ],
       "shape": {
        "columns": 2,
        "rows": 2
       }
      },
      "text/html": [
       "<div>\n",
       "<style scoped>\n",
       "    .dataframe tbody tr th:only-of-type {\n",
       "        vertical-align: middle;\n",
       "    }\n",
       "\n",
       "    .dataframe tbody tr th {\n",
       "        vertical-align: top;\n",
       "    }\n",
       "\n",
       "    .dataframe thead th {\n",
       "        text-align: right;\n",
       "    }\n",
       "</style>\n",
       "<table border=\"1\" class=\"dataframe\">\n",
       "  <thead>\n",
       "    <tr style=\"text-align: right;\">\n",
       "      <th></th>\n",
       "      <th>Country</th>\n",
       "      <th>CLIENTES</th>\n",
       "    </tr>\n",
       "  </thead>\n",
       "  <tbody>\n",
       "    <tr>\n",
       "      <th>0</th>\n",
       "      <td>Brazil</td>\n",
       "      <td>5</td>\n",
       "    </tr>\n",
       "    <tr>\n",
       "      <th>1</th>\n",
       "      <td>Spain</td>\n",
       "      <td>1</td>\n",
       "    </tr>\n",
       "  </tbody>\n",
       "</table>\n",
       "</div>"
      ],
      "text/plain": [
       "  Country  CLIENTES\n",
       "0  Brazil         5\n",
       "1   Spain         1"
      ]
     },
     "execution_count": 13,
     "metadata": {},
     "output_type": "execute_result"
    }
   ],
   "source": [
    "##14 Cuántas clientes hay en España y de Brasil\n",
    "\n",
    "pd.read_sql_query(\"select country, COUNT(CUSTOMERID) AS CLIENTES from customers where COUNTRY in ('Spain','Brazil') group by country;\", connection)"
   ]
  },
  {
   "cell_type": "code",
   "execution_count": 17,
   "metadata": {},
   "outputs": [
    {
     "data": {
      "application/vnd.microsoft.datawrangler.viewer.v0+json": {
       "columns": [
        {
         "name": "index",
         "rawType": "int64",
         "type": "integer"
        },
        {
         "name": "EmployeeId",
         "rawType": "int64",
         "type": "integer"
        },
        {
         "name": "LastName",
         "rawType": "object",
         "type": "string"
        },
        {
         "name": "FirstName",
         "rawType": "object",
         "type": "string"
        },
        {
         "name": "Title",
         "rawType": "object",
         "type": "string"
        },
        {
         "name": "ReportsTo",
         "rawType": "int64",
         "type": "integer"
        },
        {
         "name": "BirthDate",
         "rawType": "object",
         "type": "string"
        },
        {
         "name": "HireDate",
         "rawType": "object",
         "type": "string"
        },
        {
         "name": "Address",
         "rawType": "object",
         "type": "string"
        },
        {
         "name": "City",
         "rawType": "object",
         "type": "string"
        },
        {
         "name": "State",
         "rawType": "object",
         "type": "string"
        },
        {
         "name": "Country",
         "rawType": "object",
         "type": "string"
        },
        {
         "name": "PostalCode",
         "rawType": "object",
         "type": "string"
        },
        {
         "name": "Phone",
         "rawType": "object",
         "type": "string"
        },
        {
         "name": "Fax",
         "rawType": "object",
         "type": "string"
        },
        {
         "name": "Email",
         "rawType": "object",
         "type": "string"
        }
       ],
       "conversionMethod": "pd.DataFrame",
       "ref": "9b8ed83f-69a0-43ba-8a70-6811a1d7aeb9",
       "rows": [
        [
         "0",
         "3",
         "Peacock",
         "Jane",
         "Sales Support Agent",
         "2",
         "1973-08-29 00:00:00",
         "2002-04-01 00:00:00",
         "1111 6 Ave SW",
         "Calgary",
         "AB",
         "Canada",
         "T2P 5M5",
         "+1 (403) 262-3443",
         "+1 (403) 262-6712",
         "jane@chinookcorp.com"
        ],
        [
         "1",
         "4",
         "Park",
         "Margaret",
         "Sales Support Agent",
         "2",
         "1947-09-19 00:00:00",
         "2003-05-03 00:00:00",
         "683 10 Street SW",
         "Calgary",
         "AB",
         "Canada",
         "T2P 5G3",
         "+1 (403) 263-4423",
         "+1 (403) 263-4289",
         "margaret@chinookcorp.com"
        ],
        [
         "2",
         "5",
         "Johnson",
         "Steve",
         "Sales Support Agent",
         "2",
         "1965-03-03 00:00:00",
         "2003-10-17 00:00:00",
         "7727B 41 Ave",
         "Calgary",
         "AB",
         "Canada",
         "T3B 1Y7",
         "1 (780) 836-9987",
         "1 (780) 836-9543",
         "steve@chinookcorp.com"
        ]
       ],
       "shape": {
        "columns": 15,
        "rows": 3
       }
      },
      "text/html": [
       "<div>\n",
       "<style scoped>\n",
       "    .dataframe tbody tr th:only-of-type {\n",
       "        vertical-align: middle;\n",
       "    }\n",
       "\n",
       "    .dataframe tbody tr th {\n",
       "        vertical-align: top;\n",
       "    }\n",
       "\n",
       "    .dataframe thead th {\n",
       "        text-align: right;\n",
       "    }\n",
       "</style>\n",
       "<table border=\"1\" class=\"dataframe\">\n",
       "  <thead>\n",
       "    <tr style=\"text-align: right;\">\n",
       "      <th></th>\n",
       "      <th>EmployeeId</th>\n",
       "      <th>LastName</th>\n",
       "      <th>FirstName</th>\n",
       "      <th>Title</th>\n",
       "      <th>ReportsTo</th>\n",
       "      <th>BirthDate</th>\n",
       "      <th>HireDate</th>\n",
       "      <th>Address</th>\n",
       "      <th>City</th>\n",
       "      <th>State</th>\n",
       "      <th>Country</th>\n",
       "      <th>PostalCode</th>\n",
       "      <th>Phone</th>\n",
       "      <th>Fax</th>\n",
       "      <th>Email</th>\n",
       "    </tr>\n",
       "  </thead>\n",
       "  <tbody>\n",
       "    <tr>\n",
       "      <th>0</th>\n",
       "      <td>3</td>\n",
       "      <td>Peacock</td>\n",
       "      <td>Jane</td>\n",
       "      <td>Sales Support Agent</td>\n",
       "      <td>2</td>\n",
       "      <td>1973-08-29 00:00:00</td>\n",
       "      <td>2002-04-01 00:00:00</td>\n",
       "      <td>1111 6 Ave SW</td>\n",
       "      <td>Calgary</td>\n",
       "      <td>AB</td>\n",
       "      <td>Canada</td>\n",
       "      <td>T2P 5M5</td>\n",
       "      <td>+1 (403) 262-3443</td>\n",
       "      <td>+1 (403) 262-6712</td>\n",
       "      <td>jane@chinookcorp.com</td>\n",
       "    </tr>\n",
       "    <tr>\n",
       "      <th>1</th>\n",
       "      <td>4</td>\n",
       "      <td>Park</td>\n",
       "      <td>Margaret</td>\n",
       "      <td>Sales Support Agent</td>\n",
       "      <td>2</td>\n",
       "      <td>1947-09-19 00:00:00</td>\n",
       "      <td>2003-05-03 00:00:00</td>\n",
       "      <td>683 10 Street SW</td>\n",
       "      <td>Calgary</td>\n",
       "      <td>AB</td>\n",
       "      <td>Canada</td>\n",
       "      <td>T2P 5G3</td>\n",
       "      <td>+1 (403) 263-4423</td>\n",
       "      <td>+1 (403) 263-4289</td>\n",
       "      <td>margaret@chinookcorp.com</td>\n",
       "    </tr>\n",
       "    <tr>\n",
       "      <th>2</th>\n",
       "      <td>5</td>\n",
       "      <td>Johnson</td>\n",
       "      <td>Steve</td>\n",
       "      <td>Sales Support Agent</td>\n",
       "      <td>2</td>\n",
       "      <td>1965-03-03 00:00:00</td>\n",
       "      <td>2003-10-17 00:00:00</td>\n",
       "      <td>7727B 41 Ave</td>\n",
       "      <td>Calgary</td>\n",
       "      <td>AB</td>\n",
       "      <td>Canada</td>\n",
       "      <td>T3B 1Y7</td>\n",
       "      <td>1 (780) 836-9987</td>\n",
       "      <td>1 (780) 836-9543</td>\n",
       "      <td>steve@chinookcorp.com</td>\n",
       "    </tr>\n",
       "  </tbody>\n",
       "</table>\n",
       "</div>"
      ],
      "text/plain": [
       "   EmployeeId LastName FirstName                Title  ReportsTo  \\\n",
       "0           3  Peacock      Jane  Sales Support Agent          2   \n",
       "1           4     Park  Margaret  Sales Support Agent          2   \n",
       "2           5  Johnson     Steve  Sales Support Agent          2   \n",
       "\n",
       "             BirthDate             HireDate           Address     City State  \\\n",
       "0  1973-08-29 00:00:00  2002-04-01 00:00:00     1111 6 Ave SW  Calgary    AB   \n",
       "1  1947-09-19 00:00:00  2003-05-03 00:00:00  683 10 Street SW  Calgary    AB   \n",
       "2  1965-03-03 00:00:00  2003-10-17 00:00:00      7727B 41 Ave  Calgary    AB   \n",
       "\n",
       "  Country PostalCode              Phone                Fax  \\\n",
       "0  Canada    T2P 5M5  +1 (403) 262-3443  +1 (403) 262-6712   \n",
       "1  Canada    T2P 5G3  +1 (403) 263-4423  +1 (403) 263-4289   \n",
       "2  Canada    T3B 1Y7   1 (780) 836-9987   1 (780) 836-9543   \n",
       "\n",
       "                      Email  \n",
       "0      jane@chinookcorp.com  \n",
       "1  margaret@chinookcorp.com  \n",
       "2     steve@chinookcorp.com  "
      ]
     },
     "execution_count": 17,
     "metadata": {},
     "output_type": "execute_result"
    }
   ],
   "source": [
    "# Ejemplo de querys\n",
    "query = \"\"\"\n",
    "select * from employees where title = 'Sales Support Agent'\n",
    "\"\"\"\n",
    "\n",
    "pd.read_sql_query(query, connection)"
   ]
  },
  {
   "cell_type": "markdown",
   "metadata": {},
   "source": []
  }
 ],
 "metadata": {
  "kernelspec": {
   "display_name": "Python 3",
   "language": "python",
   "name": "python3"
  },
  "language_info": {
   "codemirror_mode": {
    "name": "ipython",
    "version": 3
   },
   "file_extension": ".py",
   "mimetype": "text/x-python",
   "name": "python",
   "nbconvert_exporter": "python",
   "pygments_lexer": "ipython3",
   "version": "3.11.9"
  }
 },
 "nbformat": 4,
 "nbformat_minor": 2
}
