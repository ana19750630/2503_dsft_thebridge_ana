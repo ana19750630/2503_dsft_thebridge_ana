{
 "cells": [
  {
   "cell_type": "markdown",
   "metadata": {
    "id": "et2xslqoAy6f"
   },
   "source": [
    "# Apple Stock"
   ]
  },
  {
   "cell_type": "markdown",
   "metadata": {
    "id": "39PdeVN4Ay6g"
   },
   "source": [
    "### Introduction:\n",
    "\n",
    "We are going to use Apple's stock price.\n",
    "\n",
    "\n",
    "### Step 1. Import the necessary libraries"
   ]
  },
  {
   "cell_type": "code",
   "execution_count": 5,
   "metadata": {},
   "outputs": [],
   "source": [
    "import pandas as pd\n",
    "import numpy as np"
   ]
  },
  {
   "cell_type": "markdown",
   "metadata": {
    "id": "jNUiJYHrAy6k"
   },
   "source": [
    "### Step 2. Import the dataset from this [address](https://raw.githubusercontent.com/guipsamora/pandas_exercises/master/09_Time_Series/Apple_Stock/appl_1980_2014.csv)"
   ]
  },
  {
   "cell_type": "markdown",
   "metadata": {
    "id": "blsFI_HYAy6l"
   },
   "source": [
    "### Step 3. Assign it to a variable apple and apply a head()"
   ]
  },
  {
   "cell_type": "code",
   "execution_count": 6,
   "metadata": {},
   "outputs": [
    {
     "data": {
      "application/vnd.microsoft.datawrangler.viewer.v0+json": {
       "columns": [
        {
         "name": "index",
         "rawType": "int64",
         "type": "integer"
        },
        {
         "name": "Date",
         "rawType": "object",
         "type": "string"
        },
        {
         "name": "Open",
         "rawType": "float64",
         "type": "float"
        },
        {
         "name": "High",
         "rawType": "float64",
         "type": "float"
        },
        {
         "name": "Low",
         "rawType": "float64",
         "type": "float"
        },
        {
         "name": "Close",
         "rawType": "float64",
         "type": "float"
        },
        {
         "name": "Volume",
         "rawType": "int64",
         "type": "integer"
        },
        {
         "name": "Adj Close",
         "rawType": "float64",
         "type": "float"
        }
       ],
       "conversionMethod": "pd.DataFrame",
       "ref": "a42aec5f-b4ab-45f1-9d4e-6d962c6f840c",
       "rows": [
        [
         "0",
         "2014-07-08",
         "96.27",
         "96.8",
         "93.92",
         "95.35",
         "65130000",
         "95.35"
        ],
        [
         "1",
         "2014-07-07",
         "94.14",
         "95.99",
         "94.1",
         "95.97",
         "56305400",
         "95.97"
        ],
        [
         "2",
         "2014-07-03",
         "93.67",
         "94.1",
         "93.2",
         "94.03",
         "22891800",
         "94.03"
        ],
        [
         "3",
         "2014-07-02",
         "93.87",
         "94.06",
         "93.09",
         "93.48",
         "28420900",
         "93.48"
        ],
        [
         "4",
         "2014-07-01",
         "93.52",
         "94.07",
         "93.13",
         "93.52",
         "38170200",
         "93.52"
        ]
       ],
       "shape": {
        "columns": 7,
        "rows": 5
       }
      },
      "text/html": [
       "<div>\n",
       "<style scoped>\n",
       "    .dataframe tbody tr th:only-of-type {\n",
       "        vertical-align: middle;\n",
       "    }\n",
       "\n",
       "    .dataframe tbody tr th {\n",
       "        vertical-align: top;\n",
       "    }\n",
       "\n",
       "    .dataframe thead th {\n",
       "        text-align: right;\n",
       "    }\n",
       "</style>\n",
       "<table border=\"1\" class=\"dataframe\">\n",
       "  <thead>\n",
       "    <tr style=\"text-align: right;\">\n",
       "      <th></th>\n",
       "      <th>Date</th>\n",
       "      <th>Open</th>\n",
       "      <th>High</th>\n",
       "      <th>Low</th>\n",
       "      <th>Close</th>\n",
       "      <th>Volume</th>\n",
       "      <th>Adj Close</th>\n",
       "    </tr>\n",
       "  </thead>\n",
       "  <tbody>\n",
       "    <tr>\n",
       "      <th>0</th>\n",
       "      <td>2014-07-08</td>\n",
       "      <td>96.27</td>\n",
       "      <td>96.80</td>\n",
       "      <td>93.92</td>\n",
       "      <td>95.35</td>\n",
       "      <td>65130000</td>\n",
       "      <td>95.35</td>\n",
       "    </tr>\n",
       "    <tr>\n",
       "      <th>1</th>\n",
       "      <td>2014-07-07</td>\n",
       "      <td>94.14</td>\n",
       "      <td>95.99</td>\n",
       "      <td>94.10</td>\n",
       "      <td>95.97</td>\n",
       "      <td>56305400</td>\n",
       "      <td>95.97</td>\n",
       "    </tr>\n",
       "    <tr>\n",
       "      <th>2</th>\n",
       "      <td>2014-07-03</td>\n",
       "      <td>93.67</td>\n",
       "      <td>94.10</td>\n",
       "      <td>93.20</td>\n",
       "      <td>94.03</td>\n",
       "      <td>22891800</td>\n",
       "      <td>94.03</td>\n",
       "    </tr>\n",
       "    <tr>\n",
       "      <th>3</th>\n",
       "      <td>2014-07-02</td>\n",
       "      <td>93.87</td>\n",
       "      <td>94.06</td>\n",
       "      <td>93.09</td>\n",
       "      <td>93.48</td>\n",
       "      <td>28420900</td>\n",
       "      <td>93.48</td>\n",
       "    </tr>\n",
       "    <tr>\n",
       "      <th>4</th>\n",
       "      <td>2014-07-01</td>\n",
       "      <td>93.52</td>\n",
       "      <td>94.07</td>\n",
       "      <td>93.13</td>\n",
       "      <td>93.52</td>\n",
       "      <td>38170200</td>\n",
       "      <td>93.52</td>\n",
       "    </tr>\n",
       "  </tbody>\n",
       "</table>\n",
       "</div>"
      ],
      "text/plain": [
       "         Date   Open   High    Low  Close    Volume  Adj Close\n",
       "0  2014-07-08  96.27  96.80  93.92  95.35  65130000      95.35\n",
       "1  2014-07-07  94.14  95.99  94.10  95.97  56305400      95.97\n",
       "2  2014-07-03  93.67  94.10  93.20  94.03  22891800      94.03\n",
       "3  2014-07-02  93.87  94.06  93.09  93.48  28420900      93.48\n",
       "4  2014-07-01  93.52  94.07  93.13  93.52  38170200      93.52"
      ]
     },
     "execution_count": 6,
     "metadata": {},
     "output_type": "execute_result"
    }
   ],
   "source": [
    "url = \"https://raw.githubusercontent.com/guipsamora/pandas_exercises/master/09_Time_Series/Apple_Stock/appl_1980_2014.csv\"\n",
    "apple = pd.read_csv(url)\n",
    "apple.head()"
   ]
  },
  {
   "cell_type": "markdown",
   "metadata": {
    "id": "Yvfjrh1vAy6q"
   },
   "source": [
    "### Step 4.  Check out the type of the columns"
   ]
  },
  {
   "cell_type": "code",
   "execution_count": 7,
   "metadata": {},
   "outputs": [
    {
     "name": "stdout",
     "output_type": "stream",
     "text": [
      "<class 'pandas.core.frame.DataFrame'>\n",
      "RangeIndex: 8465 entries, 0 to 8464\n",
      "Data columns (total 7 columns):\n",
      " #   Column     Non-Null Count  Dtype  \n",
      "---  ------     --------------  -----  \n",
      " 0   Date       8465 non-null   object \n",
      " 1   Open       8465 non-null   float64\n",
      " 2   High       8465 non-null   float64\n",
      " 3   Low        8465 non-null   float64\n",
      " 4   Close      8465 non-null   float64\n",
      " 5   Volume     8465 non-null   int64  \n",
      " 6   Adj Close  8465 non-null   float64\n",
      "dtypes: float64(5), int64(1), object(1)\n",
      "memory usage: 463.1+ KB\n"
     ]
    }
   ],
   "source": [
    "apple.info()"
   ]
  },
  {
   "cell_type": "markdown",
   "metadata": {
    "id": "XuY63oQ_Ay6t"
   },
   "source": [
    "### Step 5. Transform the Date column as a datetime type and check the info()"
   ]
  },
  {
   "cell_type": "code",
   "execution_count": 9,
   "metadata": {},
   "outputs": [
    {
     "name": "stdout",
     "output_type": "stream",
     "text": [
      "<class 'pandas.core.frame.DataFrame'>\n",
      "RangeIndex: 8465 entries, 0 to 8464\n",
      "Data columns (total 7 columns):\n",
      " #   Column     Non-Null Count  Dtype         \n",
      "---  ------     --------------  -----         \n",
      " 0   Date       8465 non-null   datetime64[ns]\n",
      " 1   Open       8465 non-null   float64       \n",
      " 2   High       8465 non-null   float64       \n",
      " 3   Low        8465 non-null   float64       \n",
      " 4   Close      8465 non-null   float64       \n",
      " 5   Volume     8465 non-null   int64         \n",
      " 6   Adj Close  8465 non-null   float64       \n",
      "dtypes: datetime64[ns](1), float64(5), int64(1)\n",
      "memory usage: 463.1 KB\n"
     ]
    }
   ],
   "source": [
    "from dateutil import parser\n",
    "\n",
    "apple['Date'] = pd.to_datetime(apple['Date'])\n",
    "\n",
    "apple.info()\n",
    "\n"
   ]
  },
  {
   "cell_type": "code",
   "execution_count": 10,
   "metadata": {},
   "outputs": [
    {
     "data": {
      "application/vnd.microsoft.datawrangler.viewer.v0+json": {
       "columns": [
        {
         "name": "index",
         "rawType": "int64",
         "type": "integer"
        },
        {
         "name": "Date",
         "rawType": "datetime64[ns]",
         "type": "datetime"
        },
        {
         "name": "Open",
         "rawType": "float64",
         "type": "float"
        },
        {
         "name": "High",
         "rawType": "float64",
         "type": "float"
        },
        {
         "name": "Low",
         "rawType": "float64",
         "type": "float"
        },
        {
         "name": "Close",
         "rawType": "float64",
         "type": "float"
        },
        {
         "name": "Volume",
         "rawType": "int64",
         "type": "integer"
        },
        {
         "name": "Adj Close",
         "rawType": "float64",
         "type": "float"
        }
       ],
       "conversionMethod": "pd.DataFrame",
       "ref": "40527274-8c23-44d4-85ca-afc4966110c0",
       "rows": [
        [
         "0",
         "2014-07-08 00:00:00",
         "96.27",
         "96.8",
         "93.92",
         "95.35",
         "65130000",
         "95.35"
        ],
        [
         "1",
         "2014-07-07 00:00:00",
         "94.14",
         "95.99",
         "94.1",
         "95.97",
         "56305400",
         "95.97"
        ],
        [
         "2",
         "2014-07-03 00:00:00",
         "93.67",
         "94.1",
         "93.2",
         "94.03",
         "22891800",
         "94.03"
        ],
        [
         "3",
         "2014-07-02 00:00:00",
         "93.87",
         "94.06",
         "93.09",
         "93.48",
         "28420900",
         "93.48"
        ],
        [
         "4",
         "2014-07-01 00:00:00",
         "93.52",
         "94.07",
         "93.13",
         "93.52",
         "38170200",
         "93.52"
        ]
       ],
       "shape": {
        "columns": 7,
        "rows": 5
       }
      },
      "text/html": [
       "<div>\n",
       "<style scoped>\n",
       "    .dataframe tbody tr th:only-of-type {\n",
       "        vertical-align: middle;\n",
       "    }\n",
       "\n",
       "    .dataframe tbody tr th {\n",
       "        vertical-align: top;\n",
       "    }\n",
       "\n",
       "    .dataframe thead th {\n",
       "        text-align: right;\n",
       "    }\n",
       "</style>\n",
       "<table border=\"1\" class=\"dataframe\">\n",
       "  <thead>\n",
       "    <tr style=\"text-align: right;\">\n",
       "      <th></th>\n",
       "      <th>Date</th>\n",
       "      <th>Open</th>\n",
       "      <th>High</th>\n",
       "      <th>Low</th>\n",
       "      <th>Close</th>\n",
       "      <th>Volume</th>\n",
       "      <th>Adj Close</th>\n",
       "    </tr>\n",
       "  </thead>\n",
       "  <tbody>\n",
       "    <tr>\n",
       "      <th>0</th>\n",
       "      <td>2014-07-08</td>\n",
       "      <td>96.27</td>\n",
       "      <td>96.80</td>\n",
       "      <td>93.92</td>\n",
       "      <td>95.35</td>\n",
       "      <td>65130000</td>\n",
       "      <td>95.35</td>\n",
       "    </tr>\n",
       "    <tr>\n",
       "      <th>1</th>\n",
       "      <td>2014-07-07</td>\n",
       "      <td>94.14</td>\n",
       "      <td>95.99</td>\n",
       "      <td>94.10</td>\n",
       "      <td>95.97</td>\n",
       "      <td>56305400</td>\n",
       "      <td>95.97</td>\n",
       "    </tr>\n",
       "    <tr>\n",
       "      <th>2</th>\n",
       "      <td>2014-07-03</td>\n",
       "      <td>93.67</td>\n",
       "      <td>94.10</td>\n",
       "      <td>93.20</td>\n",
       "      <td>94.03</td>\n",
       "      <td>22891800</td>\n",
       "      <td>94.03</td>\n",
       "    </tr>\n",
       "    <tr>\n",
       "      <th>3</th>\n",
       "      <td>2014-07-02</td>\n",
       "      <td>93.87</td>\n",
       "      <td>94.06</td>\n",
       "      <td>93.09</td>\n",
       "      <td>93.48</td>\n",
       "      <td>28420900</td>\n",
       "      <td>93.48</td>\n",
       "    </tr>\n",
       "    <tr>\n",
       "      <th>4</th>\n",
       "      <td>2014-07-01</td>\n",
       "      <td>93.52</td>\n",
       "      <td>94.07</td>\n",
       "      <td>93.13</td>\n",
       "      <td>93.52</td>\n",
       "      <td>38170200</td>\n",
       "      <td>93.52</td>\n",
       "    </tr>\n",
       "  </tbody>\n",
       "</table>\n",
       "</div>"
      ],
      "text/plain": [
       "        Date   Open   High    Low  Close    Volume  Adj Close\n",
       "0 2014-07-08  96.27  96.80  93.92  95.35  65130000      95.35\n",
       "1 2014-07-07  94.14  95.99  94.10  95.97  56305400      95.97\n",
       "2 2014-07-03  93.67  94.10  93.20  94.03  22891800      94.03\n",
       "3 2014-07-02  93.87  94.06  93.09  93.48  28420900      93.48\n",
       "4 2014-07-01  93.52  94.07  93.13  93.52  38170200      93.52"
      ]
     },
     "execution_count": 10,
     "metadata": {},
     "output_type": "execute_result"
    }
   ],
   "source": [
    "apple.head()"
   ]
  },
  {
   "cell_type": "markdown",
   "metadata": {
    "id": "zV8pTwdtAy6x"
   },
   "source": [
    "### Step 6.  Set the date as the index"
   ]
  },
  {
   "cell_type": "code",
   "execution_count": null,
   "metadata": {},
   "outputs": [],
   "source": [
    "##COMO CREAR LA COLUMNA 'FECHA' EN INDICE\n",
    "\n",
    "# Crear un DataFrame de ejemplo\n",
    "##data = {'Fecha': ['2025-01-01', '2025-01-02', '2025-01-03'],\n",
    "   ##     'Valor': [10, 15, 20]}\n",
    "##df = pd.DataFrame(data)\n",
    "\n",
    "# Convertir la columna 'Fecha' en índice\n",
    "##df.set_index('Fecha', inplace=True)\n",
    "\n",
    "##print(df)"
   ]
  },
  {
   "cell_type": "code",
   "execution_count": 11,
   "metadata": {},
   "outputs": [
    {
     "name": "stdout",
     "output_type": "stream",
     "text": [
      "<class 'pandas.core.frame.DataFrame'>\n",
      "DatetimeIndex: 8465 entries, 2014-07-08 to 1980-12-12\n",
      "Data columns (total 6 columns):\n",
      " #   Column     Non-Null Count  Dtype  \n",
      "---  ------     --------------  -----  \n",
      " 0   Open       8465 non-null   float64\n",
      " 1   High       8465 non-null   float64\n",
      " 2   Low        8465 non-null   float64\n",
      " 3   Close      8465 non-null   float64\n",
      " 4   Volume     8465 non-null   int64  \n",
      " 5   Adj Close  8465 non-null   float64\n",
      "dtypes: float64(5), int64(1)\n",
      "memory usage: 462.9 KB\n"
     ]
    }
   ],
   "source": [
    "# Set the 'Date' column as the index\n",
    "apple.set_index('Date', inplace=True)\n",
    "\n",
    "# Check the updated DataFrame info\n",
    "apple.info()\n"
   ]
  },
  {
   "cell_type": "markdown",
   "metadata": {
    "id": "OzT2vETYAy60"
   },
   "source": [
    "### Step 7.  Is there any duplicate dates?"
   ]
  },
  {
   "cell_type": "code",
   "execution_count": 12,
   "metadata": {},
   "outputs": [
    {
     "data": {
      "application/vnd.microsoft.datawrangler.viewer.v0+json": {
       "columns": [
        {
         "name": "Date",
         "rawType": "datetime64[ns]",
         "type": "datetime"
        },
        {
         "name": "Open",
         "rawType": "float64",
         "type": "float"
        },
        {
         "name": "High",
         "rawType": "float64",
         "type": "float"
        },
        {
         "name": "Low",
         "rawType": "float64",
         "type": "float"
        },
        {
         "name": "Close",
         "rawType": "float64",
         "type": "float"
        },
        {
         "name": "Volume",
         "rawType": "int64",
         "type": "integer"
        },
        {
         "name": "Adj Close",
         "rawType": "float64",
         "type": "float"
        }
       ],
       "conversionMethod": "pd.DataFrame",
       "ref": "70b13ec0-a985-4cbc-8a78-a1a07b250103",
       "rows": [],
       "shape": {
        "columns": 6,
        "rows": 0
       }
      },
      "text/html": [
       "<div>\n",
       "<style scoped>\n",
       "    .dataframe tbody tr th:only-of-type {\n",
       "        vertical-align: middle;\n",
       "    }\n",
       "\n",
       "    .dataframe tbody tr th {\n",
       "        vertical-align: top;\n",
       "    }\n",
       "\n",
       "    .dataframe thead th {\n",
       "        text-align: right;\n",
       "    }\n",
       "</style>\n",
       "<table border=\"1\" class=\"dataframe\">\n",
       "  <thead>\n",
       "    <tr style=\"text-align: right;\">\n",
       "      <th></th>\n",
       "      <th>Open</th>\n",
       "      <th>High</th>\n",
       "      <th>Low</th>\n",
       "      <th>Close</th>\n",
       "      <th>Volume</th>\n",
       "      <th>Adj Close</th>\n",
       "    </tr>\n",
       "    <tr>\n",
       "      <th>Date</th>\n",
       "      <th></th>\n",
       "      <th></th>\n",
       "      <th></th>\n",
       "      <th></th>\n",
       "      <th></th>\n",
       "      <th></th>\n",
       "    </tr>\n",
       "  </thead>\n",
       "  <tbody>\n",
       "  </tbody>\n",
       "</table>\n",
       "</div>"
      ],
      "text/plain": [
       "Empty DataFrame\n",
       "Columns: [Open, High, Low, Close, Volume, Adj Close]\n",
       "Index: []"
      ]
     },
     "execution_count": 12,
     "metadata": {},
     "output_type": "execute_result"
    }
   ],
   "source": [
    "\n",
    "duplicate_dates = apple.index.duplicated(keep=False)\n",
    "\n",
    "# Display rows with duplicate dates\n",
    "apple[duplicate_dates]\n"
   ]
  },
  {
   "cell_type": "code",
   "execution_count": null,
   "metadata": {},
   "outputs": [],
   "source": []
  },
  {
   "cell_type": "markdown",
   "metadata": {
    "id": "v2-FakyXAy64"
   },
   "source": [
    "### Step 8.  Ops...it seems the index is from the most recent date. Make the first entry the oldest date."
   ]
  },
  {
   "cell_type": "code",
   "execution_count": 13,
   "metadata": {},
   "outputs": [
    {
     "name": "stdout",
     "output_type": "stream",
     "text": [
      "<class 'pandas.core.frame.DataFrame'>\n",
      "DatetimeIndex: 8465 entries, 1980-12-12 to 2014-07-08\n",
      "Data columns (total 6 columns):\n",
      " #   Column     Non-Null Count  Dtype  \n",
      "---  ------     --------------  -----  \n",
      " 0   Open       8465 non-null   float64\n",
      " 1   High       8465 non-null   float64\n",
      " 2   Low        8465 non-null   float64\n",
      " 3   Close      8465 non-null   float64\n",
      " 4   Volume     8465 non-null   int64  \n",
      " 5   Adj Close  8465 non-null   float64\n",
      "dtypes: float64(5), int64(1)\n",
      "memory usage: 462.9 KB\n"
     ]
    }
   ],
   "source": [
    "# Sort the DataFrame by the index (Date) in ascending order\n",
    "apple.sort_index(ascending=True, inplace=True)\n",
    "\n",
    "apple.info()"
   ]
  },
  {
   "cell_type": "code",
   "execution_count": 28,
   "metadata": {},
   "outputs": [
    {
     "data": {
      "application/vnd.microsoft.datawrangler.viewer.v0+json": {
       "columns": [
        {
         "name": "Date",
         "rawType": "datetime64[ns]",
         "type": "datetime"
        },
        {
         "name": "Open",
         "rawType": "float64",
         "type": "float"
        },
        {
         "name": "High",
         "rawType": "float64",
         "type": "float"
        },
        {
         "name": "Low",
         "rawType": "float64",
         "type": "float"
        },
        {
         "name": "Close",
         "rawType": "float64",
         "type": "float"
        },
        {
         "name": "Volume",
         "rawType": "int64",
         "type": "integer"
        },
        {
         "name": "Adj Close",
         "rawType": "float64",
         "type": "float"
        },
        {
         "name": "month",
         "rawType": "object",
         "type": "unknown"
        }
       ],
       "conversionMethod": "pd.DataFrame",
       "ref": "9ad07eef-4fb5-46e4-8b37-3b0e456b0e32",
       "rows": [
        [
         "2014-07-01 00:00:00",
         "93.52",
         "94.07",
         "93.13",
         "93.52",
         "38170200",
         "93.52",
         "<bound method Index.unique of DatetimeIndex(['1980-12-12', '1980-12-15', '1980-12-16', '1980-12-17',\n               '1980-12-18', '1980-12-19', '1980-12-22', '1980-12-23',\n               '1980-12-24', '1980-12-26',\n               ...\n               '2014-06-24', '2014-06-25', '2014-06-26', '2014-06-27',\n               '2014-06-30', '2014-07-01', '2014-07-02', '2014-07-03',\n               '2014-07-07', '2014-07-08'],\n              dtype='datetime64[ns]', name='Date', length=8465, freq=None)>"
        ],
        [
         "2014-07-02 00:00:00",
         "93.87",
         "94.06",
         "93.09",
         "93.48",
         "28420900",
         "93.48",
         "<bound method Index.unique of DatetimeIndex(['1980-12-12', '1980-12-15', '1980-12-16', '1980-12-17',\n               '1980-12-18', '1980-12-19', '1980-12-22', '1980-12-23',\n               '1980-12-24', '1980-12-26',\n               ...\n               '2014-06-24', '2014-06-25', '2014-06-26', '2014-06-27',\n               '2014-06-30', '2014-07-01', '2014-07-02', '2014-07-03',\n               '2014-07-07', '2014-07-08'],\n              dtype='datetime64[ns]', name='Date', length=8465, freq=None)>"
        ],
        [
         "2014-07-03 00:00:00",
         "93.67",
         "94.1",
         "93.2",
         "94.03",
         "22891800",
         "94.03",
         "<bound method Index.unique of DatetimeIndex(['1980-12-12', '1980-12-15', '1980-12-16', '1980-12-17',\n               '1980-12-18', '1980-12-19', '1980-12-22', '1980-12-23',\n               '1980-12-24', '1980-12-26',\n               ...\n               '2014-06-24', '2014-06-25', '2014-06-26', '2014-06-27',\n               '2014-06-30', '2014-07-01', '2014-07-02', '2014-07-03',\n               '2014-07-07', '2014-07-08'],\n              dtype='datetime64[ns]', name='Date', length=8465, freq=None)>"
        ],
        [
         "2014-07-07 00:00:00",
         "94.14",
         "95.99",
         "94.1",
         "95.97",
         "56305400",
         "95.97",
         "<bound method Index.unique of DatetimeIndex(['1980-12-12', '1980-12-15', '1980-12-16', '1980-12-17',\n               '1980-12-18', '1980-12-19', '1980-12-22', '1980-12-23',\n               '1980-12-24', '1980-12-26',\n               ...\n               '2014-06-24', '2014-06-25', '2014-06-26', '2014-06-27',\n               '2014-06-30', '2014-07-01', '2014-07-02', '2014-07-03',\n               '2014-07-07', '2014-07-08'],\n              dtype='datetime64[ns]', name='Date', length=8465, freq=None)>"
        ],
        [
         "2014-07-08 00:00:00",
         "96.27",
         "96.8",
         "93.92",
         "95.35",
         "65130000",
         "95.35",
         "<bound method Index.unique of DatetimeIndex(['1980-12-12', '1980-12-15', '1980-12-16', '1980-12-17',\n               '1980-12-18', '1980-12-19', '1980-12-22', '1980-12-23',\n               '1980-12-24', '1980-12-26',\n               ...\n               '2014-06-24', '2014-06-25', '2014-06-26', '2014-06-27',\n               '2014-06-30', '2014-07-01', '2014-07-02', '2014-07-03',\n               '2014-07-07', '2014-07-08'],\n              dtype='datetime64[ns]', name='Date', length=8465, freq=None)>"
        ]
       ],
       "shape": {
        "columns": 7,
        "rows": 5
       }
      },
      "text/html": [
       "<div>\n",
       "<style scoped>\n",
       "    .dataframe tbody tr th:only-of-type {\n",
       "        vertical-align: middle;\n",
       "    }\n",
       "\n",
       "    .dataframe tbody tr th {\n",
       "        vertical-align: top;\n",
       "    }\n",
       "\n",
       "    .dataframe thead th {\n",
       "        text-align: right;\n",
       "    }\n",
       "</style>\n",
       "<table border=\"1\" class=\"dataframe\">\n",
       "  <thead>\n",
       "    <tr style=\"text-align: right;\">\n",
       "      <th></th>\n",
       "      <th>Open</th>\n",
       "      <th>High</th>\n",
       "      <th>Low</th>\n",
       "      <th>Close</th>\n",
       "      <th>Volume</th>\n",
       "      <th>Adj Close</th>\n",
       "      <th>month</th>\n",
       "    </tr>\n",
       "    <tr>\n",
       "      <th>Date</th>\n",
       "      <th></th>\n",
       "      <th></th>\n",
       "      <th></th>\n",
       "      <th></th>\n",
       "      <th></th>\n",
       "      <th></th>\n",
       "      <th></th>\n",
       "    </tr>\n",
       "  </thead>\n",
       "  <tbody>\n",
       "    <tr>\n",
       "      <th>2014-07-01</th>\n",
       "      <td>93.52</td>\n",
       "      <td>94.07</td>\n",
       "      <td>93.13</td>\n",
       "      <td>93.52</td>\n",
       "      <td>38170200</td>\n",
       "      <td>93.52</td>\n",
       "      <td>&lt;bound method Index.unique of DatetimeIndex(['...</td>\n",
       "    </tr>\n",
       "    <tr>\n",
       "      <th>2014-07-02</th>\n",
       "      <td>93.87</td>\n",
       "      <td>94.06</td>\n",
       "      <td>93.09</td>\n",
       "      <td>93.48</td>\n",
       "      <td>28420900</td>\n",
       "      <td>93.48</td>\n",
       "      <td>&lt;bound method Index.unique of DatetimeIndex(['...</td>\n",
       "    </tr>\n",
       "    <tr>\n",
       "      <th>2014-07-03</th>\n",
       "      <td>93.67</td>\n",
       "      <td>94.10</td>\n",
       "      <td>93.20</td>\n",
       "      <td>94.03</td>\n",
       "      <td>22891800</td>\n",
       "      <td>94.03</td>\n",
       "      <td>&lt;bound method Index.unique of DatetimeIndex(['...</td>\n",
       "    </tr>\n",
       "    <tr>\n",
       "      <th>2014-07-07</th>\n",
       "      <td>94.14</td>\n",
       "      <td>95.99</td>\n",
       "      <td>94.10</td>\n",
       "      <td>95.97</td>\n",
       "      <td>56305400</td>\n",
       "      <td>95.97</td>\n",
       "      <td>&lt;bound method Index.unique of DatetimeIndex(['...</td>\n",
       "    </tr>\n",
       "    <tr>\n",
       "      <th>2014-07-08</th>\n",
       "      <td>96.27</td>\n",
       "      <td>96.80</td>\n",
       "      <td>93.92</td>\n",
       "      <td>95.35</td>\n",
       "      <td>65130000</td>\n",
       "      <td>95.35</td>\n",
       "      <td>&lt;bound method Index.unique of DatetimeIndex(['...</td>\n",
       "    </tr>\n",
       "  </tbody>\n",
       "</table>\n",
       "</div>"
      ],
      "text/plain": [
       "             Open   High    Low  Close    Volume  Adj Close  \\\n",
       "Date                                                          \n",
       "2014-07-01  93.52  94.07  93.13  93.52  38170200      93.52   \n",
       "2014-07-02  93.87  94.06  93.09  93.48  28420900      93.48   \n",
       "2014-07-03  93.67  94.10  93.20  94.03  22891800      94.03   \n",
       "2014-07-07  94.14  95.99  94.10  95.97  56305400      95.97   \n",
       "2014-07-08  96.27  96.80  93.92  95.35  65130000      95.35   \n",
       "\n",
       "                                                        month  \n",
       "Date                                                           \n",
       "2014-07-01  <bound method Index.unique of DatetimeIndex(['...  \n",
       "2014-07-02  <bound method Index.unique of DatetimeIndex(['...  \n",
       "2014-07-03  <bound method Index.unique of DatetimeIndex(['...  \n",
       "2014-07-07  <bound method Index.unique of DatetimeIndex(['...  \n",
       "2014-07-08  <bound method Index.unique of DatetimeIndex(['...  "
      ]
     },
     "execution_count": 28,
     "metadata": {},
     "output_type": "execute_result"
    }
   ],
   "source": [
    "apple.tail()"
   ]
  },
  {
   "cell_type": "markdown",
   "metadata": {
    "id": "ZYs04FAlAy68"
   },
   "source": [
    "### Step 9. Get the last business day of each month"
   ]
  },
  {
   "cell_type": "code",
   "execution_count": 26,
   "metadata": {},
   "outputs": [
    {
     "name": "stderr",
     "output_type": "stream",
     "text": [
      "C:\\Users\\Ana\\AppData\\Local\\Temp\\ipykernel_6284\\2283381458.py:3: FutureWarning: 'BM' is deprecated and will be removed in a future version, please use 'BME' instead.\n",
      "  apple.asfreq(freq=\"BM\")\n"
     ]
    },
    {
     "data": {
      "application/vnd.microsoft.datawrangler.viewer.v0+json": {
       "columns": [
        {
         "name": "Date",
         "rawType": "datetime64[ns]",
         "type": "datetime"
        },
        {
         "name": "Open",
         "rawType": "float64",
         "type": "float"
        },
        {
         "name": "High",
         "rawType": "float64",
         "type": "float"
        },
        {
         "name": "Low",
         "rawType": "float64",
         "type": "float"
        },
        {
         "name": "Close",
         "rawType": "float64",
         "type": "float"
        },
        {
         "name": "Volume",
         "rawType": "float64",
         "type": "float"
        },
        {
         "name": "Adj Close",
         "rawType": "float64",
         "type": "float"
        },
        {
         "name": "month",
         "rawType": "object",
         "type": "unknown"
        }
       ],
       "conversionMethod": "pd.DataFrame",
       "ref": "c39d19ed-81d7-4dcc-835d-07e9ea1031bb",
       "rows": [
        [
         "1980-12-31 00:00:00",
         "34.25",
         "34.25",
         "34.13",
         "34.13",
         "8937600.0",
         "0.53",
         "<bound method Index.unique of DatetimeIndex(['1980-12-12', '1980-12-15', '1980-12-16', '1980-12-17',\n               '1980-12-18', '1980-12-19', '1980-12-22', '1980-12-23',\n               '1980-12-24', '1980-12-26',\n               ...\n               '2014-06-24', '2014-06-25', '2014-06-26', '2014-06-27',\n               '2014-06-30', '2014-07-01', '2014-07-02', '2014-07-03',\n               '2014-07-07', '2014-07-08'],\n              dtype='datetime64[ns]', name='Date', length=8465, freq=None)>"
        ],
        [
         "1981-01-30 00:00:00",
         "28.5",
         "28.5",
         "28.25",
         "28.25",
         "11547200.0",
         "0.44",
         "<bound method Index.unique of DatetimeIndex(['1980-12-12', '1980-12-15', '1980-12-16', '1980-12-17',\n               '1980-12-18', '1980-12-19', '1980-12-22', '1980-12-23',\n               '1980-12-24', '1980-12-26',\n               ...\n               '2014-06-24', '2014-06-25', '2014-06-26', '2014-06-27',\n               '2014-06-30', '2014-07-01', '2014-07-02', '2014-07-03',\n               '2014-07-07', '2014-07-08'],\n              dtype='datetime64[ns]', name='Date', length=8465, freq=None)>"
        ],
        [
         "1981-02-27 00:00:00",
         "26.5",
         "26.75",
         "26.5",
         "26.5",
         "3690400.0",
         "0.41",
         "<bound method Index.unique of DatetimeIndex(['1980-12-12', '1980-12-15', '1980-12-16', '1980-12-17',\n               '1980-12-18', '1980-12-19', '1980-12-22', '1980-12-23',\n               '1980-12-24', '1980-12-26',\n               ...\n               '2014-06-24', '2014-06-25', '2014-06-26', '2014-06-27',\n               '2014-06-30', '2014-07-01', '2014-07-02', '2014-07-03',\n               '2014-07-07', '2014-07-08'],\n              dtype='datetime64[ns]', name='Date', length=8465, freq=None)>"
        ],
        [
         "1981-03-31 00:00:00",
         "24.75",
         "24.75",
         "24.5",
         "24.5",
         "3998400.0",
         "0.38",
         "<bound method Index.unique of DatetimeIndex(['1980-12-12', '1980-12-15', '1980-12-16', '1980-12-17',\n               '1980-12-18', '1980-12-19', '1980-12-22', '1980-12-23',\n               '1980-12-24', '1980-12-26',\n               ...\n               '2014-06-24', '2014-06-25', '2014-06-26', '2014-06-27',\n               '2014-06-30', '2014-07-01', '2014-07-02', '2014-07-03',\n               '2014-07-07', '2014-07-08'],\n              dtype='datetime64[ns]', name='Date', length=8465, freq=None)>"
        ],
        [
         "1981-04-30 00:00:00",
         "28.38",
         "28.62",
         "28.38",
         "28.38",
         "3152800.0",
         "0.44",
         "<bound method Index.unique of DatetimeIndex(['1980-12-12', '1980-12-15', '1980-12-16', '1980-12-17',\n               '1980-12-18', '1980-12-19', '1980-12-22', '1980-12-23',\n               '1980-12-24', '1980-12-26',\n               ...\n               '2014-06-24', '2014-06-25', '2014-06-26', '2014-06-27',\n               '2014-06-30', '2014-07-01', '2014-07-02', '2014-07-03',\n               '2014-07-07', '2014-07-08'],\n              dtype='datetime64[ns]', name='Date', length=8465, freq=None)>"
        ],
        [
         "1981-05-29 00:00:00",
         "33.13",
         "33.25",
         "33.13",
         "33.13",
         "14845600.0",
         "0.52",
         "<bound method Index.unique of DatetimeIndex(['1980-12-12', '1980-12-15', '1980-12-16', '1980-12-17',\n               '1980-12-18', '1980-12-19', '1980-12-22', '1980-12-23',\n               '1980-12-24', '1980-12-26',\n               ...\n               '2014-06-24', '2014-06-25', '2014-06-26', '2014-06-27',\n               '2014-06-30', '2014-07-01', '2014-07-02', '2014-07-03',\n               '2014-07-07', '2014-07-08'],\n              dtype='datetime64[ns]', name='Date', length=8465, freq=None)>"
        ],
        [
         "1981-06-30 00:00:00",
         "26.13",
         "26.13",
         "26.0",
         "26.0",
         "8976800.0",
         "0.41",
         "<bound method Index.unique of DatetimeIndex(['1980-12-12', '1980-12-15', '1980-12-16', '1980-12-17',\n               '1980-12-18', '1980-12-19', '1980-12-22', '1980-12-23',\n               '1980-12-24', '1980-12-26',\n               ...\n               '2014-06-24', '2014-06-25', '2014-06-26', '2014-06-27',\n               '2014-06-30', '2014-07-01', '2014-07-02', '2014-07-03',\n               '2014-07-07', '2014-07-08'],\n              dtype='datetime64[ns]', name='Date', length=8465, freq=None)>"
        ],
        [
         "1981-07-31 00:00:00",
         "25.0",
         "25.12",
         "25.0",
         "25.0",
         "2738400.0",
         "0.39",
         "<bound method Index.unique of DatetimeIndex(['1980-12-12', '1980-12-15', '1980-12-16', '1980-12-17',\n               '1980-12-18', '1980-12-19', '1980-12-22', '1980-12-23',\n               '1980-12-24', '1980-12-26',\n               ...\n               '2014-06-24', '2014-06-25', '2014-06-26', '2014-06-27',\n               '2014-06-30', '2014-07-01', '2014-07-02', '2014-07-03',\n               '2014-07-07', '2014-07-08'],\n              dtype='datetime64[ns]', name='Date', length=8465, freq=None)>"
        ],
        [
         "1981-08-31 00:00:00",
         "20.13",
         "20.25",
         "20.13",
         "20.13",
         "10236800.0",
         "0.31",
         "<bound method Index.unique of DatetimeIndex(['1980-12-12', '1980-12-15', '1980-12-16', '1980-12-17',\n               '1980-12-18', '1980-12-19', '1980-12-22', '1980-12-23',\n               '1980-12-24', '1980-12-26',\n               ...\n               '2014-06-24', '2014-06-25', '2014-06-26', '2014-06-27',\n               '2014-06-30', '2014-07-01', '2014-07-02', '2014-07-03',\n               '2014-07-07', '2014-07-08'],\n              dtype='datetime64[ns]', name='Date', length=8465, freq=None)>"
        ],
        [
         "1981-09-30 00:00:00",
         "15.25",
         "15.37",
         "15.25",
         "15.25",
         "12499200.0",
         "0.24",
         "<bound method Index.unique of DatetimeIndex(['1980-12-12', '1980-12-15', '1980-12-16', '1980-12-17',\n               '1980-12-18', '1980-12-19', '1980-12-22', '1980-12-23',\n               '1980-12-24', '1980-12-26',\n               ...\n               '2014-06-24', '2014-06-25', '2014-06-26', '2014-06-27',\n               '2014-06-30', '2014-07-01', '2014-07-02', '2014-07-03',\n               '2014-07-07', '2014-07-08'],\n              dtype='datetime64[ns]', name='Date', length=8465, freq=None)>"
        ],
        [
         "1981-10-30 00:00:00",
         "20.0",
         "20.13",
         "20.0",
         "20.0",
         "13182400.0",
         "0.31",
         "<bound method Index.unique of DatetimeIndex(['1980-12-12', '1980-12-15', '1980-12-16', '1980-12-17',\n               '1980-12-18', '1980-12-19', '1980-12-22', '1980-12-23',\n               '1980-12-24', '1980-12-26',\n               ...\n               '2014-06-24', '2014-06-25', '2014-06-26', '2014-06-27',\n               '2014-06-30', '2014-07-01', '2014-07-02', '2014-07-03',\n               '2014-07-07', '2014-07-08'],\n              dtype='datetime64[ns]', name='Date', length=8465, freq=None)>"
        ],
        [
         "1981-11-30 00:00:00",
         "18.75",
         "18.75",
         "18.63",
         "18.63",
         "5992000.0",
         "0.29",
         "<bound method Index.unique of DatetimeIndex(['1980-12-12', '1980-12-15', '1980-12-16', '1980-12-17',\n               '1980-12-18', '1980-12-19', '1980-12-22', '1980-12-23',\n               '1980-12-24', '1980-12-26',\n               ...\n               '2014-06-24', '2014-06-25', '2014-06-26', '2014-06-27',\n               '2014-06-30', '2014-07-01', '2014-07-02', '2014-07-03',\n               '2014-07-07', '2014-07-08'],\n              dtype='datetime64[ns]', name='Date', length=8465, freq=None)>"
        ],
        [
         "1981-12-31 00:00:00",
         "22.13",
         "22.25",
         "22.13",
         "22.13",
         "13664000.0",
         "0.34",
         "<bound method Index.unique of DatetimeIndex(['1980-12-12', '1980-12-15', '1980-12-16', '1980-12-17',\n               '1980-12-18', '1980-12-19', '1980-12-22', '1980-12-23',\n               '1980-12-24', '1980-12-26',\n               ...\n               '2014-06-24', '2014-06-25', '2014-06-26', '2014-06-27',\n               '2014-06-30', '2014-07-01', '2014-07-02', '2014-07-03',\n               '2014-07-07', '2014-07-08'],\n              dtype='datetime64[ns]', name='Date', length=8465, freq=None)>"
        ],
        [
         "1982-01-29 00:00:00",
         "20.38",
         "20.5",
         "20.38",
         "20.38",
         "13288800.0",
         "0.32",
         "<bound method Index.unique of DatetimeIndex(['1980-12-12', '1980-12-15', '1980-12-16', '1980-12-17',\n               '1980-12-18', '1980-12-19', '1980-12-22', '1980-12-23',\n               '1980-12-24', '1980-12-26',\n               ...\n               '2014-06-24', '2014-06-25', '2014-06-26', '2014-06-27',\n               '2014-06-30', '2014-07-01', '2014-07-02', '2014-07-03',\n               '2014-07-07', '2014-07-08'],\n              dtype='datetime64[ns]', name='Date', length=8465, freq=None)>"
        ],
        [
         "1982-02-26 00:00:00",
         "18.25",
         "18.37",
         "18.25",
         "18.25",
         "4356800.0",
         "0.28",
         "<bound method Index.unique of DatetimeIndex(['1980-12-12', '1980-12-15', '1980-12-16', '1980-12-17',\n               '1980-12-18', '1980-12-19', '1980-12-22', '1980-12-23',\n               '1980-12-24', '1980-12-26',\n               ...\n               '2014-06-24', '2014-06-25', '2014-06-26', '2014-06-27',\n               '2014-06-30', '2014-07-01', '2014-07-02', '2014-07-03',\n               '2014-07-07', '2014-07-08'],\n              dtype='datetime64[ns]', name='Date', length=8465, freq=None)>"
        ],
        [
         "1982-03-31 00:00:00",
         "16.88",
         "17.0",
         "16.88",
         "16.88",
         "12538400.0",
         "0.26",
         "<bound method Index.unique of DatetimeIndex(['1980-12-12', '1980-12-15', '1980-12-16', '1980-12-17',\n               '1980-12-18', '1980-12-19', '1980-12-22', '1980-12-23',\n               '1980-12-24', '1980-12-26',\n               ...\n               '2014-06-24', '2014-06-25', '2014-06-26', '2014-06-27',\n               '2014-06-30', '2014-07-01', '2014-07-02', '2014-07-03',\n               '2014-07-07', '2014-07-08'],\n              dtype='datetime64[ns]', name='Date', length=8465, freq=None)>"
        ],
        [
         "1982-04-30 00:00:00",
         "14.75",
         "14.87",
         "14.75",
         "14.75",
         "69350400.0",
         "0.23",
         "<bound method Index.unique of DatetimeIndex(['1980-12-12', '1980-12-15', '1980-12-16', '1980-12-17',\n               '1980-12-18', '1980-12-19', '1980-12-22', '1980-12-23',\n               '1980-12-24', '1980-12-26',\n               ...\n               '2014-06-24', '2014-06-25', '2014-06-26', '2014-06-27',\n               '2014-06-30', '2014-07-01', '2014-07-02', '2014-07-03',\n               '2014-07-07', '2014-07-08'],\n              dtype='datetime64[ns]', name='Date', length=8465, freq=None)>"
        ],
        [
         "1982-05-31 00:00:00",
         null,
         null,
         null,
         null,
         null,
         null,
         null
        ],
        [
         "1982-06-30 00:00:00",
         "12.75",
         "12.87",
         "12.75",
         "12.75",
         "16906400.0",
         "0.2",
         "<bound method Index.unique of DatetimeIndex(['1980-12-12', '1980-12-15', '1980-12-16', '1980-12-17',\n               '1980-12-18', '1980-12-19', '1980-12-22', '1980-12-23',\n               '1980-12-24', '1980-12-26',\n               ...\n               '2014-06-24', '2014-06-25', '2014-06-26', '2014-06-27',\n               '2014-06-30', '2014-07-01', '2014-07-02', '2014-07-03',\n               '2014-07-07', '2014-07-08'],\n              dtype='datetime64[ns]', name='Date', length=8465, freq=None)>"
        ],
        [
         "1982-07-30 00:00:00",
         "13.5",
         "13.62",
         "13.5",
         "13.5",
         "9654400.0",
         "0.21",
         "<bound method Index.unique of DatetimeIndex(['1980-12-12', '1980-12-15', '1980-12-16', '1980-12-17',\n               '1980-12-18', '1980-12-19', '1980-12-22', '1980-12-23',\n               '1980-12-24', '1980-12-26',\n               ...\n               '2014-06-24', '2014-06-25', '2014-06-26', '2014-06-27',\n               '2014-06-30', '2014-07-01', '2014-07-02', '2014-07-03',\n               '2014-07-07', '2014-07-08'],\n              dtype='datetime64[ns]', name='Date', length=8465, freq=None)>"
        ],
        [
         "1982-08-31 00:00:00",
         "18.0",
         "18.12",
         "18.0",
         "18.0",
         "35140000.0",
         "0.28",
         "<bound method Index.unique of DatetimeIndex(['1980-12-12', '1980-12-15', '1980-12-16', '1980-12-17',\n               '1980-12-18', '1980-12-19', '1980-12-22', '1980-12-23',\n               '1980-12-24', '1980-12-26',\n               ...\n               '2014-06-24', '2014-06-25', '2014-06-26', '2014-06-27',\n               '2014-06-30', '2014-07-01', '2014-07-02', '2014-07-03',\n               '2014-07-07', '2014-07-08'],\n              dtype='datetime64[ns]', name='Date', length=8465, freq=None)>"
        ],
        [
         "1982-09-30 00:00:00",
         "18.37",
         "18.37",
         "18.25",
         "18.25",
         "18670400.0",
         "0.28",
         "<bound method Index.unique of DatetimeIndex(['1980-12-12', '1980-12-15', '1980-12-16', '1980-12-17',\n               '1980-12-18', '1980-12-19', '1980-12-22', '1980-12-23',\n               '1980-12-24', '1980-12-26',\n               ...\n               '2014-06-24', '2014-06-25', '2014-06-26', '2014-06-27',\n               '2014-06-30', '2014-07-01', '2014-07-02', '2014-07-03',\n               '2014-07-07', '2014-07-08'],\n              dtype='datetime64[ns]', name='Date', length=8465, freq=None)>"
        ],
        [
         "1982-10-29 00:00:00",
         "25.12",
         "25.37",
         "24.75",
         "25.37",
         "29528800.0",
         "0.4",
         "<bound method Index.unique of DatetimeIndex(['1980-12-12', '1980-12-15', '1980-12-16', '1980-12-17',\n               '1980-12-18', '1980-12-19', '1980-12-22', '1980-12-23',\n               '1980-12-24', '1980-12-26',\n               ...\n               '2014-06-24', '2014-06-25', '2014-06-26', '2014-06-27',\n               '2014-06-30', '2014-07-01', '2014-07-02', '2014-07-03',\n               '2014-07-07', '2014-07-08'],\n              dtype='datetime64[ns]', name='Date', length=8465, freq=None)>"
        ],
        [
         "1982-11-30 00:00:00",
         "28.87",
         "32.0",
         "28.75",
         "31.88",
         "39799200.0",
         "0.5",
         "<bound method Index.unique of DatetimeIndex(['1980-12-12', '1980-12-15', '1980-12-16', '1980-12-17',\n               '1980-12-18', '1980-12-19', '1980-12-22', '1980-12-23',\n               '1980-12-24', '1980-12-26',\n               ...\n               '2014-06-24', '2014-06-25', '2014-06-26', '2014-06-27',\n               '2014-06-30', '2014-07-01', '2014-07-02', '2014-07-03',\n               '2014-07-07', '2014-07-08'],\n              dtype='datetime64[ns]', name='Date', length=8465, freq=None)>"
        ],
        [
         "1982-12-31 00:00:00",
         "30.0",
         "30.37",
         "29.87",
         "29.87",
         "12415200.0",
         "0.47",
         "<bound method Index.unique of DatetimeIndex(['1980-12-12', '1980-12-15', '1980-12-16', '1980-12-17',\n               '1980-12-18', '1980-12-19', '1980-12-22', '1980-12-23',\n               '1980-12-24', '1980-12-26',\n               ...\n               '2014-06-24', '2014-06-25', '2014-06-26', '2014-06-27',\n               '2014-06-30', '2014-07-01', '2014-07-02', '2014-07-03',\n               '2014-07-07', '2014-07-08'],\n              dtype='datetime64[ns]', name='Date', length=8465, freq=None)>"
        ],
        [
         "1983-01-31 00:00:00",
         "41.0",
         "41.62",
         "40.13",
         "40.87",
         "47000800.0",
         "0.64",
         "<bound method Index.unique of DatetimeIndex(['1980-12-12', '1980-12-15', '1980-12-16', '1980-12-17',\n               '1980-12-18', '1980-12-19', '1980-12-22', '1980-12-23',\n               '1980-12-24', '1980-12-26',\n               ...\n               '2014-06-24', '2014-06-25', '2014-06-26', '2014-06-27',\n               '2014-06-30', '2014-07-01', '2014-07-02', '2014-07-03',\n               '2014-07-07', '2014-07-08'],\n              dtype='datetime64[ns]', name='Date', length=8465, freq=None)>"
        ],
        [
         "1983-02-28 00:00:00",
         "46.75",
         "46.87",
         "45.5",
         "45.62",
         "33073600.0",
         "0.71",
         "<bound method Index.unique of DatetimeIndex(['1980-12-12', '1980-12-15', '1980-12-16', '1980-12-17',\n               '1980-12-18', '1980-12-19', '1980-12-22', '1980-12-23',\n               '1980-12-24', '1980-12-26',\n               ...\n               '2014-06-24', '2014-06-25', '2014-06-26', '2014-06-27',\n               '2014-06-30', '2014-07-01', '2014-07-02', '2014-07-03',\n               '2014-07-07', '2014-07-08'],\n              dtype='datetime64[ns]', name='Date', length=8465, freq=None)>"
        ],
        [
         "1983-03-31 00:00:00",
         "44.25",
         "44.5",
         "42.25",
         "42.25",
         "21285600.0",
         "0.66",
         "<bound method Index.unique of DatetimeIndex(['1980-12-12', '1980-12-15', '1980-12-16', '1980-12-17',\n               '1980-12-18', '1980-12-19', '1980-12-22', '1980-12-23',\n               '1980-12-24', '1980-12-26',\n               ...\n               '2014-06-24', '2014-06-25', '2014-06-26', '2014-06-27',\n               '2014-06-30', '2014-07-01', '2014-07-02', '2014-07-03',\n               '2014-07-07', '2014-07-08'],\n              dtype='datetime64[ns]', name='Date', length=8465, freq=None)>"
        ],
        [
         "1983-04-29 00:00:00",
         "50.0",
         "50.75",
         "49.38",
         "50.5",
         "77078400.0",
         "0.79",
         "<bound method Index.unique of DatetimeIndex(['1980-12-12', '1980-12-15', '1980-12-16', '1980-12-17',\n               '1980-12-18', '1980-12-19', '1980-12-22', '1980-12-23',\n               '1980-12-24', '1980-12-26',\n               ...\n               '2014-06-24', '2014-06-25', '2014-06-26', '2014-06-27',\n               '2014-06-30', '2014-07-01', '2014-07-02', '2014-07-03',\n               '2014-07-07', '2014-07-08'],\n              dtype='datetime64[ns]', name='Date', length=8465, freq=None)>"
        ],
        [
         "1983-05-31 00:00:00",
         "59.25",
         "59.25",
         "56.62",
         "57.75",
         "11384800.0",
         "0.9",
         "<bound method Index.unique of DatetimeIndex(['1980-12-12', '1980-12-15', '1980-12-16', '1980-12-17',\n               '1980-12-18', '1980-12-19', '1980-12-22', '1980-12-23',\n               '1980-12-24', '1980-12-26',\n               ...\n               '2014-06-24', '2014-06-25', '2014-06-26', '2014-06-27',\n               '2014-06-30', '2014-07-01', '2014-07-02', '2014-07-03',\n               '2014-07-07', '2014-07-08'],\n              dtype='datetime64[ns]', name='Date', length=8465, freq=None)>"
        ],
        [
         "1983-06-30 00:00:00",
         "49.12",
         "50.0",
         "48.62",
         "48.88",
         "27641600.0",
         "0.76",
         "<bound method Index.unique of DatetimeIndex(['1980-12-12', '1980-12-15', '1980-12-16', '1980-12-17',\n               '1980-12-18', '1980-12-19', '1980-12-22', '1980-12-23',\n               '1980-12-24', '1980-12-26',\n               ...\n               '2014-06-24', '2014-06-25', '2014-06-26', '2014-06-27',\n               '2014-06-30', '2014-07-01', '2014-07-02', '2014-07-03',\n               '2014-07-07', '2014-07-08'],\n              dtype='datetime64[ns]', name='Date', length=8465, freq=None)>"
        ],
        [
         "1983-07-29 00:00:00",
         "34.0",
         "35.25",
         "33.87",
         "34.88",
         "55081600.0",
         "0.54",
         "<bound method Index.unique of DatetimeIndex(['1980-12-12', '1980-12-15', '1980-12-16', '1980-12-17',\n               '1980-12-18', '1980-12-19', '1980-12-22', '1980-12-23',\n               '1980-12-24', '1980-12-26',\n               ...\n               '2014-06-24', '2014-06-25', '2014-06-26', '2014-06-27',\n               '2014-06-30', '2014-07-01', '2014-07-02', '2014-07-03',\n               '2014-07-07', '2014-07-08'],\n              dtype='datetime64[ns]', name='Date', length=8465, freq=None)>"
        ],
        [
         "1983-08-31 00:00:00",
         "33.13",
         "37.25",
         "33.13",
         "37.25",
         "50058400.0",
         "0.58",
         "<bound method Index.unique of DatetimeIndex(['1980-12-12', '1980-12-15', '1980-12-16', '1980-12-17',\n               '1980-12-18', '1980-12-19', '1980-12-22', '1980-12-23',\n               '1980-12-24', '1980-12-26',\n               ...\n               '2014-06-24', '2014-06-25', '2014-06-26', '2014-06-27',\n               '2014-06-30', '2014-07-01', '2014-07-02', '2014-07-03',\n               '2014-07-07', '2014-07-08'],\n              dtype='datetime64[ns]', name='Date', length=8465, freq=None)>"
        ],
        [
         "1983-09-30 00:00:00",
         "22.75",
         "23.63",
         "22.5",
         "23.13",
         "29467200.0",
         "0.36",
         "<bound method Index.unique of DatetimeIndex(['1980-12-12', '1980-12-15', '1980-12-16', '1980-12-17',\n               '1980-12-18', '1980-12-19', '1980-12-22', '1980-12-23',\n               '1980-12-24', '1980-12-26',\n               ...\n               '2014-06-24', '2014-06-25', '2014-06-26', '2014-06-27',\n               '2014-06-30', '2014-07-01', '2014-07-02', '2014-07-03',\n               '2014-07-07', '2014-07-08'],\n              dtype='datetime64[ns]', name='Date', length=8465, freq=None)>"
        ],
        [
         "1983-10-31 00:00:00",
         "21.12",
         "23.0",
         "21.12",
         "22.63",
         "43293600.0",
         "0.35",
         "<bound method Index.unique of DatetimeIndex(['1980-12-12', '1980-12-15', '1980-12-16', '1980-12-17',\n               '1980-12-18', '1980-12-19', '1980-12-22', '1980-12-23',\n               '1980-12-24', '1980-12-26',\n               ...\n               '2014-06-24', '2014-06-25', '2014-06-26', '2014-06-27',\n               '2014-06-30', '2014-07-01', '2014-07-02', '2014-07-03',\n               '2014-07-07', '2014-07-08'],\n              dtype='datetime64[ns]', name='Date', length=8465, freq=None)>"
        ],
        [
         "1983-11-30 00:00:00",
         "20.75",
         "21.0",
         "20.38",
         "20.38",
         "16083200.0",
         "0.32",
         "<bound method Index.unique of DatetimeIndex(['1980-12-12', '1980-12-15', '1980-12-16', '1980-12-17',\n               '1980-12-18', '1980-12-19', '1980-12-22', '1980-12-23',\n               '1980-12-24', '1980-12-26',\n               ...\n               '2014-06-24', '2014-06-25', '2014-06-26', '2014-06-27',\n               '2014-06-30', '2014-07-01', '2014-07-02', '2014-07-03',\n               '2014-07-07', '2014-07-08'],\n              dtype='datetime64[ns]', name='Date', length=8465, freq=None)>"
        ],
        [
         "1983-12-30 00:00:00",
         "24.38",
         "25.0",
         "24.25",
         "24.38",
         "22965600.0",
         "0.38",
         "<bound method Index.unique of DatetimeIndex(['1980-12-12', '1980-12-15', '1980-12-16', '1980-12-17',\n               '1980-12-18', '1980-12-19', '1980-12-22', '1980-12-23',\n               '1980-12-24', '1980-12-26',\n               ...\n               '2014-06-24', '2014-06-25', '2014-06-26', '2014-06-27',\n               '2014-06-30', '2014-07-01', '2014-07-02', '2014-07-03',\n               '2014-07-07', '2014-07-08'],\n              dtype='datetime64[ns]', name='Date', length=8465, freq=None)>"
        ],
        [
         "1984-01-31 00:00:00",
         "24.75",
         "25.25",
         "23.13",
         "24.75",
         "86273600.0",
         "0.39",
         "<bound method Index.unique of DatetimeIndex(['1980-12-12', '1980-12-15', '1980-12-16', '1980-12-17',\n               '1980-12-18', '1980-12-19', '1980-12-22', '1980-12-23',\n               '1980-12-24', '1980-12-26',\n               ...\n               '2014-06-24', '2014-06-25', '2014-06-26', '2014-06-27',\n               '2014-06-30', '2014-07-01', '2014-07-02', '2014-07-03',\n               '2014-07-07', '2014-07-08'],\n              dtype='datetime64[ns]', name='Date', length=8465, freq=None)>"
        ],
        [
         "1984-02-29 00:00:00",
         "25.5",
         "26.87",
         "25.25",
         "26.25",
         "33510400.0",
         "0.41",
         "<bound method Index.unique of DatetimeIndex(['1980-12-12', '1980-12-15', '1980-12-16', '1980-12-17',\n               '1980-12-18', '1980-12-19', '1980-12-22', '1980-12-23',\n               '1980-12-24', '1980-12-26',\n               ...\n               '2014-06-24', '2014-06-25', '2014-06-26', '2014-06-27',\n               '2014-06-30', '2014-07-01', '2014-07-02', '2014-07-03',\n               '2014-07-07', '2014-07-08'],\n              dtype='datetime64[ns]', name='Date', length=8465, freq=None)>"
        ],
        [
         "1984-03-30 00:00:00",
         "25.37",
         "25.5",
         "24.5",
         "24.75",
         "11435200.0",
         "0.39",
         "<bound method Index.unique of DatetimeIndex(['1980-12-12', '1980-12-15', '1980-12-16', '1980-12-17',\n               '1980-12-18', '1980-12-19', '1980-12-22', '1980-12-23',\n               '1980-12-24', '1980-12-26',\n               ...\n               '2014-06-24', '2014-06-25', '2014-06-26', '2014-06-27',\n               '2014-06-30', '2014-07-01', '2014-07-02', '2014-07-03',\n               '2014-07-07', '2014-07-08'],\n              dtype='datetime64[ns]', name='Date', length=8465, freq=None)>"
        ],
        [
         "1984-04-30 00:00:00",
         "30.13",
         "31.38",
         "29.87",
         "31.38",
         "73287200.0",
         "0.49",
         "<bound method Index.unique of DatetimeIndex(['1980-12-12', '1980-12-15', '1980-12-16', '1980-12-17',\n               '1980-12-18', '1980-12-19', '1980-12-22', '1980-12-23',\n               '1980-12-24', '1980-12-26',\n               ...\n               '2014-06-24', '2014-06-25', '2014-06-26', '2014-06-27',\n               '2014-06-30', '2014-07-01', '2014-07-02', '2014-07-03',\n               '2014-07-07', '2014-07-08'],\n              dtype='datetime64[ns]', name='Date', length=8465, freq=None)>"
        ],
        [
         "1984-05-31 00:00:00",
         "29.0",
         "29.75",
         "28.75",
         "29.37",
         "41753600.0",
         "0.46",
         "<bound method Index.unique of DatetimeIndex(['1980-12-12', '1980-12-15', '1980-12-16', '1980-12-17',\n               '1980-12-18', '1980-12-19', '1980-12-22', '1980-12-23',\n               '1980-12-24', '1980-12-26',\n               ...\n               '2014-06-24', '2014-06-25', '2014-06-26', '2014-06-27',\n               '2014-06-30', '2014-07-01', '2014-07-02', '2014-07-03',\n               '2014-07-07', '2014-07-08'],\n              dtype='datetime64[ns]', name='Date', length=8465, freq=None)>"
        ],
        [
         "1984-06-29 00:00:00",
         "26.37",
         "27.75",
         "26.37",
         "26.5",
         "35498400.0",
         "0.41",
         "<bound method Index.unique of DatetimeIndex(['1980-12-12', '1980-12-15', '1980-12-16', '1980-12-17',\n               '1980-12-18', '1980-12-19', '1980-12-22', '1980-12-23',\n               '1980-12-24', '1980-12-26',\n               ...\n               '2014-06-24', '2014-06-25', '2014-06-26', '2014-06-27',\n               '2014-06-30', '2014-07-01', '2014-07-02', '2014-07-03',\n               '2014-07-07', '2014-07-08'],\n              dtype='datetime64[ns]', name='Date', length=8465, freq=None)>"
        ],
        [
         "1984-07-31 00:00:00",
         "25.5",
         "25.87",
         "24.88",
         "25.5",
         "49907200.0",
         "0.4",
         "<bound method Index.unique of DatetimeIndex(['1980-12-12', '1980-12-15', '1980-12-16', '1980-12-17',\n               '1980-12-18', '1980-12-19', '1980-12-22', '1980-12-23',\n               '1980-12-24', '1980-12-26',\n               ...\n               '2014-06-24', '2014-06-25', '2014-06-26', '2014-06-27',\n               '2014-06-30', '2014-07-01', '2014-07-02', '2014-07-03',\n               '2014-07-07', '2014-07-08'],\n              dtype='datetime64[ns]', name='Date', length=8465, freq=None)>"
        ],
        [
         "1984-08-31 00:00:00",
         "27.0",
         "27.13",
         "26.13",
         "26.5",
         "34462400.0",
         "0.41",
         "<bound method Index.unique of DatetimeIndex(['1980-12-12', '1980-12-15', '1980-12-16', '1980-12-17',\n               '1980-12-18', '1980-12-19', '1980-12-22', '1980-12-23',\n               '1980-12-24', '1980-12-26',\n               ...\n               '2014-06-24', '2014-06-25', '2014-06-26', '2014-06-27',\n               '2014-06-30', '2014-07-01', '2014-07-02', '2014-07-03',\n               '2014-07-07', '2014-07-08'],\n              dtype='datetime64[ns]', name='Date', length=8465, freq=None)>"
        ],
        [
         "1984-09-28 00:00:00",
         "25.75",
         "25.75",
         "24.62",
         "25.12",
         "58352000.0",
         "0.39",
         "<bound method Index.unique of DatetimeIndex(['1980-12-12', '1980-12-15', '1980-12-16', '1980-12-17',\n               '1980-12-18', '1980-12-19', '1980-12-22', '1980-12-23',\n               '1980-12-24', '1980-12-26',\n               ...\n               '2014-06-24', '2014-06-25', '2014-06-26', '2014-06-27',\n               '2014-06-30', '2014-07-01', '2014-07-02', '2014-07-03',\n               '2014-07-07', '2014-07-08'],\n              dtype='datetime64[ns]', name='Date', length=8465, freq=None)>"
        ],
        [
         "1984-10-31 00:00:00",
         "25.0",
         "25.25",
         "24.88",
         "24.88",
         "15058400.0",
         "0.39",
         "<bound method Index.unique of DatetimeIndex(['1980-12-12', '1980-12-15', '1980-12-16', '1980-12-17',\n               '1980-12-18', '1980-12-19', '1980-12-22', '1980-12-23',\n               '1980-12-24', '1980-12-26',\n               ...\n               '2014-06-24', '2014-06-25', '2014-06-26', '2014-06-27',\n               '2014-06-30', '2014-07-01', '2014-07-02', '2014-07-03',\n               '2014-07-07', '2014-07-08'],\n              dtype='datetime64[ns]', name='Date', length=8465, freq=None)>"
        ],
        [
         "1984-11-30 00:00:00",
         "25.37",
         "25.63",
         "24.62",
         "24.75",
         "27176800.0",
         "0.39",
         "<bound method Index.unique of DatetimeIndex(['1980-12-12', '1980-12-15', '1980-12-16', '1980-12-17',\n               '1980-12-18', '1980-12-19', '1980-12-22', '1980-12-23',\n               '1980-12-24', '1980-12-26',\n               ...\n               '2014-06-24', '2014-06-25', '2014-06-26', '2014-06-27',\n               '2014-06-30', '2014-07-01', '2014-07-02', '2014-07-03',\n               '2014-07-07', '2014-07-08'],\n              dtype='datetime64[ns]', name='Date', length=8465, freq=None)>"
        ],
        [
         "1984-12-31 00:00:00",
         "29.13",
         "29.25",
         "29.13",
         "29.13",
         "51940000.0",
         "0.45",
         "<bound method Index.unique of DatetimeIndex(['1980-12-12', '1980-12-15', '1980-12-16', '1980-12-17',\n               '1980-12-18', '1980-12-19', '1980-12-22', '1980-12-23',\n               '1980-12-24', '1980-12-26',\n               ...\n               '2014-06-24', '2014-06-25', '2014-06-26', '2014-06-27',\n               '2014-06-30', '2014-07-01', '2014-07-02', '2014-07-03',\n               '2014-07-07', '2014-07-08'],\n              dtype='datetime64[ns]', name='Date', length=8465, freq=None)>"
        ],
        [
         "1985-01-31 00:00:00",
         "29.87",
         "30.0",
         "29.0",
         "29.0",
         "69059200.0",
         "0.45",
         "<bound method Index.unique of DatetimeIndex(['1980-12-12', '1980-12-15', '1980-12-16', '1980-12-17',\n               '1980-12-18', '1980-12-19', '1980-12-22', '1980-12-23',\n               '1980-12-24', '1980-12-26',\n               ...\n               '2014-06-24', '2014-06-25', '2014-06-26', '2014-06-27',\n               '2014-06-30', '2014-07-01', '2014-07-02', '2014-07-03',\n               '2014-07-07', '2014-07-08'],\n              dtype='datetime64[ns]', name='Date', length=8465, freq=None)>"
        ]
       ],
       "shape": {
        "columns": 7,
        "rows": 403
       }
      },
      "text/html": [
       "<div>\n",
       "<style scoped>\n",
       "    .dataframe tbody tr th:only-of-type {\n",
       "        vertical-align: middle;\n",
       "    }\n",
       "\n",
       "    .dataframe tbody tr th {\n",
       "        vertical-align: top;\n",
       "    }\n",
       "\n",
       "    .dataframe thead th {\n",
       "        text-align: right;\n",
       "    }\n",
       "</style>\n",
       "<table border=\"1\" class=\"dataframe\">\n",
       "  <thead>\n",
       "    <tr style=\"text-align: right;\">\n",
       "      <th></th>\n",
       "      <th>Open</th>\n",
       "      <th>High</th>\n",
       "      <th>Low</th>\n",
       "      <th>Close</th>\n",
       "      <th>Volume</th>\n",
       "      <th>Adj Close</th>\n",
       "      <th>month</th>\n",
       "    </tr>\n",
       "    <tr>\n",
       "      <th>Date</th>\n",
       "      <th></th>\n",
       "      <th></th>\n",
       "      <th></th>\n",
       "      <th></th>\n",
       "      <th></th>\n",
       "      <th></th>\n",
       "      <th></th>\n",
       "    </tr>\n",
       "  </thead>\n",
       "  <tbody>\n",
       "    <tr>\n",
       "      <th>1980-12-31</th>\n",
       "      <td>34.25</td>\n",
       "      <td>34.25</td>\n",
       "      <td>34.13</td>\n",
       "      <td>34.13</td>\n",
       "      <td>8937600.0</td>\n",
       "      <td>0.53</td>\n",
       "      <td>&lt;bound method Index.unique of DatetimeIndex(['...</td>\n",
       "    </tr>\n",
       "    <tr>\n",
       "      <th>1981-01-30</th>\n",
       "      <td>28.50</td>\n",
       "      <td>28.50</td>\n",
       "      <td>28.25</td>\n",
       "      <td>28.25</td>\n",
       "      <td>11547200.0</td>\n",
       "      <td>0.44</td>\n",
       "      <td>&lt;bound method Index.unique of DatetimeIndex(['...</td>\n",
       "    </tr>\n",
       "    <tr>\n",
       "      <th>1981-02-27</th>\n",
       "      <td>26.50</td>\n",
       "      <td>26.75</td>\n",
       "      <td>26.50</td>\n",
       "      <td>26.50</td>\n",
       "      <td>3690400.0</td>\n",
       "      <td>0.41</td>\n",
       "      <td>&lt;bound method Index.unique of DatetimeIndex(['...</td>\n",
       "    </tr>\n",
       "    <tr>\n",
       "      <th>1981-03-31</th>\n",
       "      <td>24.75</td>\n",
       "      <td>24.75</td>\n",
       "      <td>24.50</td>\n",
       "      <td>24.50</td>\n",
       "      <td>3998400.0</td>\n",
       "      <td>0.38</td>\n",
       "      <td>&lt;bound method Index.unique of DatetimeIndex(['...</td>\n",
       "    </tr>\n",
       "    <tr>\n",
       "      <th>1981-04-30</th>\n",
       "      <td>28.38</td>\n",
       "      <td>28.62</td>\n",
       "      <td>28.38</td>\n",
       "      <td>28.38</td>\n",
       "      <td>3152800.0</td>\n",
       "      <td>0.44</td>\n",
       "      <td>&lt;bound method Index.unique of DatetimeIndex(['...</td>\n",
       "    </tr>\n",
       "    <tr>\n",
       "      <th>...</th>\n",
       "      <td>...</td>\n",
       "      <td>...</td>\n",
       "      <td>...</td>\n",
       "      <td>...</td>\n",
       "      <td>...</td>\n",
       "      <td>...</td>\n",
       "      <td>...</td>\n",
       "    </tr>\n",
       "    <tr>\n",
       "      <th>2014-02-28</th>\n",
       "      <td>529.08</td>\n",
       "      <td>532.75</td>\n",
       "      <td>522.12</td>\n",
       "      <td>526.24</td>\n",
       "      <td>92992200.0</td>\n",
       "      <td>74.76</td>\n",
       "      <td>&lt;bound method Index.unique of DatetimeIndex(['...</td>\n",
       "    </tr>\n",
       "    <tr>\n",
       "      <th>2014-03-31</th>\n",
       "      <td>539.23</td>\n",
       "      <td>540.81</td>\n",
       "      <td>535.93</td>\n",
       "      <td>536.74</td>\n",
       "      <td>42167300.0</td>\n",
       "      <td>76.25</td>\n",
       "      <td>&lt;bound method Index.unique of DatetimeIndex(['...</td>\n",
       "    </tr>\n",
       "    <tr>\n",
       "      <th>2014-04-30</th>\n",
       "      <td>592.64</td>\n",
       "      <td>599.43</td>\n",
       "      <td>589.80</td>\n",
       "      <td>590.09</td>\n",
       "      <td>114160200.0</td>\n",
       "      <td>83.83</td>\n",
       "      <td>&lt;bound method Index.unique of DatetimeIndex(['...</td>\n",
       "    </tr>\n",
       "    <tr>\n",
       "      <th>2014-05-30</th>\n",
       "      <td>637.98</td>\n",
       "      <td>644.17</td>\n",
       "      <td>628.90</td>\n",
       "      <td>633.00</td>\n",
       "      <td>141005200.0</td>\n",
       "      <td>90.43</td>\n",
       "      <td>&lt;bound method Index.unique of DatetimeIndex(['...</td>\n",
       "    </tr>\n",
       "    <tr>\n",
       "      <th>2014-06-30</th>\n",
       "      <td>92.10</td>\n",
       "      <td>93.73</td>\n",
       "      <td>92.09</td>\n",
       "      <td>92.93</td>\n",
       "      <td>49482300.0</td>\n",
       "      <td>92.93</td>\n",
       "      <td>&lt;bound method Index.unique of DatetimeIndex(['...</td>\n",
       "    </tr>\n",
       "  </tbody>\n",
       "</table>\n",
       "<p>403 rows × 7 columns</p>\n",
       "</div>"
      ],
      "text/plain": [
       "              Open    High     Low   Close       Volume  Adj Close  \\\n",
       "Date                                                                 \n",
       "1980-12-31   34.25   34.25   34.13   34.13    8937600.0       0.53   \n",
       "1981-01-30   28.50   28.50   28.25   28.25   11547200.0       0.44   \n",
       "1981-02-27   26.50   26.75   26.50   26.50    3690400.0       0.41   \n",
       "1981-03-31   24.75   24.75   24.50   24.50    3998400.0       0.38   \n",
       "1981-04-30   28.38   28.62   28.38   28.38    3152800.0       0.44   \n",
       "...            ...     ...     ...     ...          ...        ...   \n",
       "2014-02-28  529.08  532.75  522.12  526.24   92992200.0      74.76   \n",
       "2014-03-31  539.23  540.81  535.93  536.74   42167300.0      76.25   \n",
       "2014-04-30  592.64  599.43  589.80  590.09  114160200.0      83.83   \n",
       "2014-05-30  637.98  644.17  628.90  633.00  141005200.0      90.43   \n",
       "2014-06-30   92.10   93.73   92.09   92.93   49482300.0      92.93   \n",
       "\n",
       "                                                        month  \n",
       "Date                                                           \n",
       "1980-12-31  <bound method Index.unique of DatetimeIndex(['...  \n",
       "1981-01-30  <bound method Index.unique of DatetimeIndex(['...  \n",
       "1981-02-27  <bound method Index.unique of DatetimeIndex(['...  \n",
       "1981-03-31  <bound method Index.unique of DatetimeIndex(['...  \n",
       "1981-04-30  <bound method Index.unique of DatetimeIndex(['...  \n",
       "...                                                       ...  \n",
       "2014-02-28  <bound method Index.unique of DatetimeIndex(['...  \n",
       "2014-03-31  <bound method Index.unique of DatetimeIndex(['...  \n",
       "2014-04-30  <bound method Index.unique of DatetimeIndex(['...  \n",
       "2014-05-30  <bound method Index.unique of DatetimeIndex(['...  \n",
       "2014-06-30  <bound method Index.unique of DatetimeIndex(['...  \n",
       "\n",
       "[403 rows x 7 columns]"
      ]
     },
     "execution_count": 26,
     "metadata": {},
     "output_type": "execute_result"
    }
   ],
   "source": [
    "##Este es igual que el resample de abajo. otra forma de hacerlo\n",
    "\n",
    "apple.asfreq(freq=\"BM\")"
   ]
  },
  {
   "cell_type": "code",
   "execution_count": 14,
   "metadata": {},
   "outputs": [
    {
     "name": "stderr",
     "output_type": "stream",
     "text": [
      "C:\\Users\\Ana\\AppData\\Local\\Temp\\ipykernel_6284\\2006872503.py:4: FutureWarning: 'BM' is deprecated and will be removed in a future version, please use 'BME' instead.\n",
      "  df_last_business_day = apple.resample('BM').last()\n"
     ]
    },
    {
     "data": {
      "application/vnd.microsoft.datawrangler.viewer.v0+json": {
       "columns": [
        {
         "name": "Date",
         "rawType": "datetime64[ns]",
         "type": "datetime"
        },
        {
         "name": "Open",
         "rawType": "float64",
         "type": "float"
        },
        {
         "name": "High",
         "rawType": "float64",
         "type": "float"
        },
        {
         "name": "Low",
         "rawType": "float64",
         "type": "float"
        },
        {
         "name": "Close",
         "rawType": "float64",
         "type": "float"
        },
        {
         "name": "Volume",
         "rawType": "int64",
         "type": "integer"
        },
        {
         "name": "Adj Close",
         "rawType": "float64",
         "type": "float"
        }
       ],
       "conversionMethod": "pd.DataFrame",
       "ref": "14557778-9a83-419a-9770-486a07830bb9",
       "rows": [
        [
         "1980-12-31 00:00:00",
         "34.25",
         "34.25",
         "34.13",
         "34.13",
         "8937600",
         "0.53"
        ],
        [
         "1981-01-30 00:00:00",
         "28.5",
         "28.5",
         "28.25",
         "28.25",
         "11547200",
         "0.44"
        ],
        [
         "1981-02-27 00:00:00",
         "26.5",
         "26.75",
         "26.5",
         "26.5",
         "3690400",
         "0.41"
        ],
        [
         "1981-03-31 00:00:00",
         "24.75",
         "24.75",
         "24.5",
         "24.5",
         "3998400",
         "0.38"
        ],
        [
         "1981-04-30 00:00:00",
         "28.38",
         "28.62",
         "28.38",
         "28.38",
         "3152800",
         "0.44"
        ],
        [
         "1981-05-29 00:00:00",
         "33.13",
         "33.25",
         "33.13",
         "33.13",
         "14845600",
         "0.52"
        ],
        [
         "1981-06-30 00:00:00",
         "26.13",
         "26.13",
         "26.0",
         "26.0",
         "8976800",
         "0.41"
        ],
        [
         "1981-07-31 00:00:00",
         "25.0",
         "25.12",
         "25.0",
         "25.0",
         "2738400",
         "0.39"
        ],
        [
         "1981-08-31 00:00:00",
         "20.13",
         "20.25",
         "20.13",
         "20.13",
         "10236800",
         "0.31"
        ],
        [
         "1981-09-30 00:00:00",
         "15.25",
         "15.37",
         "15.25",
         "15.25",
         "12499200",
         "0.24"
        ],
        [
         "1981-10-30 00:00:00",
         "20.0",
         "20.13",
         "20.0",
         "20.0",
         "13182400",
         "0.31"
        ],
        [
         "1981-11-30 00:00:00",
         "18.75",
         "18.75",
         "18.63",
         "18.63",
         "5992000",
         "0.29"
        ],
        [
         "1981-12-31 00:00:00",
         "22.13",
         "22.25",
         "22.13",
         "22.13",
         "13664000",
         "0.34"
        ],
        [
         "1982-01-29 00:00:00",
         "20.38",
         "20.5",
         "20.38",
         "20.38",
         "13288800",
         "0.32"
        ],
        [
         "1982-02-26 00:00:00",
         "18.25",
         "18.37",
         "18.25",
         "18.25",
         "4356800",
         "0.28"
        ],
        [
         "1982-03-31 00:00:00",
         "16.88",
         "17.0",
         "16.88",
         "16.88",
         "12538400",
         "0.26"
        ],
        [
         "1982-04-30 00:00:00",
         "14.75",
         "14.87",
         "14.75",
         "14.75",
         "69350400",
         "0.23"
        ],
        [
         "1982-05-31 00:00:00",
         "14.0",
         "14.12",
         "14.0",
         "14.0",
         "4799200",
         "0.22"
        ],
        [
         "1982-06-30 00:00:00",
         "12.75",
         "12.87",
         "12.75",
         "12.75",
         "16906400",
         "0.2"
        ],
        [
         "1982-07-30 00:00:00",
         "13.5",
         "13.62",
         "13.5",
         "13.5",
         "9654400",
         "0.21"
        ],
        [
         "1982-08-31 00:00:00",
         "18.0",
         "18.12",
         "18.0",
         "18.0",
         "35140000",
         "0.28"
        ],
        [
         "1982-09-30 00:00:00",
         "18.37",
         "18.37",
         "18.25",
         "18.25",
         "18670400",
         "0.28"
        ],
        [
         "1982-10-29 00:00:00",
         "25.12",
         "25.37",
         "24.75",
         "25.37",
         "29528800",
         "0.4"
        ],
        [
         "1982-11-30 00:00:00",
         "28.87",
         "32.0",
         "28.75",
         "31.88",
         "39799200",
         "0.5"
        ],
        [
         "1982-12-31 00:00:00",
         "30.0",
         "30.37",
         "29.87",
         "29.87",
         "12415200",
         "0.47"
        ],
        [
         "1983-01-31 00:00:00",
         "41.0",
         "41.62",
         "40.13",
         "40.87",
         "47000800",
         "0.64"
        ],
        [
         "1983-02-28 00:00:00",
         "46.75",
         "46.87",
         "45.5",
         "45.62",
         "33073600",
         "0.71"
        ],
        [
         "1983-03-31 00:00:00",
         "44.25",
         "44.5",
         "42.25",
         "42.25",
         "21285600",
         "0.66"
        ],
        [
         "1983-04-29 00:00:00",
         "50.0",
         "50.75",
         "49.38",
         "50.5",
         "77078400",
         "0.79"
        ],
        [
         "1983-05-31 00:00:00",
         "59.25",
         "59.25",
         "56.62",
         "57.75",
         "11384800",
         "0.9"
        ],
        [
         "1983-06-30 00:00:00",
         "49.12",
         "50.0",
         "48.62",
         "48.88",
         "27641600",
         "0.76"
        ],
        [
         "1983-07-29 00:00:00",
         "34.0",
         "35.25",
         "33.87",
         "34.88",
         "55081600",
         "0.54"
        ],
        [
         "1983-08-31 00:00:00",
         "33.13",
         "37.25",
         "33.13",
         "37.25",
         "50058400",
         "0.58"
        ],
        [
         "1983-09-30 00:00:00",
         "22.75",
         "23.63",
         "22.5",
         "23.13",
         "29467200",
         "0.36"
        ],
        [
         "1983-10-31 00:00:00",
         "21.12",
         "23.0",
         "21.12",
         "22.63",
         "43293600",
         "0.35"
        ],
        [
         "1983-11-30 00:00:00",
         "20.75",
         "21.0",
         "20.38",
         "20.38",
         "16083200",
         "0.32"
        ],
        [
         "1983-12-30 00:00:00",
         "24.38",
         "25.0",
         "24.25",
         "24.38",
         "22965600",
         "0.38"
        ],
        [
         "1984-01-31 00:00:00",
         "24.75",
         "25.25",
         "23.13",
         "24.75",
         "86273600",
         "0.39"
        ],
        [
         "1984-02-29 00:00:00",
         "25.5",
         "26.87",
         "25.25",
         "26.25",
         "33510400",
         "0.41"
        ],
        [
         "1984-03-30 00:00:00",
         "25.37",
         "25.5",
         "24.5",
         "24.75",
         "11435200",
         "0.39"
        ],
        [
         "1984-04-30 00:00:00",
         "30.13",
         "31.38",
         "29.87",
         "31.38",
         "73287200",
         "0.49"
        ],
        [
         "1984-05-31 00:00:00",
         "29.0",
         "29.75",
         "28.75",
         "29.37",
         "41753600",
         "0.46"
        ],
        [
         "1984-06-29 00:00:00",
         "26.37",
         "27.75",
         "26.37",
         "26.5",
         "35498400",
         "0.41"
        ],
        [
         "1984-07-31 00:00:00",
         "25.5",
         "25.87",
         "24.88",
         "25.5",
         "49907200",
         "0.4"
        ],
        [
         "1984-08-31 00:00:00",
         "27.0",
         "27.13",
         "26.13",
         "26.5",
         "34462400",
         "0.41"
        ],
        [
         "1984-09-28 00:00:00",
         "25.75",
         "25.75",
         "24.62",
         "25.12",
         "58352000",
         "0.39"
        ],
        [
         "1984-10-31 00:00:00",
         "25.0",
         "25.25",
         "24.88",
         "24.88",
         "15058400",
         "0.39"
        ],
        [
         "1984-11-30 00:00:00",
         "25.37",
         "25.63",
         "24.62",
         "24.75",
         "27176800",
         "0.39"
        ],
        [
         "1984-12-31 00:00:00",
         "29.13",
         "29.25",
         "29.13",
         "29.13",
         "51940000",
         "0.45"
        ],
        [
         "1985-01-31 00:00:00",
         "29.87",
         "30.0",
         "29.0",
         "29.0",
         "69059200",
         "0.45"
        ]
       ],
       "shape": {
        "columns": 6,
        "rows": 404
       }
      },
      "text/html": [
       "<div>\n",
       "<style scoped>\n",
       "    .dataframe tbody tr th:only-of-type {\n",
       "        vertical-align: middle;\n",
       "    }\n",
       "\n",
       "    .dataframe tbody tr th {\n",
       "        vertical-align: top;\n",
       "    }\n",
       "\n",
       "    .dataframe thead th {\n",
       "        text-align: right;\n",
       "    }\n",
       "</style>\n",
       "<table border=\"1\" class=\"dataframe\">\n",
       "  <thead>\n",
       "    <tr style=\"text-align: right;\">\n",
       "      <th></th>\n",
       "      <th>Open</th>\n",
       "      <th>High</th>\n",
       "      <th>Low</th>\n",
       "      <th>Close</th>\n",
       "      <th>Volume</th>\n",
       "      <th>Adj Close</th>\n",
       "    </tr>\n",
       "    <tr>\n",
       "      <th>Date</th>\n",
       "      <th></th>\n",
       "      <th></th>\n",
       "      <th></th>\n",
       "      <th></th>\n",
       "      <th></th>\n",
       "      <th></th>\n",
       "    </tr>\n",
       "  </thead>\n",
       "  <tbody>\n",
       "    <tr>\n",
       "      <th>1980-12-31</th>\n",
       "      <td>34.25</td>\n",
       "      <td>34.25</td>\n",
       "      <td>34.13</td>\n",
       "      <td>34.13</td>\n",
       "      <td>8937600</td>\n",
       "      <td>0.53</td>\n",
       "    </tr>\n",
       "    <tr>\n",
       "      <th>1981-01-30</th>\n",
       "      <td>28.50</td>\n",
       "      <td>28.50</td>\n",
       "      <td>28.25</td>\n",
       "      <td>28.25</td>\n",
       "      <td>11547200</td>\n",
       "      <td>0.44</td>\n",
       "    </tr>\n",
       "    <tr>\n",
       "      <th>1981-02-27</th>\n",
       "      <td>26.50</td>\n",
       "      <td>26.75</td>\n",
       "      <td>26.50</td>\n",
       "      <td>26.50</td>\n",
       "      <td>3690400</td>\n",
       "      <td>0.41</td>\n",
       "    </tr>\n",
       "    <tr>\n",
       "      <th>1981-03-31</th>\n",
       "      <td>24.75</td>\n",
       "      <td>24.75</td>\n",
       "      <td>24.50</td>\n",
       "      <td>24.50</td>\n",
       "      <td>3998400</td>\n",
       "      <td>0.38</td>\n",
       "    </tr>\n",
       "    <tr>\n",
       "      <th>1981-04-30</th>\n",
       "      <td>28.38</td>\n",
       "      <td>28.62</td>\n",
       "      <td>28.38</td>\n",
       "      <td>28.38</td>\n",
       "      <td>3152800</td>\n",
       "      <td>0.44</td>\n",
       "    </tr>\n",
       "    <tr>\n",
       "      <th>...</th>\n",
       "      <td>...</td>\n",
       "      <td>...</td>\n",
       "      <td>...</td>\n",
       "      <td>...</td>\n",
       "      <td>...</td>\n",
       "      <td>...</td>\n",
       "    </tr>\n",
       "    <tr>\n",
       "      <th>2014-03-31</th>\n",
       "      <td>539.23</td>\n",
       "      <td>540.81</td>\n",
       "      <td>535.93</td>\n",
       "      <td>536.74</td>\n",
       "      <td>42167300</td>\n",
       "      <td>76.25</td>\n",
       "    </tr>\n",
       "    <tr>\n",
       "      <th>2014-04-30</th>\n",
       "      <td>592.64</td>\n",
       "      <td>599.43</td>\n",
       "      <td>589.80</td>\n",
       "      <td>590.09</td>\n",
       "      <td>114160200</td>\n",
       "      <td>83.83</td>\n",
       "    </tr>\n",
       "    <tr>\n",
       "      <th>2014-05-30</th>\n",
       "      <td>637.98</td>\n",
       "      <td>644.17</td>\n",
       "      <td>628.90</td>\n",
       "      <td>633.00</td>\n",
       "      <td>141005200</td>\n",
       "      <td>90.43</td>\n",
       "    </tr>\n",
       "    <tr>\n",
       "      <th>2014-06-30</th>\n",
       "      <td>92.10</td>\n",
       "      <td>93.73</td>\n",
       "      <td>92.09</td>\n",
       "      <td>92.93</td>\n",
       "      <td>49482300</td>\n",
       "      <td>92.93</td>\n",
       "    </tr>\n",
       "    <tr>\n",
       "      <th>2014-07-31</th>\n",
       "      <td>96.27</td>\n",
       "      <td>96.80</td>\n",
       "      <td>93.92</td>\n",
       "      <td>95.35</td>\n",
       "      <td>65130000</td>\n",
       "      <td>95.35</td>\n",
       "    </tr>\n",
       "  </tbody>\n",
       "</table>\n",
       "<p>404 rows × 6 columns</p>\n",
       "</div>"
      ],
      "text/plain": [
       "              Open    High     Low   Close     Volume  Adj Close\n",
       "Date                                                            \n",
       "1980-12-31   34.25   34.25   34.13   34.13    8937600       0.53\n",
       "1981-01-30   28.50   28.50   28.25   28.25   11547200       0.44\n",
       "1981-02-27   26.50   26.75   26.50   26.50    3690400       0.41\n",
       "1981-03-31   24.75   24.75   24.50   24.50    3998400       0.38\n",
       "1981-04-30   28.38   28.62   28.38   28.38    3152800       0.44\n",
       "...            ...     ...     ...     ...        ...        ...\n",
       "2014-03-31  539.23  540.81  535.93  536.74   42167300      76.25\n",
       "2014-04-30  592.64  599.43  589.80  590.09  114160200      83.83\n",
       "2014-05-30  637.98  644.17  628.90  633.00  141005200      90.43\n",
       "2014-06-30   92.10   93.73   92.09   92.93   49482300      92.93\n",
       "2014-07-31   96.27   96.80   93.92   95.35   65130000      95.35\n",
       "\n",
       "[404 rows x 6 columns]"
      ]
     },
     "execution_count": 14,
     "metadata": {},
     "output_type": "execute_result"
    }
   ],
   "source": [
    "import pandas as pd\n",
    "\n",
    "# Resample the DataFrame to get the last business day of each month\n",
    "df_last_business_day = apple.resample('BM').last()\n",
    "\n",
    "# Display the resulting DataFrame\n",
    "df_last_business_day\n"
   ]
  },
  {
   "cell_type": "markdown",
   "metadata": {
    "id": "qg9vztDEAy6_"
   },
   "source": [
    "### Step 10.  What is the difference in days between the first day and the oldest"
   ]
  },
  {
   "cell_type": "code",
   "execution_count": 15,
   "metadata": {},
   "outputs": [
    {
     "name": "stdout",
     "output_type": "stream",
     "text": [
      "The difference between the first and last date is 12261 days.\n"
     ]
    }
   ],
   "source": [
    "# Calculate the difference between the last and first date in the index\n",
    "date_difference = (apple.index[-1] - apple.index[0]).days\n",
    "\n",
    "# Display the difference\n",
    "print(f\"The difference between the first and last date is {date_difference} days.\")\n"
   ]
  },
  {
   "cell_type": "markdown",
   "metadata": {
    "id": "GRJAYrMGAy7C"
   },
   "source": [
    "### Step 11.  How many months in the data we have?"
   ]
  },
  {
   "cell_type": "code",
   "execution_count": null,
   "metadata": {},
   "outputs": [],
   "source": [
    "##añadimos una nueva columna en el dataframe, en este caso month. pero le falta algo. HAY QUE REVISARLO\n",
    "\n",
    "apple['month'] = apple.index.unique"
   ]
  },
  {
   "cell_type": "code",
   "execution_count": 27,
   "metadata": {},
   "outputs": [
    {
     "data": {
      "application/vnd.microsoft.datawrangler.viewer.v0+json": {
       "columns": [
        {
         "name": "Date",
         "rawType": "datetime64[ns]",
         "type": "datetime"
        },
        {
         "name": "Open",
         "rawType": "float64",
         "type": "float"
        },
        {
         "name": "High",
         "rawType": "float64",
         "type": "float"
        },
        {
         "name": "Low",
         "rawType": "float64",
         "type": "float"
        },
        {
         "name": "Close",
         "rawType": "float64",
         "type": "float"
        },
        {
         "name": "Volume",
         "rawType": "int64",
         "type": "integer"
        },
        {
         "name": "Adj Close",
         "rawType": "float64",
         "type": "float"
        },
        {
         "name": "month",
         "rawType": "object",
         "type": "unknown"
        }
       ],
       "conversionMethod": "pd.DataFrame",
       "ref": "4fb00eec-8699-49f5-a8aa-0182216aea67",
       "rows": [
        [
         "1980-12-12 00:00:00",
         "28.75",
         "28.87",
         "28.75",
         "28.75",
         "117258400",
         "0.45",
         "<bound method Index.unique of DatetimeIndex(['1980-12-12', '1980-12-15', '1980-12-16', '1980-12-17',\n               '1980-12-18', '1980-12-19', '1980-12-22', '1980-12-23',\n               '1980-12-24', '1980-12-26',\n               ...\n               '2014-06-24', '2014-06-25', '2014-06-26', '2014-06-27',\n               '2014-06-30', '2014-07-01', '2014-07-02', '2014-07-03',\n               '2014-07-07', '2014-07-08'],\n              dtype='datetime64[ns]', name='Date', length=8465, freq=None)>"
        ],
        [
         "1980-12-15 00:00:00",
         "27.38",
         "27.38",
         "27.25",
         "27.25",
         "43971200",
         "0.42",
         "<bound method Index.unique of DatetimeIndex(['1980-12-12', '1980-12-15', '1980-12-16', '1980-12-17',\n               '1980-12-18', '1980-12-19', '1980-12-22', '1980-12-23',\n               '1980-12-24', '1980-12-26',\n               ...\n               '2014-06-24', '2014-06-25', '2014-06-26', '2014-06-27',\n               '2014-06-30', '2014-07-01', '2014-07-02', '2014-07-03',\n               '2014-07-07', '2014-07-08'],\n              dtype='datetime64[ns]', name='Date', length=8465, freq=None)>"
        ],
        [
         "1980-12-16 00:00:00",
         "25.37",
         "25.37",
         "25.25",
         "25.25",
         "26432000",
         "0.39",
         "<bound method Index.unique of DatetimeIndex(['1980-12-12', '1980-12-15', '1980-12-16', '1980-12-17',\n               '1980-12-18', '1980-12-19', '1980-12-22', '1980-12-23',\n               '1980-12-24', '1980-12-26',\n               ...\n               '2014-06-24', '2014-06-25', '2014-06-26', '2014-06-27',\n               '2014-06-30', '2014-07-01', '2014-07-02', '2014-07-03',\n               '2014-07-07', '2014-07-08'],\n              dtype='datetime64[ns]', name='Date', length=8465, freq=None)>"
        ],
        [
         "1980-12-17 00:00:00",
         "25.87",
         "26.0",
         "25.87",
         "25.87",
         "21610400",
         "0.4",
         "<bound method Index.unique of DatetimeIndex(['1980-12-12', '1980-12-15', '1980-12-16', '1980-12-17',\n               '1980-12-18', '1980-12-19', '1980-12-22', '1980-12-23',\n               '1980-12-24', '1980-12-26',\n               ...\n               '2014-06-24', '2014-06-25', '2014-06-26', '2014-06-27',\n               '2014-06-30', '2014-07-01', '2014-07-02', '2014-07-03',\n               '2014-07-07', '2014-07-08'],\n              dtype='datetime64[ns]', name='Date', length=8465, freq=None)>"
        ],
        [
         "1980-12-18 00:00:00",
         "26.63",
         "26.75",
         "26.63",
         "26.63",
         "18362400",
         "0.41",
         "<bound method Index.unique of DatetimeIndex(['1980-12-12', '1980-12-15', '1980-12-16', '1980-12-17',\n               '1980-12-18', '1980-12-19', '1980-12-22', '1980-12-23',\n               '1980-12-24', '1980-12-26',\n               ...\n               '2014-06-24', '2014-06-25', '2014-06-26', '2014-06-27',\n               '2014-06-30', '2014-07-01', '2014-07-02', '2014-07-03',\n               '2014-07-07', '2014-07-08'],\n              dtype='datetime64[ns]', name='Date', length=8465, freq=None)>"
        ],
        [
         "1980-12-19 00:00:00",
         "28.25",
         "28.38",
         "28.25",
         "28.25",
         "12157600",
         "0.44",
         "<bound method Index.unique of DatetimeIndex(['1980-12-12', '1980-12-15', '1980-12-16', '1980-12-17',\n               '1980-12-18', '1980-12-19', '1980-12-22', '1980-12-23',\n               '1980-12-24', '1980-12-26',\n               ...\n               '2014-06-24', '2014-06-25', '2014-06-26', '2014-06-27',\n               '2014-06-30', '2014-07-01', '2014-07-02', '2014-07-03',\n               '2014-07-07', '2014-07-08'],\n              dtype='datetime64[ns]', name='Date', length=8465, freq=None)>"
        ],
        [
         "1980-12-22 00:00:00",
         "29.63",
         "29.75",
         "29.63",
         "29.63",
         "9340800",
         "0.46",
         "<bound method Index.unique of DatetimeIndex(['1980-12-12', '1980-12-15', '1980-12-16', '1980-12-17',\n               '1980-12-18', '1980-12-19', '1980-12-22', '1980-12-23',\n               '1980-12-24', '1980-12-26',\n               ...\n               '2014-06-24', '2014-06-25', '2014-06-26', '2014-06-27',\n               '2014-06-30', '2014-07-01', '2014-07-02', '2014-07-03',\n               '2014-07-07', '2014-07-08'],\n              dtype='datetime64[ns]', name='Date', length=8465, freq=None)>"
        ],
        [
         "1980-12-23 00:00:00",
         "30.88",
         "31.0",
         "30.88",
         "30.88",
         "11737600",
         "0.48",
         "<bound method Index.unique of DatetimeIndex(['1980-12-12', '1980-12-15', '1980-12-16', '1980-12-17',\n               '1980-12-18', '1980-12-19', '1980-12-22', '1980-12-23',\n               '1980-12-24', '1980-12-26',\n               ...\n               '2014-06-24', '2014-06-25', '2014-06-26', '2014-06-27',\n               '2014-06-30', '2014-07-01', '2014-07-02', '2014-07-03',\n               '2014-07-07', '2014-07-08'],\n              dtype='datetime64[ns]', name='Date', length=8465, freq=None)>"
        ],
        [
         "1980-12-24 00:00:00",
         "32.5",
         "32.63",
         "32.5",
         "32.5",
         "12000800",
         "0.51",
         "<bound method Index.unique of DatetimeIndex(['1980-12-12', '1980-12-15', '1980-12-16', '1980-12-17',\n               '1980-12-18', '1980-12-19', '1980-12-22', '1980-12-23',\n               '1980-12-24', '1980-12-26',\n               ...\n               '2014-06-24', '2014-06-25', '2014-06-26', '2014-06-27',\n               '2014-06-30', '2014-07-01', '2014-07-02', '2014-07-03',\n               '2014-07-07', '2014-07-08'],\n              dtype='datetime64[ns]', name='Date', length=8465, freq=None)>"
        ],
        [
         "1980-12-26 00:00:00",
         "35.5",
         "35.62",
         "35.5",
         "35.5",
         "13893600",
         "0.55",
         "<bound method Index.unique of DatetimeIndex(['1980-12-12', '1980-12-15', '1980-12-16', '1980-12-17',\n               '1980-12-18', '1980-12-19', '1980-12-22', '1980-12-23',\n               '1980-12-24', '1980-12-26',\n               ...\n               '2014-06-24', '2014-06-25', '2014-06-26', '2014-06-27',\n               '2014-06-30', '2014-07-01', '2014-07-02', '2014-07-03',\n               '2014-07-07', '2014-07-08'],\n              dtype='datetime64[ns]', name='Date', length=8465, freq=None)>"
        ],
        [
         "1980-12-29 00:00:00",
         "36.0",
         "36.13",
         "36.0",
         "36.0",
         "23290400",
         "0.56",
         "<bound method Index.unique of DatetimeIndex(['1980-12-12', '1980-12-15', '1980-12-16', '1980-12-17',\n               '1980-12-18', '1980-12-19', '1980-12-22', '1980-12-23',\n               '1980-12-24', '1980-12-26',\n               ...\n               '2014-06-24', '2014-06-25', '2014-06-26', '2014-06-27',\n               '2014-06-30', '2014-07-01', '2014-07-02', '2014-07-03',\n               '2014-07-07', '2014-07-08'],\n              dtype='datetime64[ns]', name='Date', length=8465, freq=None)>"
        ],
        [
         "1980-12-30 00:00:00",
         "35.25",
         "35.25",
         "35.12",
         "35.12",
         "17220000",
         "0.55",
         "<bound method Index.unique of DatetimeIndex(['1980-12-12', '1980-12-15', '1980-12-16', '1980-12-17',\n               '1980-12-18', '1980-12-19', '1980-12-22', '1980-12-23',\n               '1980-12-24', '1980-12-26',\n               ...\n               '2014-06-24', '2014-06-25', '2014-06-26', '2014-06-27',\n               '2014-06-30', '2014-07-01', '2014-07-02', '2014-07-03',\n               '2014-07-07', '2014-07-08'],\n              dtype='datetime64[ns]', name='Date', length=8465, freq=None)>"
        ],
        [
         "1980-12-31 00:00:00",
         "34.25",
         "34.25",
         "34.13",
         "34.13",
         "8937600",
         "0.53",
         "<bound method Index.unique of DatetimeIndex(['1980-12-12', '1980-12-15', '1980-12-16', '1980-12-17',\n               '1980-12-18', '1980-12-19', '1980-12-22', '1980-12-23',\n               '1980-12-24', '1980-12-26',\n               ...\n               '2014-06-24', '2014-06-25', '2014-06-26', '2014-06-27',\n               '2014-06-30', '2014-07-01', '2014-07-02', '2014-07-03',\n               '2014-07-07', '2014-07-08'],\n              dtype='datetime64[ns]', name='Date', length=8465, freq=None)>"
        ],
        [
         "1981-01-02 00:00:00",
         "34.5",
         "34.75",
         "34.5",
         "34.5",
         "5415200",
         "0.54",
         "<bound method Index.unique of DatetimeIndex(['1980-12-12', '1980-12-15', '1980-12-16', '1980-12-17',\n               '1980-12-18', '1980-12-19', '1980-12-22', '1980-12-23',\n               '1980-12-24', '1980-12-26',\n               ...\n               '2014-06-24', '2014-06-25', '2014-06-26', '2014-06-27',\n               '2014-06-30', '2014-07-01', '2014-07-02', '2014-07-03',\n               '2014-07-07', '2014-07-08'],\n              dtype='datetime64[ns]', name='Date', length=8465, freq=None)>"
        ],
        [
         "1981-01-05 00:00:00",
         "33.87",
         "33.87",
         "33.75",
         "33.75",
         "8932000",
         "0.53",
         "<bound method Index.unique of DatetimeIndex(['1980-12-12', '1980-12-15', '1980-12-16', '1980-12-17',\n               '1980-12-18', '1980-12-19', '1980-12-22', '1980-12-23',\n               '1980-12-24', '1980-12-26',\n               ...\n               '2014-06-24', '2014-06-25', '2014-06-26', '2014-06-27',\n               '2014-06-30', '2014-07-01', '2014-07-02', '2014-07-03',\n               '2014-07-07', '2014-07-08'],\n              dtype='datetime64[ns]', name='Date', length=8465, freq=None)>"
        ],
        [
         "1981-01-06 00:00:00",
         "32.37",
         "32.37",
         "32.25",
         "32.25",
         "11289600",
         "0.5",
         "<bound method Index.unique of DatetimeIndex(['1980-12-12', '1980-12-15', '1980-12-16', '1980-12-17',\n               '1980-12-18', '1980-12-19', '1980-12-22', '1980-12-23',\n               '1980-12-24', '1980-12-26',\n               ...\n               '2014-06-24', '2014-06-25', '2014-06-26', '2014-06-27',\n               '2014-06-30', '2014-07-01', '2014-07-02', '2014-07-03',\n               '2014-07-07', '2014-07-08'],\n              dtype='datetime64[ns]', name='Date', length=8465, freq=None)>"
        ],
        [
         "1981-01-07 00:00:00",
         "31.0",
         "31.0",
         "30.88",
         "30.88",
         "13921600",
         "0.48",
         "<bound method Index.unique of DatetimeIndex(['1980-12-12', '1980-12-15', '1980-12-16', '1980-12-17',\n               '1980-12-18', '1980-12-19', '1980-12-22', '1980-12-23',\n               '1980-12-24', '1980-12-26',\n               ...\n               '2014-06-24', '2014-06-25', '2014-06-26', '2014-06-27',\n               '2014-06-30', '2014-07-01', '2014-07-02', '2014-07-03',\n               '2014-07-07', '2014-07-08'],\n              dtype='datetime64[ns]', name='Date', length=8465, freq=None)>"
        ],
        [
         "1981-01-08 00:00:00",
         "30.37",
         "30.37",
         "30.25",
         "30.25",
         "9956800",
         "0.47",
         "<bound method Index.unique of DatetimeIndex(['1980-12-12', '1980-12-15', '1980-12-16', '1980-12-17',\n               '1980-12-18', '1980-12-19', '1980-12-22', '1980-12-23',\n               '1980-12-24', '1980-12-26',\n               ...\n               '2014-06-24', '2014-06-25', '2014-06-26', '2014-06-27',\n               '2014-06-30', '2014-07-01', '2014-07-02', '2014-07-03',\n               '2014-07-07', '2014-07-08'],\n              dtype='datetime64[ns]', name='Date', length=8465, freq=None)>"
        ],
        [
         "1981-01-09 00:00:00",
         "31.88",
         "32.0",
         "31.88",
         "31.88",
         "5376000",
         "0.5",
         "<bound method Index.unique of DatetimeIndex(['1980-12-12', '1980-12-15', '1980-12-16', '1980-12-17',\n               '1980-12-18', '1980-12-19', '1980-12-22', '1980-12-23',\n               '1980-12-24', '1980-12-26',\n               ...\n               '2014-06-24', '2014-06-25', '2014-06-26', '2014-06-27',\n               '2014-06-30', '2014-07-01', '2014-07-02', '2014-07-03',\n               '2014-07-07', '2014-07-08'],\n              dtype='datetime64[ns]', name='Date', length=8465, freq=None)>"
        ],
        [
         "1981-01-12 00:00:00",
         "31.88",
         "31.88",
         "31.62",
         "31.62",
         "5924800",
         "0.49",
         "<bound method Index.unique of DatetimeIndex(['1980-12-12', '1980-12-15', '1980-12-16', '1980-12-17',\n               '1980-12-18', '1980-12-19', '1980-12-22', '1980-12-23',\n               '1980-12-24', '1980-12-26',\n               ...\n               '2014-06-24', '2014-06-25', '2014-06-26', '2014-06-27',\n               '2014-06-30', '2014-07-01', '2014-07-02', '2014-07-03',\n               '2014-07-07', '2014-07-08'],\n              dtype='datetime64[ns]', name='Date', length=8465, freq=None)>"
        ],
        [
         "1981-01-13 00:00:00",
         "30.63",
         "30.63",
         "30.5",
         "30.5",
         "5762400",
         "0.48",
         "<bound method Index.unique of DatetimeIndex(['1980-12-12', '1980-12-15', '1980-12-16', '1980-12-17',\n               '1980-12-18', '1980-12-19', '1980-12-22', '1980-12-23',\n               '1980-12-24', '1980-12-26',\n               ...\n               '2014-06-24', '2014-06-25', '2014-06-26', '2014-06-27',\n               '2014-06-30', '2014-07-01', '2014-07-02', '2014-07-03',\n               '2014-07-07', '2014-07-08'],\n              dtype='datetime64[ns]', name='Date', length=8465, freq=None)>"
        ],
        [
         "1981-01-14 00:00:00",
         "30.63",
         "30.75",
         "30.63",
         "30.63",
         "3572800",
         "0.48",
         "<bound method Index.unique of DatetimeIndex(['1980-12-12', '1980-12-15', '1980-12-16', '1980-12-17',\n               '1980-12-18', '1980-12-19', '1980-12-22', '1980-12-23',\n               '1980-12-24', '1980-12-26',\n               ...\n               '2014-06-24', '2014-06-25', '2014-06-26', '2014-06-27',\n               '2014-06-30', '2014-07-01', '2014-07-02', '2014-07-03',\n               '2014-07-07', '2014-07-08'],\n              dtype='datetime64[ns]', name='Date', length=8465, freq=None)>"
        ],
        [
         "1981-01-15 00:00:00",
         "31.25",
         "31.5",
         "31.25",
         "31.25",
         "3516800",
         "0.49",
         "<bound method Index.unique of DatetimeIndex(['1980-12-12', '1980-12-15', '1980-12-16', '1980-12-17',\n               '1980-12-18', '1980-12-19', '1980-12-22', '1980-12-23',\n               '1980-12-24', '1980-12-26',\n               ...\n               '2014-06-24', '2014-06-25', '2014-06-26', '2014-06-27',\n               '2014-06-30', '2014-07-01', '2014-07-02', '2014-07-03',\n               '2014-07-07', '2014-07-08'],\n              dtype='datetime64[ns]', name='Date', length=8465, freq=None)>"
        ],
        [
         "1981-01-16 00:00:00",
         "31.12",
         "31.12",
         "31.0",
         "31.0",
         "3348800",
         "0.48",
         "<bound method Index.unique of DatetimeIndex(['1980-12-12', '1980-12-15', '1980-12-16', '1980-12-17',\n               '1980-12-18', '1980-12-19', '1980-12-22', '1980-12-23',\n               '1980-12-24', '1980-12-26',\n               ...\n               '2014-06-24', '2014-06-25', '2014-06-26', '2014-06-27',\n               '2014-06-30', '2014-07-01', '2014-07-02', '2014-07-03',\n               '2014-07-07', '2014-07-08'],\n              dtype='datetime64[ns]', name='Date', length=8465, freq=None)>"
        ],
        [
         "1981-01-19 00:00:00",
         "32.87",
         "33.0",
         "32.87",
         "32.87",
         "10393600",
         "0.51",
         "<bound method Index.unique of DatetimeIndex(['1980-12-12', '1980-12-15', '1980-12-16', '1980-12-17',\n               '1980-12-18', '1980-12-19', '1980-12-22', '1980-12-23',\n               '1980-12-24', '1980-12-26',\n               ...\n               '2014-06-24', '2014-06-25', '2014-06-26', '2014-06-27',\n               '2014-06-30', '2014-07-01', '2014-07-02', '2014-07-03',\n               '2014-07-07', '2014-07-08'],\n              dtype='datetime64[ns]', name='Date', length=8465, freq=None)>"
        ],
        [
         "1981-01-20 00:00:00",
         "32.0",
         "32.0",
         "31.88",
         "31.88",
         "7520800",
         "0.5",
         "<bound method Index.unique of DatetimeIndex(['1980-12-12', '1980-12-15', '1980-12-16', '1980-12-17',\n               '1980-12-18', '1980-12-19', '1980-12-22', '1980-12-23',\n               '1980-12-24', '1980-12-26',\n               ...\n               '2014-06-24', '2014-06-25', '2014-06-26', '2014-06-27',\n               '2014-06-30', '2014-07-01', '2014-07-02', '2014-07-03',\n               '2014-07-07', '2014-07-08'],\n              dtype='datetime64[ns]', name='Date', length=8465, freq=None)>"
        ],
        [
         "1981-01-21 00:00:00",
         "32.5",
         "32.75",
         "32.5",
         "32.5",
         "3976000",
         "0.51",
         "<bound method Index.unique of DatetimeIndex(['1980-12-12', '1980-12-15', '1980-12-16', '1980-12-17',\n               '1980-12-18', '1980-12-19', '1980-12-22', '1980-12-23',\n               '1980-12-24', '1980-12-26',\n               ...\n               '2014-06-24', '2014-06-25', '2014-06-26', '2014-06-27',\n               '2014-06-30', '2014-07-01', '2014-07-02', '2014-07-03',\n               '2014-07-07', '2014-07-08'],\n              dtype='datetime64[ns]', name='Date', length=8465, freq=None)>"
        ],
        [
         "1981-01-22 00:00:00",
         "32.87",
         "33.13",
         "32.87",
         "32.87",
         "8887200",
         "0.51",
         "<bound method Index.unique of DatetimeIndex(['1980-12-12', '1980-12-15', '1980-12-16', '1980-12-17',\n               '1980-12-18', '1980-12-19', '1980-12-22', '1980-12-23',\n               '1980-12-24', '1980-12-26',\n               ...\n               '2014-06-24', '2014-06-25', '2014-06-26', '2014-06-27',\n               '2014-06-30', '2014-07-01', '2014-07-02', '2014-07-03',\n               '2014-07-07', '2014-07-08'],\n              dtype='datetime64[ns]', name='Date', length=8465, freq=None)>"
        ],
        [
         "1981-01-23 00:00:00",
         "32.87",
         "33.0",
         "32.75",
         "32.75",
         "2805600",
         "0.51",
         "<bound method Index.unique of DatetimeIndex(['1980-12-12', '1980-12-15', '1980-12-16', '1980-12-17',\n               '1980-12-18', '1980-12-19', '1980-12-22', '1980-12-23',\n               '1980-12-24', '1980-12-26',\n               ...\n               '2014-06-24', '2014-06-25', '2014-06-26', '2014-06-27',\n               '2014-06-30', '2014-07-01', '2014-07-02', '2014-07-03',\n               '2014-07-07', '2014-07-08'],\n              dtype='datetime64[ns]', name='Date', length=8465, freq=None)>"
        ],
        [
         "1981-01-26 00:00:00",
         "32.37",
         "32.37",
         "32.25",
         "32.25",
         "6160000",
         "0.5",
         "<bound method Index.unique of DatetimeIndex(['1980-12-12', '1980-12-15', '1980-12-16', '1980-12-17',\n               '1980-12-18', '1980-12-19', '1980-12-22', '1980-12-23',\n               '1980-12-24', '1980-12-26',\n               ...\n               '2014-06-24', '2014-06-25', '2014-06-26', '2014-06-27',\n               '2014-06-30', '2014-07-01', '2014-07-02', '2014-07-03',\n               '2014-07-07', '2014-07-08'],\n              dtype='datetime64[ns]', name='Date', length=8465, freq=None)>"
        ],
        [
         "1981-01-27 00:00:00",
         "32.25",
         "32.25",
         "32.0",
         "32.0",
         "5924800",
         "0.5",
         "<bound method Index.unique of DatetimeIndex(['1980-12-12', '1980-12-15', '1980-12-16', '1980-12-17',\n               '1980-12-18', '1980-12-19', '1980-12-22', '1980-12-23',\n               '1980-12-24', '1980-12-26',\n               ...\n               '2014-06-24', '2014-06-25', '2014-06-26', '2014-06-27',\n               '2014-06-30', '2014-07-01', '2014-07-02', '2014-07-03',\n               '2014-07-07', '2014-07-08'],\n              dtype='datetime64[ns]', name='Date', length=8465, freq=None)>"
        ],
        [
         "1981-01-28 00:00:00",
         "31.12",
         "31.12",
         "31.0",
         "31.0",
         "7039200",
         "0.48",
         "<bound method Index.unique of DatetimeIndex(['1980-12-12', '1980-12-15', '1980-12-16', '1980-12-17',\n               '1980-12-18', '1980-12-19', '1980-12-22', '1980-12-23',\n               '1980-12-24', '1980-12-26',\n               ...\n               '2014-06-24', '2014-06-25', '2014-06-26', '2014-06-27',\n               '2014-06-30', '2014-07-01', '2014-07-02', '2014-07-03',\n               '2014-07-07', '2014-07-08'],\n              dtype='datetime64[ns]', name='Date', length=8465, freq=None)>"
        ],
        [
         "1981-01-29 00:00:00",
         "30.0",
         "30.0",
         "29.87",
         "29.87",
         "10976000",
         "0.47",
         "<bound method Index.unique of DatetimeIndex(['1980-12-12', '1980-12-15', '1980-12-16', '1980-12-17',\n               '1980-12-18', '1980-12-19', '1980-12-22', '1980-12-23',\n               '1980-12-24', '1980-12-26',\n               ...\n               '2014-06-24', '2014-06-25', '2014-06-26', '2014-06-27',\n               '2014-06-30', '2014-07-01', '2014-07-02', '2014-07-03',\n               '2014-07-07', '2014-07-08'],\n              dtype='datetime64[ns]', name='Date', length=8465, freq=None)>"
        ],
        [
         "1981-01-30 00:00:00",
         "28.5",
         "28.5",
         "28.25",
         "28.25",
         "11547200",
         "0.44",
         "<bound method Index.unique of DatetimeIndex(['1980-12-12', '1980-12-15', '1980-12-16', '1980-12-17',\n               '1980-12-18', '1980-12-19', '1980-12-22', '1980-12-23',\n               '1980-12-24', '1980-12-26',\n               ...\n               '2014-06-24', '2014-06-25', '2014-06-26', '2014-06-27',\n               '2014-06-30', '2014-07-01', '2014-07-02', '2014-07-03',\n               '2014-07-07', '2014-07-08'],\n              dtype='datetime64[ns]', name='Date', length=8465, freq=None)>"
        ],
        [
         "1981-02-02 00:00:00",
         "26.75",
         "26.75",
         "26.63",
         "26.63",
         "5941600",
         "0.41",
         "<bound method Index.unique of DatetimeIndex(['1980-12-12', '1980-12-15', '1980-12-16', '1980-12-17',\n               '1980-12-18', '1980-12-19', '1980-12-22', '1980-12-23',\n               '1980-12-24', '1980-12-26',\n               ...\n               '2014-06-24', '2014-06-25', '2014-06-26', '2014-06-27',\n               '2014-06-30', '2014-07-01', '2014-07-02', '2014-07-03',\n               '2014-07-07', '2014-07-08'],\n              dtype='datetime64[ns]', name='Date', length=8465, freq=None)>"
        ],
        [
         "1981-02-03 00:00:00",
         "27.62",
         "27.75",
         "27.62",
         "27.62",
         "4788000",
         "0.43",
         "<bound method Index.unique of DatetimeIndex(['1980-12-12', '1980-12-15', '1980-12-16', '1980-12-17',\n               '1980-12-18', '1980-12-19', '1980-12-22', '1980-12-23',\n               '1980-12-24', '1980-12-26',\n               ...\n               '2014-06-24', '2014-06-25', '2014-06-26', '2014-06-27',\n               '2014-06-30', '2014-07-01', '2014-07-02', '2014-07-03',\n               '2014-07-07', '2014-07-08'],\n              dtype='datetime64[ns]', name='Date', length=8465, freq=None)>"
        ],
        [
         "1981-02-04 00:00:00",
         "28.62",
         "28.75",
         "28.62",
         "28.62",
         "6966400",
         "0.45",
         "<bound method Index.unique of DatetimeIndex(['1980-12-12', '1980-12-15', '1980-12-16', '1980-12-17',\n               '1980-12-18', '1980-12-19', '1980-12-22', '1980-12-23',\n               '1980-12-24', '1980-12-26',\n               ...\n               '2014-06-24', '2014-06-25', '2014-06-26', '2014-06-27',\n               '2014-06-30', '2014-07-01', '2014-07-02', '2014-07-03',\n               '2014-07-07', '2014-07-08'],\n              dtype='datetime64[ns]', name='Date', length=8465, freq=None)>"
        ],
        [
         "1981-02-05 00:00:00",
         "28.62",
         "28.87",
         "28.62",
         "28.62",
         "1982400",
         "0.45",
         "<bound method Index.unique of DatetimeIndex(['1980-12-12', '1980-12-15', '1980-12-16', '1980-12-17',\n               '1980-12-18', '1980-12-19', '1980-12-22', '1980-12-23',\n               '1980-12-24', '1980-12-26',\n               ...\n               '2014-06-24', '2014-06-25', '2014-06-26', '2014-06-27',\n               '2014-06-30', '2014-07-01', '2014-07-02', '2014-07-03',\n               '2014-07-07', '2014-07-08'],\n              dtype='datetime64[ns]', name='Date', length=8465, freq=None)>"
        ],
        [
         "1981-02-06 00:00:00",
         "28.75",
         "28.87",
         "28.75",
         "28.75",
         "3466400",
         "0.45",
         "<bound method Index.unique of DatetimeIndex(['1980-12-12', '1980-12-15', '1980-12-16', '1980-12-17',\n               '1980-12-18', '1980-12-19', '1980-12-22', '1980-12-23',\n               '1980-12-24', '1980-12-26',\n               ...\n               '2014-06-24', '2014-06-25', '2014-06-26', '2014-06-27',\n               '2014-06-30', '2014-07-01', '2014-07-02', '2014-07-03',\n               '2014-07-07', '2014-07-08'],\n              dtype='datetime64[ns]', name='Date', length=8465, freq=None)>"
        ],
        [
         "1981-02-09 00:00:00",
         "27.5",
         "27.5",
         "27.25",
         "27.25",
         "4188800",
         "0.42",
         "<bound method Index.unique of DatetimeIndex(['1980-12-12', '1980-12-15', '1980-12-16', '1980-12-17',\n               '1980-12-18', '1980-12-19', '1980-12-22', '1980-12-23',\n               '1980-12-24', '1980-12-26',\n               ...\n               '2014-06-24', '2014-06-25', '2014-06-26', '2014-06-27',\n               '2014-06-30', '2014-07-01', '2014-07-02', '2014-07-03',\n               '2014-07-07', '2014-07-08'],\n              dtype='datetime64[ns]', name='Date', length=8465, freq=None)>"
        ],
        [
         "1981-02-10 00:00:00",
         "27.25",
         "27.38",
         "27.25",
         "27.25",
         "4586400",
         "0.42",
         "<bound method Index.unique of DatetimeIndex(['1980-12-12', '1980-12-15', '1980-12-16', '1980-12-17',\n               '1980-12-18', '1980-12-19', '1980-12-22', '1980-12-23',\n               '1980-12-24', '1980-12-26',\n               ...\n               '2014-06-24', '2014-06-25', '2014-06-26', '2014-06-27',\n               '2014-06-30', '2014-07-01', '2014-07-02', '2014-07-03',\n               '2014-07-07', '2014-07-08'],\n              dtype='datetime64[ns]', name='Date', length=8465, freq=None)>"
        ],
        [
         "1981-02-11 00:00:00",
         "26.5",
         "26.5",
         "26.37",
         "26.37",
         "3460800",
         "0.41",
         "<bound method Index.unique of DatetimeIndex(['1980-12-12', '1980-12-15', '1980-12-16', '1980-12-17',\n               '1980-12-18', '1980-12-19', '1980-12-22', '1980-12-23',\n               '1980-12-24', '1980-12-26',\n               ...\n               '2014-06-24', '2014-06-25', '2014-06-26', '2014-06-27',\n               '2014-06-30', '2014-07-01', '2014-07-02', '2014-07-03',\n               '2014-07-07', '2014-07-08'],\n              dtype='datetime64[ns]', name='Date', length=8465, freq=None)>"
        ],
        [
         "1981-02-12 00:00:00",
         "26.25",
         "26.25",
         "26.13",
         "26.13",
         "3640000",
         "0.41",
         "<bound method Index.unique of DatetimeIndex(['1980-12-12', '1980-12-15', '1980-12-16', '1980-12-17',\n               '1980-12-18', '1980-12-19', '1980-12-22', '1980-12-23',\n               '1980-12-24', '1980-12-26',\n               ...\n               '2014-06-24', '2014-06-25', '2014-06-26', '2014-06-27',\n               '2014-06-30', '2014-07-01', '2014-07-02', '2014-07-03',\n               '2014-07-07', '2014-07-08'],\n              dtype='datetime64[ns]', name='Date', length=8465, freq=None)>"
        ],
        [
         "1981-02-13 00:00:00",
         "25.75",
         "25.75",
         "25.5",
         "25.5",
         "2788800",
         "0.4",
         "<bound method Index.unique of DatetimeIndex(['1980-12-12', '1980-12-15', '1980-12-16', '1980-12-17',\n               '1980-12-18', '1980-12-19', '1980-12-22', '1980-12-23',\n               '1980-12-24', '1980-12-26',\n               ...\n               '2014-06-24', '2014-06-25', '2014-06-26', '2014-06-27',\n               '2014-06-30', '2014-07-01', '2014-07-02', '2014-07-03',\n               '2014-07-07', '2014-07-08'],\n              dtype='datetime64[ns]', name='Date', length=8465, freq=None)>"
        ],
        [
         "1981-02-17 00:00:00",
         "26.13",
         "26.25",
         "26.13",
         "26.13",
         "3068800",
         "0.41",
         "<bound method Index.unique of DatetimeIndex(['1980-12-12', '1980-12-15', '1980-12-16', '1980-12-17',\n               '1980-12-18', '1980-12-19', '1980-12-22', '1980-12-23',\n               '1980-12-24', '1980-12-26',\n               ...\n               '2014-06-24', '2014-06-25', '2014-06-26', '2014-06-27',\n               '2014-06-30', '2014-07-01', '2014-07-02', '2014-07-03',\n               '2014-07-07', '2014-07-08'],\n              dtype='datetime64[ns]', name='Date', length=8465, freq=None)>"
        ],
        [
         "1981-02-18 00:00:00",
         "27.25",
         "27.5",
         "27.25",
         "27.25",
         "4810400",
         "0.42",
         "<bound method Index.unique of DatetimeIndex(['1980-12-12', '1980-12-15', '1980-12-16', '1980-12-17',\n               '1980-12-18', '1980-12-19', '1980-12-22', '1980-12-23',\n               '1980-12-24', '1980-12-26',\n               ...\n               '2014-06-24', '2014-06-25', '2014-06-26', '2014-06-27',\n               '2014-06-30', '2014-07-01', '2014-07-02', '2014-07-03',\n               '2014-07-07', '2014-07-08'],\n              dtype='datetime64[ns]', name='Date', length=8465, freq=None)>"
        ],
        [
         "1981-02-19 00:00:00",
         "25.75",
         "25.75",
         "25.63",
         "25.63",
         "5577600",
         "0.4",
         "<bound method Index.unique of DatetimeIndex(['1980-12-12', '1980-12-15', '1980-12-16', '1980-12-17',\n               '1980-12-18', '1980-12-19', '1980-12-22', '1980-12-23',\n               '1980-12-24', '1980-12-26',\n               ...\n               '2014-06-24', '2014-06-25', '2014-06-26', '2014-06-27',\n               '2014-06-30', '2014-07-01', '2014-07-02', '2014-07-03',\n               '2014-07-07', '2014-07-08'],\n              dtype='datetime64[ns]', name='Date', length=8465, freq=None)>"
        ],
        [
         "1981-02-20 00:00:00",
         "24.38",
         "24.38",
         "24.25",
         "24.25",
         "6092800",
         "0.38",
         "<bound method Index.unique of DatetimeIndex(['1980-12-12', '1980-12-15', '1980-12-16', '1980-12-17',\n               '1980-12-18', '1980-12-19', '1980-12-22', '1980-12-23',\n               '1980-12-24', '1980-12-26',\n               ...\n               '2014-06-24', '2014-06-25', '2014-06-26', '2014-06-27',\n               '2014-06-30', '2014-07-01', '2014-07-02', '2014-07-03',\n               '2014-07-07', '2014-07-08'],\n              dtype='datetime64[ns]', name='Date', length=8465, freq=None)>"
        ],
        [
         "1981-02-23 00:00:00",
         "24.62",
         "24.75",
         "24.62",
         "24.62",
         "3528000",
         "0.38",
         "<bound method Index.unique of DatetimeIndex(['1980-12-12', '1980-12-15', '1980-12-16', '1980-12-17',\n               '1980-12-18', '1980-12-19', '1980-12-22', '1980-12-23',\n               '1980-12-24', '1980-12-26',\n               ...\n               '2014-06-24', '2014-06-25', '2014-06-26', '2014-06-27',\n               '2014-06-30', '2014-07-01', '2014-07-02', '2014-07-03',\n               '2014-07-07', '2014-07-08'],\n              dtype='datetime64[ns]', name='Date', length=8465, freq=None)>"
        ],
        [
         "1981-02-24 00:00:00",
         "24.0",
         "24.0",
         "23.75",
         "23.75",
         "4244800",
         "0.37",
         "<bound method Index.unique of DatetimeIndex(['1980-12-12', '1980-12-15', '1980-12-16', '1980-12-17',\n               '1980-12-18', '1980-12-19', '1980-12-22', '1980-12-23',\n               '1980-12-24', '1980-12-26',\n               ...\n               '2014-06-24', '2014-06-25', '2014-06-26', '2014-06-27',\n               '2014-06-30', '2014-07-01', '2014-07-02', '2014-07-03',\n               '2014-07-07', '2014-07-08'],\n              dtype='datetime64[ns]', name='Date', length=8465, freq=None)>"
        ]
       ],
       "shape": {
        "columns": 7,
        "rows": 8465
       }
      },
      "text/html": [
       "<div>\n",
       "<style scoped>\n",
       "    .dataframe tbody tr th:only-of-type {\n",
       "        vertical-align: middle;\n",
       "    }\n",
       "\n",
       "    .dataframe tbody tr th {\n",
       "        vertical-align: top;\n",
       "    }\n",
       "\n",
       "    .dataframe thead th {\n",
       "        text-align: right;\n",
       "    }\n",
       "</style>\n",
       "<table border=\"1\" class=\"dataframe\">\n",
       "  <thead>\n",
       "    <tr style=\"text-align: right;\">\n",
       "      <th></th>\n",
       "      <th>Open</th>\n",
       "      <th>High</th>\n",
       "      <th>Low</th>\n",
       "      <th>Close</th>\n",
       "      <th>Volume</th>\n",
       "      <th>Adj Close</th>\n",
       "      <th>month</th>\n",
       "    </tr>\n",
       "    <tr>\n",
       "      <th>Date</th>\n",
       "      <th></th>\n",
       "      <th></th>\n",
       "      <th></th>\n",
       "      <th></th>\n",
       "      <th></th>\n",
       "      <th></th>\n",
       "      <th></th>\n",
       "    </tr>\n",
       "  </thead>\n",
       "  <tbody>\n",
       "    <tr>\n",
       "      <th>1980-12-12</th>\n",
       "      <td>28.75</td>\n",
       "      <td>28.87</td>\n",
       "      <td>28.75</td>\n",
       "      <td>28.75</td>\n",
       "      <td>117258400</td>\n",
       "      <td>0.45</td>\n",
       "      <td>&lt;bound method Index.unique of DatetimeIndex(['...</td>\n",
       "    </tr>\n",
       "    <tr>\n",
       "      <th>1980-12-15</th>\n",
       "      <td>27.38</td>\n",
       "      <td>27.38</td>\n",
       "      <td>27.25</td>\n",
       "      <td>27.25</td>\n",
       "      <td>43971200</td>\n",
       "      <td>0.42</td>\n",
       "      <td>&lt;bound method Index.unique of DatetimeIndex(['...</td>\n",
       "    </tr>\n",
       "    <tr>\n",
       "      <th>1980-12-16</th>\n",
       "      <td>25.37</td>\n",
       "      <td>25.37</td>\n",
       "      <td>25.25</td>\n",
       "      <td>25.25</td>\n",
       "      <td>26432000</td>\n",
       "      <td>0.39</td>\n",
       "      <td>&lt;bound method Index.unique of DatetimeIndex(['...</td>\n",
       "    </tr>\n",
       "    <tr>\n",
       "      <th>1980-12-17</th>\n",
       "      <td>25.87</td>\n",
       "      <td>26.00</td>\n",
       "      <td>25.87</td>\n",
       "      <td>25.87</td>\n",
       "      <td>21610400</td>\n",
       "      <td>0.40</td>\n",
       "      <td>&lt;bound method Index.unique of DatetimeIndex(['...</td>\n",
       "    </tr>\n",
       "    <tr>\n",
       "      <th>1980-12-18</th>\n",
       "      <td>26.63</td>\n",
       "      <td>26.75</td>\n",
       "      <td>26.63</td>\n",
       "      <td>26.63</td>\n",
       "      <td>18362400</td>\n",
       "      <td>0.41</td>\n",
       "      <td>&lt;bound method Index.unique of DatetimeIndex(['...</td>\n",
       "    </tr>\n",
       "    <tr>\n",
       "      <th>...</th>\n",
       "      <td>...</td>\n",
       "      <td>...</td>\n",
       "      <td>...</td>\n",
       "      <td>...</td>\n",
       "      <td>...</td>\n",
       "      <td>...</td>\n",
       "      <td>...</td>\n",
       "    </tr>\n",
       "    <tr>\n",
       "      <th>2014-07-01</th>\n",
       "      <td>93.52</td>\n",
       "      <td>94.07</td>\n",
       "      <td>93.13</td>\n",
       "      <td>93.52</td>\n",
       "      <td>38170200</td>\n",
       "      <td>93.52</td>\n",
       "      <td>&lt;bound method Index.unique of DatetimeIndex(['...</td>\n",
       "    </tr>\n",
       "    <tr>\n",
       "      <th>2014-07-02</th>\n",
       "      <td>93.87</td>\n",
       "      <td>94.06</td>\n",
       "      <td>93.09</td>\n",
       "      <td>93.48</td>\n",
       "      <td>28420900</td>\n",
       "      <td>93.48</td>\n",
       "      <td>&lt;bound method Index.unique of DatetimeIndex(['...</td>\n",
       "    </tr>\n",
       "    <tr>\n",
       "      <th>2014-07-03</th>\n",
       "      <td>93.67</td>\n",
       "      <td>94.10</td>\n",
       "      <td>93.20</td>\n",
       "      <td>94.03</td>\n",
       "      <td>22891800</td>\n",
       "      <td>94.03</td>\n",
       "      <td>&lt;bound method Index.unique of DatetimeIndex(['...</td>\n",
       "    </tr>\n",
       "    <tr>\n",
       "      <th>2014-07-07</th>\n",
       "      <td>94.14</td>\n",
       "      <td>95.99</td>\n",
       "      <td>94.10</td>\n",
       "      <td>95.97</td>\n",
       "      <td>56305400</td>\n",
       "      <td>95.97</td>\n",
       "      <td>&lt;bound method Index.unique of DatetimeIndex(['...</td>\n",
       "    </tr>\n",
       "    <tr>\n",
       "      <th>2014-07-08</th>\n",
       "      <td>96.27</td>\n",
       "      <td>96.80</td>\n",
       "      <td>93.92</td>\n",
       "      <td>95.35</td>\n",
       "      <td>65130000</td>\n",
       "      <td>95.35</td>\n",
       "      <td>&lt;bound method Index.unique of DatetimeIndex(['...</td>\n",
       "    </tr>\n",
       "  </tbody>\n",
       "</table>\n",
       "<p>8465 rows × 7 columns</p>\n",
       "</div>"
      ],
      "text/plain": [
       "             Open   High    Low  Close     Volume  Adj Close  \\\n",
       "Date                                                           \n",
       "1980-12-12  28.75  28.87  28.75  28.75  117258400       0.45   \n",
       "1980-12-15  27.38  27.38  27.25  27.25   43971200       0.42   \n",
       "1980-12-16  25.37  25.37  25.25  25.25   26432000       0.39   \n",
       "1980-12-17  25.87  26.00  25.87  25.87   21610400       0.40   \n",
       "1980-12-18  26.63  26.75  26.63  26.63   18362400       0.41   \n",
       "...           ...    ...    ...    ...        ...        ...   \n",
       "2014-07-01  93.52  94.07  93.13  93.52   38170200      93.52   \n",
       "2014-07-02  93.87  94.06  93.09  93.48   28420900      93.48   \n",
       "2014-07-03  93.67  94.10  93.20  94.03   22891800      94.03   \n",
       "2014-07-07  94.14  95.99  94.10  95.97   56305400      95.97   \n",
       "2014-07-08  96.27  96.80  93.92  95.35   65130000      95.35   \n",
       "\n",
       "                                                        month  \n",
       "Date                                                           \n",
       "1980-12-12  <bound method Index.unique of DatetimeIndex(['...  \n",
       "1980-12-15  <bound method Index.unique of DatetimeIndex(['...  \n",
       "1980-12-16  <bound method Index.unique of DatetimeIndex(['...  \n",
       "1980-12-17  <bound method Index.unique of DatetimeIndex(['...  \n",
       "1980-12-18  <bound method Index.unique of DatetimeIndex(['...  \n",
       "...                                                       ...  \n",
       "2014-07-01  <bound method Index.unique of DatetimeIndex(['...  \n",
       "2014-07-02  <bound method Index.unique of DatetimeIndex(['...  \n",
       "2014-07-03  <bound method Index.unique of DatetimeIndex(['...  \n",
       "2014-07-07  <bound method Index.unique of DatetimeIndex(['...  \n",
       "2014-07-08  <bound method Index.unique of DatetimeIndex(['...  \n",
       "\n",
       "[8465 rows x 7 columns]"
      ]
     },
     "execution_count": 27,
     "metadata": {},
     "output_type": "execute_result"
    }
   ],
   "source": [
    "apple"
   ]
  },
  {
   "cell_type": "code",
   "execution_count": 16,
   "metadata": {},
   "outputs": [
    {
     "name": "stdout",
     "output_type": "stream",
     "text": [
      "The data spans 404 unique months.\n"
     ]
    }
   ],
   "source": [
    "\n",
    "num_months = apple.index.to_period('M').nunique()\n",
    "\n",
    "# Display the number of unique months\n",
    "print(f\"The data spans {num_months} unique months.\")\n"
   ]
  },
  {
   "cell_type": "markdown",
   "metadata": {
    "id": "t5T7HlKNAy7G"
   },
   "source": [
    "### Step 12. Plot the 'Adj Close' value. Set the size of the figure to 13.5 x 9 inches"
   ]
  },
  {
   "cell_type": "code",
   "execution_count": 17,
   "metadata": {},
   "outputs": [],
   "source": [
    "import pandas as pd\n",
    "import matplotlib.pyplot as plt\n"
   ]
  },
  {
   "cell_type": "code",
   "execution_count": 19,
   "metadata": {},
   "outputs": [
    {
     "data": {
      "image/png": "[encoded data removed]",
      "text/plain": [
       "<Figure size 1350x900 with 1 Axes>"
      ]
     },
     "metadata": {},
     "output_type": "display_data"
    }
   ],
   "source": [
    "apple.plot(y='Adj Close', figsize=(13.5, 9))\n",
    "plt.xlabel('Date')\n",
    "plt.ylabel('Adjusted Close Price')\n",
    "plt.title('Adjusted Close Price Over Time')\n",
    "plt.grid(True)\n",
    "plt.show()\n"
   ]
  }
 ],
 "metadata": {
  "anaconda-cloud": {},
  "colab": {
   "name": "Solutions_Apple.ipynb",
   "provenance": []
  },
  "kernelspec": {
   "display_name": "Python 3",
   "language": "python",
   "name": "python3"
  },
  "language_info": {
   "codemirror_mode": {
    "name": "ipython",
    "version": 3
   },
   "file_extension": ".py",
   "mimetype": "text/x-python",
   "name": "python",
   "nbconvert_exporter": "python",
   "pygments_lexer": "ipython3",
   "version": "3.11.9"
  }
 },
 "nbformat": 4,
 "nbformat_minor": 4
}
