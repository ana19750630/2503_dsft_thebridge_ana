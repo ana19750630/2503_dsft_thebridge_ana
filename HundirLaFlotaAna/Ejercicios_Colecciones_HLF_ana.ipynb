{
 "cells": [
  {
   "cell_type": "markdown",
   "metadata": {},
   "source": [
    "## Ejercicio Extra HLF\n",
    "Vamos a empezar a programar trozos de código que nos servirán para el HLF:\n",
    "\n",
    "* Crear un Tablero como una lista de listas de 10x10 que contenga caracteres espacio: \" \"\n",
    "* Insertar dos barcos sustituyendo en el Tablero los espacios en blanco por el caracter \"B\":\n",
    "    * Uno de 4 casillas en horizontal: casillas [1][0], [1][1], [1][2], [1][3]\n",
    "    * Uno de 3 casillas en vertical:   casillas [3][3], [4][3], [4][4], [4][5]\n",
    "* Escribir una celda de código separada de las anteriores para simular que el usuario está efectuando un disparo: \n",
    "    *  Solicite al usuario dos coordenadas `i,j` mediante dos inputs\n",
    "    *  Compruebe si esas coordenadas están ocupada por una casilla barco (que haya una en \"B\")\n",
    "        * Si hay una \"B\":\n",
    "            * Cambiar el contenido de esa posición por una \"x\"\n",
    "            * Imprimir por pantalla el texto \"Tocado en posición `i,j`\"\n",
    "        * Si hay un \" \":\n",
    "            * Cambiar el contenido de esa posición por una \"o\"\n",
    "            * Imprimir por pantalla el texto \"Agua\"\n",
    "    * Imprimir por pantalla el Tablero\n",
    "* Para comprobar que funciona bien la celda de disparar ejecutarla varias veces metiendo distintas coordenadas\n",
    "\n",
    "### Bonus\n",
    "* En la celda de disparar, si el usuario acierta a tocar un barco, vuelve a disparar\n",
    "* Restilizando funciones\n",
    "    \n"
   ]
  },
  {
   "cell_type": "code",
   "execution_count": 1,
   "metadata": {},
   "outputs": [
    {
     "name": "stdout",
     "output_type": "stream",
     "text": [
      "[' ', ' ', ' ', ' ', ' ', ' ', ' ', ' ', ' ', ' ']\n",
      "[' ', ' ', ' ', ' ', ' ', ' ', ' ', ' ', ' ', ' ']\n",
      "[' ', ' ', ' ', ' ', ' ', ' ', ' ', ' ', ' ', ' ']\n",
      "[' ', ' ', ' ', ' ', ' ', ' ', ' ', ' ', ' ', ' ']\n",
      "[' ', ' ', ' ', ' ', ' ', ' ', ' ', ' ', ' ', ' ']\n",
      "[' ', ' ', ' ', ' ', ' ', ' ', ' ', ' ', ' ', ' ']\n",
      "[' ', ' ', ' ', ' ', ' ', ' ', ' ', ' ', ' ', ' ']\n",
      "[' ', ' ', ' ', ' ', ' ', ' ', ' ', ' ', ' ', ' ']\n",
      "[' ', ' ', ' ', ' ', ' ', ' ', ' ', ' ', ' ', ' ']\n",
      "[' ', ' ', ' ', ' ', ' ', ' ', ' ', ' ', ' ', ' ']\n"
     ]
    }
   ],
   "source": [
    "# Creación de un tablero 10x10 con espacios vacíos representados por el carácter \" \"\n",
    "tablero = [[\" \" for _ in range(10)] for _ in range(10)]\n",
    "##tablero_mostar = [[\" \" for _ in range(10)] for _ in range(10)]##segundo tablero\n",
    "\n",
    "# Imprimir el tablero\n",
    "for fila in tablero:\n",
    "    print(fila)\n"
   ]
  },
  {
   "cell_type": "code",
   "execution_count": 2,
   "metadata": {},
   "outputs": [
    {
     "name": "stdout",
     "output_type": "stream",
     "text": [
      "[' ', ' ', ' ', ' ', ' ', ' ', ' ', ' ', ' ', ' ']\n",
      "['B', 'B', 'B', 'B', ' ', ' ', ' ', ' ', ' ', ' ']\n",
      "[' ', ' ', ' ', ' ', ' ', ' ', ' ', ' ', ' ', ' ']\n",
      "[' ', ' ', ' ', ' ', ' ', ' ', ' ', ' ', ' ', ' ']\n",
      "[' ', ' ', ' ', 'B', 'B', 'B', ' ', ' ', ' ', ' ']\n",
      "[' ', ' ', ' ', ' ', ' ', ' ', ' ', ' ', ' ', ' ']\n",
      "[' ', ' ', ' ', ' ', ' ', ' ', ' ', ' ', ' ', ' ']\n",
      "[' ', ' ', ' ', ' ', ' ', ' ', ' ', ' ', ' ', ' ']\n",
      "[' ', ' ', ' ', ' ', ' ', ' ', ' ', ' ', ' ', ' ']\n",
      "[' ', ' ', ' ', ' ', ' ', ' ', ' ', ' ', ' ', ' ']\n"
     ]
    }
   ],
   "source": [
    "# Insertar el barco de 4 casillas en horizontal en las posiciones [1][0], [1][1], [1][2], [1][3]\n",
    "## [fila] [columna]\n",
    "tablero[1][0] = \"B\"\n",
    "tablero[1][1] = \"B\"\n",
    "tablero[1][2] = \"B\"\n",
    "tablero[1][3] = \"B\"\n",
    "\n",
    "# Insertar el barco de 3 casillas en vertical en las posiciones [3][3], [4][3], [4][4], [4][5]\n",
    "##tablero[4][3] = \"B\"\n",
    "tablero[4][3] = \"B\"\n",
    "tablero[4][4] = \"B\"\n",
    "tablero[4][5] = \"B\"\n",
    "\n",
    "# Imprimir el tablero con los barcos\n",
    "for fila in tablero:\n",
    "    print(fila)"
   ]
  },
  {
   "cell_type": "code",
   "execution_count": null,
   "metadata": {},
   "outputs": [],
   "source": [
    "list1 = []\n",
    "\n",
    "##Definir los barcos y sus posiciones\n",
    "barco1 = [(1, 0), (1, 1), (1, 2), (1, 3)]  # Barco de 4 casillas\n",
    "barco2 = [(4, 3), (4, 4), (4, 5)]  # Barco de 3 casillas\n",
    "barcos= [barco1, barco2]"
   ]
  },
  {
   "cell_type": "code",
   "execution_count": null,
   "metadata": {},
   "outputs": [],
   "source": [
    "##funcion para disparar en el tablero.\n",
    "def disparo(tablero,i,j):\n",
    "    if tablero[i][j] =='B':\n",
    "        print(\"Tocado\")\n",
    "        print(\"Sigue jugando\")\n",
    "        tablero[i][j]= \"x\"\n",
    "        print(tablero)\n",
    "        return True\n",
    "        if (i,j)in barco1:\n",
    "             for (i,j) in barco1:\n",
    "                  if (i,j) !=\"x\":\n",
    "                    return False\n",
    "             return True\n",
    "        \n",
    "\n",
    "        ##Verificar si algún barco ha sido hundido\n",
    "    for  barco in barcos:\n",
    "            if all:\n",
    "                print(\"¡Hundido! El barco en las posiciones\", barco, \"ha sido hundido.\")\n",
    "\n",
    "    else: tablero[i][j] == \"\"\n",
    "    print(\"agua\")\n",
    "    tablero[i][j] = \"0\"\n",
    "    print(tablero)\n",
    "    return True\n",
    "\n",
    "while True:\n",
    "    i = int(input(\"introduce la fila\"))\n",
    "    j = int(input(\"introduce la columna\"))\n",
    "    if not disparo(tablero,i,j):\n",
    "        break"
   ]
  },
  {
   "cell_type": "code",
   "execution_count": 3,
   "metadata": {},
   "outputs": [],
   "source": [
    "import pprint"
   ]
  },
  {
   "cell_type": "code",
   "execution_count": null,
   "metadata": {},
   "outputs": [],
   "source": [
    "tablero"
   ]
  },
  {
   "cell_type": "code",
   "execution_count": 8,
   "metadata": {},
   "outputs": [
    {
     "name": "stdout",
     "output_type": "stream",
     "text": [
      "ya has disparado antes\n",
      "[[' ', ' ', ' ', ' ', ' ', ' ', ' ', ' ', ' ', ' '],\n",
      " ['x', 'x', 'B', 'B', ' ', ' ', ' ', ' ', ' ', ' '],\n",
      " [' ', ' ', ' ', ' ', ' ', ' ', ' ', ' ', ' ', ' '],\n",
      " [' ', ' ', ' ', ' ', ' ', ' ', ' ', ' ', ' ', ' '],\n",
      " [' ', ' ', ' ', 'x', 'x', 'x', ' ', ' ', ' ', ' '],\n",
      " [' ', ' ', ' ', ' ', ' ', ' ', ' ', ' ', ' ', ' '],\n",
      " [' ', ' ', ' ', ' ', ' ', ' ', ' ', ' ', ' ', ' '],\n",
      " [' ', ' ', ' ', ' ', ' ', ' ', ' ', ' ', ' ', ' '],\n",
      " [' ', ' ', ' ', ' ', ' ', ' ', ' ', ' ', ' ', ' '],\n",
      " [' ', ' ', ' ', ' ', ' ', ' ', ' ', ' ', ' ', ' ']]\n",
      "Tocado\n",
      "Sigue jugando\n",
      "[[' ', ' ', ' ', ' ', ' ', ' ', ' ', ' ', ' ', ' '],\n",
      " ['x', 'x', 'x', 'B', ' ', ' ', ' ', ' ', ' ', ' '],\n",
      " [' ', ' ', ' ', ' ', ' ', ' ', ' ', ' ', ' ', ' '],\n",
      " [' ', ' ', ' ', ' ', ' ', ' ', ' ', ' ', ' ', ' '],\n",
      " [' ', ' ', ' ', 'x', 'x', 'x', ' ', ' ', ' ', ' '],\n",
      " [' ', ' ', ' ', ' ', ' ', ' ', ' ', ' ', ' ', ' '],\n",
      " [' ', ' ', ' ', ' ', ' ', ' ', ' ', ' ', ' ', ' '],\n",
      " [' ', ' ', ' ', ' ', ' ', ' ', ' ', ' ', ' ', ' '],\n",
      " [' ', ' ', ' ', ' ', ' ', ' ', ' ', ' ', ' ', ' '],\n",
      " [' ', ' ', ' ', ' ', ' ', ' ', ' ', ' ', ' ', ' ']]\n"
     ]
    },
    {
     "ename": "ValueError",
     "evalue": "invalid literal for int() with base 10: ''",
     "output_type": "error",
     "traceback": [
      "\u001b[31m---------------------------------------------------------------------------\u001b[39m",
      "\u001b[31mValueError\u001b[39m                                Traceback (most recent call last)",
      "\u001b[36mCell\u001b[39m\u001b[36m \u001b[39m\u001b[32mIn[8]\u001b[39m\u001b[32m, line 20\u001b[39m\n\u001b[32m     17\u001b[39m         \u001b[38;5;28;01mreturn\u001b[39;00m \u001b[38;5;28;01mFalse\u001b[39;00m\n\u001b[32m     19\u001b[39m \u001b[38;5;28;01mwhile\u001b[39;00m \u001b[38;5;28;01mTrue\u001b[39;00m:\n\u001b[32m---> \u001b[39m\u001b[32m20\u001b[39m     i = \u001b[38;5;28;43mint\u001b[39;49m\u001b[43m(\u001b[49m\u001b[38;5;28;43minput\u001b[39;49m\u001b[43m(\u001b[49m\u001b[33;43m\"\u001b[39;49m\u001b[33;43mintroduce la fila\u001b[39;49m\u001b[33;43m\"\u001b[39;49m\u001b[43m)\u001b[49m\u001b[43m)\u001b[49m\n\u001b[32m     21\u001b[39m     j = \u001b[38;5;28mint\u001b[39m(\u001b[38;5;28minput\u001b[39m(\u001b[33m\"\u001b[39m\u001b[33mintroduce la columna\u001b[39m\u001b[33m\"\u001b[39m))\n\u001b[32m     22\u001b[39m     acertado = disparo(tablero,i,j)\n",
      "\u001b[31mValueError\u001b[39m: invalid literal for int() with base 10: ''"
     ]
    }
   ],
   "source": [
    "##funcion para disparar en el tablero.\n",
    "def disparo(tablero,i,j):\n",
    "    if tablero[i][j] =='B':\n",
    "        print(\"Tocado\")\n",
    "        print(\"Sigue jugando\")\n",
    "        tablero[i][j]= \"x\"\n",
    "        ##print(tablero)\n",
    "        return True\n",
    "        \n",
    "    elif tablero[i][j] == \" \":\n",
    "        print(\"agua\")\n",
    "        tablero[i][j] = \"0\"\n",
    "        print(tablero)\n",
    "        return False\n",
    "    else:\n",
    "        print(\"ya has disparado antes\")\n",
    "        return False\n",
    "\n",
    "while True:\n",
    "    i = int(input(\"introduce la fila\"))\n",
    "    j = int(input(\"introduce la columna\"))\n",
    "    acertado = disparo(tablero,i,j)\n",
    "    pprint.pprint(tablero)\n",
    "\n",
    "    if acertado== True:\n",
    "        coordenadas_barco= barco1[\"coord\"]\n",
    "        if (i,j) in coordenadas_barco:\n",
    "            barco1[\"vidas\"] = barco1 [\"vidas\"]-1\n",
    "            if barco1[\"vidas\"] == 0: \n",
    "                print(\"Hundido\")\n",
    "        coordenadas_barco2= barco2[\"coord\"]\n",
    "        if (i,j) in coordenadas_barco2:\n",
    "            barco2[\"vidas\"] = barco2 [\"vidas\"]-1\n",
    "            if barco2[\"vidas\"] == 0: \n",
    "                print(\"Hundido\")\n"
   ]
  },
  {
   "cell_type": "code",
   "execution_count": 6,
   "metadata": {},
   "outputs": [],
   "source": [
    "barco1 = {\"coord\":[(1, 0), (1, 1), (1, 2), (1, 3)], ## diccionario barco1\n",
    "          \"vidas\": 4} \n",
    "\n",
    "barco2 = {\"coord\":[(4, 3), (4, 4), (4, 5)], ## diccionario barco2\n",
    "          \"vidas\": 3} "
   ]
  },
  {
   "cell_type": "code",
   "execution_count": null,
   "metadata": {},
   "outputs": [],
   "source": [
    "##funcion para disparar en el tablero.\n",
    "def disparo(tablero,i,j):\n",
    "    if tablero[i][j] =='B':\n",
    "        print(\"Tocado\")\n",
    "        print(\"Sigue jugando\")\n",
    "        tablero[i][j]= \"x\"\n",
    "        print(tablero)\n",
    "        return True\n",
    "\n",
    "    else: tablero[i][j] == \"\"\n",
    "    print(\"agua\")\n",
    "    tablero[i][j] = \"0\"\n",
    "    print(tablero)\n",
    "    return True\n",
    "\n",
    "while True:\n",
    "    i = int(input(\"introduce la fila\"))\n",
    "    j = int(input(\"introduce la columna\"))\n",
    "    if not disparo(tablero,i,j):\n",
    "        break"
   ]
  },
  {
   "cell_type": "code",
   "execution_count": null,
   "metadata": {},
   "outputs": [],
   "source": [
    "while True:\n",
    "    i = int(input(\"introduce la fila\"))\n",
    "    j = int(input(\"introduce la columna\"))\n",
    "    if not disparo(tablero,i,j):\n",
    "        break"
   ]
  },
  {
   "cell_type": "code",
   "execution_count": null,
   "metadata": {},
   "outputs": [],
   "source": [
    "i = int(input(\"Introduce la fila, por favor: \"))\n",
    "j = int(input(\"Introduce la columna, por favor: \"))\n",
    "    acierto =  disparo(tablero_computer,tablero_computer_visualizar,i,j)\n",
    "    if not acierto:\n",
    "        break"
   ]
  },
  {
   "cell_type": "code",
   "execution_count": null,
   "metadata": {},
   "outputs": [],
   "source": [
    "while True:\n",
    "    i = int(input(\"introduce la fila\"))\n",
    "    j = int(input(\"introduce la columna\"))\n",
    "    acierto = disparo(tablero, tablero_mostar,i,j)\n",
    "    if not acierto(tablero,i,j):\n",
    "        break"
   ]
  }
 ],
 "metadata": {
  "kernelspec": {
   "display_name": "Python 3",
   "language": "python",
   "name": "python3"
  },
  "language_info": {
   "codemirror_mode": {
    "name": "ipython",
    "version": 3
   },
   "file_extension": ".py",
   "mimetype": "text/x-python",
   "name": "python",
   "nbconvert_exporter": "python",
   "pygments_lexer": "ipython3",
   "version": "3.11.9"
  }
 },
 "nbformat": 4,
 "nbformat_minor": 2
}
