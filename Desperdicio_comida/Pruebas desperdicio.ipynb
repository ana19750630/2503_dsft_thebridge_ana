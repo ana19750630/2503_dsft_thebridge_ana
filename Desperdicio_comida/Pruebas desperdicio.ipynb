{
 "cells": [
  {
   "cell_type": "code",
   "execution_count": 1,
   "metadata": {},
   "outputs": [],
   "source": [
    "import pandas as pd"
   ]
  },
  {
   "cell_type": "code",
   "execution_count": 2,
   "metadata": {},
   "outputs": [],
   "source": [
    "\n",
    "\n",
    "ruta_del_archivo = \"./data/global_food_wastage_dataset.csv\" \n",
    "\n",
    "# Cargar el archivo CSV en un DataFrame de Pandas\n",
    "df = pd.read_csv(ruta_del_archivo)"
   ]
  },
  {
   "cell_type": "code",
   "execution_count": 3,
   "metadata": {},
   "outputs": [
    {
     "data": {
      "application/vnd.microsoft.datawrangler.viewer.v0+json": {
       "columns": [
        {
         "name": "index",
         "rawType": "int64",
         "type": "integer"
        },
        {
         "name": "Country",
         "rawType": "object",
         "type": "string"
        },
        {
         "name": "Year",
         "rawType": "int64",
         "type": "integer"
        },
        {
         "name": "Food Category",
         "rawType": "object",
         "type": "string"
        },
        {
         "name": "Total Waste (Tons)",
         "rawType": "float64",
         "type": "float"
        },
        {
         "name": "Economic Loss (Million $)",
         "rawType": "float64",
         "type": "float"
        },
        {
         "name": "Avg Waste per Capita (Kg)",
         "rawType": "float64",
         "type": "float"
        },
        {
         "name": "Population (Million)",
         "rawType": "float64",
         "type": "float"
        },
        {
         "name": "Household Waste (%)",
         "rawType": "float64",
         "type": "float"
        }
       ],
       "conversionMethod": "pd.DataFrame",
       "ref": "dfda9201-8603-4820-8926-17e6e6f1b96f",
       "rows": [
        [
         "0",
         "Australia",
         "2019",
         "Fruits & Vegetables",
         "19268.63",
         "18686.68",
         "72.69",
         "87.59",
         "53.64"
        ],
        [
         "1",
         "Indonesia",
         "2019",
         "Prepared Food",
         "3916.97",
         "4394.48",
         "192.52",
         "1153.99",
         "30.61"
        ],
        [
         "2",
         "Germany",
         "2022",
         "Dairy Products",
         "9700.16",
         "8909.16",
         "166.94",
         "1006.11",
         "48.08"
        ],
        [
         "3",
         "France",
         "2023",
         "Fruits & Vegetables",
         "46299.69",
         "40551.22",
         "120.19",
         "953.05",
         "31.91"
        ],
        [
         "4",
         "France",
         "2023",
         "Beverages",
         "33096.57",
         "36980.82",
         "104.74",
         "1105.47",
         "36.06"
        ]
       ],
       "shape": {
        "columns": 8,
        "rows": 5
       }
      },
      "text/html": [
       "<div>\n",
       "<style scoped>\n",
       "    .dataframe tbody tr th:only-of-type {\n",
       "        vertical-align: middle;\n",
       "    }\n",
       "\n",
       "    .dataframe tbody tr th {\n",
       "        vertical-align: top;\n",
       "    }\n",
       "\n",
       "    .dataframe thead th {\n",
       "        text-align: right;\n",
       "    }\n",
       "</style>\n",
       "<table border=\"1\" class=\"dataframe\">\n",
       "  <thead>\n",
       "    <tr style=\"text-align: right;\">\n",
       "      <th></th>\n",
       "      <th>Country</th>\n",
       "      <th>Year</th>\n",
       "      <th>Food Category</th>\n",
       "      <th>Total Waste (Tons)</th>\n",
       "      <th>Economic Loss (Million $)</th>\n",
       "      <th>Avg Waste per Capita (Kg)</th>\n",
       "      <th>Population (Million)</th>\n",
       "      <th>Household Waste (%)</th>\n",
       "    </tr>\n",
       "  </thead>\n",
       "  <tbody>\n",
       "    <tr>\n",
       "      <th>0</th>\n",
       "      <td>Australia</td>\n",
       "      <td>2019</td>\n",
       "      <td>Fruits &amp; Vegetables</td>\n",
       "      <td>19268.63</td>\n",
       "      <td>18686.68</td>\n",
       "      <td>72.69</td>\n",
       "      <td>87.59</td>\n",
       "      <td>53.64</td>\n",
       "    </tr>\n",
       "    <tr>\n",
       "      <th>1</th>\n",
       "      <td>Indonesia</td>\n",
       "      <td>2019</td>\n",
       "      <td>Prepared Food</td>\n",
       "      <td>3916.97</td>\n",
       "      <td>4394.48</td>\n",
       "      <td>192.52</td>\n",
       "      <td>1153.99</td>\n",
       "      <td>30.61</td>\n",
       "    </tr>\n",
       "    <tr>\n",
       "      <th>2</th>\n",
       "      <td>Germany</td>\n",
       "      <td>2022</td>\n",
       "      <td>Dairy Products</td>\n",
       "      <td>9700.16</td>\n",
       "      <td>8909.16</td>\n",
       "      <td>166.94</td>\n",
       "      <td>1006.11</td>\n",
       "      <td>48.08</td>\n",
       "    </tr>\n",
       "    <tr>\n",
       "      <th>3</th>\n",
       "      <td>France</td>\n",
       "      <td>2023</td>\n",
       "      <td>Fruits &amp; Vegetables</td>\n",
       "      <td>46299.69</td>\n",
       "      <td>40551.22</td>\n",
       "      <td>120.19</td>\n",
       "      <td>953.05</td>\n",
       "      <td>31.91</td>\n",
       "    </tr>\n",
       "    <tr>\n",
       "      <th>4</th>\n",
       "      <td>France</td>\n",
       "      <td>2023</td>\n",
       "      <td>Beverages</td>\n",
       "      <td>33096.57</td>\n",
       "      <td>36980.82</td>\n",
       "      <td>104.74</td>\n",
       "      <td>1105.47</td>\n",
       "      <td>36.06</td>\n",
       "    </tr>\n",
       "  </tbody>\n",
       "</table>\n",
       "</div>"
      ],
      "text/plain": [
       "     Country  Year        Food Category  Total Waste (Tons)  \\\n",
       "0  Australia  2019  Fruits & Vegetables            19268.63   \n",
       "1  Indonesia  2019        Prepared Food             3916.97   \n",
       "2    Germany  2022       Dairy Products             9700.16   \n",
       "3     France  2023  Fruits & Vegetables            46299.69   \n",
       "4     France  2023            Beverages            33096.57   \n",
       "\n",
       "   Economic Loss (Million $)  Avg Waste per Capita (Kg)  Population (Million)  \\\n",
       "0                   18686.68                      72.69                 87.59   \n",
       "1                    4394.48                     192.52               1153.99   \n",
       "2                    8909.16                     166.94               1006.11   \n",
       "3                   40551.22                     120.19                953.05   \n",
       "4                   36980.82                     104.74               1105.47   \n",
       "\n",
       "   Household Waste (%)  \n",
       "0                53.64  \n",
       "1                30.61  \n",
       "2                48.08  \n",
       "3                31.91  \n",
       "4                36.06  "
      ]
     },
     "execution_count": 3,
     "metadata": {},
     "output_type": "execute_result"
    }
   ],
   "source": [
    "df.head()"
   ]
  },
  {
   "cell_type": "code",
   "execution_count": 24,
   "metadata": {},
   "outputs": [
    {
     "data": {
      "application/vnd.microsoft.datawrangler.viewer.v0+json": {
       "columns": [
        {
         "name": "index",
         "rawType": "int64",
         "type": "integer"
        },
        {
         "name": "Country",
         "rawType": "object",
         "type": "string"
        },
        {
         "name": "Year",
         "rawType": "int64",
         "type": "integer"
        },
        {
         "name": "Food Category",
         "rawType": "object",
         "type": "string"
        },
        {
         "name": "Total Waste (Tons)",
         "rawType": "float64",
         "type": "float"
        },
        {
         "name": "Economic Loss (Million $)",
         "rawType": "float64",
         "type": "float"
        },
        {
         "name": "Avg Waste per Capita (Kg)",
         "rawType": "float64",
         "type": "float"
        },
        {
         "name": "Population (Million)",
         "rawType": "float64",
         "type": "float"
        },
        {
         "name": "Household Waste (%)",
         "rawType": "float64",
         "type": "float"
        }
       ],
       "conversionMethod": "pd.DataFrame",
       "ref": "11d0aaed-a4c0-4322-bf94-5b9152e31cc2",
       "rows": [
        [
         "2",
         "Germany",
         "2022",
         "Dairy Products",
         "9700.16",
         "8909.16",
         "166.94",
         "1006.11",
         "48.08"
        ],
        [
         "11",
         "Japan",
         "2022",
         "Frozen Food",
         "41025.9",
         "35437.9",
         "49.95",
         "1219.43",
         "33.79"
        ],
        [
         "14",
         "USA",
         "2022",
         "Bakery Items",
         "32457.98",
         "27905.84",
         "46.77",
         "865.6",
         "46.46"
        ],
        [
         "18",
         "UK",
         "2022",
         "Meat & Seafood",
         "25829.56",
         "20806.34",
         "119.62",
         "185.01",
         "32.51"
        ],
        [
         "32",
         "Argentina",
         "2022",
         "Bakery Items",
         "17868.63",
         "20588.93",
         "82.52",
         "897.76",
         "54.59"
        ]
       ],
       "shape": {
        "columns": 8,
        "rows": 5
       }
      },
      "text/html": [
       "<div>\n",
       "<style scoped>\n",
       "    .dataframe tbody tr th:only-of-type {\n",
       "        vertical-align: middle;\n",
       "    }\n",
       "\n",
       "    .dataframe tbody tr th {\n",
       "        vertical-align: top;\n",
       "    }\n",
       "\n",
       "    .dataframe thead th {\n",
       "        text-align: right;\n",
       "    }\n",
       "</style>\n",
       "<table border=\"1\" class=\"dataframe\">\n",
       "  <thead>\n",
       "    <tr style=\"text-align: right;\">\n",
       "      <th></th>\n",
       "      <th>Country</th>\n",
       "      <th>Year</th>\n",
       "      <th>Food Category</th>\n",
       "      <th>Total Waste (Tons)</th>\n",
       "      <th>Economic Loss (Million $)</th>\n",
       "      <th>Avg Waste per Capita (Kg)</th>\n",
       "      <th>Population (Million)</th>\n",
       "      <th>Household Waste (%)</th>\n",
       "    </tr>\n",
       "  </thead>\n",
       "  <tbody>\n",
       "    <tr>\n",
       "      <th>2</th>\n",
       "      <td>Germany</td>\n",
       "      <td>2022</td>\n",
       "      <td>Dairy Products</td>\n",
       "      <td>9700.16</td>\n",
       "      <td>8909.16</td>\n",
       "      <td>166.94</td>\n",
       "      <td>1006.11</td>\n",
       "      <td>48.08</td>\n",
       "    </tr>\n",
       "    <tr>\n",
       "      <th>11</th>\n",
       "      <td>Japan</td>\n",
       "      <td>2022</td>\n",
       "      <td>Frozen Food</td>\n",
       "      <td>41025.90</td>\n",
       "      <td>35437.90</td>\n",
       "      <td>49.95</td>\n",
       "      <td>1219.43</td>\n",
       "      <td>33.79</td>\n",
       "    </tr>\n",
       "    <tr>\n",
       "      <th>14</th>\n",
       "      <td>USA</td>\n",
       "      <td>2022</td>\n",
       "      <td>Bakery Items</td>\n",
       "      <td>32457.98</td>\n",
       "      <td>27905.84</td>\n",
       "      <td>46.77</td>\n",
       "      <td>865.60</td>\n",
       "      <td>46.46</td>\n",
       "    </tr>\n",
       "    <tr>\n",
       "      <th>18</th>\n",
       "      <td>UK</td>\n",
       "      <td>2022</td>\n",
       "      <td>Meat &amp; Seafood</td>\n",
       "      <td>25829.56</td>\n",
       "      <td>20806.34</td>\n",
       "      <td>119.62</td>\n",
       "      <td>185.01</td>\n",
       "      <td>32.51</td>\n",
       "    </tr>\n",
       "    <tr>\n",
       "      <th>32</th>\n",
       "      <td>Argentina</td>\n",
       "      <td>2022</td>\n",
       "      <td>Bakery Items</td>\n",
       "      <td>17868.63</td>\n",
       "      <td>20588.93</td>\n",
       "      <td>82.52</td>\n",
       "      <td>897.76</td>\n",
       "      <td>54.59</td>\n",
       "    </tr>\n",
       "  </tbody>\n",
       "</table>\n",
       "</div>"
      ],
      "text/plain": [
       "      Country  Year   Food Category  Total Waste (Tons)  \\\n",
       "2     Germany  2022  Dairy Products             9700.16   \n",
       "11      Japan  2022     Frozen Food            41025.90   \n",
       "14        USA  2022    Bakery Items            32457.98   \n",
       "18         UK  2022  Meat & Seafood            25829.56   \n",
       "32  Argentina  2022    Bakery Items            17868.63   \n",
       "\n",
       "    Economic Loss (Million $)  Avg Waste per Capita (Kg)  \\\n",
       "2                     8909.16                     166.94   \n",
       "11                   35437.90                      49.95   \n",
       "14                   27905.84                      46.77   \n",
       "18                   20806.34                     119.62   \n",
       "32                   20588.93                      82.52   \n",
       "\n",
       "    Population (Million)  Household Waste (%)  \n",
       "2                1006.11                48.08  \n",
       "11               1219.43                33.79  \n",
       "14                865.60                46.46  \n",
       "18                185.01                32.51  \n",
       "32                897.76                54.59  "
      ]
     },
     "execution_count": 24,
     "metadata": {},
     "output_type": "execute_result"
    }
   ],
   "source": [
    "df_2022 = df[df['Year'] == 2022]\n",
    "df_2022.head()"
   ]
  },
  {
   "cell_type": "code",
   "execution_count": 25,
   "metadata": {},
   "outputs": [
    {
     "name": "stdout",
     "output_type": "stream",
     "text": [
      "<class 'pandas.core.frame.DataFrame'>\n",
      "Index: 678 entries, 2 to 4989\n",
      "Data columns (total 8 columns):\n",
      " #   Column                     Non-Null Count  Dtype  \n",
      "---  ------                     --------------  -----  \n",
      " 0   Country                    678 non-null    object \n",
      " 1   Year                       678 non-null    int64  \n",
      " 2   Food Category              678 non-null    object \n",
      " 3   Total Waste (Tons)         678 non-null    float64\n",
      " 4   Economic Loss (Million $)  678 non-null    float64\n",
      " 5   Avg Waste per Capita (Kg)  678 non-null    float64\n",
      " 6   Population (Million)       678 non-null    float64\n",
      " 7   Household Waste (%)        678 non-null    float64\n",
      "dtypes: float64(5), int64(1), object(2)\n",
      "memory usage: 47.7+ KB\n"
     ]
    }
   ],
   "source": [
    "df_2022.info()"
   ]
  },
  {
   "cell_type": "code",
   "execution_count": 30,
   "metadata": {},
   "outputs": [
    {
     "data": {
      "text/plain": [
       "array(['Fruits & Vegetables', 'Prepared Food', 'Dairy Products',\n",
       "       'Beverages', 'Meat & Seafood', 'Grains & Cereals', 'Frozen Food',\n",
       "       'Bakery Items'], dtype=object)"
      ]
     },
     "execution_count": 30,
     "metadata": {},
     "output_type": "execute_result"
    }
   ],
   "source": [
    "Food_Category = df[\"Food Category\"].unique()\n",
    "Food_Category"
   ]
  },
  {
   "cell_type": "code",
   "execution_count": 26,
   "metadata": {},
   "outputs": [
    {
     "data": {
      "image/png": "[encoded data removed]",
      "text/plain": [
       "<Figure size 1400x800 with 1 Axes>"
      ]
     },
     "metadata": {},
     "output_type": "display_data"
    }
   ],
   "source": [
    "\n",
    "import matplotlib.pyplot as plt\n",
    "import seaborn as sns\n",
    "\n",
    "# Crear el gráfico de barras con matplotlib\n",
    "plt.figure(figsize=(14, 8))\n",
    "\n",
    "# Dibujar las barras sin bordes\n",
    "bars = plt.bar(df_2022['Country'], df_2022['Total Waste (Tons)'], color='skyblue', edgecolor='none')\n",
    "\n",
    "# Añadir título y etiquetas\n",
    "plt.xticks(rotation=45, ha=\"right\")  # Rotar etiquetas del eje X\n",
    "plt.title('Total Waste (Tons) por Países en el Año 2022')\n",
    "plt.xlabel('Países')\n",
    "plt.ylabel('Total Waste (Tons)')\n",
    "\n",
    "# Añadir una grilla solo en el eje Y para facilitar la lectura de los valores\n",
    "plt.grid(axis=\"y\", linestyle=\"--\", alpha=0.7)\n",
    "\n",
    "# Mostrar el gráfico\n",
    "plt.show()"
   ]
  },
  {
   "cell_type": "code",
   "execution_count": null,
   "metadata": {},
   "outputs": [
    {
     "data": {
      "application/vnd.microsoft.datawrangler.viewer.v0+json": {
       "columns": [
        {
         "name": "index",
         "rawType": "int64",
         "type": "integer"
        },
        {
         "name": "Country",
         "rawType": "object",
         "type": "string"
        },
        {
         "name": "Year",
         "rawType": "int64",
         "type": "integer"
        },
        {
         "name": "Food Category",
         "rawType": "object",
         "type": "string"
        },
        {
         "name": "Total Waste (Tons)",
         "rawType": "float64",
         "type": "float"
        },
        {
         "name": "Economic Loss (Million $)",
         "rawType": "float64",
         "type": "float"
        },
        {
         "name": "Avg Waste per Capita (Kg)",
         "rawType": "float64",
         "type": "float"
        },
        {
         "name": "Population (Million)",
         "rawType": "float64",
         "type": "float"
        },
        {
         "name": "Household Waste (%)",
         "rawType": "float64",
         "type": "float"
        }
       ],
       "conversionMethod": "pd.DataFrame",
       "ref": "522092e7-5220-42d1-bf3e-b9ab6488e13c",
       "rows": [
        [
         "28",
         "Spain",
         "2021",
         "Fruits & Vegetables",
         "41676.18",
         "43058.29",
         "135.22",
         "1325.54",
         "54.32"
        ],
        [
         "88",
         "Spain",
         "2018",
         "Beverages",
         "30435.06",
         "28495.47",
         "131.24",
         "876.44",
         "39.94"
        ],
        [
         "109",
         "Spain",
         "2024",
         "Meat & Seafood",
         "33791.28",
         "31479.67",
         "65.9",
         "219.46",
         "30.43"
        ],
        [
         "118",
         "Spain",
         "2023",
         "Dairy Products",
         "13937.28",
         "15512.11",
         "108.3",
         "27.87",
         "40.63"
        ],
        [
         "123",
         "Spain",
         "2021",
         "Frozen Food",
         "30672.66",
         "31614.27",
         "20.47",
         "470.41",
         "53.25"
        ]
       ],
       "shape": {
        "columns": 8,
        "rows": 5
       }
      },
      "text/html": [
       "<div>\n",
       "<style scoped>\n",
       "    .dataframe tbody tr th:only-of-type {\n",
       "        vertical-align: middle;\n",
       "    }\n",
       "\n",
       "    .dataframe tbody tr th {\n",
       "        vertical-align: top;\n",
       "    }\n",
       "\n",
       "    .dataframe thead th {\n",
       "        text-align: right;\n",
       "    }\n",
       "</style>\n",
       "<table border=\"1\" class=\"dataframe\">\n",
       "  <thead>\n",
       "    <tr style=\"text-align: right;\">\n",
       "      <th></th>\n",
       "      <th>Country</th>\n",
       "      <th>Year</th>\n",
       "      <th>Food Category</th>\n",
       "      <th>Total Waste (Tons)</th>\n",
       "      <th>Economic Loss (Million $)</th>\n",
       "      <th>Avg Waste per Capita (Kg)</th>\n",
       "      <th>Population (Million)</th>\n",
       "      <th>Household Waste (%)</th>\n",
       "    </tr>\n",
       "  </thead>\n",
       "  <tbody>\n",
       "    <tr>\n",
       "      <th>28</th>\n",
       "      <td>Spain</td>\n",
       "      <td>2021</td>\n",
       "      <td>Fruits &amp; Vegetables</td>\n",
       "      <td>41676.18</td>\n",
       "      <td>43058.29</td>\n",
       "      <td>135.22</td>\n",
       "      <td>1325.54</td>\n",
       "      <td>54.32</td>\n",
       "    </tr>\n",
       "    <tr>\n",
       "      <th>88</th>\n",
       "      <td>Spain</td>\n",
       "      <td>2018</td>\n",
       "      <td>Beverages</td>\n",
       "      <td>30435.06</td>\n",
       "      <td>28495.47</td>\n",
       "      <td>131.24</td>\n",
       "      <td>876.44</td>\n",
       "      <td>39.94</td>\n",
       "    </tr>\n",
       "    <tr>\n",
       "      <th>109</th>\n",
       "      <td>Spain</td>\n",
       "      <td>2024</td>\n",
       "      <td>Meat &amp; Seafood</td>\n",
       "      <td>33791.28</td>\n",
       "      <td>31479.67</td>\n",
       "      <td>65.90</td>\n",
       "      <td>219.46</td>\n",
       "      <td>30.43</td>\n",
       "    </tr>\n",
       "    <tr>\n",
       "      <th>118</th>\n",
       "      <td>Spain</td>\n",
       "      <td>2023</td>\n",
       "      <td>Dairy Products</td>\n",
       "      <td>13937.28</td>\n",
       "      <td>15512.11</td>\n",
       "      <td>108.30</td>\n",
       "      <td>27.87</td>\n",
       "      <td>40.63</td>\n",
       "    </tr>\n",
       "    <tr>\n",
       "      <th>123</th>\n",
       "      <td>Spain</td>\n",
       "      <td>2021</td>\n",
       "      <td>Frozen Food</td>\n",
       "      <td>30672.66</td>\n",
       "      <td>31614.27</td>\n",
       "      <td>20.47</td>\n",
       "      <td>470.41</td>\n",
       "      <td>53.25</td>\n",
       "    </tr>\n",
       "  </tbody>\n",
       "</table>\n",
       "</div>"
      ],
      "text/plain": [
       "    Country  Year        Food Category  Total Waste (Tons)  \\\n",
       "28    Spain  2021  Fruits & Vegetables            41676.18   \n",
       "88    Spain  2018            Beverages            30435.06   \n",
       "109   Spain  2024       Meat & Seafood            33791.28   \n",
       "118   Spain  2023       Dairy Products            13937.28   \n",
       "123   Spain  2021          Frozen Food            30672.66   \n",
       "\n",
       "     Economic Loss (Million $)  Avg Waste per Capita (Kg)  \\\n",
       "28                    43058.29                     135.22   \n",
       "88                    28495.47                     131.24   \n",
       "109                   31479.67                      65.90   \n",
       "118                   15512.11                     108.30   \n",
       "123                   31614.27                      20.47   \n",
       "\n",
       "     Population (Million)  Household Waste (%)  \n",
       "28                1325.54                54.32  \n",
       "88                 876.44                39.94  \n",
       "109                219.46                30.43  \n",
       "118                 27.87                40.63  \n",
       "123                470.41                53.25  "
      ]
     },
     "execution_count": 32,
     "metadata": {},
     "output_type": "execute_result"
    }
   ],
   "source": [
    "df_spain = df[df['Country'] == \"Spain\"]\n",
    "df_spain.head()\n"
   ]
  },
  {
   "cell_type": "code",
   "execution_count": null,
   "metadata": {},
   "outputs": [],
   "source": [
    "##REVISARLO\n",
    "\n",
    "\n",
    "\n",
    "import pandas as pd\n",
    "import matplotlib.pyplot as plt\n",
    "\n",
    "# Filtrar los datos para España\n",
    "df_spain = df[df['Country'] == 'Spain']\n",
    "\n",
    "# Filtrar los datos para los años 2014-2024\n",
    "df_spain = df_spain[(df_spain['Year'] >= 2014) & (df_spain['Year'] <= 2024)]\n",
    "\n",
    "# Crear una lista con las categorías de comida únicas\n",
    "categories = df_spain['category food'].unique()\n",
    "\n",
    "# Crear una figura con subgráficos (un gráfico por cada categoría de comida)\n",
    "fig, axes = plt.subplots(len(categories), 1, figsize=(10, 6 * len(categories)))\n",
    "\n",
    "# Si solo hay una categoría, `axes` será un solo objeto, no una lista\n",
    "if len(categories) == 1:\n",
    "    axes = [axes]\n",
    "\n",
    "# Crear un gráfico por cada categoría de comida\n",
    "for i, category in enumerate(categories):\n",
    "    # Filtrar los datos para la categoría actual\n",
    "    df_category = df_spain[df_spain['category food'] == category]\n",
    "    \n",
    "    # Agrupar los datos por año y sumar los residuos por cada categoría\n",
    "    df_category_grouped = df_category.groupby('Year')['Total Waste (Tons)'].sum()\n",
    "    \n",
    "    # Crear el gráfico de evolución para la categoría\n",
    "    axes[i].plot(df_category_grouped.index, df_category_grouped.values, marker='o', color='tab:blue', linestyle='-', linewidth=2)\n",
    "    \n",
    "    # Añadir título y etiquetas\n",
    "    axes[i].set_title(f'Evolución de Residuos - {category}', fontsize=14)\n",
    "    axes[i].set_xlabel('Año')\n",
    "    axes[i].set_ylabel('Residuos (Tons)')\n",
    "    axes[i].grid(True)\n",
    "\n",
    "# Ajustar el espacio entre los subgráficos\n",
    "plt.tight_layout()\n",
    "\n",
    "# Mostrar el gráfico\n",
    "plt.show()\n"
   ]
  }
 ],
 "metadata": {
  "kernelspec": {
   "display_name": "Python 3",
   "language": "python",
   "name": "python3"
  },
  "language_info": {
   "codemirror_mode": {
    "name": "ipython",
    "version": 3
   },
   "file_extension": ".py",
   "mimetype": "text/x-python",
   "name": "python",
   "nbconvert_exporter": "python",
   "pygments_lexer": "ipython3",
   "version": "3.11.9"
  }
 },
 "nbformat": 4,
 "nbformat_minor": 2
}
