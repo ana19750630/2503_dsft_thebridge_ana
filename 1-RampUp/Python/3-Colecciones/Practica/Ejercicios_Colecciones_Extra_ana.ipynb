{
 "cells": [
  {
   "cell_type": "markdown",
   "metadata": {},
   "source": [
    "## Ejercicio Extra\n",
    "Programa el SW de una biblioteca:\n",
    "\n",
    "* Preguntar qué operación quieres realizar (visualizar todos los libros de la biblioteca/buscar libro/añadir libro/eliminar libro por título)\n",
    "    * En caso de que pida el usuario elija visualizar se visualizarán todos los libros\n",
    "    * Buscar libro: búsqueda por título que introduce el usuario y se visualiza todos los campos del libro\n",
    "    * Añadir libro: se debe solicitar al usuario que introduzca título y autor para el nuevo libro y se añade el libro a la lista de libros\n",
    "    * Eliminar libro: se solicita al usuario el título del libro y éste debe ser eliminado de la lista de libros\n",
    "    * Alquilar libro: se solicita al usuario el título del libro y se debe pasar el campo \"Alquilado\" a True\n",
    "    * Devolver libro: se solicita al usuario el título del libro y se debe pasar el campo \"Alquilado\" a False"
   ]
  },
  {
   "cell_type": "code",
   "execution_count": null,
   "metadata": {},
   "outputs": [],
   "source": [
    "libros = [ {\"Titulo\": \"Python Data Science Handbook\", \"Autor\": \"Jake VanderPlas\", \"Alquilado\": False},\n",
    "    {\"Titulo\": \"Hands-On Machine Learning with Scikit-Learn, Keras, and TensorFlow\", \"Autor\": \"Aurélien Géron\", \"Alquilado\": True},\n",
    "    {\"Titulo\": \"Pattern Recognition and Machine Learning\", \"Autor\": \"Christopher M. Bishop\", \"Alquilado\": False},\n",
    "    {\"Titulo\": \"Deep Learning\", \"Autor\": \"Ian Goodfellow, Yoshua Bengio, Aaron Courville\", \"Alquilado\": True},\n",
    "    {\"Titulo\": \"The Elements of Statistical Learning\", \"Autor\": \"Trevor Hastie, Robert Tibshirani, Jerome Friedman\", \"Alquilado\": False},\n",
    "    {\"Titulo\": \"Data Science for Business\", \"Autor\": \"Foster Provost, Tom Fawcett\", \"Alquilado\": False},\n",
    "    {\"Titulo\": \"Bayesian Data Analysis\", \"Autor\": \"Andrew Gelman et al.\", \"Alquilado\": True},\n",
    "    {\"Titulo\": \"Introduction to the Theory of Computation\", \"Autor\": \"Michael Sipser\", \"Alquilado\": False},\n",
    "    {\"Titulo\": \"Artificial Intelligence: A Modern Approach\", \"Autor\": \"Stuart Russell, Peter Norvig\", \"Alquilado\": True},\n",
    "    {\"Titulo\": \"Computer Vision: Algorithms and Applications\", \"Autor\": \"Richard Szeliski\", \"Alquilado\": False},\n",
    "    {\"Titulo\": \"Data Science from Scratch\", \"Autor\": \"Joel Grus\", \"Alquilado\": True},\n",
    "    {\"Titulo\": \"The Art of Statistics\", \"Autor\": \"David Spiegelhalter\", \"Alquilado\": False},\n",
    "    {\"Titulo\": \"Python Machine Learning\", \"Autor\": \"Sebastian Raschka, Vahid Mirjalili\", \"Alquilado\": True},\n",
    "    {\"Titulo\": \"An Introduction to Statistical Learning\", \"Autor\": \"Gareth James, Daniela Witten, Trevor Hastie, Robert Tibshirani\", \"Alquilado\": False},\n",
    "    {\"Titulo\": \"Fundamentals of Data Engineering\", \"Autor\": \"Joe Reis, Matt Housley\", \"Alquilado\": False},\n",
    "    {\"Titulo\": \"Storytelling with Data\", \"Autor\": \"Cole Nussbaumer Knaflic\", \"Alquilado\": True},\n",
    "    {\"Titulo\": \"Building Machine Learning Powered Applications\", \"Autor\": \"Emmanuel Ameisen\", \"Alquilado\": False},\n",
    "    {\"Titulo\": \"Practical Statistics for Data Scientists\", \"Autor\": \"Peter Bruce, Andrew Bruce\", \"Alquilado\": True},\n",
    "    {\"Titulo\": \"SQL for Data Scientists\", \"Autor\": \"Renee M. P. Teate\", \"Alquilado\": False},\n",
    "    {\"Titulo\": \"Data Engineering on Azure\", \"Autor\": \"Vlad Riscutia\", \"Alquilado\": True}]\n",
    "\n"
   ]
  },
  {
   "cell_type": "code",
   "execution_count": 1,
   "metadata": {},
   "outputs": [],
   "source": [
    "libros = [\n",
    "    {\"Titulo\": \"Python Data Science Handbook\", \"Autor\": \"Jake VanderPlas\", \"Alquilado\": False},\n",
    "    {\"Titulo\": \"Hands-On Machine Learning with Scikit-Learn, Keras, and TensorFlow\", \"Autor\": \"Aurélien Géron\", \"Alquilado\": True},\n",
    "    {\"Titulo\": \"Pattern Recognition and Machine Learning\", \"Autor\": \"Christopher M. Bishop\", \"Alquilado\": False},\n",
    "    {\"Titulo\": \"Deep Learning\", \"Autor\": \"Ian Goodfellow, Yoshua Bengio, Aaron Courville\", \"Alquilado\": True},\n",
    "    {\"Titulo\": \"The Elements of Statistical Learning\", \"Autor\": \"Trevor Hastie, Robert Tibshirani, Jerome Friedman\", \"Alquilado\": False},\n",
    "    {\"Titulo\": \"Data Science for Business\", \"Autor\": \"Foster Provost, Tom Fawcett\", \"Alquilado\": False},\n",
    "    {\"Titulo\": \"Bayesian Data Analysis\", \"Autor\": \"Andrew Gelman et al.\", \"Alquilado\": True},\n",
    "    {\"Titulo\": \"Introduction to the Theory of Computation\", \"Autor\": \"Michael Sipser\", \"Alquilado\": False},\n",
    "    {\"Titulo\": \"Artificial Intelligence: A Modern Approach\", \"Autor\": \"Stuart Russell, Peter Norvig\", \"Alquilado\": True},\n",
    "    {\"Titulo\": \"Computer Vision: Algorithms and Applications\", \"Autor\": \"Richard Szeliski\", \"Alquilado\": False},\n",
    "    {\"Titulo\": \"Data Science from Scratch\", \"Autor\": \"Joel Grus\", \"Alquilado\": True},\n",
    "    {\"Titulo\": \"The Art of Statistics\", \"Autor\": \"David Spiegelhalter\", \"Alquilado\": False},\n",
    "    {\"Titulo\": \"Python Machine Learning\", \"Autor\": \"Sebastian Raschka, Vahid Mirjalili\", \"Alquilado\": True},\n",
    "    {\"Titulo\": \"An Introduction to Statistical Learning\", \"Autor\": \"Gareth James, Daniela Witten, Trevor Hastie, Robert Tibshirani\", \"Alquilado\": False},\n",
    "    {\"Titulo\": \"Fundamentals of Data Engineering\", \"Autor\": \"Joe Reis, Matt Housley\", \"Alquilado\": False},\n",
    "    {\"Titulo\": \"Storytelling with Data\", \"Autor\": \"Cole Nussbaumer Knaflic\", \"Alquilado\": True},\n",
    "    {\"Titulo\": \"Building Machine Learning Powered Applications\", \"Autor\": \"Emmanuel Ameisen\", \"Alquilado\": False},\n",
    "    {\"Titulo\": \"Practical Statistics for Data Scientists\", \"Autor\": \"Peter Bruce, Andrew Bruce\", \"Alquilado\": True},\n",
    "    {\"Titulo\": \"SQL for Data Scientists\", \"Autor\": \"Renee M. P. Teate\", \"Alquilado\": False},\n",
    "    {\"Titulo\": \"Data Engineering on Azure\", \"Autor\": \"Vlad Riscutia\", \"Alquilado\": True}\n",
    "]"
   ]
  },
  {
   "cell_type": "code",
   "execution_count": 2,
   "metadata": {},
   "outputs": [],
   "source": [
    "import pprint"
   ]
  },
  {
   "cell_type": "code",
   "execution_count": 3,
   "metadata": {},
   "outputs": [],
   "source": [
    "def imprimir_libros(libros):\n",
    "    pprint.pprint(imprimir_libros)"
   ]
  },
  {
   "cell_type": "code",
   "execution_count": 4,
   "metadata": {},
   "outputs": [],
   "source": [
    "def buscar_libro(libros):\n",
    "    titulo_buscar = input(\"Introduce el titulo libro\")\n"
   ]
  },
  {
   "cell_type": "code",
   "execution_count": 6,
   "metadata": {},
   "outputs": [
    {
     "name": "stdout",
     "output_type": "stream",
     "text": [
      "Python Data Science Handbook\n",
      "Hands-On Machine Learning with Scikit-Learn, Keras, and TensorFlow\n",
      "Pattern Recognition and Machine Learning\n",
      "Deep Learning\n",
      "The Elements of Statistical Learning\n",
      "Data Science for Business\n",
      "Bayesian Data Analysis\n",
      "Introduction to the Theory of Computation\n",
      "Artificial Intelligence: A Modern Approach\n",
      "Computer Vision: Algorithms and Applications\n",
      "Data Science from Scratch\n",
      "The Art of Statistics\n",
      "Python Machine Learning\n",
      "An Introduction to Statistical Learning\n",
      "libro encontrado\n",
      "{'Titulo': 'An Introduction to Statistical Learning', 'Autor': 'Gareth James, Daniela Witten, Trevor Hastie, Robert Tibshirani', 'Alquilado': False}\n",
      "Fundamentals of Data Engineering\n",
      "Storytelling with Data\n",
      "Building Machine Learning Powered Applications\n",
      "Practical Statistics for Data Scientists\n",
      "SQL for Data Scientists\n",
      "Data Engineering on Azure\n"
     ]
    }
   ],
   "source": [
    "titulo_buscar =\"An Introduction to Statistical Learning\"\n",
    "for libro in libros:\n",
    "    titulo = libro['Titulo']\n",
    "    print(titulo)\n",
    "    if titulo == titulo_buscar:\n",
    "        print(\"libro encontrado\")\n",
    "        print(libro)\n"
   ]
  },
  {
   "cell_type": "code",
   "execution_count": 1,
   "metadata": {},
   "outputs": [],
   "source": [
    "def buscar_libro (libros):\n",
    "    titulo_buscar = input(\"Introduce el titulo, por favor:\")\n",
    "    for libro in libros:\n",
    "        titulo = libro['Titulo']\n",
    "        #print(titulo)\n",
    "        if titulo == titulo_buscar:\n",
    "            print(\"libro encontrado\")\n",
    "            print(libro)"
   ]
  },
  {
   "cell_type": "code",
   "execution_count": 10,
   "metadata": {},
   "outputs": [
    {
     "name": "stdout",
     "output_type": "stream",
     "text": [
      "libro encontrado\n",
      "{'Titulo': 'SQL for Data Scientists', 'Autor': 'Renee M. P. Teate', 'Alquilado': False}\n"
     ]
    }
   ],
   "source": [
    "buscar_libro(libros)"
   ]
  },
  {
   "cell_type": "code",
   "execution_count": 15,
   "metadata": {},
   "outputs": [],
   "source": [
    "##Añadir libro\n",
    "def agregar_libro (libros):\n",
    "    Titulo = input(\"introduce titulo\")\n",
    "    Autor = input(\"introduce autor\")\n",
    "    libro= {\"Titulo\": Titulo, \"Autor\": Autor, \"Alquilado\": False}\n",
    "    libros.append(libro)\n",
    "    \n",
    "\n"
   ]
  },
  {
   "cell_type": "code",
   "execution_count": 17,
   "metadata": {},
   "outputs": [],
   "source": [
    "agregar_libro(libros)"
   ]
  },
  {
   "cell_type": "code",
   "execution_count": null,
   "metadata": {},
   "outputs": [],
   "source": [
    "##Eliminar libro\n",
    "# Función para eliminar un libro\n",
    "def eliminar_libro():\n",
    "    # Pedir al usuario el título del libro a eliminar\n",
    "    Titulo = input(\"Introduce el título del libro que deseas eliminar: \")\n",
    "    \n",
    "    # Buscar el libro en la lista\n",
    "    for libro in libros:\n",
    "        if libro[\"titulo\"]== titulo:\n",
    "            libros.remove(libro)\n",
    "            print(f\"El libro '{titulo}' ha sido eliminado.\")\n",
    "            return  # Salir de la función si el libro fue encontrado y eliminado"
   ]
  },
  {
   "cell_type": "code",
   "execution_count": null,
   "metadata": {},
   "outputs": [
    {
     "data": {
      "text/plain": [
       "[{'Titulo': 'Python Data Science Handbook',\n",
       "  'Autor': 'Jake VanderPlas',\n",
       "  'Alquilado': False},\n",
       " {'Titulo': 'Hands-On Machine Learning with Scikit-Learn, Keras, and TensorFlow',\n",
       "  'Autor': 'Aurélien Géron',\n",
       "  'Alquilado': True},\n",
       " {'Titulo': 'Pattern Recognition and Machine Learning',\n",
       "  'Autor': 'Christopher M. Bishop',\n",
       "  'Alquilado': False},\n",
       " {'Titulo': 'Deep Learning',\n",
       "  'Autor': 'Ian Goodfellow, Yoshua Bengio, Aaron Courville',\n",
       "  'Alquilado': True},\n",
       " {'Titulo': 'The Elements of Statistical Learning',\n",
       "  'Autor': 'Trevor Hastie, Robert Tibshirani, Jerome Friedman',\n",
       "  'Alquilado': False},\n",
       " {'Titulo': 'Data Science for Business',\n",
       "  'Autor': 'Foster Provost, Tom Fawcett',\n",
       "  'Alquilado': False},\n",
       " {'Titulo': 'Bayesian Data Analysis',\n",
       "  'Autor': 'Andrew Gelman et al.',\n",
       "  'Alquilado': True},\n",
       " {'Titulo': 'Introduction to the Theory of Computation',\n",
       "  'Autor': 'Michael Sipser',\n",
       "  'Alquilado': False},\n",
       " {'Titulo': 'Artificial Intelligence: A Modern Approach',\n",
       "  'Autor': 'Stuart Russell, Peter Norvig',\n",
       "  'Alquilado': True},\n",
       " {'Titulo': 'Computer Vision: Algorithms and Applications',\n",
       "  'Autor': 'Richard Szeliski',\n",
       "  'Alquilado': False},\n",
       " {'Titulo': 'Data Science from Scratch',\n",
       "  'Autor': 'Joel Grus',\n",
       "  'Alquilado': True},\n",
       " {'Titulo': 'The Art of Statistics',\n",
       "  'Autor': 'David Spiegelhalter',\n",
       "  'Alquilado': False},\n",
       " {'Titulo': 'Python Machine Learning',\n",
       "  'Autor': 'Sebastian Raschka, Vahid Mirjalili',\n",
       "  'Alquilado': True},\n",
       " {'Titulo': 'An Introduction to Statistical Learning',\n",
       "  'Autor': 'Gareth James, Daniela Witten, Trevor Hastie, Robert Tibshirani',\n",
       "  'Alquilado': False},\n",
       " {'Titulo': 'Fundamentals of Data Engineering',\n",
       "  'Autor': 'Joe Reis, Matt Housley',\n",
       "  'Alquilado': False},\n",
       " {'Titulo': 'Storytelling with Data',\n",
       "  'Autor': 'Cole Nussbaumer Knaflic',\n",
       "  'Alquilado': True},\n",
       " {'Titulo': 'Building Machine Learning Powered Applications',\n",
       "  'Autor': 'Emmanuel Ameisen',\n",
       "  'Alquilado': False},\n",
       " {'Titulo': 'Practical Statistics for Data Scientists',\n",
       "  'Autor': 'Peter Bruce, Andrew Bruce',\n",
       "  'Alquilado': True},\n",
       " {'Titulo': 'SQL for Data Scientists',\n",
       "  'Autor': 'Renee M. P. Teate',\n",
       "  'Alquilado': False},\n",
       " {'Titulo': 'Data Engineering on Azure',\n",
       "  'Autor': 'Vlad Riscutia',\n",
       "  'Alquilado': True},\n",
       " {'Titulo': 'fdsg', 'Autor': 'fdgd', 'Alquilado': False}]"
      ]
     },
     "execution_count": 37,
     "metadata": {},
     "output_type": "execute_result"
    }
   ],
   "source": []
  },
  {
   "cell_type": "code",
   "execution_count": null,
   "metadata": {},
   "outputs": [],
   "source": []
  },
  {
   "cell_type": "code",
   "execution_count": 36,
   "metadata": {},
   "outputs": [
    {
     "name": "stdout",
     "output_type": "stream",
     "text": [
      "<function imprimir_libros at 0x000001F1E9579260>\n"
     ]
    }
   ],
   "source": [
    "imprimir_libros(libros)"
   ]
  },
  {
   "cell_type": "code",
   "execution_count": null,
   "metadata": {},
   "outputs": [],
   "source": [
    "salir = False\n",
    "\n",
    "while not salir:\n",
    "    opcion = input(\"Visualizar/Buscar/Añadir/Alquilar/Devolver/Salir\")\n",
    "    match opcion:\n",
    "        case \"Visualizar\":\n",
    "            imprimir_libros(libros)\n",
    "        case \"Buscar\":\n",
    "            buscar_libro(libros)\n",
    "        case \"Salir\":\n",
    "            break\n",
    "\n",
    "    "
   ]
  }
 ],
 "metadata": {
  "kernelspec": {
   "display_name": "Python 3",
   "language": "python",
   "name": "python3"
  },
  "language_info": {
   "codemirror_mode": {
    "name": "ipython",
    "version": 3
   },
   "file_extension": ".py",
   "mimetype": "text/x-python",
   "name": "python",
   "nbconvert_exporter": "python",
   "pygments_lexer": "ipython3",
   "version": "3.11.9"
  }
 },
 "nbformat": 4,
 "nbformat_minor": 2
}
