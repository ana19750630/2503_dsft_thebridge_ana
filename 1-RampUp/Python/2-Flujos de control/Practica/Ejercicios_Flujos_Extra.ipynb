{
 "cells": [
  {
   "cell_type": "markdown",
   "metadata": {},
   "source": [
    "![imagen](./img/ejercicios.png)"
   ]
  },
  {
   "cell_type": "markdown",
   "metadata": {},
   "source": [
    "# Ejercicios Flujos de control"
   ]
  },
  {
   "cell_type": "markdown",
   "metadata": {},
   "source": [
    "## Ejercicio Extra\n",
    "Programa una calculadora que\n",
    "\n",
    "* Pregunte qué operación quieres realizar (multiplicación/división/suma/resta/potencia/salir)\n",
    "* Pida dos números \n",
    "* Realice la operación\n",
    "* Siga funcionando hasta que el usuario elija salir\n",
    "\n",
    "#### Bonus:\n",
    "* Que guarde todas las operaciones realizadas y las imprima por pantalla cuando el usuario elija esa opción\n",
    "* Que sea robusta frente a entradas erróneas del usuario o frente a operaciones como dividir por 0"
   ]
  },
  {
   "cell_type": "code",
   "execution_count": null,
   "metadata": {},
   "outputs": [],
   "source": []
  },
  {
   "cell_type": "code",
   "execution_count": 1,
   "metadata": {},
   "outputs": [
    {
     "name": "stdout",
     "output_type": "stream",
     "text": [
      "Operaciones disponibles:\n",
      "1. Suma\n",
      "2. Resta\n",
      "3. Multiplicación\n",
      "4. División\n",
      "5. Potencia\n",
      "6. Salir\n",
      "El resultado de la resta es: 5.0\n",
      "\n",
      "Operaciones disponibles:\n",
      "1. Suma\n",
      "2. Resta\n",
      "3. Multiplicación\n",
      "4. División\n",
      "5. Potencia\n",
      "6. Salir\n",
      "Saliendo de la calculadora...\n"
     ]
    }
   ],
   "source": [
    "def calculadora():\n",
    "    while True:\n",
    "        # Mostrar las opciones de operaciones\n",
    "        print(\"Operaciones disponibles:\")\n",
    "        print(\"1. Suma\")\n",
    "        print(\"2. Resta\")\n",
    "        print(\"3. Multiplicación\")\n",
    "        print(\"4. División\")\n",
    "        print(\"5. Potencia\")\n",
    "        print(\"6. Salir\")\n",
    "\n",
    "        # Pedir al usuario la operación\n",
    "        operacion = input(\"¿Qué operación quieres realizar? (suma/resta/multiplicación/división/potencia/salir): \").lower()\n",
    "\n",
    "        # Si el usuario elige salir, terminamos el bucle\n",
    "        if operacion == \"salir\":\n",
    "            print(\"Saliendo de la calculadora...\")\n",
    "            break\n",
    "\n",
    "        # Pedir dos números\n",
    "        try:\n",
    "            num1 = float(input(\"Introduce el primer número: \"))\n",
    "            num2 = float(input(\"Introduce el segundo número: \"))\n",
    "        except ValueError:\n",
    "            print(\"Por favor, introduce números válidos.\")\n",
    "            continue\n",
    "\n",
    "        # Realizar la operación seleccionada\n",
    "        if operacion == \"suma\":\n",
    "            resultado = num1 + num2\n",
    "            print(f\"El resultado de la suma es: {resultado}\")\n",
    "        elif operacion == \"resta\":\n",
    "            resultado = num1 - num2\n",
    "            print(f\"El resultado de la resta es: {resultado}\")\n",
    "        elif operacion == \"multiplicación\":\n",
    "            resultado = num1 * num2\n",
    "            print(f\"El resultado de la multiplicación es: {resultado}\")\n",
    "        elif operacion == \"división\":\n",
    "            if num2 != 0:\n",
    "                resultado = num1 / num2\n",
    "                print(f\"El resultado de la división es: {resultado}\")\n",
    "            else:\n",
    "                print(\"Error: No se puede dividir entre cero.\")\n",
    "        elif operacion == \"potencia\":\n",
    "            resultado = num1 ** num2\n",
    "            print(f\"El resultado de la potencia es: {resultado}\")\n",
    "        else:\n",
    "            print(\"Operación no válida. Por favor, elige una opción válida.\")\n",
    "        \n",
    "        print()  # Para separar cada ciclo de operación\n",
    "\n",
    "# Llamada a la función para ejecutar la calculadora\n",
    "calculadora()\n"
   ]
  }
 ],
 "metadata": {
  "kernelspec": {
   "display_name": "Python 3",
   "language": "python",
   "name": "python3"
  },
  "language_info": {
   "codemirror_mode": {
    "name": "ipython",
    "version": 3
   },
   "file_extension": ".py",
   "mimetype": "text/x-python",
   "name": "python",
   "nbconvert_exporter": "python",
   "pygments_lexer": "ipython3",
   "version": "3.11.9"
  }
 },
 "nbformat": 4,
 "nbformat_minor": 4
}
