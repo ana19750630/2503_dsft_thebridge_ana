{
 "cells": [
  {
   "cell_type": "markdown",
   "metadata": {},
   "source": [
    "![imagen](./img/ejercicios.png)"
   ]
  },
  {
   "cell_type": "markdown",
   "metadata": {},
   "source": [
    "# Ejercicios Flujos de control"
   ]
  },
  {
   "cell_type": "markdown",
   "metadata": {},
   "source": [
    "## Ejercicio Extra\n",
    "Programa una calculadora que\n",
    "\n",
    "* Pregunte qué operación quieres realizar (multiplicación/división/suma/resta/potencia/salir)\n",
    "* Pida dos números \n",
    "* Realice la operación\n",
    "* Siga funcionando hasta que el usuario elija salir\n",
    "\n",
    "#### Bonus:\n",
    "* Que guarde todas las operaciones realizadas y las imprima por pantalla cuando el usuario elija esa opción\n",
    "* Que sea robusta frente a entradas erróneas del usuario o frente a operaciones como dividir por 0"
   ]
  },
  {
   "cell_type": "code",
   "execution_count": 5,
   "metadata": {},
   "outputs": [
    {
     "name": "stdout",
     "output_type": "stream",
     "text": [
      "suma\n",
      "resta\n",
      "multiplicacion\n",
      "division)\n",
      "potencia\n",
      "salir\n",
      "5.0\n"
     ]
    },
    {
     "ename": "SyntaxError",
     "evalue": "'break' outside loop (1451469781.py, line 42)",
     "output_type": "error",
     "traceback": [
      "  \u001b[36mCell\u001b[39m\u001b[36m \u001b[39m\u001b[32mIn[5]\u001b[39m\u001b[32m, line 42\u001b[39m\n\u001b[31m    \u001b[39m\u001b[31mbreak\u001b[39m\n    ^\n\u001b[31mSyntaxError\u001b[39m\u001b[31m:\u001b[39m 'break' outside loop\n"
     ]
    }
   ],
   "source": [
    "# Pedir la opción que el usuario quiere realizar\n",
    "suma = \"suma\"\n",
    "print(suma)\n",
    "resta = \"resta\"\n",
    "print(resta)\n",
    "multiplicacion = (\"multiplicacion\")\n",
    "print(multiplicacion)\n",
    "division = (\"division)\")\n",
    "print(division)\n",
    "potencia = \"potencia\"\n",
    "print(potencia)\n",
    "salir = \"salir\"\n",
    "print(salir)\n",
    "\n",
    "operacion = input(\"¿Qué operación quieres realizar? (suma,resta,multiplicación,división,potencia,salir) \")\n",
    "    \n",
    "    \n",
    " # Pedir dos números\n",
    "\n",
    "num1 = float(input(\"mete primer número: \"))\n",
    "num2 = float(input(\"mete segundo número: \"))\n",
    "\n",
    "## Realice la operacion\n",
    "if operacion == \"suma\":\n",
    "        resultado = num1 + num2\n",
    "        print(resultado)\n",
    "elif operacion == \"resta\":\n",
    "        resultado = num1 - num2\n",
    "        print(resultado)\n",
    "elif operacion == \"multiplicacion\":\n",
    "        resultado = num1 * num2\n",
    "        print(resultado)\n",
    "elif operacion == \"divisio\":\n",
    "        if num2 != 0:\n",
    "            resultado = num1 / num2\n",
    "            print(resultado)\n",
    "\n",
    "##siga funcionando hsat que diga salir\n",
    "\n",
    "if operacion == \"salir\":\n",
    "    print(\"Adios\")\n",
    "    break\n",
    "   "
   ]
  }
 ],
 "metadata": {
  "kernelspec": {
   "display_name": "Python 3",
   "language": "python",
   "name": "python3"
  },
  "language_info": {
   "codemirror_mode": {
    "name": "ipython",
    "version": 3
   },
   "file_extension": ".py",
   "mimetype": "text/x-python",
   "name": "python",
   "nbconvert_exporter": "python",
   "pygments_lexer": "ipython3",
   "version": "3.11.9"
  }
 },
 "nbformat": 4,
 "nbformat_minor": 4
}
