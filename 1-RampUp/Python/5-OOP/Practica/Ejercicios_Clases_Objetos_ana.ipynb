{
 "cells": [
  {
   "cell_type": "markdown",
   "metadata": {},
   "source": [
    "![imagen](./img/ejercicios.png)\n",
    "\n",
    "# Ejercicios Clases y Objetos"
   ]
  },
  {
   "attachments": {},
   "cell_type": "markdown",
   "metadata": {},
   "source": [
    "## Ejercicio 1\n",
    "Somos una empresa que tiene varias tiendas de electrodomésticos. Necesitamos un programa para manejar las tiendas, ver las ventas que han tenido, cuántos empleados hay, etc... Para ello vamos a modelizar la tienda en una clase, que tendrá las siguientes características:\n",
    "* Nombre clase: \"Tienda\"\n",
    "* Atributos comunes:\n",
    "    * Tipo: \"Electrodomésticos\"\n",
    "    * Abierta: True\n",
    "* Atributos propios de cada tienda:\n",
    "    * Nombre - String\n",
    "    * Dirección - String\n",
    "    * Número de empleados - int\n",
    "    * Ventas últimos 3 meses - Lista de 3 numeros\n",
    "* Método para calcular las ventas de todos los meses, que devuelva un número con todas las ventas.\n",
    "* Método que calcula la media de ventas de los últimos meses, por empleado\n",
    "* Método que devuelve en un string el nombre de la tienda, junto con su dirección.\n",
    "* Método que obtiene las ventas del último mes.\n",
    "* Método para dar una proyección de las ventas en caso de haber invertido X dinero en marketing en esa tienda. Siendo X el parámetro de entrada. Si X es menor de 1000, las ventas de los ultimos 3 meses hubiesen sido de (1.2 x ventas), si es mayor o igual de 1000, las ventas hubiesen sido de (1.5 x venta). El método reescribe el atributo de ventas en los últimos 3 meses, y además devuelve las ventas con el aumento.\n",
    "\n",
    "Se pide:\n",
    "1. Implementar la clase \"Tienda\"\n",
    "2. Crear tres tiendas con datos inventados\n",
    "3. Comprueba en al menos una de ellas, todo lo implementado en la clase tienda (sus atributos, media de ventas, ventas/empleado...)\n",
    "3. Calcular las ventas del último mes de todas las tiendas. Para ello usa el bucle `for`\n",
    "4. Imprime por pantalla los nombres de las tiendas cuya dirección lleve el string \"Avenida\"\n",
    "5. Seguro que ya has hecho este apartado... Documenta la clase :)"
   ]
  },
  {
   "cell_type": "code",
   "execution_count": null,
   "metadata": {},
   "outputs": [],
   "source": []
  },
  {
   "cell_type": "code",
   "execution_count": 3,
   "metadata": {},
   "outputs": [],
   "source": [
    "class Tienda:\n",
    "    ##atributos comunes\n",
    "    Tipo = \"Electrodomesticos\"\n",
    "    Abierto = True\n",
    "    ##atributos propios\n",
    "    def __init__(self, nombre: str, direccion: str, numero_empleados: int, \n",
    "                 ventas_ultimos_3_meses: list):\n",
    "        self.nombre = nombre\n",
    "        self.direccion = direccion\n",
    "        self.numero_empleados = numero_empleados\n",
    "        self.ventas_ultimos_3_meses = ventas_ultimos_3_meses\n",
    "\n",
    "    \n",
    "    \n",
    "    ##metodo para calcular las ventas totales de todod los meses\n",
    "    def calcular_ventas_totales(self):\n",
    "        return sum(self.ventas_ultimos_3_meses)\n",
    "    \n",
    "\n",
    "    # Método para calcular la media de ventas por empleado\n",
    "    def calcular_media_ventas_por_empleado(self):\n",
    "        if self.numero_empleados > 0:  # Para evitar división por cero\n",
    "            total_ventas = self.calcular_ventas_totales()\n",
    "            return total_ventas / self.numero_empleados\n",
    "        else:\n",
    "            return 0  # Si no hay empleados, la media es 0"
   ]
  },
  {
   "cell_type": "code",
   "execution_count": 4,
   "metadata": {},
   "outputs": [],
   "source": [
    "##Crear una de las tiendas de la clase Tienda\n",
    "mi_tienda1 = Tienda(\"TiendaA\", \"Calle TiendaA\", 5, [1200, 1500, 1300])\n",
    "mi_tienda2 = Tienda(\"TiendaB\", \"Calle TiendaB\", 8, [2000, 3500, 6000])\n",
    "mi_tienda3 = Tienda(\"TiendaC\", \"Calle TiendaC\", 3, [500, 800,900] )\n"
   ]
  },
  {
   "cell_type": "code",
   "execution_count": 5,
   "metadata": {},
   "outputs": [
    {
     "name": "stdout",
     "output_type": "stream",
     "text": [
      "Tipo de tienda: Electrodomesticos\n",
      "¿Está abierta? True\n",
      "Nombre de la tienda: TiendaA\n",
      "Dirección de la tienda: Calle TiendaA\n",
      "Número de empleados: 5\n",
      "Ventas últimos 3 meses: [1200, 1500, 1300]\n"
     ]
    }
   ],
   "source": [
    "\n",
    "# Acceder a los atributos tienda1\n",
    "print(\"Tipo de tienda:\", mi_tienda1.Tipo)  # Atributo común\n",
    "print(\"¿Está abierta?\", mi_tienda1.Abierto)  # Atributo común\n",
    "print(\"Nombre de la tienda:\", mi_tienda1.nombre)\n",
    "print(\"Dirección de la tienda:\", mi_tienda1.direccion)\n",
    "print(\"Número de empleados:\", mi_tienda1.numero_empleados)\n",
    "print(\"Ventas últimos 3 meses:\", mi_tienda1.ventas_ultimos_3_meses)\n",
    "\n"
   ]
  },
  {
   "cell_type": "code",
   "execution_count": null,
   "metadata": {},
   "outputs": [],
   "source": [
    "##Atributos tienda2\n",
    "print(\"Tipo de tienda:\", mi_tienda2.Tipo)  # Atributo común\n",
    "print(\"¿Está abierta?\", mi_tienda2.Abierto)  # Atributo común\n",
    "print(\"Nombre de la tienda:\", mi_tienda2.nombre)\n",
    "print(\"Dirección de la tienda:\", mi_tienda2.direccion)\n",
    "print(\"Número de empleados:\", mi_tienda2.numero_empleados)\n",
    "print(\"Ventas últimos 3 meses:\", mi_tienda2.ventas_ultimos_3_meses)\n"
   ]
  },
  {
   "cell_type": "code",
   "execution_count": null,
   "metadata": {},
   "outputs": [],
   "source": [
    "##Atributos tienda3\n",
    "print(\"Tipo de tienda:\", mi_tienda3.Tipo)  # Atributo común\n",
    "print(\"¿Está abierta?\", mi_tienda3.Abierto)  # Atributo común\n",
    "print(\"Nombre de la tienda:\", mi_tienda3.nombre)\n",
    "print(\"Dirección de la tienda:\", mi_tienda3.direccion)\n",
    "print(\"Número de empleados:\", mi_tienda3.numero_empleados)\n",
    "print(\"Ventas últimos 3 meses:\", mi_tienda3.ventas_ultimos_3_meses)"
   ]
  },
  {
   "cell_type": "code",
   "execution_count": null,
   "metadata": {},
   "outputs": [],
   "source": [
    "# Calcular y mostrar las ventas totales de los últimos 3 meses\n",
    "ventas_totales = mi_tienda1.calcular_ventas_totales()\n",
    "print(\"Ventas totales de los últimos 3 meses:\", ventas_totales)"
   ]
  },
  {
   "cell_type": "code",
   "execution_count": null,
   "metadata": {},
   "outputs": [],
   "source": [
    "# Calcular y mostrar las ventas totales de los últimos 3 meses\n",
    "ventas_totales = mi_tienda2.calcular_ventas_totales()\n",
    "print(\"Ventas totales de los últimos 3 meses:\", ventas_totales)"
   ]
  },
  {
   "cell_type": "code",
   "execution_count": null,
   "metadata": {},
   "outputs": [],
   "source": [
    "# Calcular y mostrar las ventas totales de los últimos 3 meses\n",
    "ventas_totales = mi_tienda3.calcular_ventas_totales()\n",
    "print(\"Ventas totales de los últimos 3 meses:\", ventas_totales)"
   ]
  },
  {
   "cell_type": "code",
   "execution_count": null,
   "metadata": {},
   "outputs": [],
   "source": [
    "# # Crear una instancia de la clase Tienda\n",
    "mi_tienda3 = Tienda(\"TiendaC\", \"Calle TiendaC\", 3, [500, 800,900])\n",
    "\n",
    "# Calcular y mostrar la media de ventas por empleado\n",
    "media_ventas_por_empleado = mi_tienda3.calcular_media_ventas_por_empleado()\n",
    "print(\"Media de ventas por empleado:\", media_ventas_por_empleado)"
   ]
  },
  {
   "cell_type": "code",
   "execution_count": null,
   "metadata": {},
   "outputs": [],
   "source": []
  },
  {
   "cell_type": "code",
   "execution_count": null,
   "metadata": {},
   "outputs": [],
   "source": []
  },
  {
   "cell_type": "code",
   "execution_count": null,
   "metadata": {},
   "outputs": [],
   "source": []
  },
  {
   "cell_type": "markdown",
   "metadata": {},
   "source": [
    "## Ejercicio 2\n",
    "En este ejercicio vamos a implementar una clase *Perro* en Python. La clase tiene las siguientes características:\n",
    "* Cosas que sabemos seguro que tiene un perro\n",
    "    * Tiene 4 patas\n",
    "    * 2 orejas\n",
    "    * 2 ojos\n",
    "    * Una velocidad de 0. Por defecto, el perro está parado\n",
    "* Cuando se inicialice:\n",
    "    * El perro será de una determinada raza\n",
    "    * Por defecto tendrá pelo \"Marrón\", a no ser que se diga lo contrario.\n",
    "    * Por defecto no tendrá dueño, a no ser que se diga lo contrario.\n",
    "    \n",
    "* Dispondrá también de un método llamado andar, que tiene un argumento de entrada (aumento_velocidad). Este valor se le sumará a la velocidad que ya llevaba el perro.\n",
    "* Necesita otro método (parar), donde pondremos la velocidad a 0.\n",
    "* Otro método llamado \"ladrar\", que tendrá un argumento de entrada, y la salida será el siguiente string: \"GUAU!\" + el argumento de entrada.\n",
    "\n",
    "\n",
    "Se pide:\n",
    "* Implementa la clase *Perro*\n",
    "* Crea un objeto de tipo *Perro*, sin dueño\n",
    "* Comprueba que están bien todos sus atributos\n",
    "* Prueba que ande, y comprueba su velocidad\n",
    "* Páralo\n",
    "* Documenta la clase *Perro*"
   ]
  },
  {
   "cell_type": "code",
   "execution_count": null,
   "metadata": {},
   "outputs": [],
   "source": []
  },
  {
   "cell_type": "code",
   "execution_count": null,
   "metadata": {},
   "outputs": [],
   "source": []
  },
  {
   "cell_type": "code",
   "execution_count": null,
   "metadata": {},
   "outputs": [],
   "source": []
  },
  {
   "cell_type": "code",
   "execution_count": null,
   "metadata": {},
   "outputs": [],
   "source": []
  },
  {
   "cell_type": "code",
   "execution_count": null,
   "metadata": {},
   "outputs": [],
   "source": []
  }
 ],
 "metadata": {
  "kernelspec": {
   "display_name": "Python 3",
   "language": "python",
   "name": "python3"
  },
  "language_info": {
   "codemirror_mode": {
    "name": "ipython",
    "version": 3
   },
   "file_extension": ".py",
   "mimetype": "text/x-python",
   "name": "python",
   "nbconvert_exporter": "python",
   "pygments_lexer": "ipython3",
   "version": "3.11.9"
  }
 },
 "nbformat": 4,
 "nbformat_minor": 4
}
